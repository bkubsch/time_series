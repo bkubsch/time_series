{
 "cells": [
  {
   "cell_type": "code",
   "execution_count": 1,
   "metadata": {},
   "outputs": [],
   "source": [
    "import pandas as pd\n",
    "import numpy as np\n",
    "import os\n",
    "import datetime as dt"
   ]
  },
  {
   "cell_type": "code",
   "execution_count": 2,
   "metadata": {},
   "outputs": [
    {
     "data": {
      "text/html": [
       "<div>\n",
       "<style scoped>\n",
       "    .dataframe tbody tr th:only-of-type {\n",
       "        vertical-align: middle;\n",
       "    }\n",
       "\n",
       "    .dataframe tbody tr th {\n",
       "        vertical-align: top;\n",
       "    }\n",
       "\n",
       "    .dataframe thead th {\n",
       "        text-align: right;\n",
       "    }\n",
       "</style>\n",
       "<table border=\"1\" class=\"dataframe\">\n",
       "  <thead>\n",
       "    <tr style=\"text-align: right;\">\n",
       "      <th></th>\n",
       "      <th>PeriodID</th>\n",
       "      <th>Price</th>\n",
       "    </tr>\n",
       "  </thead>\n",
       "  <tbody>\n",
       "    <tr>\n",
       "      <td>0</td>\n",
       "      <td>2018-07-31 23:55:00</td>\n",
       "      <td>70.70204</td>\n",
       "    </tr>\n",
       "    <tr>\n",
       "      <td>1</td>\n",
       "      <td>2018-07-31 23:50:00</td>\n",
       "      <td>69.24109</td>\n",
       "    </tr>\n",
       "    <tr>\n",
       "      <td>2</td>\n",
       "      <td>2018-07-31 23:45:00</td>\n",
       "      <td>69.94850</td>\n",
       "    </tr>\n",
       "    <tr>\n",
       "      <td>3</td>\n",
       "      <td>2018-07-31 23:40:00</td>\n",
       "      <td>74.04497</td>\n",
       "    </tr>\n",
       "    <tr>\n",
       "      <td>4</td>\n",
       "      <td>2018-07-31 23:35:00</td>\n",
       "      <td>76.44245</td>\n",
       "    </tr>\n",
       "    <tr>\n",
       "      <td>5</td>\n",
       "      <td>2018-07-31 23:30:00</td>\n",
       "      <td>72.13931</td>\n",
       "    </tr>\n",
       "    <tr>\n",
       "      <td>6</td>\n",
       "      <td>2018-07-31 23:25:00</td>\n",
       "      <td>52.82719</td>\n",
       "    </tr>\n",
       "    <tr>\n",
       "      <td>7</td>\n",
       "      <td>2018-07-31 23:20:00</td>\n",
       "      <td>45.83206</td>\n",
       "    </tr>\n",
       "    <tr>\n",
       "      <td>8</td>\n",
       "      <td>2018-07-31 23:15:00</td>\n",
       "      <td>47.00597</td>\n",
       "    </tr>\n",
       "    <tr>\n",
       "      <td>9</td>\n",
       "      <td>2018-07-31 23:10:00</td>\n",
       "      <td>50.88122</td>\n",
       "    </tr>\n",
       "    <tr>\n",
       "      <td>10</td>\n",
       "      <td>2018-07-31 23:05:00</td>\n",
       "      <td>51.56545</td>\n",
       "    </tr>\n",
       "    <tr>\n",
       "      <td>11</td>\n",
       "      <td>2018-07-31 23:00:00</td>\n",
       "      <td>51.05147</td>\n",
       "    </tr>\n",
       "    <tr>\n",
       "      <td>12</td>\n",
       "      <td>2018-07-31 22:55:00</td>\n",
       "      <td>69.02186</td>\n",
       "    </tr>\n",
       "    <tr>\n",
       "      <td>13</td>\n",
       "      <td>2018-07-31 22:50:00</td>\n",
       "      <td>78.69000</td>\n",
       "    </tr>\n",
       "    <tr>\n",
       "      <td>14</td>\n",
       "      <td>2018-07-31 22:45:00</td>\n",
       "      <td>78.69000</td>\n",
       "    </tr>\n",
       "    <tr>\n",
       "      <td>15</td>\n",
       "      <td>2018-07-31 22:40:00</td>\n",
       "      <td>75.36337</td>\n",
       "    </tr>\n",
       "    <tr>\n",
       "      <td>16</td>\n",
       "      <td>2018-07-31 22:35:00</td>\n",
       "      <td>78.69000</td>\n",
       "    </tr>\n",
       "    <tr>\n",
       "      <td>17</td>\n",
       "      <td>2018-07-31 22:30:00</td>\n",
       "      <td>78.69000</td>\n",
       "    </tr>\n",
       "    <tr>\n",
       "      <td>18</td>\n",
       "      <td>2018-07-31 22:25:00</td>\n",
       "      <td>78.69000</td>\n",
       "    </tr>\n",
       "    <tr>\n",
       "      <td>19</td>\n",
       "      <td>2018-07-31 22:20:00</td>\n",
       "      <td>79.30359</td>\n",
       "    </tr>\n",
       "  </tbody>\n",
       "</table>\n",
       "</div>"
      ],
      "text/plain": [
       "              PeriodID     Price\n",
       "0  2018-07-31 23:55:00  70.70204\n",
       "1  2018-07-31 23:50:00  69.24109\n",
       "2  2018-07-31 23:45:00  69.94850\n",
       "3  2018-07-31 23:40:00  74.04497\n",
       "4  2018-07-31 23:35:00  76.44245\n",
       "5  2018-07-31 23:30:00  72.13931\n",
       "6  2018-07-31 23:25:00  52.82719\n",
       "7  2018-07-31 23:20:00  45.83206\n",
       "8  2018-07-31 23:15:00  47.00597\n",
       "9  2018-07-31 23:10:00  50.88122\n",
       "10 2018-07-31 23:05:00  51.56545\n",
       "11 2018-07-31 23:00:00  51.05147\n",
       "12 2018-07-31 22:55:00  69.02186\n",
       "13 2018-07-31 22:50:00  78.69000\n",
       "14 2018-07-31 22:45:00  78.69000\n",
       "15 2018-07-31 22:40:00  75.36337\n",
       "16 2018-07-31 22:35:00  78.69000\n",
       "17 2018-07-31 22:30:00  78.69000\n",
       "18 2018-07-31 22:25:00  78.69000\n",
       "19 2018-07-31 22:20:00  79.30359"
      ]
     },
     "execution_count": 2,
     "metadata": {},
     "output_type": "execute_result"
    }
   ],
   "source": [
    "import pandas as pd\n",
    "import os\n",
    "\n",
    "df_grouped_price = pd.read_pickle('{}/nem-data/nemde_clean/df_grouped_price.pkl'.format(os.environ['HOME']))\n",
    "df_grouped_price = df_grouped_price.reset_index()\n",
    "df_grouped_price.head(20)"
   ]
  },
  {
   "cell_type": "code",
   "execution_count": 5,
   "metadata": {},
   "outputs": [
    {
     "data": {
      "text/plain": [
       "300.0"
      ]
     },
     "execution_count": 5,
     "metadata": {},
     "output_type": "execute_result"
    }
   ],
   "source": [
    "e = df_grouped_price.PeriodID[3] - df_grouped_price.PeriodID[4]\n",
    "e.total_seconds()"
   ]
  },
  {
   "cell_type": "code",
   "execution_count": 5,
   "metadata": {},
   "outputs": [
    {
     "data": {
      "text/plain": [
       "PeriodID    False\n",
       "Price       False\n",
       "dtype: bool"
      ]
     },
     "execution_count": 5,
     "metadata": {},
     "output_type": "execute_result"
    }
   ],
   "source": [
    "df_grouped_price.isna().any()"
   ]
  },
  {
   "cell_type": "code",
   "execution_count": 3,
   "metadata": {},
   "outputs": [
    {
     "name": "stdout",
     "output_type": "stream",
     "text": [
      "<class 'pandas.core.frame.DataFrame'>\n",
      "RangeIndex: 946847 entries, 0 to 946846\n",
      "Data columns (total 2 columns):\n",
      "PeriodID    946847 non-null datetime64[ns]\n",
      "Price       946847 non-null float64\n",
      "dtypes: datetime64[ns](1), float64(1)\n",
      "memory usage: 14.4 MB\n"
     ]
    }
   ],
   "source": [
    "df_grouped_price.info()"
   ]
  },
  {
   "cell_type": "code",
   "execution_count": 90,
   "metadata": {},
   "outputs": [
    {
     "name": "stdout",
     "output_type": "stream",
     "text": [
      "2018-07-31 23:55:00\n",
      "2009-07-01 04:00:00\n"
     ]
    }
   ],
   "source": [
    "print(df_grouped_price.PeriodID.max())\n",
    "print(df_grouped_price.PeriodID.min())"
   ]
  },
  {
   "cell_type": "code",
   "execution_count": 91,
   "metadata": {},
   "outputs": [
    {
     "data": {
      "text/html": [
       "<div>\n",
       "<style scoped>\n",
       "    .dataframe tbody tr th:only-of-type {\n",
       "        vertical-align: middle;\n",
       "    }\n",
       "\n",
       "    .dataframe tbody tr th {\n",
       "        vertical-align: top;\n",
       "    }\n",
       "\n",
       "    .dataframe thead th {\n",
       "        text-align: right;\n",
       "    }\n",
       "</style>\n",
       "<table border=\"1\" class=\"dataframe\">\n",
       "  <thead>\n",
       "    <tr style=\"text-align: right;\">\n",
       "      <th></th>\n",
       "      <th>PeriodID</th>\n",
       "      <th>Trading_price</th>\n",
       "    </tr>\n",
       "  </thead>\n",
       "  <tbody>\n",
       "    <tr>\n",
       "      <td>0</td>\n",
       "      <td>2018-07-31 23:30:00</td>\n",
       "      <td>72.09</td>\n",
       "    </tr>\n",
       "    <tr>\n",
       "      <td>1</td>\n",
       "      <td>2018-07-31 23:00:00</td>\n",
       "      <td>49.86</td>\n",
       "    </tr>\n",
       "    <tr>\n",
       "      <td>2</td>\n",
       "      <td>2018-07-31 22:30:00</td>\n",
       "      <td>76.52</td>\n",
       "    </tr>\n",
       "    <tr>\n",
       "      <td>3</td>\n",
       "      <td>2018-07-31 22:00:00</td>\n",
       "      <td>81.66</td>\n",
       "    </tr>\n",
       "    <tr>\n",
       "      <td>4</td>\n",
       "      <td>2018-07-31 21:30:00</td>\n",
       "      <td>83.25</td>\n",
       "    </tr>\n",
       "  </tbody>\n",
       "</table>\n",
       "</div>"
      ],
      "text/plain": [
       "             PeriodID  Trading_price\n",
       "0 2018-07-31 23:30:00          72.09\n",
       "1 2018-07-31 23:00:00          49.86\n",
       "2 2018-07-31 22:30:00          76.52\n",
       "3 2018-07-31 22:00:00          81.66\n",
       "4 2018-07-31 21:30:00          83.25"
      ]
     },
     "execution_count": 91,
     "metadata": {},
     "output_type": "execute_result"
    }
   ],
   "source": [
    "df_trading_price = pd.read_csv('/home/bastian/nem-data/clean/trading_price.csv', index_col=0, parse_dates=True)\n",
    "df_trading_price.sort_index(ascending=False, inplace=True)\n",
    "df_trading_price = df_trading_price.loc[:, [\"RRP SA1\"]]\n",
    "df_trading_price = df_trading_price[(df_trading_price.index <= df_grouped_price.PeriodID.max()) &\n",
    "                                   (df_trading_price.index >= df_grouped_price.PeriodID.min())]\n",
    "df_trading_price = df_trading_price.reset_index()\n",
    "df_trading_price = df_trading_price.rename(columns={\"tempus_interval_time\":\"PeriodID\",\"RRP SA1\":\"Trading_price\"})\n",
    "\n",
    "df_trading_price.head()"
   ]
  },
  {
   "cell_type": "code",
   "execution_count": 92,
   "metadata": {},
   "outputs": [
    {
     "name": "stdout",
     "output_type": "stream",
     "text": [
      "159256\n",
      "2018-07-31 23:30:00\n",
      "2009-07-01 04:00:00\n"
     ]
    }
   ],
   "source": [
    "print(len(df_trading_price))\n",
    "print(df_trading_price.PeriodID.max())\n",
    "print(df_trading_price.PeriodID.min())"
   ]
  },
  {
   "cell_type": "code",
   "execution_count": 93,
   "metadata": {},
   "outputs": [
    {
     "name": "stdout",
     "output_type": "stream",
     "text": [
      "789043\n"
     ]
    },
    {
     "data": {
      "text/html": [
       "<div>\n",
       "<style scoped>\n",
       "    .dataframe tbody tr th:only-of-type {\n",
       "        vertical-align: middle;\n",
       "    }\n",
       "\n",
       "    .dataframe tbody tr th {\n",
       "        vertical-align: top;\n",
       "    }\n",
       "\n",
       "    .dataframe thead th {\n",
       "        text-align: right;\n",
       "    }\n",
       "</style>\n",
       "<table border=\"1\" class=\"dataframe\">\n",
       "  <thead>\n",
       "    <tr style=\"text-align: right;\">\n",
       "      <th></th>\n",
       "      <th>PeriodID</th>\n",
       "      <th>Dispatch_price</th>\n",
       "      <th>Trading_price</th>\n",
       "    </tr>\n",
       "  </thead>\n",
       "  <tbody>\n",
       "    <tr>\n",
       "      <td>0</td>\n",
       "      <td>2018-07-31 23:55:00</td>\n",
       "      <td>70.70204</td>\n",
       "      <td>NaN</td>\n",
       "    </tr>\n",
       "    <tr>\n",
       "      <td>1</td>\n",
       "      <td>2018-07-31 23:50:00</td>\n",
       "      <td>69.24109</td>\n",
       "      <td>NaN</td>\n",
       "    </tr>\n",
       "    <tr>\n",
       "      <td>2</td>\n",
       "      <td>2018-07-31 23:45:00</td>\n",
       "      <td>69.94850</td>\n",
       "      <td>NaN</td>\n",
       "    </tr>\n",
       "    <tr>\n",
       "      <td>3</td>\n",
       "      <td>2018-07-31 23:40:00</td>\n",
       "      <td>74.04497</td>\n",
       "      <td>NaN</td>\n",
       "    </tr>\n",
       "    <tr>\n",
       "      <td>4</td>\n",
       "      <td>2018-07-31 23:35:00</td>\n",
       "      <td>76.44245</td>\n",
       "      <td>NaN</td>\n",
       "    </tr>\n",
       "  </tbody>\n",
       "</table>\n",
       "</div>"
      ],
      "text/plain": [
       "             PeriodID  Dispatch_price  Trading_price\n",
       "0 2018-07-31 23:55:00        70.70204            NaN\n",
       "1 2018-07-31 23:50:00        69.24109            NaN\n",
       "2 2018-07-31 23:45:00        69.94850            NaN\n",
       "3 2018-07-31 23:40:00        74.04497            NaN\n",
       "4 2018-07-31 23:35:00        76.44245            NaN"
      ]
     },
     "execution_count": 93,
     "metadata": {},
     "output_type": "execute_result"
    }
   ],
   "source": [
    "df_trading_dispatch = df_grouped_price.merge(df_trading_price, how='left', on=\"PeriodID\")\n",
    "df_trading_dispatch = df_trading_dispatch.rename(columns={\"Price\":\"Dispatch_price\",\"RRP SA1\":\"Trading_price\"})\n",
    "df_trading_dispatch.head(20)\n",
    "print(sum(df_trading_dispatch.Trading_price.isna()))\n",
    "df_trading_dispatch.head()\n",
    "#df_trading_dispatch = df_trading_dispatch[]"
   ]
  },
  {
   "cell_type": "code",
   "execution_count": 94,
   "metadata": {},
   "outputs": [
    {
     "data": {
      "text/html": [
       "<div>\n",
       "<style scoped>\n",
       "    .dataframe tbody tr th:only-of-type {\n",
       "        vertical-align: middle;\n",
       "    }\n",
       "\n",
       "    .dataframe tbody tr th {\n",
       "        vertical-align: top;\n",
       "    }\n",
       "\n",
       "    .dataframe thead th {\n",
       "        text-align: right;\n",
       "    }\n",
       "</style>\n",
       "<table border=\"1\" class=\"dataframe\">\n",
       "  <thead>\n",
       "    <tr style=\"text-align: right;\">\n",
       "      <th></th>\n",
       "      <th>PeriodID</th>\n",
       "      <th>Trading_price</th>\n",
       "    </tr>\n",
       "  </thead>\n",
       "  <tbody>\n",
       "    <tr>\n",
       "      <td>28863</td>\n",
       "      <td>2016-11-07 16:00:00</td>\n",
       "      <td>23.93</td>\n",
       "    </tr>\n",
       "    <tr>\n",
       "      <td>28864</td>\n",
       "      <td>2016-11-07 15:00:00</td>\n",
       "      <td>36.55</td>\n",
       "    </tr>\n",
       "  </tbody>\n",
       "</table>\n",
       "</div>"
      ],
      "text/plain": [
       "                 PeriodID  Trading_price\n",
       "28863 2016-11-07 16:00:00          23.93\n",
       "28864 2016-11-07 15:00:00          36.55"
      ]
     },
     "execution_count": 94,
     "metadata": {},
     "output_type": "execute_result"
    }
   ],
   "source": [
    "df_trading_price_corr = df_trading_dispatch[~df_trading_dispatch.Trading_price.isna()].drop(columns=\"Dispatch_price\").reset_index(drop=True)\n",
    "df_trading_price_corr.iloc[28863:28865]"
   ]
  },
  {
   "cell_type": "code",
   "execution_count": 2,
   "metadata": {},
   "outputs": [
    {
     "data": {
      "text/html": [
       "<div>\n",
       "<style scoped>\n",
       "    .dataframe tbody tr th:only-of-type {\n",
       "        vertical-align: middle;\n",
       "    }\n",
       "\n",
       "    .dataframe tbody tr th {\n",
       "        vertical-align: top;\n",
       "    }\n",
       "\n",
       "    .dataframe thead th {\n",
       "        text-align: right;\n",
       "    }\n",
       "</style>\n",
       "<table border=\"1\" class=\"dataframe\">\n",
       "  <thead>\n",
       "    <tr style=\"text-align: right;\">\n",
       "      <th></th>\n",
       "      <th>Price</th>\n",
       "    </tr>\n",
       "    <tr>\n",
       "      <th>PeriodID</th>\n",
       "      <th></th>\n",
       "    </tr>\n",
       "  </thead>\n",
       "  <tbody>\n",
       "    <tr>\n",
       "      <td>2018-07-31 23:55:00</td>\n",
       "      <td>70.70204</td>\n",
       "    </tr>\n",
       "    <tr>\n",
       "      <td>2018-07-31 23:50:00</td>\n",
       "      <td>69.24109</td>\n",
       "    </tr>\n",
       "    <tr>\n",
       "      <td>2018-07-31 23:45:00</td>\n",
       "      <td>69.94850</td>\n",
       "    </tr>\n",
       "    <tr>\n",
       "      <td>2018-07-31 23:40:00</td>\n",
       "      <td>74.04497</td>\n",
       "    </tr>\n",
       "    <tr>\n",
       "      <td>2018-07-31 23:35:00</td>\n",
       "      <td>76.44245</td>\n",
       "    </tr>\n",
       "  </tbody>\n",
       "</table>\n",
       "</div>"
      ],
      "text/plain": [
       "                        Price\n",
       "PeriodID                     \n",
       "2018-07-31 23:55:00  70.70204\n",
       "2018-07-31 23:50:00  69.24109\n",
       "2018-07-31 23:45:00  69.94850\n",
       "2018-07-31 23:40:00  74.04497\n",
       "2018-07-31 23:35:00  76.44245"
      ]
     },
     "execution_count": 2,
     "metadata": {},
     "output_type": "execute_result"
    }
   ],
   "source": [
    "df_grouped_price = pd.read_pickle('{}/nem-data/nemde_clean/df_grouped_price.pkl'.format(os.environ['HOME']))\n",
    "df_grouped_price.head()"
   ]
  },
  {
   "cell_type": "code",
   "execution_count": 59,
   "metadata": {},
   "outputs": [
    {
     "data": {
      "text/html": [
       "<div>\n",
       "<style scoped>\n",
       "    .dataframe tbody tr th:only-of-type {\n",
       "        vertical-align: middle;\n",
       "    }\n",
       "\n",
       "    .dataframe tbody tr th {\n",
       "        vertical-align: top;\n",
       "    }\n",
       "\n",
       "    .dataframe thead th {\n",
       "        text-align: right;\n",
       "    }\n",
       "</style>\n",
       "<table border=\"1\" class=\"dataframe\">\n",
       "  <thead>\n",
       "    <tr style=\"text-align: right;\">\n",
       "      <th></th>\n",
       "      <th>Price</th>\n",
       "    </tr>\n",
       "    <tr>\n",
       "      <th>PeriodID</th>\n",
       "      <th></th>\n",
       "    </tr>\n",
       "  </thead>\n",
       "  <tbody>\n",
       "    <tr>\n",
       "      <td>2018-07-31 23:55:00</td>\n",
       "      <td>70.70204</td>\n",
       "    </tr>\n",
       "    <tr>\n",
       "      <td>2018-07-31 23:50:00</td>\n",
       "      <td>69.24109</td>\n",
       "    </tr>\n",
       "    <tr>\n",
       "      <td>2018-07-31 23:45:00</td>\n",
       "      <td>69.94850</td>\n",
       "    </tr>\n",
       "    <tr>\n",
       "      <td>2018-07-31 23:40:00</td>\n",
       "      <td>74.04497</td>\n",
       "    </tr>\n",
       "    <tr>\n",
       "      <td>2018-07-31 23:35:00</td>\n",
       "      <td>76.44245</td>\n",
       "    </tr>\n",
       "    <tr>\n",
       "      <td>...</td>\n",
       "      <td>...</td>\n",
       "    </tr>\n",
       "    <tr>\n",
       "      <td>2009-07-01 04:20:00</td>\n",
       "      <td>1.75480</td>\n",
       "    </tr>\n",
       "    <tr>\n",
       "      <td>2009-07-01 04:15:00</td>\n",
       "      <td>1.44014</td>\n",
       "    </tr>\n",
       "    <tr>\n",
       "      <td>2009-07-01 04:10:00</td>\n",
       "      <td>-0.00006</td>\n",
       "    </tr>\n",
       "    <tr>\n",
       "      <td>2009-07-01 04:05:00</td>\n",
       "      <td>-0.00006</td>\n",
       "    </tr>\n",
       "    <tr>\n",
       "      <td>2009-07-01 04:00:00</td>\n",
       "      <td>1.35918</td>\n",
       "    </tr>\n",
       "  </tbody>\n",
       "</table>\n",
       "<p>946847 rows × 1 columns</p>\n",
       "</div>"
      ],
      "text/plain": [
       "                        Price\n",
       "PeriodID                     \n",
       "2018-07-31 23:55:00  70.70204\n",
       "2018-07-31 23:50:00  69.24109\n",
       "2018-07-31 23:45:00  69.94850\n",
       "2018-07-31 23:40:00  74.04497\n",
       "2018-07-31 23:35:00  76.44245\n",
       "...                       ...\n",
       "2009-07-01 04:20:00   1.75480\n",
       "2009-07-01 04:15:00   1.44014\n",
       "2009-07-01 04:10:00  -0.00006\n",
       "2009-07-01 04:05:00  -0.00006\n",
       "2009-07-01 04:00:00   1.35918\n",
       "\n",
       "[946847 rows x 1 columns]"
      ]
     },
     "execution_count": 59,
     "metadata": {},
     "output_type": "execute_result"
    }
   ],
   "source": [
    "df_grouped_price.set_index(df_grouped_price.iloc[:, 0], inplace=True)\n",
    "df_grouped_price.drop(df_grouped_price.iloc[:, [0]], inplace=True, axdf_grouped_price\n",
    "df_grouped_price"
   ]
  },
  {
   "cell_type": "code",
   "execution_count": 10,
   "metadata": {},
   "outputs": [
    {
     "name": "stdout",
     "output_type": "stream",
     "text": [
      "<class 'pandas.core.frame.DataFrame'>\n",
      "RangeIndex: 946847 entries, 0 to 946846\n",
      "Data columns (total 2 columns):\n",
      "PeriodID    946847 non-null datetime64[ns]\n",
      "Price       946847 non-null float64\n",
      "dtypes: datetime64[ns](1), float64(1)\n",
      "memory usage: 14.4 MB\n"
     ]
    }
   ],
   "source": [
    "df_grouped_price.info()"
   ]
  },
  {
   "cell_type": "code",
   "execution_count": 5,
   "metadata": {},
   "outputs": [],
   "source": [
    "def correct_timedelta(df, time_diff):\n",
    "    '''\n",
    "    df.index must be DateTimeIndex\n",
    "    table=table_of_interest\n",
    "    col=\"column_of_interest\"\n",
    "    time_diff=time_diff in seconds as int\n",
    "    '''\n",
    "    lst = []\n",
    "    lst_i = []\n",
    "    count = 0\n",
    "    for i in df.index:\n",
    "        count += 1\n",
    "        if count >= len(df):\n",
    "            break\n",
    "        delta = abs(df.index[count] - df.index[count-1])\n",
    "        if int(delta.total_seconds()) != int(time_diff):\n",
    "            lst.append((\"from index {} on, it has been {} s or {} h.\".format(count-1,int(delta.total_seconds()),(int(delta.total_seconds()/3600)))))\n",
    "            lst_i.append((count-1,int(delta.total_seconds())))\n",
    "    return lst, lst_i"
   ]
  },
  {
   "cell_type": "code",
   "execution_count": 6,
   "metadata": {},
   "outputs": [],
   "source": [
    "check, tuples = correct_timedelta(df_grouped_price, 300)"
   ]
  },
  {
   "cell_type": "code",
   "execution_count": 7,
   "metadata": {},
   "outputs": [
    {
     "data": {
      "text/plain": [
       "[(8879, 2592300),\n",
       " (23741, 600),\n",
       " (28750, 600),\n",
       " (75753, 600),\n",
       " (76916, 600),\n",
       " (173184, 600),\n",
       " (179819, 600),\n",
       " (179831, 600),\n",
       " (179849, 600),\n",
       " (179852, 600),\n",
       " (179858, 600),\n",
       " (179870, 600),\n",
       " (179873, 1200),\n",
       " (179892, 600),\n",
       " (190312, 600),\n",
       " (190316, 600),\n",
       " (190362, 600),\n",
       " (196113, 600),\n",
       " (196404, 900),\n",
       " (196405, 600),\n",
       " (197229, 600),\n",
       " (197232, 600),\n",
       " (197266, 600),\n",
       " (201290, 600),\n",
       " (239428, 600),\n",
       " (256441, 600),\n",
       " (490105, 600),\n",
       " (515339, 1500),\n",
       " (793820, 600),\n",
       " (794497, 600),\n",
       " (818962, 600),\n",
       " (868534, 600),\n",
       " (887404, 600),\n",
       " (925535, 600),\n",
       " (925538, 600),\n",
       " (928129, 600),\n",
       " (928146, 600),\n",
       " (928152, 600),\n",
       " (928416, 600),\n",
       " (928418, 600),\n",
       " (928697, 600),\n",
       " (932580, 600),\n",
       " (933317, 600),\n",
       " (933323, 600)]"
      ]
     },
     "execution_count": 7,
     "metadata": {},
     "output_type": "execute_result"
    }
   ],
   "source": [
    "tuples"
   ]
  },
  {
   "cell_type": "code",
   "execution_count": 18,
   "metadata": {},
   "outputs": [
    {
     "data": {
      "text/html": [
       "<div>\n",
       "<style scoped>\n",
       "    .dataframe tbody tr th:only-of-type {\n",
       "        vertical-align: middle;\n",
       "    }\n",
       "\n",
       "    .dataframe tbody tr th {\n",
       "        vertical-align: top;\n",
       "    }\n",
       "\n",
       "    .dataframe thead th {\n",
       "        text-align: right;\n",
       "    }\n",
       "</style>\n",
       "<table border=\"1\" class=\"dataframe\">\n",
       "  <thead>\n",
       "    <tr style=\"text-align: right;\">\n",
       "      <th></th>\n",
       "      <th>Price</th>\n",
       "    </tr>\n",
       "    <tr>\n",
       "      <th>PeriodID</th>\n",
       "      <th></th>\n",
       "    </tr>\n",
       "  </thead>\n",
       "  <tbody>\n",
       "    <tr>\n",
       "      <td>2018-04-10 13:30:00</td>\n",
       "      <td>98.21833</td>\n",
       "    </tr>\n",
       "    <tr>\n",
       "      <td>2018-04-10 13:20:00</td>\n",
       "      <td>105.00002</td>\n",
       "    </tr>\n",
       "    <tr>\n",
       "      <td>2018-04-10 13:15:00</td>\n",
       "      <td>105.00002</td>\n",
       "    </tr>\n",
       "    <tr>\n",
       "      <td>2018-04-10 13:10:00</td>\n",
       "      <td>96.74449</td>\n",
       "    </tr>\n",
       "  </tbody>\n",
       "</table>\n",
       "</div>"
      ],
      "text/plain": [
       "                         Price\n",
       "PeriodID                      \n",
       "2018-04-10 13:30:00   98.21833\n",
       "2018-04-10 13:20:00  105.00002\n",
       "2018-04-10 13:15:00  105.00002\n",
       "2018-04-10 13:10:00   96.74449"
      ]
     },
     "execution_count": 18,
     "metadata": {},
     "output_type": "execute_result"
    }
   ],
   "source": [
    "df_grouped_price.iloc[23741:23745,:]"
   ]
  },
  {
   "cell_type": "code",
   "execution_count": 16,
   "metadata": {},
   "outputs": [
    {
     "data": {
      "text/plain": [
       "['from index 8879 on, it has been 2592300 s or 720 h.',\n",
       " 'from index 23741 on, it has been 600 s or 0 h.',\n",
       " 'from index 28750 on, it has been 600 s or 0 h.',\n",
       " 'from index 75753 on, it has been 600 s or 0 h.',\n",
       " 'from index 76916 on, it has been 600 s or 0 h.',\n",
       " 'from index 173184 on, it has been 600 s or 0 h.',\n",
       " 'from index 179819 on, it has been 600 s or 0 h.',\n",
       " 'from index 179831 on, it has been 600 s or 0 h.',\n",
       " 'from index 179849 on, it has been 600 s or 0 h.',\n",
       " 'from index 179852 on, it has been 600 s or 0 h.',\n",
       " 'from index 179858 on, it has been 600 s or 0 h.',\n",
       " 'from index 179870 on, it has been 600 s or 0 h.',\n",
       " 'from index 179873 on, it has been 1200 s or 0 h.',\n",
       " 'from index 179892 on, it has been 600 s or 0 h.',\n",
       " 'from index 190312 on, it has been 600 s or 0 h.',\n",
       " 'from index 190316 on, it has been 600 s or 0 h.',\n",
       " 'from index 190362 on, it has been 600 s or 0 h.',\n",
       " 'from index 196113 on, it has been 600 s or 0 h.',\n",
       " 'from index 196404 on, it has been 900 s or 0 h.',\n",
       " 'from index 196405 on, it has been 600 s or 0 h.',\n",
       " 'from index 197229 on, it has been 600 s or 0 h.',\n",
       " 'from index 197232 on, it has been 600 s or 0 h.',\n",
       " 'from index 197266 on, it has been 600 s or 0 h.',\n",
       " 'from index 201290 on, it has been 600 s or 0 h.',\n",
       " 'from index 239428 on, it has been 600 s or 0 h.',\n",
       " 'from index 256441 on, it has been 600 s or 0 h.',\n",
       " 'from index 490105 on, it has been 600 s or 0 h.',\n",
       " 'from index 515339 on, it has been 1500 s or 0 h.',\n",
       " 'from index 793820 on, it has been 600 s or 0 h.',\n",
       " 'from index 794497 on, it has been 600 s or 0 h.',\n",
       " 'from index 818962 on, it has been 600 s or 0 h.',\n",
       " 'from index 868534 on, it has been 600 s or 0 h.',\n",
       " 'from index 887404 on, it has been 600 s or 0 h.',\n",
       " 'from index 925535 on, it has been 600 s or 0 h.',\n",
       " 'from index 925538 on, it has been 600 s or 0 h.',\n",
       " 'from index 928129 on, it has been 600 s or 0 h.',\n",
       " 'from index 928146 on, it has been 600 s or 0 h.',\n",
       " 'from index 928152 on, it has been 600 s or 0 h.',\n",
       " 'from index 928416 on, it has been 600 s or 0 h.',\n",
       " 'from index 928418 on, it has been 600 s or 0 h.',\n",
       " 'from index 928697 on, it has been 600 s or 0 h.',\n",
       " 'from index 932580 on, it has been 600 s or 0 h.',\n",
       " 'from index 933317 on, it has been 600 s or 0 h.',\n",
       " 'from index 933323 on, it has been 600 s or 0 h.']"
      ]
     },
     "execution_count": 16,
     "metadata": {},
     "output_type": "execute_result"
    }
   ],
   "source": [
    "check"
   ]
  },
  {
   "cell_type": "code",
   "execution_count": 12,
   "metadata": {},
   "outputs": [],
   "source": [
    "check, indices = correct_timedelta(df_trading_price_corr,\"PeriodID\",1800)"
   ]
  },
  {
   "cell_type": "code",
   "execution_count": 13,
   "metadata": {},
   "outputs": [
    {
     "name": "stdout",
     "output_type": "stream",
     "text": [
      "[(1479, 2593800), (28863, 3600), (29968, 3600), (29973, 3600), (29976, 3600), (32732, 3600), (32875, 3600), (42737, 3600), (85886, 3600), (144752, 3600), (154733, 3600), (155426, 3600), (155548, 3600)]\n"
     ]
    },
    {
     "data": {
      "text/plain": [
       "['from index 1479 on, it has been 2593800 s or 720 h.',\n",
       " 'from index 28863 on, it has been 3600 s or 1 h.',\n",
       " 'from index 29968 on, it has been 3600 s or 1 h.',\n",
       " 'from index 29973 on, it has been 3600 s or 1 h.',\n",
       " 'from index 29976 on, it has been 3600 s or 1 h.',\n",
       " 'from index 32732 on, it has been 3600 s or 1 h.',\n",
       " 'from index 32875 on, it has been 3600 s or 1 h.',\n",
       " 'from index 42737 on, it has been 3600 s or 1 h.',\n",
       " 'from index 85886 on, it has been 3600 s or 1 h.',\n",
       " 'from index 144752 on, it has been 3600 s or 1 h.',\n",
       " 'from index 154733 on, it has been 3600 s or 1 h.',\n",
       " 'from index 155426 on, it has been 3600 s or 1 h.',\n",
       " 'from index 155548 on, it has been 3600 s or 1 h.']"
      ]
     },
     "execution_count": 13,
     "metadata": {},
     "output_type": "execute_result"
    }
   ],
   "source": [
    "print(indices)\n",
    "check"
   ]
  },
  {
   "cell_type": "code",
   "execution_count": 54,
   "metadata": {},
   "outputs": [
    {
     "name": "stdout",
     "output_type": "stream",
     "text": [
      "[(8879, 2592300), (23741, 600), (28750, 600), (75753, 600), (76916, 600), (173184, 600), (179819, 600), (179831, 600), (179849, 600), (179852, 600), (179858, 600), (179870, 600), (179873, 1200), (179892, 600), (190312, 600), (190316, 600), (190362, 600), (196113, 600), (196404, 900), (196405, 600), (197229, 600), (197232, 600), (197266, 600), (201290, 600), (239428, 600), (256441, 600), (490105, 600), (515339, 1500), (793820, 600), (794497, 600), (818962, 600), (868534, 600), (887404, 600), (925535, 600), (925538, 600), (928129, 600), (928146, 600), (928152, 600), (928416, 600), (928418, 600), (928697, 600), (932580, 600), (933317, 600), (933323, 600)]\n"
     ]
    },
    {
     "data": {
      "text/plain": [
       "['from index 8879 on, it has been 2592300 s or 720 h.',\n",
       " 'from index 23741 on, it has been 600 s or 0 h.',\n",
       " 'from index 28750 on, it has been 600 s or 0 h.',\n",
       " 'from index 75753 on, it has been 600 s or 0 h.',\n",
       " 'from index 76916 on, it has been 600 s or 0 h.',\n",
       " 'from index 173184 on, it has been 600 s or 0 h.',\n",
       " 'from index 179819 on, it has been 600 s or 0 h.',\n",
       " 'from index 179831 on, it has been 600 s or 0 h.',\n",
       " 'from index 179849 on, it has been 600 s or 0 h.',\n",
       " 'from index 179852 on, it has been 600 s or 0 h.',\n",
       " 'from index 179858 on, it has been 600 s or 0 h.',\n",
       " 'from index 179870 on, it has been 600 s or 0 h.',\n",
       " 'from index 179873 on, it has been 1200 s or 0 h.',\n",
       " 'from index 179892 on, it has been 600 s or 0 h.',\n",
       " 'from index 190312 on, it has been 600 s or 0 h.',\n",
       " 'from index 190316 on, it has been 600 s or 0 h.',\n",
       " 'from index 190362 on, it has been 600 s or 0 h.',\n",
       " 'from index 196113 on, it has been 600 s or 0 h.',\n",
       " 'from index 196404 on, it has been 900 s or 0 h.',\n",
       " 'from index 196405 on, it has been 600 s or 0 h.',\n",
       " 'from index 197229 on, it has been 600 s or 0 h.',\n",
       " 'from index 197232 on, it has been 600 s or 0 h.',\n",
       " 'from index 197266 on, it has been 600 s or 0 h.',\n",
       " 'from index 201290 on, it has been 600 s or 0 h.',\n",
       " 'from index 239428 on, it has been 600 s or 0 h.',\n",
       " 'from index 256441 on, it has been 600 s or 0 h.',\n",
       " 'from index 490105 on, it has been 600 s or 0 h.',\n",
       " 'from index 515339 on, it has been 1500 s or 0 h.',\n",
       " 'from index 793820 on, it has been 600 s or 0 h.',\n",
       " 'from index 794497 on, it has been 600 s or 0 h.',\n",
       " 'from index 818962 on, it has been 600 s or 0 h.',\n",
       " 'from index 868534 on, it has been 600 s or 0 h.',\n",
       " 'from index 887404 on, it has been 600 s or 0 h.',\n",
       " 'from index 925535 on, it has been 600 s or 0 h.',\n",
       " 'from index 925538 on, it has been 600 s or 0 h.',\n",
       " 'from index 928129 on, it has been 600 s or 0 h.',\n",
       " 'from index 928146 on, it has been 600 s or 0 h.',\n",
       " 'from index 928152 on, it has been 600 s or 0 h.',\n",
       " 'from index 928416 on, it has been 600 s or 0 h.',\n",
       " 'from index 928418 on, it has been 600 s or 0 h.',\n",
       " 'from index 928697 on, it has been 600 s or 0 h.',\n",
       " 'from index 932580 on, it has been 600 s or 0 h.',\n",
       " 'from index 933317 on, it has been 600 s or 0 h.',\n",
       " 'from index 933323 on, it has been 600 s or 0 h.']"
      ]
     },
     "execution_count": 54,
     "metadata": {},
     "output_type": "execute_result"
    }
   ],
   "source": [
    "print(indices)\n",
    "check"
   ]
  },
  {
   "cell_type": "code",
   "execution_count": 96,
   "metadata": {},
   "outputs": [
    {
     "name": "stdout",
     "output_type": "stream",
     "text": [
      "2018-07-31 23:30:00\n",
      "2009-07-01 04:00:00\n"
     ]
    }
   ],
   "source": [
    "print(df_trading_price_corr.PeriodID.max())\n",
    "print(df_trading_price_corr.PeriodID.min())"
   ]
  },
  {
   "cell_type": "code",
   "execution_count": 97,
   "metadata": {},
   "outputs": [
    {
     "name": "stdout",
     "output_type": "stream",
     "text": [
      "<class 'pandas.core.frame.DataFrame'>\n",
      "RangeIndex: 157804 entries, 0 to 157803\n",
      "Data columns (total 2 columns):\n",
      "PeriodID         157804 non-null datetime64[ns]\n",
      "Trading_price    157804 non-null float64\n",
      "dtypes: datetime64[ns](1), float64(1)\n",
      "memory usage: 2.4 MB\n"
     ]
    }
   ],
   "source": [
    "df_trading_price_corr.info()"
   ]
  },
  {
   "cell_type": "code",
   "execution_count": 98,
   "metadata": {},
   "outputs": [
    {
     "data": {
      "text/html": [
       "<div>\n",
       "<style scoped>\n",
       "    .dataframe tbody tr th:only-of-type {\n",
       "        vertical-align: middle;\n",
       "    }\n",
       "\n",
       "    .dataframe tbody tr th {\n",
       "        vertical-align: top;\n",
       "    }\n",
       "\n",
       "    .dataframe thead th {\n",
       "        text-align: right;\n",
       "    }\n",
       "</style>\n",
       "<table border=\"1\" class=\"dataframe\">\n",
       "  <thead>\n",
       "    <tr style=\"text-align: right;\">\n",
       "      <th></th>\n",
       "      <th>Dispatch_price</th>\n",
       "    </tr>\n",
       "  </thead>\n",
       "  <tbody>\n",
       "    <tr>\n",
       "      <td>mean</td>\n",
       "      <td>72.07581</td>\n",
       "    </tr>\n",
       "    <tr>\n",
       "      <td>max</td>\n",
       "      <td>76.44245</td>\n",
       "    </tr>\n",
       "    <tr>\n",
       "      <td>min</td>\n",
       "      <td>69.24109</td>\n",
       "    </tr>\n",
       "  </tbody>\n",
       "</table>\n",
       "</div>"
      ],
      "text/plain": [
       "      Dispatch_price\n",
       "mean        72.07581\n",
       "max         76.44245\n",
       "min         69.24109"
      ]
     },
     "execution_count": 98,
     "metadata": {},
     "output_type": "execute_result"
    }
   ],
   "source": [
    "df_trading_dispatch.loc[:,[\"Dispatch_price\"]].iloc[:5,:].agg(['mean', 'max','min'])"
   ]
  },
  {
   "cell_type": "code",
   "execution_count": 11,
   "metadata": {},
   "outputs": [],
   "source": [
    "#bin_column = df_grouped_price.loc[:,\"Price\"]\n",
    "#bin_size = 6\n",
    "\n",
    "def bin_sums(df, col, bin_size):\n",
    "    '''\n",
    "    table=table_of_interest\n",
    "    col=\"col_of_interest\"\n",
    "    bin_size=number of rows (int) over which the function shall sum up values for each bin\n",
    "    '''\n",
    "    bin_sums = []\n",
    "    count = 0\n",
    "    for i in df.index:\n",
    "        if count >= len(df):\n",
    "            break\n",
    "        j = count + bin_size\n",
    "        bin_sum = sum(df[col].iloc[count:j])/6\n",
    "        count += bin_size\n",
    "        bin_sums.append(bin_sum)\n",
    "    return bin_sums"
   ]
  },
  {
   "cell_type": "code",
   "execution_count": 12,
   "metadata": {},
   "outputs": [
    {
     "data": {
      "text/plain": [
       "[72.08639333333333,\n",
       " 49.86055999999999,\n",
       " 76.524205,\n",
       " 81.65568999999999,\n",
       " 83.24851333333334,\n",
       " 85.84831833333332,\n",
       " 111.708505,\n",
       " 104.13424166666665,\n",
       " 105.17583333333333,\n",
       " 137.99528666666666,\n",
       " 162.3376966666667,\n",
       " 228.120995,\n",
       " 266.35031666666663,\n",
       " 122.83904833333334,\n",
       " 79.98045,\n",
       " 57.78874666666667,\n",
       " 30.63237666666667,\n",
       " 23.110836666666668,\n",
       " 27.005956666666666,\n",
       " -144.857895]"
      ]
     },
     "execution_count": 12,
     "metadata": {},
     "output_type": "execute_result"
    }
   ],
   "source": [
    "bin_sums = bin_sums(df_grouped_price, \"Price\", 6)\n",
    "bin_sums[0:20]"
   ]
  },
  {
   "cell_type": "code",
   "execution_count": 8,
   "metadata": {},
   "outputs": [
    {
     "name": "stdout",
     "output_type": "stream",
     "text": [
      "0 6\n",
      "6 12\n",
      "12 18\n",
      "18 24\n",
      "24 30\n",
      "30 36\n",
      "36 42\n",
      "42 48\n",
      "48 54\n",
      "54 60\n",
      "60 66\n"
     ]
    },
    {
     "data": {
      "text/plain": [
       "[72.08639333333333,\n",
       " 49.86055999999999,\n",
       " 76.524205,\n",
       " 81.65568999999999,\n",
       " 83.24851333333334,\n",
       " 85.84831833333332,\n",
       " 111.708505,\n",
       " 104.13424166666665,\n",
       " 105.17583333333333,\n",
       " 137.99528666666666,\n",
       " 162.3376966666667]"
      ]
     },
     "execution_count": 8,
     "metadata": {},
     "output_type": "execute_result"
    }
   ],
   "source": [
    "df = df_grouped_price\n",
    "col = \"Price\"\n",
    "bin_size = 6\n",
    "\n",
    "bin_sums = []\n",
    "count = 0\n",
    "for i in df.index:\n",
    "    if count >= len(df):\n",
    "        break\n",
    "    j = count + bin_size\n",
    "    bin_sum = sum(df[col].iloc[count:j])/6\n",
    "    print(count,j)\n",
    "    count += bin_size\n",
    "    bin_sums.append(bin_sum)\n",
    "    if count > 60:\n",
    "        break\n",
    "        \n",
    "bin_sums"
   ]
  },
  {
   "cell_type": "code",
   "execution_count": 7,
   "metadata": {},
   "outputs": [],
   "source": [
    "bin_sums = bin_sums(df_grouped_price, \"Price\", 6)"
   ]
  },
  {
   "cell_type": "code",
   "execution_count": 41,
   "metadata": {},
   "outputs": [
    {
     "data": {
      "text/plain": [
       "157808"
      ]
     },
     "execution_count": 41,
     "metadata": {},
     "output_type": "execute_result"
    }
   ],
   "source": [
    "len(bin_sums) #make assert bin_sums == bla / 6 == len(df_trading_price)"
   ]
  },
  {
   "cell_type": "code",
   "execution_count": 100,
   "metadata": {},
   "outputs": [
    {
     "name": "stdout",
     "output_type": "stream",
     "text": [
      "0\n",
      "NaT\n",
      "NaT\n"
     ]
    },
    {
     "data": {
      "text/html": [
       "<div>\n",
       "<style scoped>\n",
       "    .dataframe tbody tr th:only-of-type {\n",
       "        vertical-align: middle;\n",
       "    }\n",
       "\n",
       "    .dataframe tbody tr th {\n",
       "        vertical-align: top;\n",
       "    }\n",
       "\n",
       "    .dataframe thead th {\n",
       "        text-align: right;\n",
       "    }\n",
       "</style>\n",
       "<table border=\"1\" class=\"dataframe\">\n",
       "  <thead>\n",
       "    <tr style=\"text-align: right;\">\n",
       "      <th></th>\n",
       "      <th>PeriodID</th>\n",
       "      <th>Trading_price</th>\n",
       "      <th>Averaged_dispatch</th>\n",
       "    </tr>\n",
       "  </thead>\n",
       "  <tbody>\n",
       "    <tr>\n",
       "      <td>0</td>\n",
       "      <td>2018-07-31 23:30:00</td>\n",
       "      <td>72.09</td>\n",
       "      <td>72.086393</td>\n",
       "    </tr>\n",
       "    <tr>\n",
       "      <td>1</td>\n",
       "      <td>2018-07-31 23:00:00</td>\n",
       "      <td>49.86</td>\n",
       "      <td>49.860560</td>\n",
       "    </tr>\n",
       "    <tr>\n",
       "      <td>2</td>\n",
       "      <td>2018-07-31 22:30:00</td>\n",
       "      <td>76.52</td>\n",
       "      <td>76.524205</td>\n",
       "    </tr>\n",
       "    <tr>\n",
       "      <td>3</td>\n",
       "      <td>2018-07-31 22:00:00</td>\n",
       "      <td>81.66</td>\n",
       "      <td>81.655690</td>\n",
       "    </tr>\n",
       "    <tr>\n",
       "      <td>4</td>\n",
       "      <td>2018-07-31 21:30:00</td>\n",
       "      <td>83.25</td>\n",
       "      <td>83.248513</td>\n",
       "    </tr>\n",
       "  </tbody>\n",
       "</table>\n",
       "</div>"
      ],
      "text/plain": [
       "             PeriodID  Trading_price  Averaged_dispatch\n",
       "0 2018-07-31 23:30:00          72.09          72.086393\n",
       "1 2018-07-31 23:00:00          49.86          49.860560\n",
       "2 2018-07-31 22:30:00          76.52          76.524205\n",
       "3 2018-07-31 22:00:00          81.66          81.655690\n",
       "4 2018-07-31 21:30:00          83.25          83.248513"
      ]
     },
     "execution_count": 100,
     "metadata": {},
     "output_type": "execute_result"
    }
   ],
   "source": [
    "df_trading_price_corr[\"Averaged_dispatch\"] = pd.DataFrame(data=bin_sums)\n",
    "print(len(df_trading_price_corr[df_trading_price_corr.Averaged_dispatch.isna()]))\n",
    "print(df_trading_price_corr[df_trading_price_corr.Averaged_dispatch.isna()][\"PeriodID\"].max())\n",
    "print(df_trading_price_corr[df_trading_price_corr.Averaged_dispatch.isna()][\"PeriodID\"].min())\n",
    "df_trading_price_corr.head()\n",
    "\n",
    "#assert!!!"
   ]
  },
  {
   "cell_type": "code",
   "execution_count": 101,
   "metadata": {},
   "outputs": [
    {
     "data": {
      "text/html": [
       "<div>\n",
       "<style scoped>\n",
       "    .dataframe tbody tr th:only-of-type {\n",
       "        vertical-align: middle;\n",
       "    }\n",
       "\n",
       "    .dataframe tbody tr th {\n",
       "        vertical-align: top;\n",
       "    }\n",
       "\n",
       "    .dataframe thead th {\n",
       "        text-align: right;\n",
       "    }\n",
       "</style>\n",
       "<table border=\"1\" class=\"dataframe\">\n",
       "  <thead>\n",
       "    <tr style=\"text-align: right;\">\n",
       "      <th></th>\n",
       "      <th>PeriodID</th>\n",
       "      <th>Trading_price</th>\n",
       "      <th>Averaged_dispatch</th>\n",
       "    </tr>\n",
       "  </thead>\n",
       "  <tbody>\n",
       "    <tr>\n",
       "      <td>3900</td>\n",
       "      <td>2018-04-11 17:30:00</td>\n",
       "      <td>90.41</td>\n",
       "      <td>90.408912</td>\n",
       "    </tr>\n",
       "    <tr>\n",
       "      <td>3901</td>\n",
       "      <td>2018-04-11 17:00:00</td>\n",
       "      <td>97.45</td>\n",
       "      <td>97.448663</td>\n",
       "    </tr>\n",
       "    <tr>\n",
       "      <td>3902</td>\n",
       "      <td>2018-04-11 16:30:00</td>\n",
       "      <td>113.16</td>\n",
       "      <td>113.161830</td>\n",
       "    </tr>\n",
       "    <tr>\n",
       "      <td>3903</td>\n",
       "      <td>2018-04-11 16:00:00</td>\n",
       "      <td>101.57</td>\n",
       "      <td>101.573470</td>\n",
       "    </tr>\n",
       "    <tr>\n",
       "      <td>3904</td>\n",
       "      <td>2018-04-11 15:30:00</td>\n",
       "      <td>91.75</td>\n",
       "      <td>91.749495</td>\n",
       "    </tr>\n",
       "  </tbody>\n",
       "</table>\n",
       "</div>"
      ],
      "text/plain": [
       "                PeriodID  Trading_price  Averaged_dispatch\n",
       "3900 2018-04-11 17:30:00          90.41          90.408912\n",
       "3901 2018-04-11 17:00:00          97.45          97.448663\n",
       "3902 2018-04-11 16:30:00         113.16         113.161830\n",
       "3903 2018-04-11 16:00:00         101.57         101.573470\n",
       "3904 2018-04-11 15:30:00          91.75          91.749495"
      ]
     },
     "execution_count": 101,
     "metadata": {},
     "output_type": "execute_result"
    }
   ],
   "source": [
    "df_trading_price_corr.iloc[3900:3905]"
   ]
  },
  {
   "cell_type": "code",
   "execution_count": 104,
   "metadata": {},
   "outputs": [
    {
     "name": "stdout",
     "output_type": "stream",
     "text": [
      "A share of 0.077 % of trading price and averaged dipatch mismatch over the first 3900 iterations.\n"
     ]
    }
   ],
   "source": [
    "print(\"A share of {} % of trading price and averaged dipatch mismatch over the first 3900 iterations.\"\\\n",
    "      .format(round((((sum(abs(df_trading_price_corr.Trading_price.iloc[:3900]\\\n",
    "          - df_trading_price_corr.Averaged_dispatch.iloc[:3900]) > 0.01))/3900)*100), 3)))"
   ]
  },
  {
   "cell_type": "code",
   "execution_count": null,
   "metadata": {},
   "outputs": [],
   "source": []
  },
  {
   "cell_type": "code",
   "execution_count": 54,
   "metadata": {},
   "outputs": [],
   "source": [
    "meh.set_index(\"PeriodID\", inplace=True)\n",
    "meh.index = pd.to_datetime(meh.index)"
   ]
  },
  {
   "cell_type": "code",
   "execution_count": 60,
   "metadata": {},
   "outputs": [
    {
     "data": {
      "text/plain": [
       "DatetimeIndex(['2015-06-23 08:40:00+05:00', '2015-06-23 08:40:00+05:00',\n",
       "               '2015-06-23 08:40:00+05:00', '2015-06-23 08:40:00+05:00',\n",
       "               '2015-06-23 10:00:00+05:00', '2015-06-23 10:00:00+05:00',\n",
       "               '2015-06-23 10:00:00+05:00', '2015-06-23 10:00:00+05:00',\n",
       "               '2015-06-23 10:00:00+05:00', '2015-06-23 10:00:00+05:00',\n",
       "               ...\n",
       "               '2012-01-11 20:25:00+05:00', '2012-01-11 20:25:00+05:00',\n",
       "               '2012-01-11 20:25:00+05:00', '2012-01-11 20:25:00+05:00',\n",
       "               '2012-01-11 07:45:00+05:00', '2012-01-11 07:45:00+05:00',\n",
       "               '2012-01-11 07:45:00+05:00', '2012-01-11 07:45:00+05:00',\n",
       "               '2012-01-11 07:45:00+05:00', '2012-01-11 07:45:00+05:00'],\n",
       "              dtype='datetime64[ns, pytz.FixedOffset(300)]', name='PeriodID', length=5951880, freq=None)"
      ]
     },
     "execution_count": 60,
     "metadata": {},
     "output_type": "execute_result"
    }
   ],
   "source": [
    "import datetime as dt\n",
    "import pytz\n",
    "meh.index.tz_convert(tz=pytz.FixedOffset(300))"
   ]
  },
  {
   "cell_type": "code",
   "execution_count": null,
   "metadata": {},
   "outputs": [],
   "source": []
  }
 ],
 "metadata": {
  "kernelspec": {
   "display_name": "Python 3",
   "language": "python",
   "name": "python3"
  },
  "language_info": {
   "codemirror_mode": {
    "name": "ipython",
    "version": 3
   },
   "file_extension": ".py",
   "mimetype": "text/x-python",
   "name": "python",
   "nbconvert_exporter": "python",
   "pygments_lexer": "ipython3",
   "version": "3.6.8"
  }
 },
 "nbformat": 4,
 "nbformat_minor": 4
}
