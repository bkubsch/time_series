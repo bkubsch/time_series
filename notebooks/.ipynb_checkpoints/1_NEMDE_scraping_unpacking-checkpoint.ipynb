{
 "cells": [
  {
   "cell_type": "code",
   "execution_count": 25,
   "metadata": {},
   "outputs": [],
   "source": [
    "#final code\n",
    "\n",
    "import requests\n",
    "import bs4\n",
    "import os\n",
    "\n",
    "def outer_NEM_scraper():\n",
    "    url_cond = []\n",
    "    def NEM_scraper(urls, href_identifier=None,a=None,b=None,c=None):\n",
    "        '''\n",
    "        urls=[url1, urls2,...], href_identifier=\"href_segment_of_interest\", a=start, b=end, c=step_size\n",
    "        '''\n",
    "        urls_scraped = []\n",
    "        for url in urls:\n",
    "            req = requests.get(url)\n",
    "            assert req.status_code == 200\n",
    "            soup = bs4.BeautifulSoup(req.content, 'html.parser')\n",
    "            links = soup.find_all('a', href=True, text=href_identifier)\n",
    "            links = [os.path.join(url, link.get_text())\n",
    "                     for link in links[a:b:c]]\n",
    "            for link in links:\n",
    "                    urls_scraped.append(link)\n",
    "\n",
    "        return urls_scraped\n",
    "    years = NEM_scraper([\"http://www.nemweb.com.au/Data_Archive/Wholesale_Electricity/NEMDE/\"], a=1)\n",
    "    months = NEM_scraper(years, a=1, c=2)\n",
    "    NEMDE_Market_Data = NEM_scraper(months, href_identifier=\"NEMDE_Market_Data\")\n",
    "    NEMDE_Files = NEM_scraper(NEMDE_Market_Data, href_identifier=\"NEMDE_Files\")\n",
    "    final = NEM_scraper(NEMDE_Files, a=1)\n",
    "    for url in final:\n",
    "        if url.endswith(\"_xml.zip\"):\n",
    "            url_cond.append(url)\n",
    "    return url_cond"
   ]
  },
  {
   "cell_type": "markdown",
   "metadata": {},
   "source": [
    "#### +++ final commands to scrape +++"
   ]
  },
  {
   "cell_type": "code",
   "execution_count": 38,
   "metadata": {},
   "outputs": [],
   "source": [
    "#f = outer_NEM_scraper()\n",
    "#print(f)\n",
    "#len(f)"
   ]
  },
  {
   "cell_type": "markdown",
   "metadata": {},
   "source": [
    "#### +++ final commands to scrape +++"
   ]
  },
  {
   "cell_type": "code",
   "execution_count": 34,
   "metadata": {},
   "outputs": [
    {
     "name": "stdout",
     "output_type": "stream",
     "text": [
      " 100% [++++++++++++++++++++++++++++++++++++++++++++++++++]"
     ]
    }
   ],
   "source": [
    "import logging\n",
    "import sys\n",
    "import zipfile\n",
    "import os\n",
    "\n",
    "def extract_zip_from_url(url, output_path):\n",
    "    month = url[-17:-8]\n",
    "    output_folder = os.path.join(output_path, month)\n",
    "    os.makedirs(output_folder, exist_ok=True)\n",
    "    logging.info('downloading {}'.format(url))\n",
    "    mms = os.path.join(output_folder, 'mmsdm.zip')\n",
    "    with open(mms, 'wb') as f:\n",
    "        response = requests.get(url, headers=header, stream=True)\n",
    "        total_length = response.headers.get('content-length')\n",
    "        if total_length is None:\n",
    "            f.write(response.content)\n",
    "        else:\n",
    "            dl = 0\n",
    "            total_length = int(total_length)\n",
    "            for data in response.iter_content(chunk_size=4096):\n",
    "                dl += len(data)\n",
    "                f.write(data)\n",
    "                done = int(50 * dl / total_length)\n",
    "                sys.stdout.write('\\r {}% [{}{}]'.format(2*done, '+'*done, ' '*(50-done)))\n",
    "                sys.stdout.flush()\n",
    "\n",
    "    logging.info('extracting {}'.format(url))\n",
    "    \n",
    "    #unzipping of zip from previous block\n",
    "    with zipfile.ZipFile(mms, 'r') as my_zipfile:\n",
    "        my_zipfile.extractall(output_folder)\n",
    "\n",
    "header = None\n",
    "url = 'http://www.nemweb.com.au/Data_Archive/Wholesale_Electricity/NEMDE/2009/NEMDE_2009_07/NEMDE_Market_Data/NEMDE_Files/NemPriceSetter_20090703_xml.zip'\n",
    "extract_zip_from_url(url, '{}/nem-data/nemde'.format(os.environ['HOME']))"
   ]
  },
  {
   "cell_type": "markdown",
   "metadata": {},
   "source": [
    "#### +++ final commands to download and extract ALL scraped files +++"
   ]
  },
  {
   "cell_type": "code",
   "execution_count": 36,
   "metadata": {},
   "outputs": [
    {
     "name": "stdout",
     "output_type": "stream",
     "text": [
      " 100% [++++++++++++++++++++++++++++++++++++++++++++++++++]"
     ]
    }
   ],
   "source": [
    "for url in f:\n",
    "    extract_zip_from_url(url, '{}/nem-data/nemde'.format(os.environ['HOME']))"
   ]
  },
  {
   "cell_type": "markdown",
   "metadata": {},
   "source": [
    "#### +++ final commands to download and extract ALL scraped files +++"
   ]
  },
  {
   "cell_type": "code",
   "execution_count": null,
   "metadata": {},
   "outputs": [],
   "source": []
  }
 ],
 "metadata": {
  "kernelspec": {
   "display_name": "Python 3",
   "language": "python",
   "name": "python3"
  },
  "language_info": {
   "codemirror_mode": {
    "name": "ipython",
    "version": 3
   },
   "file_extension": ".py",
   "mimetype": "text/x-python",
   "name": "python",
   "nbconvert_exporter": "python",
   "pygments_lexer": "ipython3",
   "version": "3.6.8"
  }
 },
 "nbformat": 4,
 "nbformat_minor": 4
}
