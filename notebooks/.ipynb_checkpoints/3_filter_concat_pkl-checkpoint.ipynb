{
 "cells": [
  {
   "cell_type": "code",
   "execution_count": 1,
   "metadata": {},
   "outputs": [],
   "source": [
    "import pandas as pd\n",
    "import glob\n",
    "import os\n",
    "\n",
    "def clean_filter_concat_pkl(path_pkls, path_destination):\n",
    "    os.chdir(path_pkls)\n",
    "    extension = 'pkl'\n",
    "    all_filenames = [i for i in glob.glob('*.{}'.format(extension))]\n",
    "\n",
    "    df = pd.DataFrame()\n",
    "    for i in all_filenames:\n",
    "        print(i)\n",
    "        df_i = pd.read_pickle(i)\n",
    "        print(df_i.shape)\n",
    "        df_i = df_i.query('Market == \"Energy\" and RegionID == \"SA1\"')\n",
    "        df = pd.concat([df, df_i])\n",
    "        print(df.shape)\n",
    "    df.to_pickle(path_destination)"
   ]
  },
  {
   "cell_type": "code",
   "execution_count": 2,
   "metadata": {},
   "outputs": [
    {
     "name": "stdout",
     "output_type": "stream",
     "text": [
      "8.pkl\n",
      "(7323536, 10)\n",
      "(681836, 10)\n",
      "5.pkl\n",
      "(6416046, 10)\n",
      "(1109990, 10)\n",
      "9.pkl\n",
      "(8421314, 10)\n",
      "(1892688, 10)\n",
      "1.pkl\n",
      "(7114458, 10)\n",
      "(2451516, 10)\n",
      "10.pkl\n",
      "(8497680, 10)\n",
      "(2930076, 10)\n",
      "11.pkl\n",
      "(7343695, 10)\n",
      "(3314873, 10)\n",
      "6.pkl\n",
      "(7459025, 10)\n",
      "(3799470, 10)\n",
      "7.pkl\n",
      "(8340539, 10)\n",
      "(4563310, 10)\n",
      "2.pkl\n",
      "(6702060, 10)\n",
      "(5029030, 10)\n",
      "3.pkl\n",
      "(7093800, 10)\n",
      "(5486140, 10)\n",
      "4.pkl\n",
      "(6738568, 10)\n",
      "(5951880, 10)\n",
      "12.pkl\n",
      "(10773819, 10)\n",
      "(6482840, 10)\n"
     ]
    }
   ],
   "source": [
    "path_pkls = '{}/nem-data/nemde_clean/chunks_clean'.format(os.environ['HOME'])\n",
    "path_destination = '{}/nem-data/nemde_clean/concat_for_energy_SA1.pkl'.format(os.environ['HOME'])\n",
    "\n",
    "clean_filter_concat_pkl(path_pkls, path_destination)"
   ]
  },
  {
   "cell_type": "code",
   "execution_count": null,
   "metadata": {},
   "outputs": [],
   "source": []
  }
 ],
 "metadata": {
  "kernelspec": {
   "display_name": "Python 3",
   "language": "python",
   "name": "python3"
  },
  "language_info": {
   "codemirror_mode": {
    "name": "ipython",
    "version": 3
   },
   "file_extension": ".py",
   "mimetype": "text/x-python",
   "name": "python",
   "nbconvert_exporter": "python",
   "pygments_lexer": "ipython3",
   "version": "3.6.8"
  }
 },
 "nbformat": 4,
 "nbformat_minor": 4
}
