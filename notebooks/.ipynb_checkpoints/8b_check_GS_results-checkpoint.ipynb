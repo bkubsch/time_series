{
 "cells": [
  {
   "cell_type": "code",
   "execution_count": 176,
   "metadata": {},
   "outputs": [],
   "source": [
    "import pandas as pd\n",
    "import numpy as np\n",
    "import os\n",
    "import datetime as dt"
   ]
  },
  {
   "cell_type": "code",
   "execution_count": 163,
   "metadata": {},
   "outputs": [],
   "source": [
    "file_path = '{}/nem-data/nemde_clean/df_clean_interconnectors.pkl'.format(os.environ['HOME'])\n",
    "df = pd.read_pickle(file_path)"
   ]
  },
  {
   "cell_type": "code",
   "execution_count": 164,
   "metadata": {},
   "outputs": [],
   "source": [
    "df_train_val = df[df.index < dt.datetime(2017,5,31,0,0,0)]\n",
    "df_test_set = df[df.index >= dt.datetime(2017,5,31,0,0,0)]"
   ]
  },
  {
   "cell_type": "code",
   "execution_count": 165,
   "metadata": {},
   "outputs": [
    {
     "name": "stdout",
     "output_type": "stream",
     "text": [
      "2017-05-30 23:55:00\n",
      "2017-05-31 00:00:00\n"
     ]
    }
   ],
   "source": [
    "print(df_train_val.index.max())\n",
    "print(df_test_set.index.min())"
   ]
  },
  {
   "cell_type": "code",
   "execution_count": 1,
   "metadata": {},
   "outputs": [],
   "source": [
    "def train_test_ts(df, relative_train, maximal_lag, horizon):\n",
    "    '''\n",
    "    Time series (ts) split function creates a train/test set under consideration of potential overlap between the two due to lag processing\n",
    "    X_train, y_train, X_test, y_test = ...\n",
    "    df=must contain target column as \"target\"; all other columns must be used as features\n",
    "    percentage_train=how much of the total dataset shall be used for training; must be added between 0 - 1\n",
    "    maximal_lag=out of all lag feature engineering, enter the maximal lag number\n",
    "    '''\n",
    "    k = int(df.shape[0] * relative_train)\n",
    "    data_train = df.iloc[:k,:]\n",
    "    #to avoid overlapping of train and test data, a gap of the maximal lag - 1 must be included between the two sets\n",
    "    data_test = df.iloc[k+maximal_lag:,:]\n",
    "    \n",
    "    assert data_train.index.max() < data_test.index.min()\n",
    "    \n",
    "    #returns in the sequence X_train, y_train, X_test, y_test\n",
    "    return (data_train.drop(columns=[f\"horizon{horizon}\",\"CO2E_EMISSIONS_FACTOR\"], axis=1), data_train[f\"horizon{horizon}\"],\n",
    "            data_test.drop(columns=[f\"horizon{horizon}\",\"CO2E_EMISSIONS_FACTOR\"], axis=1), data_test[f\"horizon{horizon}\"])"
   ]
  },
  {
   "cell_type": "code",
   "execution_count": 167,
   "metadata": {},
   "outputs": [],
   "source": [
    "X_train, y_train, X_test, y_test = train_test_ts(df_train_val, 0.8, 12)"
   ]
  },
  {
   "cell_type": "code",
   "execution_count": 168,
   "metadata": {},
   "outputs": [
    {
     "name": "stdout",
     "output_type": "stream",
     "text": [
      "2016-03-10 09:15:00\n",
      "2016-03-10 08:10:00\n"
     ]
    }
   ],
   "source": [
    "print(X_test.index.min())\n",
    "print(X_train.index.max())"
   ]
  },
  {
   "cell_type": "code",
   "execution_count": 169,
   "metadata": {},
   "outputs": [],
   "source": [
    "def errors_GS(model_name):\n",
    "\n",
    "    file_path = '{}/nem-data/trainings/grid_searches/{}.pkl'.format(os.environ['HOME'], model_name)\n",
    "\n",
    "    best_model = joblib.load(file_path)\n",
    "\n",
    "    train_mae = (sum(abs(y_train - best_model.predict(X_train)))/len(y_train))/y_train.mean()\n",
    "    train_mape = sum(abs(y_train - best_model.predict(X_train))*100)/len(y_train)\n",
    "\n",
    "    test_mae = sum(abs(y_test - best_model.predict(X_test)))/len(y_test)\n",
    "    test_mape = sum(abs(y_test - best_model.predict(X_test))*100)/len(y_test)\n",
    "\n",
    "    print(f\"train_mae: {train_mae}\")\n",
    "    print(f\"test_mae: {test_mae}\")\n",
    "    print(f\"train_mape: {train_mape}\")\n",
    "    print(f\"test_mape: {test_mape}\")\n",
    "    \n",
    "    return best_model"
   ]
  },
  {
   "cell_type": "code",
   "execution_count": 170,
   "metadata": {},
   "outputs": [],
   "source": [
    "def rel_errors_GS(model_name):\n",
    "\n",
    "    file_path = '{}/nem-data/trainings/grid_searches/{}.pkl'.format(os.environ['HOME'], model_name)\n",
    "\n",
    "    best_model = joblib.load(file_path)\n",
    "\n",
    "    train_mae = (sum(abs(y_train - best_model.predict(X_train)))/len(y_train))/y_train.mean()\n",
    "    train_mape = (sum(abs(y_train - best_model.predict(X_train))*100)/len(y_train))/y_train.mean()\n",
    "\n",
    "    test_mae = (sum(abs(y_test - best_model.predict(X_test)))/len(y_test))/y_test.mean()\n",
    "    test_mape = (sum(abs(y_test - best_model.predict(X_test))*100)/len(y_test))/y_test.mean()\n",
    "\n",
    "    print(f\"train_mae: {train_mae}\")\n",
    "    print(f\"test_mae: {test_mae}\")\n",
    "    print(f\"train_mape: {train_mape}\")\n",
    "    print(f\"test_mape: {test_mape}\")\n",
    "    \n",
    "    return best_model"
   ]
  },
  {
   "cell_type": "code",
   "execution_count": 154,
   "metadata": {},
   "outputs": [
    {
     "name": "stdout",
     "output_type": "stream",
     "text": [
      "[21:44:29] WARNING: /workspace/src/objective/regression_obj.cu:152: reg:linear is now deprecated in favor of reg:squarederror.\n",
      "train_mae: 0.27959603558873336\n",
      "test_mae: 0.2687075709892779\n",
      "train_mape: 27.959603558926503\n",
      "test_mape: 26.870757098929374\n"
     ]
    }
   ],
   "source": [
    "best_model = rel_errors_GS(\"3_GS_model\")"
   ]
  },
  {
   "cell_type": "code",
   "execution_count": 156,
   "metadata": {},
   "outputs": [
    {
     "data": {
      "text/plain": [
       "{'learning_rate': 0.1,\n",
       " 'max_depth': 5,\n",
       " 'n_estimators': 100,\n",
       " 'reg_alpha': 0.05,\n",
       " 'reg_lambda': 0}"
      ]
     },
     "execution_count": 156,
     "metadata": {},
     "output_type": "execute_result"
    }
   ],
   "source": [
    "best_model.best_params_"
   ]
  },
  {
   "cell_type": "code",
   "execution_count": 155,
   "metadata": {},
   "outputs": [
    {
     "name": "stdout",
     "output_type": "stream",
     "text": [
      "[21:44:31] WARNING: /workspace/src/objective/regression_obj.cu:152: reg:linear is now deprecated in favor of reg:squarederror.\n",
      "train_mae: 0.2857561508363076\n",
      "test_mae: 0.23963506193454695\n",
      "train_mape: 28.57561508369905\n",
      "test_mape: 23.963506193454265\n"
     ]
    }
   ],
   "source": [
    "df1 = df.drop(columns=\"interconnector\")\n",
    "df_train_val1 = df1[df1.index < dt.datetime(2017,1,1,0,0,0)]\n",
    "df_test_set1 = df1[df1.index >= dt.datetime(2017,1,1,0,0,0)]\n",
    "X_train, y_train, X_test, y_test = train_test_ts(df_train_val1, 0.8, 12)\n",
    "\n",
    "best_model1 = rel_errors_GS(\"grid_search_object\")"
   ]
  },
  {
   "cell_type": "code",
   "execution_count": 160,
   "metadata": {},
   "outputs": [
    {
     "data": {
      "text/plain": [
       "{'eta': 0.3, 'max_depth': 5}"
      ]
     },
     "execution_count": 160,
     "metadata": {},
     "output_type": "execute_result"
    }
   ],
   "source": [
    "best_model1.best_params_"
   ]
  },
  {
   "cell_type": "code",
   "execution_count": 174,
   "metadata": {},
   "outputs": [
    {
     "name": "stdout",
     "output_type": "stream",
     "text": [
      "[21:56:34] WARNING: /workspace/src/objective/regression_obj.cu:152: reg:linear is now deprecated in favor of reg:squarederror.\n",
      "train_mae: 0.0038969861269728553\n",
      "test_mae: 0.3034322689961902\n",
      "train_mape: 0.38969861269729683\n",
      "test_mape: 30.34322689962513\n"
     ]
    }
   ],
   "source": [
    "best_model2 = rel_errors_GS(\"4_GS_object\")"
   ]
  },
  {
   "cell_type": "code",
   "execution_count": 175,
   "metadata": {},
   "outputs": [
    {
     "data": {
      "text/plain": [
       "{'learning_rate': 0.1,\n",
       " 'max_depth': 50,\n",
       " 'n_estimators': 100,\n",
       " 'reg_alpha': 0.05,\n",
       " 'reg_lambda': 0}"
      ]
     },
     "execution_count": 175,
     "metadata": {},
     "output_type": "execute_result"
    }
   ],
   "source": [
    "best_model2.best_params_"
   ]
  },
  {
   "cell_type": "code",
   "execution_count": null,
   "metadata": {},
   "outputs": [],
   "source": []
  }
 ],
 "metadata": {
  "kernelspec": {
   "display_name": "Python 3",
   "language": "python",
   "name": "python3"
  },
  "language_info": {
   "codemirror_mode": {
    "name": "ipython",
    "version": 3
   },
   "file_extension": ".py",
   "mimetype": "text/x-python",
   "name": "python",
   "nbconvert_exporter": "python",
   "pygments_lexer": "ipython3",
   "version": "3.6.8"
  }
 },
 "nbformat": 4,
 "nbformat_minor": 4
}
