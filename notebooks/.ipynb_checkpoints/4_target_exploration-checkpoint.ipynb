{
 "cells": [
  {
   "cell_type": "code",
   "execution_count": 1,
   "metadata": {},
   "outputs": [],
   "source": [
    "import pandas as pd\n",
    "import datetime as dt\n",
    "import pytz\n",
    "import os"
   ]
  },
  {
   "cell_type": "code",
   "execution_count": 2,
   "metadata": {},
   "outputs": [],
   "source": [
    "#final code_block <- works\n",
    "\n",
    "def mod_concat_NEMDE(file_path):\n",
    "    df = pd.read_pickle(file_path)\n",
    "    df.drop(columns=[\"BandNo\",\"RRNBandPrice\",\"BandCost\"], inplace=True)\n",
    "    df = df.set_index('PeriodID', drop=True)\n",
    "    df.index = pd.to_datetime(df.index).tz_localize(None)\n",
    "    df[[\"Price\", \"Increase\"]] = df[[\"Price\", \"Increase\"]].astype(float)\n",
    "    df.sort_index(inplace=True, ascending=False)\n",
    "    df.index = df.index - dt.timedelta(minutes = 5)\n",
    "    df.rename(columns={\"Unit\":\"DUID\"}, inplace=True)\n",
    "    assert df[\"Price\"].dtype == float\n",
    "    assert df[\"Increase\"].dtype == float\n",
    "    assert not df.isna().any().any()\n",
    "    return df"
   ]
  },
  {
   "cell_type": "code",
   "execution_count": 3,
   "metadata": {},
   "outputs": [],
   "source": [
    "file = '{}/nem-data/nemde_clean/concat_for_energy_SA1.pkl'.format(os.environ['HOME'])\n",
    "\n",
    "df = mod_concat_NEMDE(file)"
   ]
  },
  {
   "cell_type": "code",
   "execution_count": 4,
   "metadata": {},
   "outputs": [
    {
     "name": "stdout",
     "output_type": "stream",
     "text": [
      "(6482840, 6)\n"
     ]
    },
    {
     "data": {
      "text/html": [
       "<div>\n",
       "<style scoped>\n",
       "    .dataframe tbody tr th:only-of-type {\n",
       "        vertical-align: middle;\n",
       "    }\n",
       "\n",
       "    .dataframe tbody tr th {\n",
       "        vertical-align: top;\n",
       "    }\n",
       "\n",
       "    .dataframe thead th {\n",
       "        text-align: right;\n",
       "    }\n",
       "</style>\n",
       "<table border=\"1\" class=\"dataframe\">\n",
       "  <thead>\n",
       "    <tr style=\"text-align: right;\">\n",
       "      <th></th>\n",
       "      <th>RegionID</th>\n",
       "      <th>Market</th>\n",
       "      <th>Price</th>\n",
       "      <th>DUID</th>\n",
       "      <th>DispatchedMarket</th>\n",
       "      <th>Increase</th>\n",
       "    </tr>\n",
       "    <tr>\n",
       "      <th>PeriodID</th>\n",
       "      <th></th>\n",
       "      <th></th>\n",
       "      <th></th>\n",
       "      <th></th>\n",
       "      <th></th>\n",
       "      <th></th>\n",
       "    </tr>\n",
       "  </thead>\n",
       "  <tbody>\n",
       "    <tr>\n",
       "      <td>2019-08-01 03:55:00</td>\n",
       "      <td>SA1</td>\n",
       "      <td>Energy</td>\n",
       "      <td>79.52391</td>\n",
       "      <td>LOYYB1</td>\n",
       "      <td>L5MI</td>\n",
       "      <td>-1.03893</td>\n",
       "    </tr>\n",
       "    <tr>\n",
       "      <td>2019-08-01 03:55:00</td>\n",
       "      <td>SA1</td>\n",
       "      <td>Energy</td>\n",
       "      <td>79.52391</td>\n",
       "      <td>JBUTTERS</td>\n",
       "      <td>L5MI</td>\n",
       "      <td>1.03893</td>\n",
       "    </tr>\n",
       "    <tr>\n",
       "      <td>2019-08-01 03:55:00</td>\n",
       "      <td>SA1</td>\n",
       "      <td>Energy</td>\n",
       "      <td>79.52391</td>\n",
       "      <td>JBUTTERS</td>\n",
       "      <td>ENOF</td>\n",
       "      <td>1.06714</td>\n",
       "    </tr>\n",
       "    <tr>\n",
       "      <td>2019-08-01 03:55:00</td>\n",
       "      <td>SA1</td>\n",
       "      <td>Energy</td>\n",
       "      <td>79.52391</td>\n",
       "      <td>T-V-MNSP1,VIC1</td>\n",
       "      <td>ENOF</td>\n",
       "      <td>1.03893</td>\n",
       "    </tr>\n",
       "    <tr>\n",
       "      <td>2019-08-01 03:50:00</td>\n",
       "      <td>SA1</td>\n",
       "      <td>Energy</td>\n",
       "      <td>79.17710</td>\n",
       "      <td>JBUTTERS</td>\n",
       "      <td>ENOF</td>\n",
       "      <td>1.06444</td>\n",
       "    </tr>\n",
       "  </tbody>\n",
       "</table>\n",
       "</div>"
      ],
      "text/plain": [
       "                    RegionID  Market     Price            DUID  \\\n",
       "PeriodID                                                         \n",
       "2019-08-01 03:55:00      SA1  Energy  79.52391          LOYYB1   \n",
       "2019-08-01 03:55:00      SA1  Energy  79.52391        JBUTTERS   \n",
       "2019-08-01 03:55:00      SA1  Energy  79.52391        JBUTTERS   \n",
       "2019-08-01 03:55:00      SA1  Energy  79.52391  T-V-MNSP1,VIC1   \n",
       "2019-08-01 03:50:00      SA1  Energy  79.17710        JBUTTERS   \n",
       "\n",
       "                    DispatchedMarket  Increase  \n",
       "PeriodID                                        \n",
       "2019-08-01 03:55:00             L5MI  -1.03893  \n",
       "2019-08-01 03:55:00             L5MI   1.03893  \n",
       "2019-08-01 03:55:00             ENOF   1.06714  \n",
       "2019-08-01 03:55:00             ENOF   1.03893  \n",
       "2019-08-01 03:50:00             ENOF   1.06444  "
      ]
     },
     "execution_count": 4,
     "metadata": {},
     "output_type": "execute_result"
    }
   ],
   "source": [
    "print(df.shape)\n",
    "df.head()"
   ]
  },
  {
   "cell_type": "code",
   "execution_count": 5,
   "metadata": {},
   "outputs": [
    {
     "name": "stdout",
     "output_type": "stream",
     "text": [
      "The number of time periods is 1043372. The distribution of number of prices is:\n"
     ]
    },
    {
     "data": {
      "text/plain": [
       "1    1043366\n",
       "2          6\n",
       "Name: Price, dtype: int64"
      ]
     },
     "execution_count": 5,
     "metadata": {},
     "output_type": "execute_result"
    }
   ],
   "source": [
    "df_price = df.groupby(\"PeriodID\").agg({\"Price\" : \"nunique\"})\n",
    "print(\"The number of time periods is {}. The distribution of number of prices is:\".format(df_price.shape[0]))\n",
    "df_price.Price.value_counts()"
   ]
  },
  {
   "cell_type": "code",
   "execution_count": 6,
   "metadata": {},
   "outputs": [
    {
     "data": {
      "text/html": [
       "<div>\n",
       "<style scoped>\n",
       "    .dataframe tbody tr th:only-of-type {\n",
       "        vertical-align: middle;\n",
       "    }\n",
       "\n",
       "    .dataframe tbody tr th {\n",
       "        vertical-align: top;\n",
       "    }\n",
       "\n",
       "    .dataframe thead th {\n",
       "        text-align: right;\n",
       "    }\n",
       "</style>\n",
       "<table border=\"1\" class=\"dataframe\">\n",
       "  <thead>\n",
       "    <tr style=\"text-align: right;\">\n",
       "      <th></th>\n",
       "      <th>Price</th>\n",
       "    </tr>\n",
       "    <tr>\n",
       "      <th>PeriodID</th>\n",
       "      <th></th>\n",
       "    </tr>\n",
       "  </thead>\n",
       "  <tbody>\n",
       "    <tr>\n",
       "      <td>2015-02-22 23:30:00</td>\n",
       "      <td>2</td>\n",
       "    </tr>\n",
       "    <tr>\n",
       "      <td>2015-05-01 08:40:00</td>\n",
       "      <td>2</td>\n",
       "    </tr>\n",
       "    <tr>\n",
       "      <td>2016-10-31 20:30:00</td>\n",
       "      <td>2</td>\n",
       "    </tr>\n",
       "    <tr>\n",
       "      <td>2019-01-24 19:45:00</td>\n",
       "      <td>2</td>\n",
       "    </tr>\n",
       "    <tr>\n",
       "      <td>2019-01-25 11:20:00</td>\n",
       "      <td>2</td>\n",
       "    </tr>\n",
       "    <tr>\n",
       "      <td>2019-01-25 13:05:00</td>\n",
       "      <td>2</td>\n",
       "    </tr>\n",
       "  </tbody>\n",
       "</table>\n",
       "</div>"
      ],
      "text/plain": [
       "                     Price\n",
       "PeriodID                  \n",
       "2015-02-22 23:30:00      2\n",
       "2015-05-01 08:40:00      2\n",
       "2016-10-31 20:30:00      2\n",
       "2019-01-24 19:45:00      2\n",
       "2019-01-25 11:20:00      2\n",
       "2019-01-25 13:05:00      2"
      ]
     },
     "execution_count": 6,
     "metadata": {},
     "output_type": "execute_result"
    }
   ],
   "source": [
    "df_price.loc[df_price.Price == 2]"
   ]
  },
  {
   "cell_type": "code",
   "execution_count": 7,
   "metadata": {},
   "outputs": [
    {
     "data": {
      "text/html": [
       "<div>\n",
       "<style scoped>\n",
       "    .dataframe tbody tr th:only-of-type {\n",
       "        vertical-align: middle;\n",
       "    }\n",
       "\n",
       "    .dataframe tbody tr th {\n",
       "        vertical-align: top;\n",
       "    }\n",
       "\n",
       "    .dataframe thead th {\n",
       "        text-align: right;\n",
       "    }\n",
       "</style>\n",
       "<table border=\"1\" class=\"dataframe\">\n",
       "  <thead>\n",
       "    <tr style=\"text-align: right;\">\n",
       "      <th></th>\n",
       "      <th>Price</th>\n",
       "    </tr>\n",
       "    <tr>\n",
       "      <th>PeriodID</th>\n",
       "      <th></th>\n",
       "    </tr>\n",
       "  </thead>\n",
       "  <tbody>\n",
       "    <tr>\n",
       "      <td>2019-01-25 13:05:00</td>\n",
       "      <td>30</td>\n",
       "    </tr>\n",
       "    <tr>\n",
       "      <td>2019-01-25 11:20:00</td>\n",
       "      <td>41</td>\n",
       "    </tr>\n",
       "    <tr>\n",
       "      <td>2019-01-24 19:45:00</td>\n",
       "      <td>13</td>\n",
       "    </tr>\n",
       "    <tr>\n",
       "      <td>2016-10-31 20:30:00</td>\n",
       "      <td>15</td>\n",
       "    </tr>\n",
       "    <tr>\n",
       "      <td>2015-05-01 08:40:00</td>\n",
       "      <td>41</td>\n",
       "    </tr>\n",
       "    <tr>\n",
       "      <td>2015-02-22 23:30:00</td>\n",
       "      <td>8</td>\n",
       "    </tr>\n",
       "  </tbody>\n",
       "</table>\n",
       "</div>"
      ],
      "text/plain": [
       "                     Price\n",
       "PeriodID                  \n",
       "2019-01-25 13:05:00     30\n",
       "2019-01-25 11:20:00     41\n",
       "2019-01-24 19:45:00     13\n",
       "2016-10-31 20:30:00     15\n",
       "2015-05-01 08:40:00     41\n",
       "2015-02-22 23:30:00      8"
      ]
     },
     "execution_count": 7,
     "metadata": {},
     "output_type": "execute_result"
    }
   ],
   "source": [
    "df_price_timeslots = df.groupby(\"PeriodID\").agg({\"Price\" : \"count\"}).sort_values(by=\"PeriodID\", ascending=False)\n",
    "\n",
    "df_price_timeslots[(df_price_timeslots.index == dt.datetime(2015,2,22,23,30,0)) | \n",
    "   (df_price_timeslots.index == dt.datetime(2015,5,1,8,40,0)) | \n",
    "   (df_price_timeslots.index == dt.datetime(2016,10,31,20,30,0)) |\n",
    "    (df_price_timeslots.index == dt.datetime(2019,1,24,19,45,0)) |\n",
    "    (df_price_timeslots.index == dt.datetime(2019,1,25,11,20,0)) |\n",
    "    (df_price_timeslots.index == dt.datetime(2019,1,25,13,5,0))]"
   ]
  },
  {
   "cell_type": "code",
   "execution_count": 8,
   "metadata": {},
   "outputs": [
    {
     "data": {
      "text/html": [
       "<div>\n",
       "<style scoped>\n",
       "    .dataframe tbody tr th:only-of-type {\n",
       "        vertical-align: middle;\n",
       "    }\n",
       "\n",
       "    .dataframe tbody tr th {\n",
       "        vertical-align: top;\n",
       "    }\n",
       "\n",
       "    .dataframe thead tr th {\n",
       "        text-align: left;\n",
       "    }\n",
       "\n",
       "    .dataframe thead tr:last-of-type th {\n",
       "        text-align: right;\n",
       "    }\n",
       "</style>\n",
       "<table border=\"1\" class=\"dataframe\">\n",
       "  <thead>\n",
       "    <tr>\n",
       "      <th></th>\n",
       "      <th colspan=\"2\" halign=\"left\">Price</th>\n",
       "    </tr>\n",
       "    <tr>\n",
       "      <th></th>\n",
       "      <th>min</th>\n",
       "      <th>max</th>\n",
       "    </tr>\n",
       "    <tr>\n",
       "      <th>PeriodID</th>\n",
       "      <th></th>\n",
       "      <th></th>\n",
       "    </tr>\n",
       "  </thead>\n",
       "  <tbody>\n",
       "    <tr>\n",
       "      <td>2015-02-22 23:30:00</td>\n",
       "      <td>9.759107e+04</td>\n",
       "      <td>3.681001e+05</td>\n",
       "    </tr>\n",
       "    <tr>\n",
       "      <td>2015-05-01 08:40:00</td>\n",
       "      <td>7.029670e+01</td>\n",
       "      <td>7.209740e+01</td>\n",
       "    </tr>\n",
       "    <tr>\n",
       "      <td>2016-10-31 20:30:00</td>\n",
       "      <td>9.598007e+01</td>\n",
       "      <td>5.092297e+05</td>\n",
       "    </tr>\n",
       "    <tr>\n",
       "      <td>2019-01-24 19:45:00</td>\n",
       "      <td>1.042383e+06</td>\n",
       "      <td>2.175000e+06</td>\n",
       "    </tr>\n",
       "    <tr>\n",
       "      <td>2019-01-25 11:20:00</td>\n",
       "      <td>1.186552e+04</td>\n",
       "      <td>1.204058e+04</td>\n",
       "    </tr>\n",
       "    <tr>\n",
       "      <td>2019-01-25 13:05:00</td>\n",
       "      <td>1.224543e+02</td>\n",
       "      <td>1.401126e+02</td>\n",
       "    </tr>\n",
       "  </tbody>\n",
       "</table>\n",
       "</div>"
      ],
      "text/plain": [
       "                            Price              \n",
       "                              min           max\n",
       "PeriodID                                       \n",
       "2015-02-22 23:30:00  9.759107e+04  3.681001e+05\n",
       "2015-05-01 08:40:00  7.029670e+01  7.209740e+01\n",
       "2016-10-31 20:30:00  9.598007e+01  5.092297e+05\n",
       "2019-01-24 19:45:00  1.042383e+06  2.175000e+06\n",
       "2019-01-25 11:20:00  1.186552e+04  1.204058e+04\n",
       "2019-01-25 13:05:00  1.224543e+02  1.401126e+02"
      ]
     },
     "execution_count": 8,
     "metadata": {},
     "output_type": "execute_result"
    }
   ],
   "source": [
    "df_price_outliers = df[(df.index == dt.datetime(2015,2,22,23,30,0)) | \n",
    "   (df.index == dt.datetime(2015,5,1,8,40,0)) | \n",
    "   (df.index == dt.datetime(2016,10,31,20,30,0)) |\n",
    "    (df.index == dt.datetime(2019,1,24,19,45,0)) |\n",
    "    (df.index == dt.datetime(2019,1,25,11,20,0)) |\n",
    "    (df.index == dt.datetime(2019,1,25,13,5,0))]\n",
    "\n",
    "df_price_outliers.groupby('PeriodID').agg({'Price' : ['min', 'max']})"
   ]
  },
  {
   "cell_type": "code",
   "execution_count": 9,
   "metadata": {},
   "outputs": [
    {
     "data": {
      "text/html": [
       "<div>\n",
       "<style scoped>\n",
       "    .dataframe tbody tr th:only-of-type {\n",
       "        vertical-align: middle;\n",
       "    }\n",
       "\n",
       "    .dataframe tbody tr th {\n",
       "        vertical-align: top;\n",
       "    }\n",
       "\n",
       "    .dataframe thead th {\n",
       "        text-align: right;\n",
       "    }\n",
       "</style>\n",
       "<table border=\"1\" class=\"dataframe\">\n",
       "  <thead>\n",
       "    <tr style=\"text-align: right;\">\n",
       "      <th></th>\n",
       "      <th>RegionID</th>\n",
       "      <th>Market</th>\n",
       "      <th>Price</th>\n",
       "      <th>DUID</th>\n",
       "      <th>DispatchedMarket</th>\n",
       "      <th>Increase</th>\n",
       "    </tr>\n",
       "    <tr>\n",
       "      <th>PeriodID</th>\n",
       "      <th></th>\n",
       "      <th></th>\n",
       "      <th></th>\n",
       "      <th></th>\n",
       "      <th></th>\n",
       "      <th></th>\n",
       "    </tr>\n",
       "  </thead>\n",
       "  <tbody>\n",
       "    <tr>\n",
       "      <td>2016-10-31 20:30:00</td>\n",
       "      <td>SA1</td>\n",
       "      <td>Energy</td>\n",
       "      <td>95.98007</td>\n",
       "      <td>ENOF,TORRA4,4,TORRB1,4</td>\n",
       "      <td>tbslack2</td>\n",
       "      <td>10.00000</td>\n",
       "    </tr>\n",
       "    <tr>\n",
       "      <td>2016-10-31 20:30:00</td>\n",
       "      <td>SA1</td>\n",
       "      <td>Energy</td>\n",
       "      <td>95.98007</td>\n",
       "      <td>ENOF,TORRA3,4,TORRB1,4</td>\n",
       "      <td>tbslack2</td>\n",
       "      <td>10.00000</td>\n",
       "    </tr>\n",
       "    <tr>\n",
       "      <td>2016-10-31 20:30:00</td>\n",
       "      <td>SA1</td>\n",
       "      <td>Energy</td>\n",
       "      <td>95.98007</td>\n",
       "      <td>TORRB1</td>\n",
       "      <td>ENOF</td>\n",
       "      <td>1.00000</td>\n",
       "    </tr>\n",
       "    <tr>\n",
       "      <td>2016-10-31 20:30:00</td>\n",
       "      <td>SA1</td>\n",
       "      <td>Energy</td>\n",
       "      <td>509229.65442</td>\n",
       "      <td>STAN-3</td>\n",
       "      <td>ENOF</td>\n",
       "      <td>0.89461</td>\n",
       "    </tr>\n",
       "    <tr>\n",
       "      <td>2016-10-31 20:30:00</td>\n",
       "      <td>SA1</td>\n",
       "      <td>Energy</td>\n",
       "      <td>509229.65442</td>\n",
       "      <td>ENOF,STAN-3,4,STAN-4,4</td>\n",
       "      <td>tbslack1</td>\n",
       "      <td>35.78437</td>\n",
       "    </tr>\n",
       "    <tr>\n",
       "      <td>2016-10-31 20:30:00</td>\n",
       "      <td>SA1</td>\n",
       "      <td>Energy</td>\n",
       "      <td>509229.65442</td>\n",
       "      <td>ENOF,STAN-2,4,STAN-3,4</td>\n",
       "      <td>tbslack2</td>\n",
       "      <td>44.73047</td>\n",
       "    </tr>\n",
       "    <tr>\n",
       "      <td>2016-10-31 20:30:00</td>\n",
       "      <td>SA1</td>\n",
       "      <td>Energy</td>\n",
       "      <td>509229.65442</td>\n",
       "      <td>ENOF,STAN-1,4,STAN-3,4</td>\n",
       "      <td>tbslack2</td>\n",
       "      <td>44.73047</td>\n",
       "    </tr>\n",
       "    <tr>\n",
       "      <td>2016-10-31 20:30:00</td>\n",
       "      <td>SA1</td>\n",
       "      <td>Energy</td>\n",
       "      <td>95.98007</td>\n",
       "      <td>ENOF,TORRB1,4,TORRB2,4</td>\n",
       "      <td>tbslack1</td>\n",
       "      <td>20.00000</td>\n",
       "    </tr>\n",
       "    <tr>\n",
       "      <td>2016-10-31 20:30:00</td>\n",
       "      <td>SA1</td>\n",
       "      <td>Energy</td>\n",
       "      <td>95.98007</td>\n",
       "      <td>ENOF,TORRB1,4,TORRB3,4</td>\n",
       "      <td>tbslack1</td>\n",
       "      <td>20.00000</td>\n",
       "    </tr>\n",
       "    <tr>\n",
       "      <td>2016-10-31 20:30:00</td>\n",
       "      <td>SA1</td>\n",
       "      <td>Energy</td>\n",
       "      <td>95.98007</td>\n",
       "      <td>ENOF,TORRB1,4,TORRB4,4</td>\n",
       "      <td>tbslack1</td>\n",
       "      <td>10.00000</td>\n",
       "    </tr>\n",
       "    <tr>\n",
       "      <td>2016-10-31 20:30:00</td>\n",
       "      <td>SA1</td>\n",
       "      <td>Energy</td>\n",
       "      <td>95.98007</td>\n",
       "      <td>GORDON</td>\n",
       "      <td>R6SE</td>\n",
       "      <td>2.00000</td>\n",
       "    </tr>\n",
       "    <tr>\n",
       "      <td>2016-10-31 20:30:00</td>\n",
       "      <td>SA1</td>\n",
       "      <td>Energy</td>\n",
       "      <td>95.98007</td>\n",
       "      <td>TORRB1</td>\n",
       "      <td>R6SE</td>\n",
       "      <td>-2.00000</td>\n",
       "    </tr>\n",
       "    <tr>\n",
       "      <td>2016-10-31 20:30:00</td>\n",
       "      <td>SA1</td>\n",
       "      <td>Energy</td>\n",
       "      <td>95.98007</td>\n",
       "      <td>TORRB1</td>\n",
       "      <td>R5MI</td>\n",
       "      <td>-1.00000</td>\n",
       "    </tr>\n",
       "    <tr>\n",
       "      <td>2016-10-31 20:30:00</td>\n",
       "      <td>SA1</td>\n",
       "      <td>Energy</td>\n",
       "      <td>95.98007</td>\n",
       "      <td>W/HOE#1</td>\n",
       "      <td>R5MI</td>\n",
       "      <td>1.00000</td>\n",
       "    </tr>\n",
       "    <tr>\n",
       "      <td>2016-10-31 20:30:00</td>\n",
       "      <td>SA1</td>\n",
       "      <td>Energy</td>\n",
       "      <td>509229.65442</td>\n",
       "      <td>V_S_NIL_ROCOF</td>\n",
       "      <td>GenericConstraintSurplus</td>\n",
       "      <td>1.03915</td>\n",
       "    </tr>\n",
       "  </tbody>\n",
       "</table>\n",
       "</div>"
      ],
      "text/plain": [
       "                    RegionID  Market         Price                    DUID  \\\n",
       "PeriodID                                                                     \n",
       "2016-10-31 20:30:00      SA1  Energy      95.98007  ENOF,TORRA4,4,TORRB1,4   \n",
       "2016-10-31 20:30:00      SA1  Energy      95.98007  ENOF,TORRA3,4,TORRB1,4   \n",
       "2016-10-31 20:30:00      SA1  Energy      95.98007                  TORRB1   \n",
       "2016-10-31 20:30:00      SA1  Energy  509229.65442                  STAN-3   \n",
       "2016-10-31 20:30:00      SA1  Energy  509229.65442  ENOF,STAN-3,4,STAN-4,4   \n",
       "2016-10-31 20:30:00      SA1  Energy  509229.65442  ENOF,STAN-2,4,STAN-3,4   \n",
       "2016-10-31 20:30:00      SA1  Energy  509229.65442  ENOF,STAN-1,4,STAN-3,4   \n",
       "2016-10-31 20:30:00      SA1  Energy      95.98007  ENOF,TORRB1,4,TORRB2,4   \n",
       "2016-10-31 20:30:00      SA1  Energy      95.98007  ENOF,TORRB1,4,TORRB3,4   \n",
       "2016-10-31 20:30:00      SA1  Energy      95.98007  ENOF,TORRB1,4,TORRB4,4   \n",
       "2016-10-31 20:30:00      SA1  Energy      95.98007                  GORDON   \n",
       "2016-10-31 20:30:00      SA1  Energy      95.98007                  TORRB1   \n",
       "2016-10-31 20:30:00      SA1  Energy      95.98007                  TORRB1   \n",
       "2016-10-31 20:30:00      SA1  Energy      95.98007                 W/HOE#1   \n",
       "2016-10-31 20:30:00      SA1  Energy  509229.65442           V_S_NIL_ROCOF   \n",
       "\n",
       "                             DispatchedMarket  Increase  \n",
       "PeriodID                                                 \n",
       "2016-10-31 20:30:00                  tbslack2  10.00000  \n",
       "2016-10-31 20:30:00                  tbslack2  10.00000  \n",
       "2016-10-31 20:30:00                      ENOF   1.00000  \n",
       "2016-10-31 20:30:00                      ENOF   0.89461  \n",
       "2016-10-31 20:30:00                  tbslack1  35.78437  \n",
       "2016-10-31 20:30:00                  tbslack2  44.73047  \n",
       "2016-10-31 20:30:00                  tbslack2  44.73047  \n",
       "2016-10-31 20:30:00                  tbslack1  20.00000  \n",
       "2016-10-31 20:30:00                  tbslack1  20.00000  \n",
       "2016-10-31 20:30:00                  tbslack1  10.00000  \n",
       "2016-10-31 20:30:00                      R6SE   2.00000  \n",
       "2016-10-31 20:30:00                      R6SE  -2.00000  \n",
       "2016-10-31 20:30:00                      R5MI  -1.00000  \n",
       "2016-10-31 20:30:00                      R5MI   1.00000  \n",
       "2016-10-31 20:30:00  GenericConstraintSurplus   1.03915  "
      ]
     },
     "execution_count": 9,
     "metadata": {},
     "output_type": "execute_result"
    }
   ],
   "source": [
    "df[df.index == dt.datetime(2016,10,31,20,30,0)]"
   ]
  },
  {
   "cell_type": "code",
   "execution_count": 10,
   "metadata": {},
   "outputs": [
    {
     "data": {
      "text/html": [
       "<div>\n",
       "<style scoped>\n",
       "    .dataframe tbody tr th:only-of-type {\n",
       "        vertical-align: middle;\n",
       "    }\n",
       "\n",
       "    .dataframe tbody tr th {\n",
       "        vertical-align: top;\n",
       "    }\n",
       "\n",
       "    .dataframe thead th {\n",
       "        text-align: right;\n",
       "    }\n",
       "</style>\n",
       "<table border=\"1\" class=\"dataframe\">\n",
       "  <thead>\n",
       "    <tr style=\"text-align: right;\">\n",
       "      <th></th>\n",
       "      <th>Price</th>\n",
       "    </tr>\n",
       "    <tr>\n",
       "      <th>PeriodID</th>\n",
       "      <th></th>\n",
       "    </tr>\n",
       "  </thead>\n",
       "  <tbody>\n",
       "    <tr>\n",
       "      <td>2019-08-01 03:55:00</td>\n",
       "      <td>79.52391</td>\n",
       "    </tr>\n",
       "    <tr>\n",
       "      <td>2019-08-01 03:50:00</td>\n",
       "      <td>79.17710</td>\n",
       "    </tr>\n",
       "    <tr>\n",
       "      <td>2019-08-01 03:45:00</td>\n",
       "      <td>85.14416</td>\n",
       "    </tr>\n",
       "    <tr>\n",
       "      <td>2019-08-01 03:40:00</td>\n",
       "      <td>84.78689</td>\n",
       "    </tr>\n",
       "    <tr>\n",
       "      <td>2019-08-01 03:35:00</td>\n",
       "      <td>84.78346</td>\n",
       "    </tr>\n",
       "    <tr>\n",
       "      <td>...</td>\n",
       "      <td>...</td>\n",
       "    </tr>\n",
       "    <tr>\n",
       "      <td>2009-07-01 04:20:00</td>\n",
       "      <td>1.75480</td>\n",
       "    </tr>\n",
       "    <tr>\n",
       "      <td>2009-07-01 04:15:00</td>\n",
       "      <td>1.44014</td>\n",
       "    </tr>\n",
       "    <tr>\n",
       "      <td>2009-07-01 04:10:00</td>\n",
       "      <td>-0.00006</td>\n",
       "    </tr>\n",
       "    <tr>\n",
       "      <td>2009-07-01 04:05:00</td>\n",
       "      <td>-0.00006</td>\n",
       "    </tr>\n",
       "    <tr>\n",
       "      <td>2009-07-01 04:00:00</td>\n",
       "      <td>1.35918</td>\n",
       "    </tr>\n",
       "  </tbody>\n",
       "</table>\n",
       "<p>1043372 rows × 1 columns</p>\n",
       "</div>"
      ],
      "text/plain": [
       "                        Price\n",
       "PeriodID                     \n",
       "2019-08-01 03:55:00  79.52391\n",
       "2019-08-01 03:50:00  79.17710\n",
       "2019-08-01 03:45:00  85.14416\n",
       "2019-08-01 03:40:00  84.78689\n",
       "2019-08-01 03:35:00  84.78346\n",
       "...                       ...\n",
       "2009-07-01 04:20:00   1.75480\n",
       "2009-07-01 04:15:00   1.44014\n",
       "2009-07-01 04:10:00  -0.00006\n",
       "2009-07-01 04:05:00  -0.00006\n",
       "2009-07-01 04:00:00   1.35918\n",
       "\n",
       "[1043372 rows x 1 columns]"
      ]
     },
     "execution_count": 10,
     "metadata": {},
     "output_type": "execute_result"
    }
   ],
   "source": [
    "# taking the minimum in case of ambigious pricing (see table above), taking the minimum for all respective time intervals results in minimal error\n",
    "df_group_price_unique = df.groupby(\"PeriodID\").agg({\"Price\":\"min\"}).sort_values(by=\"PeriodID\",ascending=False)\n",
    "df_group_price_unique"
   ]
  },
  {
   "cell_type": "code",
   "execution_count": 11,
   "metadata": {},
   "outputs": [
    {
     "data": {
      "text/plain": [
       "1    1043372\n",
       "Name: Price, dtype: int64"
      ]
     },
     "execution_count": 11,
     "metadata": {},
     "output_type": "execute_result"
    }
   ],
   "source": [
    "df_group_price_unique.groupby(df_group_price_unique.index).agg({\"Price\":\"nunique\"}).Price.value_counts()"
   ]
  },
  {
   "cell_type": "code",
   "execution_count": 29,
   "metadata": {},
   "outputs": [],
   "source": [
    "def correct_timedelta(df, time_diff):\n",
    "    '''\n",
    "    df.index must be DateTimeIndex\n",
    "    Returns two lists\n",
    "    df=table_of_interest\n",
    "    col=\"column_of_interest\"\n",
    "    time_diff=time_diff in seconds as int\n",
    "    '''\n",
    "    lst = []\n",
    "    lst_i = []\n",
    "    \n",
    "    for i in range(1,df.shape[0]):\n",
    "        delta = abs(df.index[i] - df.index[i-1])\n",
    "        if int(delta.total_seconds()) != int(time_diff):\n",
    "            lst.append((\"from index {} on, it has been {} s or {} h.\".format(i-1,int(delta.total_seconds()),(int(delta.total_seconds()/3600)))))\n",
    "            lst_i.append((df.index[i-1],int(delta.total_seconds())))\n",
    "            \n",
    "    return lst, lst_i"
   ]
  },
  {
   "cell_type": "code",
   "execution_count": 25,
   "metadata": {},
   "outputs": [],
   "source": [
    "#pd.to_pickle(df_group_price_unique, '{}/nem-data/nemde_clean/df_grouped_price.pkl'.format(os.environ['HOME']))"
   ]
  },
  {
   "cell_type": "code",
   "execution_count": 26,
   "metadata": {},
   "outputs": [],
   "source": [
    "lst, lst_i = correct_timedelta(df_group_price_unique, 300)"
   ]
  },
  {
   "cell_type": "code",
   "execution_count": 69,
   "metadata": {},
   "outputs": [
    {
     "data": {
      "text/plain": [
       "17380.0"
      ]
     },
     "execution_count": 69,
     "metadata": {},
     "output_type": "execute_result"
    }
   ],
   "source": [
    "s = 0\n",
    "for i,j in lst_i:\n",
    "    s = s + j\n",
    "    t = s/300\n",
    "\n",
    "t"
   ]
  },
  {
   "cell_type": "code",
   "execution_count": 58,
   "metadata": {},
   "outputs": [
    {
     "data": {
      "text/html": [
       "<div>\n",
       "<style scoped>\n",
       "    .dataframe tbody tr th:only-of-type {\n",
       "        vertical-align: middle;\n",
       "    }\n",
       "\n",
       "    .dataframe tbody tr th {\n",
       "        vertical-align: top;\n",
       "    }\n",
       "\n",
       "    .dataframe thead th {\n",
       "        text-align: right;\n",
       "    }\n",
       "</style>\n",
       "<table border=\"1\" class=\"dataframe\">\n",
       "  <thead>\n",
       "    <tr style=\"text-align: right;\">\n",
       "      <th></th>\n",
       "      <th>Price</th>\n",
       "    </tr>\n",
       "    <tr>\n",
       "      <th>PeriodID</th>\n",
       "      <th></th>\n",
       "    </tr>\n",
       "  </thead>\n",
       "  <tbody>\n",
       "    <tr>\n",
       "      <td>2018-07-01 04:00:00</td>\n",
       "      <td>77.08390</td>\n",
       "    </tr>\n",
       "    <tr>\n",
       "      <td>2018-06-01 03:55:00</td>\n",
       "      <td>54.80142</td>\n",
       "    </tr>\n",
       "    <tr>\n",
       "      <td>2018-06-01 03:50:00</td>\n",
       "      <td>54.82479</td>\n",
       "    </tr>\n",
       "    <tr>\n",
       "      <td>2018-06-01 03:45:00</td>\n",
       "      <td>55.03791</td>\n",
       "    </tr>\n",
       "    <tr>\n",
       "      <td>2018-06-01 03:40:00</td>\n",
       "      <td>54.86805</td>\n",
       "    </tr>\n",
       "    <tr>\n",
       "      <td>...</td>\n",
       "      <td>...</td>\n",
       "    </tr>\n",
       "    <tr>\n",
       "      <td>2018-05-30 02:45:00</td>\n",
       "      <td>55.26611</td>\n",
       "    </tr>\n",
       "    <tr>\n",
       "      <td>2018-05-30 02:40:00</td>\n",
       "      <td>54.75000</td>\n",
       "    </tr>\n",
       "    <tr>\n",
       "      <td>2018-05-30 02:35:00</td>\n",
       "      <td>54.75000</td>\n",
       "    </tr>\n",
       "    <tr>\n",
       "      <td>2018-05-30 02:30:00</td>\n",
       "      <td>55.62404</td>\n",
       "    </tr>\n",
       "    <tr>\n",
       "      <td>2018-05-30 02:25:00</td>\n",
       "      <td>54.75000</td>\n",
       "    </tr>\n",
       "  </tbody>\n",
       "</table>\n",
       "<p>596 rows × 1 columns</p>\n",
       "</div>"
      ],
      "text/plain": [
       "                        Price\n",
       "PeriodID                     \n",
       "2018-07-01 04:00:00  77.08390\n",
       "2018-06-01 03:55:00  54.80142\n",
       "2018-06-01 03:50:00  54.82479\n",
       "2018-06-01 03:45:00  55.03791\n",
       "2018-06-01 03:40:00  54.86805\n",
       "...                       ...\n",
       "2018-05-30 02:45:00  55.26611\n",
       "2018-05-30 02:40:00  54.75000\n",
       "2018-05-30 02:35:00  54.75000\n",
       "2018-05-30 02:30:00  55.62404\n",
       "2018-05-30 02:25:00  54.75000\n",
       "\n",
       "[596 rows x 1 columns]"
      ]
     },
     "execution_count": 58,
     "metadata": {},
     "output_type": "execute_result"
    }
   ],
   "source": [
    "df_group_price_unique.loc[:,[\"Price\"]].iloc[105404:106000]"
   ]
  },
  {
   "cell_type": "code",
   "execution_count": 53,
   "metadata": {},
   "outputs": [
    {
     "data": {
      "text/plain": [
       "4.286210317460318"
      ]
     },
     "execution_count": 53,
     "metadata": {},
     "output_type": "execute_result"
    }
   ],
   "source": [
    "2592300/3600/168"
   ]
  },
  {
   "cell_type": "markdown",
   "metadata": {},
   "source": [
    "### __Check if \"Price\" in df_group_price_unique is dispatch price__"
   ]
  },
  {
   "cell_type": "code",
   "execution_count": 116,
   "metadata": {},
   "outputs": [],
   "source": [
    "#df_dispatch table provided by Adam only until 31st of July 2018\n",
    "df = df.loc[df.index < dt.datetime(2018,8,1), :]"
   ]
  },
  {
   "cell_type": "code",
   "execution_count": 115,
   "metadata": {},
   "outputs": [
    {
     "name": "stdout",
     "output_type": "stream",
     "text": [
      "The number of time periods is 955536.\n"
     ]
    },
    {
     "data": {
      "text/html": [
       "<div>\n",
       "<style scoped>\n",
       "    .dataframe tbody tr th:only-of-type {\n",
       "        vertical-align: middle;\n",
       "    }\n",
       "\n",
       "    .dataframe tbody tr th {\n",
       "        vertical-align: top;\n",
       "    }\n",
       "\n",
       "    .dataframe thead th {\n",
       "        text-align: right;\n",
       "    }\n",
       "</style>\n",
       "<table border=\"1\" class=\"dataframe\">\n",
       "  <thead>\n",
       "    <tr style=\"text-align: right;\">\n",
       "      <th></th>\n",
       "      <th>RRP SA1</th>\n",
       "    </tr>\n",
       "    <tr>\n",
       "      <th>tempus_interval_time</th>\n",
       "      <th></th>\n",
       "    </tr>\n",
       "  </thead>\n",
       "  <tbody>\n",
       "    <tr>\n",
       "      <td>2018-07-31 23:55:00</td>\n",
       "      <td>70.70204</td>\n",
       "    </tr>\n",
       "    <tr>\n",
       "      <td>2018-07-31 23:50:00</td>\n",
       "      <td>69.24109</td>\n",
       "    </tr>\n",
       "    <tr>\n",
       "      <td>2018-07-31 23:45:00</td>\n",
       "      <td>69.94850</td>\n",
       "    </tr>\n",
       "    <tr>\n",
       "      <td>2018-07-31 23:40:00</td>\n",
       "      <td>74.04497</td>\n",
       "    </tr>\n",
       "    <tr>\n",
       "      <td>2018-07-31 23:35:00</td>\n",
       "      <td>76.44245</td>\n",
       "    </tr>\n",
       "  </tbody>\n",
       "</table>\n",
       "</div>"
      ],
      "text/plain": [
       "                       RRP SA1\n",
       "tempus_interval_time          \n",
       "2018-07-31 23:55:00   70.70204\n",
       "2018-07-31 23:50:00   69.24109\n",
       "2018-07-31 23:45:00   69.94850\n",
       "2018-07-31 23:40:00   74.04497\n",
       "2018-07-31 23:35:00   76.44245"
      ]
     },
     "execution_count": 115,
     "metadata": {},
     "output_type": "execute_result"
    }
   ],
   "source": [
    "df_dispatch = pd.read_csv('/home/bastian/nem-data/clean/dispatch_price.csv', index_col = 0, parse_dates=True)\n",
    "df_dispatch.sort_index(ascending=False, inplace=True)\n",
    "df_dispatch = df_dispatch.loc[(df_dispatch.index <= df.index.max()) &\n",
    "                              (df_dispatch.index >= df.index.min()), :][['RRP SA1']]\n",
    "assert df_dispatch[\"RRP SA1\"].dtype == float\n",
    "assert df_dispatch.index.min() == df.index.min()\n",
    "assert df_dispatch.index.max() == df.index.max()\n",
    "print(\"The number of time periods is {}.\".format(df_dispatch.shape[0]))\n",
    "df_dispatch.head()"
   ]
  },
  {
   "cell_type": "code",
   "execution_count": 117,
   "metadata": {},
   "outputs": [
    {
     "name": "stdout",
     "output_type": "stream",
     "text": [
      "(946847, 2)\n"
     ]
    },
    {
     "data": {
      "text/html": [
       "<div>\n",
       "<style scoped>\n",
       "    .dataframe tbody tr th:only-of-type {\n",
       "        vertical-align: middle;\n",
       "    }\n",
       "\n",
       "    .dataframe tbody tr th {\n",
       "        vertical-align: top;\n",
       "    }\n",
       "\n",
       "    .dataframe thead th {\n",
       "        text-align: right;\n",
       "    }\n",
       "</style>\n",
       "<table border=\"1\" class=\"dataframe\">\n",
       "  <thead>\n",
       "    <tr style=\"text-align: right;\">\n",
       "      <th></th>\n",
       "      <th>Price</th>\n",
       "      <th>RRP SA1</th>\n",
       "    </tr>\n",
       "  </thead>\n",
       "  <tbody>\n",
       "    <tr>\n",
       "      <td>2018-07-31 23:55:00</td>\n",
       "      <td>70.70204</td>\n",
       "      <td>70.70204</td>\n",
       "    </tr>\n",
       "    <tr>\n",
       "      <td>2018-07-31 23:50:00</td>\n",
       "      <td>69.24109</td>\n",
       "      <td>69.24109</td>\n",
       "    </tr>\n",
       "    <tr>\n",
       "      <td>2018-07-31 23:45:00</td>\n",
       "      <td>69.94850</td>\n",
       "      <td>69.94850</td>\n",
       "    </tr>\n",
       "    <tr>\n",
       "      <td>2018-07-31 23:40:00</td>\n",
       "      <td>74.04497</td>\n",
       "      <td>74.04497</td>\n",
       "    </tr>\n",
       "    <tr>\n",
       "      <td>2018-07-31 23:35:00</td>\n",
       "      <td>76.44245</td>\n",
       "      <td>76.44245</td>\n",
       "    </tr>\n",
       "  </tbody>\n",
       "</table>\n",
       "</div>"
      ],
      "text/plain": [
       "                        Price   RRP SA1\n",
       "2018-07-31 23:55:00  70.70204  70.70204\n",
       "2018-07-31 23:50:00  69.24109  69.24109\n",
       "2018-07-31 23:45:00  69.94850  69.94850\n",
       "2018-07-31 23:40:00  74.04497  74.04497\n",
       "2018-07-31 23:35:00  76.44245  76.44245"
      ]
     },
     "execution_count": 117,
     "metadata": {},
     "output_type": "execute_result"
    }
   ],
   "source": [
    "df_join = df_group_price_unique.join(df_dispatch, how='inner')\n",
    "print(df_join.shape)\n",
    "df_join.head()"
   ]
  },
  {
   "cell_type": "code",
   "execution_count": 118,
   "metadata": {},
   "outputs": [
    {
     "data": {
      "text/plain": [
       "Price      False\n",
       "RRP SA1    False\n",
       "dtype: bool"
      ]
     },
     "execution_count": 118,
     "metadata": {},
     "output_type": "execute_result"
    }
   ],
   "source": [
    "df_join.all()"
   ]
  },
  {
   "cell_type": "code",
   "execution_count": 119,
   "metadata": {},
   "outputs": [
    {
     "name": "stdout",
     "output_type": "stream",
     "text": [
      "<class 'pandas.core.frame.DataFrame'>\n",
      "DatetimeIndex: 946847 entries, 2018-07-31 23:55:00 to 2009-07-01 04:00:00\n",
      "Data columns (total 2 columns):\n",
      "Price      946847 non-null float64\n",
      "RRP SA1    946847 non-null float64\n",
      "dtypes: float64(2)\n",
      "memory usage: 21.7 MB\n"
     ]
    }
   ],
   "source": [
    "df_join.info()"
   ]
  },
  {
   "cell_type": "code",
   "execution_count": 120,
   "metadata": {},
   "outputs": [
    {
     "name": "stdout",
     "output_type": "stream",
     "text": [
      "The percentage of mismatching dispatch prices from MMSDM and NEMDE is 0.41 %.\n"
     ]
    }
   ],
   "source": [
    "print(\"The percentage of mismatching dispatch prices from MMSDM and NEMDE is {} %.\".format(round(((sum(abs((df_join[\"Price\"] - df_join[\"RRP SA1\"])\\\n",
    "                                                                                  /df_join[\"RRP SA1\"]) > 0.000001)/df_join.shape[0])*100),2)))"
   ]
  },
  {
   "cell_type": "code",
   "execution_count": 121,
   "metadata": {},
   "outputs": [
    {
     "data": {
      "text/plain": [
       "7797.671887793352"
      ]
     },
     "execution_count": 121,
     "metadata": {},
     "output_type": "execute_result"
    }
   ],
   "source": [
    "sum(df_join[\"Price\"] - df_join[\"RRP SA1\"])/(df_join.shape[0]*0.0041)"
   ]
  },
  {
   "cell_type": "code",
   "execution_count": 122,
   "metadata": {},
   "outputs": [
    {
     "name": "stdout",
     "output_type": "stream",
     "text": [
      "min     1.010000e-03\n",
      "max     2.099937e+06\n",
      "mean    8.595737e+03\n",
      "dtype: float64\n",
      "(3919, 2)\n"
     ]
    },
    {
     "data": {
      "text/html": [
       "<div>\n",
       "<style scoped>\n",
       "    .dataframe tbody tr th:only-of-type {\n",
       "        vertical-align: middle;\n",
       "    }\n",
       "\n",
       "    .dataframe tbody tr th {\n",
       "        vertical-align: top;\n",
       "    }\n",
       "\n",
       "    .dataframe thead th {\n",
       "        text-align: right;\n",
       "    }\n",
       "</style>\n",
       "<table border=\"1\" class=\"dataframe\">\n",
       "  <thead>\n",
       "    <tr style=\"text-align: right;\">\n",
       "      <th></th>\n",
       "      <th>Price</th>\n",
       "      <th>RRP SA1</th>\n",
       "    </tr>\n",
       "  </thead>\n",
       "  <tbody>\n",
       "    <tr>\n",
       "      <td>2018-04-27 18:50:00</td>\n",
       "      <td>426000.00401</td>\n",
       "      <td>14200.00</td>\n",
       "    </tr>\n",
       "    <tr>\n",
       "      <td>2018-04-27 18:45:00</td>\n",
       "      <td>426000.00403</td>\n",
       "      <td>14200.00</td>\n",
       "    </tr>\n",
       "    <tr>\n",
       "      <td>2018-04-26 11:30:00</td>\n",
       "      <td>426000.00385</td>\n",
       "      <td>14200.00</td>\n",
       "    </tr>\n",
       "    <tr>\n",
       "      <td>2018-04-26 11:25:00</td>\n",
       "      <td>426000.00411</td>\n",
       "      <td>14200.00</td>\n",
       "    </tr>\n",
       "    <tr>\n",
       "      <td>2018-02-08 01:00:00</td>\n",
       "      <td>14673.29560</td>\n",
       "      <td>590.01</td>\n",
       "    </tr>\n",
       "  </tbody>\n",
       "</table>\n",
       "</div>"
      ],
      "text/plain": [
       "                            Price   RRP SA1\n",
       "2018-04-27 18:50:00  426000.00401  14200.00\n",
       "2018-04-27 18:45:00  426000.00403  14200.00\n",
       "2018-04-26 11:30:00  426000.00385  14200.00\n",
       "2018-04-26 11:25:00  426000.00411  14200.00\n",
       "2018-02-08 01:00:00   14673.29560    590.01"
      ]
     },
     "execution_count": 122,
     "metadata": {},
     "output_type": "execute_result"
    }
   ],
   "source": [
    "df_join_mismatch = df_join.loc[abs((df_join[\"Price\"] - df_join[\"RRP SA1\"])/df_join[\"RRP SA1\"]) > 0.000001, :]\n",
    "print((abs(df_join_mismatch[\"Price\"] - df_join_mismatch[\"RRP SA1\"])).agg([\"min\", \"max\", \"mean\"]))\n",
    "print(df_join_mismatch.shape)\n",
    "df_join_mismatch.head()"
   ]
  },
  {
   "cell_type": "code",
   "execution_count": 123,
   "metadata": {},
   "outputs": [
    {
     "data": {
      "text/plain": [
       "<Figure size 432x288 with 0 Axes>"
      ]
     },
     "execution_count": 123,
     "metadata": {},
     "output_type": "execute_result"
    },
    {
     "data": {
      "image/png": "[encoded data removed]",
      "text/plain": [
       "<Figure size 432x288 with 1 Axes>"
      ]
     },
     "metadata": {
      "needs_background": "light"
     },
     "output_type": "display_data"
    },
    {
     "data": {
      "text/plain": [
       "<Figure size 432x288 with 0 Axes>"
      ]
     },
     "metadata": {},
     "output_type": "display_data"
    }
   ],
   "source": [
    "import matplotlib.pyplot as plt\n",
    "import seaborn as sns\n",
    "\n",
    "fig = sns.distplot(df_join_mismatch.Price, bins=10000)\n",
    "fig.set_xscale(\"log\")\n",
    "plt.figure()"
   ]
  },
  {
   "cell_type": "code",
   "execution_count": 124,
   "metadata": {},
   "outputs": [
    {
     "data": {
      "text/plain": [
       "3919"
      ]
     },
     "execution_count": 124,
     "metadata": {},
     "output_type": "execute_result"
    }
   ],
   "source": [
    "len(df_join_mismatch)"
   ]
  },
  {
   "cell_type": "code",
   "execution_count": null,
   "metadata": {},
   "outputs": [],
   "source": []
  },
  {
   "cell_type": "code",
   "execution_count": 84,
   "metadata": {},
   "outputs": [],
   "source": [
    "#df_join.drop(df_join_mismatch.index, inplace=True)\n",
    "#print(df_join.shape)"
   ]
  },
  {
   "cell_type": "code",
   "execution_count": 85,
   "metadata": {},
   "outputs": [],
   "source": [
    "#df_join.info()\n",
    "#df_join.loc[abs(((df_join[\"Price\"] - df_join[\"RRP SA1\"])/df_join[\"RRP SA1\"])) > 0.000001]"
   ]
  },
  {
   "cell_type": "code",
   "execution_count": 86,
   "metadata": {},
   "outputs": [],
   "source": [
    "#(abs(((df_join[\"Price\"] - df_join[\"RRP SA1\"])/df_join[\"RRP SA1\"])) > 0.000001).any()"
   ]
  },
  {
   "cell_type": "code",
   "execution_count": 87,
   "metadata": {},
   "outputs": [],
   "source": [
    "#assert df_group_price.shape[0] - df_join_mismatch.shape[0] == df_join.shape[0]\n",
    "#assert sum(abs((df_join[\"Price\"] - df_join[\"RRP SA1\"])/df_join[\"RRP SA1\"]) > 0.000001) == 0\n",
    "#print(df_join.shape)\n",
    "#df_join.head() #cleeeaaan"
   ]
  },
  {
   "cell_type": "code",
   "execution_count": 88,
   "metadata": {},
   "outputs": [],
   "source": [
    "#df_join.to_pickle('{}/nem-data/nemde_clean/marginal_DUID_concat_dispatch.pkl'.format(os.environ['HOME']))"
   ]
  },
  {
   "cell_type": "code",
   "execution_count": 89,
   "metadata": {},
   "outputs": [],
   "source": [
    "#df_join_mismatch.groupby([df_join_mismatch.index.year, df_join_mismatch.index.month]).mean()"
   ]
  },
  {
   "cell_type": "code",
   "execution_count": 90,
   "metadata": {},
   "outputs": [],
   "source": [
    "#df_join_mismatch.shape"
   ]
  },
  {
   "cell_type": "code",
   "execution_count": null,
   "metadata": {},
   "outputs": [],
   "source": []
  },
  {
   "cell_type": "code",
   "execution_count": null,
   "metadata": {},
   "outputs": [],
   "source": [
    "df1 = df.loc[df.PeriodID < pytz.FixedOffset(600).localize(dt.datetime(2018, 8, 1)), :]"
   ]
  },
  {
   "cell_type": "code",
   "execution_count": null,
   "metadata": {},
   "outputs": [],
   "source": [
    "df.PeriodID = df.PeriodID.dt.tz_localize(None)\n",
    "df.head()"
   ]
  }
 ],
 "metadata": {
  "kernelspec": {
   "display_name": "Python 3",
   "language": "python",
   "name": "python3"
  },
  "language_info": {
   "codemirror_mode": {
    "name": "ipython",
    "version": 3
   },
   "file_extension": ".py",
   "mimetype": "text/x-python",
   "name": "python",
   "nbconvert_exporter": "python",
   "pygments_lexer": "ipython3",
   "version": "3.6.8"
  }
 },
 "nbformat": 4,
 "nbformat_minor": 4
}
