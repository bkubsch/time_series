{
 "cells": [
  {
   "cell_type": "code",
   "execution_count": 21,
   "metadata": {},
   "outputs": [],
   "source": [
    "import pandas as pd\n",
    "import numpy as np\n",
    "import os\n",
    "import datetime as dt\n",
    "\n",
    "import seaborn as sns\n",
    "import matplotlib.pyplot as plt\n",
    "from pylab import rcParams\n",
    "\n",
    "import xgboost as xgb\n",
    "from sklearn.model_selection import TimeSeriesSplit, GridSearchCV\n",
    "\n",
    "import warnings\n",
    "warnings.simplefilter('ignore')"
   ]
  },
  {
   "cell_type": "markdown",
   "metadata": {},
   "source": [
    "### __data_prep__"
   ]
  },
  {
   "cell_type": "code",
   "execution_count": 22,
   "metadata": {},
   "outputs": [
    {
     "name": "stdout",
     "output_type": "stream",
     "text": [
      "(1042896, 2)\n"
     ]
    },
    {
     "data": {
      "text/html": [
       "<div>\n",
       "<style scoped>\n",
       "    .dataframe tbody tr th:only-of-type {\n",
       "        vertical-align: middle;\n",
       "    }\n",
       "\n",
       "    .dataframe tbody tr th {\n",
       "        vertical-align: top;\n",
       "    }\n",
       "\n",
       "    .dataframe thead th {\n",
       "        text-align: right;\n",
       "    }\n",
       "</style>\n",
       "<table border=\"1\" class=\"dataframe\">\n",
       "  <thead>\n",
       "    <tr style=\"text-align: right;\">\n",
       "      <th></th>\n",
       "      <th>Price</th>\n",
       "      <th>CO2E_EMISSIONS_FACTOR</th>\n",
       "    </tr>\n",
       "  </thead>\n",
       "  <tbody>\n",
       "    <tr>\n",
       "      <td>2009-09-01 00:00:00</td>\n",
       "      <td>21.64992</td>\n",
       "      <td>0.986067</td>\n",
       "    </tr>\n",
       "    <tr>\n",
       "      <td>2009-09-01 00:05:00</td>\n",
       "      <td>21.49293</td>\n",
       "      <td>0.976360</td>\n",
       "    </tr>\n",
       "    <tr>\n",
       "      <td>2009-09-01 00:10:00</td>\n",
       "      <td>21.48960</td>\n",
       "      <td>0.976889</td>\n",
       "    </tr>\n",
       "    <tr>\n",
       "      <td>2009-09-01 00:15:00</td>\n",
       "      <td>21.14641</td>\n",
       "      <td>1.032780</td>\n",
       "    </tr>\n",
       "    <tr>\n",
       "      <td>2009-09-01 00:20:00</td>\n",
       "      <td>20.94913</td>\n",
       "      <td>0.975655</td>\n",
       "    </tr>\n",
       "  </tbody>\n",
       "</table>\n",
       "</div>"
      ],
      "text/plain": [
       "                        Price  CO2E_EMISSIONS_FACTOR\n",
       "2009-09-01 00:00:00  21.64992               0.986067\n",
       "2009-09-01 00:05:00  21.49293               0.976360\n",
       "2009-09-01 00:10:00  21.48960               0.976889\n",
       "2009-09-01 00:15:00  21.14641               1.032780\n",
       "2009-09-01 00:20:00  20.94913               0.975655"
      ]
     },
     "execution_count": 22,
     "metadata": {},
     "output_type": "execute_result"
    }
   ],
   "source": [
    "file_path = '{}/nem-data/nemde_clean/df_DUID_CO2_mean.pkl'.format(os.environ['HOME'])\n",
    "df = pd.read_pickle(file_path)\n",
    "df = df.sort_index()\n",
    "df = df[df.index >= dt.datetime(2009,9,1,0,0,0)] #minimum time of interconncector\n",
    "print(df.shape)\n",
    "df.head()"
   ]
  },
  {
   "cell_type": "code",
   "execution_count": 1,
   "metadata": {},
   "outputs": [],
   "source": [
    "def time_columns(df):\n",
    "    \n",
    "    df.loc[:,\"minute\"] = df.index.minute\n",
    "    df[\"hour\"] = df.index.hour\n",
    "    df[\"weekday\"] = np.where(df.index.weekday < 5, 0, 1)\n",
    "    df[\"month\"] = df.index.month\n",
    "    df[\"year\"] = df.index.year\n",
    "\n",
    "    df['minute_sin'] = np.sin(2 * np.pi * df.loc[:,'minute']/60.0)\n",
    "    df['minute_cos'] = np.cos(2 * np.pi * df.loc[:,'minute']/60.0)\n",
    "\n",
    "    df['hour_sin'] = np.sin(2 * np.pi * df.loc[:,'hour']/24.0)\n",
    "    df['hour_cos'] = np.cos(2 * np.pi * df.loc[:,'hour']/24.0)\n",
    "    \n",
    "    df['weekday_sin'] = np.sin(2 * np.pi * df.loc[:,'weekday']/7.0)\n",
    "    \n",
    "    df['month_sin'] = np.sin(2 * np.pi * df.loc[:,'month']/12.0)\n",
    "    df['month_cos'] = np.cos(2 * np.pi * df.loc[:,'month']/12.0)\n",
    "\n",
    "    df.drop(columns=[\"Price\", \"minute\", \"weekday\", \"hour\", \"month\"], inplace=True)\n",
    "    \n",
    "    return df"
   ]
  },
  {
   "cell_type": "code",
   "execution_count": 24,
   "metadata": {},
   "outputs": [],
   "source": [
    "def lag_horizon(df, lag, horizon):\n",
    "    '''\n",
    "    Returns dataset with additional features defined by lag and modified target defined by horizon\n",
    "    lag=integer of how far back time series should look\n",
    "    horizon=integer of how far into the future the model shall predict; horizon=0 means prediciton 1 step into future\n",
    "    '''\n",
    "    for i in range(1,lag+1):\n",
    "        df['lag{}'.format(i)] = df.CO2E_EMISSIONS_FACTOR.shift(i)\n",
    "    \n",
    "    for i in range(horizon+1,horizon+2):\n",
    "        df['horizon{}'.format(i-1)] = df.CO2E_EMISSIONS_FACTOR[lag+i:].shift(-i+1)\n",
    "        \n",
    "    return df"
   ]
  },
  {
   "cell_type": "code",
   "execution_count": 25,
   "metadata": {},
   "outputs": [
    {
     "data": {
      "text/html": [
       "<div>\n",
       "<style scoped>\n",
       "    .dataframe tbody tr th:only-of-type {\n",
       "        vertical-align: middle;\n",
       "    }\n",
       "\n",
       "    .dataframe tbody tr th {\n",
       "        vertical-align: top;\n",
       "    }\n",
       "\n",
       "    .dataframe thead th {\n",
       "        text-align: right;\n",
       "    }\n",
       "</style>\n",
       "<table border=\"1\" class=\"dataframe\">\n",
       "  <thead>\n",
       "    <tr style=\"text-align: right;\">\n",
       "      <th></th>\n",
       "      <th>TOTALDEMAND</th>\n",
       "      <th>AVAILABLEGENERATION</th>\n",
       "    </tr>\n",
       "    <tr>\n",
       "      <th>start-of-interval</th>\n",
       "      <th></th>\n",
       "      <th></th>\n",
       "    </tr>\n",
       "  </thead>\n",
       "  <tbody>\n",
       "    <tr>\n",
       "      <td>2009-09-01 00:00:00</td>\n",
       "      <td>1667.12</td>\n",
       "      <td>2763.79779</td>\n",
       "    </tr>\n",
       "    <tr>\n",
       "      <td>2009-09-01 00:05:00</td>\n",
       "      <td>1657.52</td>\n",
       "      <td>2762.70982</td>\n",
       "    </tr>\n",
       "    <tr>\n",
       "      <td>2009-09-01 00:10:00</td>\n",
       "      <td>1650.15</td>\n",
       "      <td>2764.64186</td>\n",
       "    </tr>\n",
       "    <tr>\n",
       "      <td>2009-09-01 00:15:00</td>\n",
       "      <td>1630.66</td>\n",
       "      <td>2766.46786</td>\n",
       "    </tr>\n",
       "    <tr>\n",
       "      <td>2009-09-01 00:20:00</td>\n",
       "      <td>1628.96</td>\n",
       "      <td>2773.72786</td>\n",
       "    </tr>\n",
       "  </tbody>\n",
       "</table>\n",
       "</div>"
      ],
      "text/plain": [
       "                     TOTALDEMAND  AVAILABLEGENERATION\n",
       "start-of-interval                                    \n",
       "2009-09-01 00:00:00      1667.12           2763.79779\n",
       "2009-09-01 00:05:00      1657.52           2762.70982\n",
       "2009-09-01 00:10:00      1650.15           2764.64186\n",
       "2009-09-01 00:15:00      1630.66           2766.46786\n",
       "2009-09-01 00:20:00      1628.96           2773.72786"
      ]
     },
     "execution_count": 25,
     "metadata": {},
     "output_type": "execute_result"
    }
   ],
   "source": [
    "demand = pd.read_csv('{}/nem-data/demand.csv'.format(os.environ['HOME']), index_col=-1, parse_dates=True)\n",
    "demand.drop(columns=[\"SETTLEMENTDATE\", \"I\", \"INTERVENTION\"], inplace=True)\n",
    "demand = demand[(demand.index >= df.index.min()) & (demand.index <= df.index.max())]\n",
    "\n",
    "assert demand.index.min() == df.index.min()\n",
    "assert demand.index.max() == df.index.max()\n",
    "\n",
    "demand.head()"
   ]
  },
  {
   "cell_type": "code",
   "execution_count": 26,
   "metadata": {},
   "outputs": [
    {
     "name": "stdout",
     "output_type": "stream",
     "text": [
      "(1042896, 4)\n"
     ]
    },
    {
     "data": {
      "text/html": [
       "<div>\n",
       "<style scoped>\n",
       "    .dataframe tbody tr th:only-of-type {\n",
       "        vertical-align: middle;\n",
       "    }\n",
       "\n",
       "    .dataframe tbody tr th {\n",
       "        vertical-align: top;\n",
       "    }\n",
       "\n",
       "    .dataframe thead th {\n",
       "        text-align: right;\n",
       "    }\n",
       "</style>\n",
       "<table border=\"1\" class=\"dataframe\">\n",
       "  <thead>\n",
       "    <tr style=\"text-align: right;\">\n",
       "      <th></th>\n",
       "      <th>Price</th>\n",
       "      <th>CO2E_EMISSIONS_FACTOR</th>\n",
       "      <th>demand</th>\n",
       "      <th>demand_capacity</th>\n",
       "    </tr>\n",
       "  </thead>\n",
       "  <tbody>\n",
       "    <tr>\n",
       "      <td>2009-09-01 00:00:00</td>\n",
       "      <td>21.64992</td>\n",
       "      <td>0.986067</td>\n",
       "      <td>1667.12</td>\n",
       "      <td>0.603199</td>\n",
       "    </tr>\n",
       "    <tr>\n",
       "      <td>2009-09-01 00:05:00</td>\n",
       "      <td>21.49293</td>\n",
       "      <td>0.976360</td>\n",
       "      <td>1657.52</td>\n",
       "      <td>0.599962</td>\n",
       "    </tr>\n",
       "    <tr>\n",
       "      <td>2009-09-01 00:10:00</td>\n",
       "      <td>21.48960</td>\n",
       "      <td>0.976889</td>\n",
       "      <td>1650.15</td>\n",
       "      <td>0.596877</td>\n",
       "    </tr>\n",
       "    <tr>\n",
       "      <td>2009-09-01 00:15:00</td>\n",
       "      <td>21.14641</td>\n",
       "      <td>1.032780</td>\n",
       "      <td>1630.66</td>\n",
       "      <td>0.589438</td>\n",
       "    </tr>\n",
       "    <tr>\n",
       "      <td>2009-09-01 00:20:00</td>\n",
       "      <td>20.94913</td>\n",
       "      <td>0.975655</td>\n",
       "      <td>1628.96</td>\n",
       "      <td>0.587282</td>\n",
       "    </tr>\n",
       "  </tbody>\n",
       "</table>\n",
       "</div>"
      ],
      "text/plain": [
       "                        Price  CO2E_EMISSIONS_FACTOR   demand  demand_capacity\n",
       "2009-09-01 00:00:00  21.64992               0.986067  1667.12         0.603199\n",
       "2009-09-01 00:05:00  21.49293               0.976360  1657.52         0.599962\n",
       "2009-09-01 00:10:00  21.48960               0.976889  1650.15         0.596877\n",
       "2009-09-01 00:15:00  21.14641               1.032780  1630.66         0.589438\n",
       "2009-09-01 00:20:00  20.94913               0.975655  1628.96         0.587282"
      ]
     },
     "execution_count": 26,
     "metadata": {},
     "output_type": "execute_result"
    }
   ],
   "source": [
    "demand = demand.groupby(demand.index).mean()\n",
    "\n",
    "df[\"demand\"] = demand.TOTALDEMAND\n",
    "df[\"demand_capacity\"] = demand.TOTALDEMAND/demand.AVAILABLEGENERATION\n",
    "\n",
    "print(df.shape)\n",
    "df.head()"
   ]
  },
  {
   "cell_type": "code",
   "execution_count": 27,
   "metadata": {},
   "outputs": [
    {
     "data": {
      "text/html": [
       "<div>\n",
       "<style scoped>\n",
       "    .dataframe tbody tr th:only-of-type {\n",
       "        vertical-align: middle;\n",
       "    }\n",
       "\n",
       "    .dataframe tbody tr th {\n",
       "        vertical-align: top;\n",
       "    }\n",
       "\n",
       "    .dataframe thead th {\n",
       "        text-align: right;\n",
       "    }\n",
       "</style>\n",
       "<table border=\"1\" class=\"dataframe\">\n",
       "  <thead>\n",
       "    <tr style=\"text-align: right;\">\n",
       "      <th></th>\n",
       "      <th>MWFLOW</th>\n",
       "    </tr>\n",
       "    <tr>\n",
       "      <th>start-of-interval</th>\n",
       "      <th></th>\n",
       "    </tr>\n",
       "  </thead>\n",
       "  <tbody>\n",
       "    <tr>\n",
       "      <td>2009-09-01 00:00:00</td>\n",
       "      <td>302.86</td>\n",
       "    </tr>\n",
       "    <tr>\n",
       "      <td>2009-09-01 00:05:00</td>\n",
       "      <td>300.00</td>\n",
       "    </tr>\n",
       "    <tr>\n",
       "      <td>2009-09-01 00:10:00</td>\n",
       "      <td>290.52</td>\n",
       "    </tr>\n",
       "    <tr>\n",
       "      <td>2009-09-01 00:15:00</td>\n",
       "      <td>260.75</td>\n",
       "    </tr>\n",
       "    <tr>\n",
       "      <td>2009-09-01 00:20:00</td>\n",
       "      <td>256.98</td>\n",
       "    </tr>\n",
       "  </tbody>\n",
       "</table>\n",
       "</div>"
      ],
      "text/plain": [
       "                     MWFLOW\n",
       "start-of-interval          \n",
       "2009-09-01 00:00:00  302.86\n",
       "2009-09-01 00:05:00  300.00\n",
       "2009-09-01 00:10:00  290.52\n",
       "2009-09-01 00:15:00  260.75\n",
       "2009-09-01 00:20:00  256.98"
      ]
     },
     "execution_count": 27,
     "metadata": {},
     "output_type": "execute_result"
    }
   ],
   "source": [
    "interconnectors = pd.read_csv('{}/nem-data/interconnectors.csv'.format(os.environ['HOME']), index_col=-1, parse_dates=True)\n",
    "interconnectors.drop(columns=[\"SETTLEMENTDATE\", \"I\", \"INTERCONNECTORID\"], inplace=True)\n",
    "interconnectors = interconnectors[(interconnectors.index >= df.index.min()) & (interconnectors.index <= df.index.max())]\n",
    "\n",
    "assert interconnectors.index.min() == df.index.min()\n",
    "assert interconnectors.index.max() == df.index.max()\n",
    "\n",
    "interconnectors.head()"
   ]
  },
  {
   "cell_type": "code",
   "execution_count": 28,
   "metadata": {},
   "outputs": [
    {
     "name": "stdout",
     "output_type": "stream",
     "text": [
      "(1084876, 1)\n",
      "2009-09-01 00:00:00\n",
      "2019-08-01 03:55:00\n"
     ]
    }
   ],
   "source": [
    "print(interconnectors.shape)\n",
    "print(interconnectors.index.min())\n",
    "print(interconnectors.index.max())"
   ]
  },
  {
   "cell_type": "code",
   "execution_count": 29,
   "metadata": {},
   "outputs": [
    {
     "name": "stdout",
     "output_type": "stream",
     "text": [
      "(1042896, 1)\n"
     ]
    },
    {
     "data": {
      "text/html": [
       "<div>\n",
       "<style scoped>\n",
       "    .dataframe tbody tr th:only-of-type {\n",
       "        vertical-align: middle;\n",
       "    }\n",
       "\n",
       "    .dataframe tbody tr th {\n",
       "        vertical-align: top;\n",
       "    }\n",
       "\n",
       "    .dataframe thead th {\n",
       "        text-align: right;\n",
       "    }\n",
       "</style>\n",
       "<table border=\"1\" class=\"dataframe\">\n",
       "  <thead>\n",
       "    <tr style=\"text-align: right;\">\n",
       "      <th></th>\n",
       "      <th>Price</th>\n",
       "      <th>CO2E_EMISSIONS_FACTOR</th>\n",
       "      <th>demand</th>\n",
       "      <th>demand_capacity</th>\n",
       "      <th>interconnector</th>\n",
       "    </tr>\n",
       "  </thead>\n",
       "  <tbody>\n",
       "    <tr>\n",
       "      <td>2009-09-01 00:00:00</td>\n",
       "      <td>21.64992</td>\n",
       "      <td>0.986067</td>\n",
       "      <td>1667.12</td>\n",
       "      <td>0.603199</td>\n",
       "      <td>302.86</td>\n",
       "    </tr>\n",
       "    <tr>\n",
       "      <td>2009-09-01 00:05:00</td>\n",
       "      <td>21.49293</td>\n",
       "      <td>0.976360</td>\n",
       "      <td>1657.52</td>\n",
       "      <td>0.599962</td>\n",
       "      <td>300.00</td>\n",
       "    </tr>\n",
       "    <tr>\n",
       "      <td>2009-09-01 00:10:00</td>\n",
       "      <td>21.48960</td>\n",
       "      <td>0.976889</td>\n",
       "      <td>1650.15</td>\n",
       "      <td>0.596877</td>\n",
       "      <td>290.52</td>\n",
       "    </tr>\n",
       "    <tr>\n",
       "      <td>2009-09-01 00:15:00</td>\n",
       "      <td>21.14641</td>\n",
       "      <td>1.032780</td>\n",
       "      <td>1630.66</td>\n",
       "      <td>0.589438</td>\n",
       "      <td>260.75</td>\n",
       "    </tr>\n",
       "    <tr>\n",
       "      <td>2009-09-01 00:20:00</td>\n",
       "      <td>20.94913</td>\n",
       "      <td>0.975655</td>\n",
       "      <td>1628.96</td>\n",
       "      <td>0.587282</td>\n",
       "      <td>256.98</td>\n",
       "    </tr>\n",
       "  </tbody>\n",
       "</table>\n",
       "</div>"
      ],
      "text/plain": [
       "                        Price  CO2E_EMISSIONS_FACTOR   demand  \\\n",
       "2009-09-01 00:00:00  21.64992               0.986067  1667.12   \n",
       "2009-09-01 00:05:00  21.49293               0.976360  1657.52   \n",
       "2009-09-01 00:10:00  21.48960               0.976889  1650.15   \n",
       "2009-09-01 00:15:00  21.14641               1.032780  1630.66   \n",
       "2009-09-01 00:20:00  20.94913               0.975655  1628.96   \n",
       "\n",
       "                     demand_capacity  interconnector  \n",
       "2009-09-01 00:00:00         0.603199          302.86  \n",
       "2009-09-01 00:05:00         0.599962          300.00  \n",
       "2009-09-01 00:10:00         0.596877          290.52  \n",
       "2009-09-01 00:15:00         0.589438          260.75  \n",
       "2009-09-01 00:20:00         0.587282          256.98  "
      ]
     },
     "execution_count": 29,
     "metadata": {},
     "output_type": "execute_result"
    }
   ],
   "source": [
    "interconnectors = interconnectors.groupby(interconnectors.index).mean()\n",
    "print(interconnectors.shape)\n",
    "df[\"interconnector\"] = interconnectors.MWFLOW\n",
    "df.head()"
   ]
  },
  {
   "cell_type": "code",
   "execution_count": 30,
   "metadata": {},
   "outputs": [
    {
     "data": {
      "text/plain": [
       "(1042896, 27)"
      ]
     },
     "execution_count": 30,
     "metadata": {},
     "output_type": "execute_result"
    }
   ],
   "source": [
    "df1 = time_columns(df)\n",
    "df2 = lag_horizon(df1, 12, 12)\n",
    "df2.shape"
   ]
  },
  {
   "cell_type": "code",
   "execution_count": 31,
   "metadata": {},
   "outputs": [
    {
     "data": {
      "text/plain": [
       "CO2E_EMISSIONS_FACTOR    True\n",
       "horizon12                True\n",
       "dtype: bool"
      ]
     },
     "execution_count": 31,
     "metadata": {},
     "output_type": "execute_result"
    }
   ],
   "source": [
    "df2.loc[:,[\"CO2E_EMISSIONS_FACTOR\",\"horizon12\"]].isna().any()"
   ]
  },
  {
   "cell_type": "code",
   "execution_count": 32,
   "metadata": {},
   "outputs": [
    {
     "data": {
      "text/plain": [
       "(790500, 27)"
      ]
     },
     "execution_count": 32,
     "metadata": {},
     "output_type": "execute_result"
    }
   ],
   "source": [
    "df2.dropna(inplace=True)\n",
    "df2.shape"
   ]
  },
  {
   "cell_type": "code",
   "execution_count": 33,
   "metadata": {},
   "outputs": [
    {
     "data": {
      "text/html": [
       "<div>\n",
       "<style scoped>\n",
       "    .dataframe tbody tr th:only-of-type {\n",
       "        vertical-align: middle;\n",
       "    }\n",
       "\n",
       "    .dataframe tbody tr th {\n",
       "        vertical-align: top;\n",
       "    }\n",
       "\n",
       "    .dataframe thead th {\n",
       "        text-align: right;\n",
       "    }\n",
       "</style>\n",
       "<table border=\"1\" class=\"dataframe\">\n",
       "  <thead>\n",
       "    <tr style=\"text-align: right;\">\n",
       "      <th></th>\n",
       "      <th>CO2E_EMISSIONS_FACTOR</th>\n",
       "      <th>demand</th>\n",
       "      <th>demand_capacity</th>\n",
       "      <th>interconnector</th>\n",
       "      <th>year</th>\n",
       "      <th>minute_sin</th>\n",
       "      <th>minute_cos</th>\n",
       "      <th>hour_sin</th>\n",
       "      <th>hour_cos</th>\n",
       "      <th>weekday_sin</th>\n",
       "      <th>...</th>\n",
       "      <th>lag4</th>\n",
       "      <th>lag5</th>\n",
       "      <th>lag6</th>\n",
       "      <th>lag7</th>\n",
       "      <th>lag8</th>\n",
       "      <th>lag9</th>\n",
       "      <th>lag10</th>\n",
       "      <th>lag11</th>\n",
       "      <th>lag12</th>\n",
       "      <th>horizon12</th>\n",
       "    </tr>\n",
       "  </thead>\n",
       "  <tbody>\n",
       "    <tr>\n",
       "      <td>2009-09-01 02:05:00</td>\n",
       "      <td>0.973187</td>\n",
       "      <td>1350.13</td>\n",
       "      <td>0.506240</td>\n",
       "      <td>179.13</td>\n",
       "      <td>2009</td>\n",
       "      <td>0.500000</td>\n",
       "      <td>8.660254e-01</td>\n",
       "      <td>0.5</td>\n",
       "      <td>0.866025</td>\n",
       "      <td>0.0</td>\n",
       "      <td>...</td>\n",
       "      <td>0.986067</td>\n",
       "      <td>1.013504</td>\n",
       "      <td>0.950691</td>\n",
       "      <td>1.081595</td>\n",
       "      <td>0.976360</td>\n",
       "      <td>0.976360</td>\n",
       "      <td>0.976360</td>\n",
       "      <td>1.154818</td>\n",
       "      <td>0.980592</td>\n",
       "      <td>1.010055</td>\n",
       "    </tr>\n",
       "    <tr>\n",
       "      <td>2009-09-01 02:10:00</td>\n",
       "      <td>0.973187</td>\n",
       "      <td>1359.79</td>\n",
       "      <td>0.509407</td>\n",
       "      <td>198.52</td>\n",
       "      <td>2009</td>\n",
       "      <td>0.866025</td>\n",
       "      <td>5.000000e-01</td>\n",
       "      <td>0.5</td>\n",
       "      <td>0.866025</td>\n",
       "      <td>0.0</td>\n",
       "      <td>...</td>\n",
       "      <td>0.544686</td>\n",
       "      <td>0.986067</td>\n",
       "      <td>1.013504</td>\n",
       "      <td>0.950691</td>\n",
       "      <td>1.081595</td>\n",
       "      <td>0.976360</td>\n",
       "      <td>0.976360</td>\n",
       "      <td>0.976360</td>\n",
       "      <td>1.154818</td>\n",
       "      <td>1.024770</td>\n",
       "    </tr>\n",
       "    <tr>\n",
       "      <td>2009-09-01 02:15:00</td>\n",
       "      <td>0.946617</td>\n",
       "      <td>1323.90</td>\n",
       "      <td>0.497420</td>\n",
       "      <td>227.60</td>\n",
       "      <td>2009</td>\n",
       "      <td>1.000000</td>\n",
       "      <td>2.832769e-16</td>\n",
       "      <td>0.5</td>\n",
       "      <td>0.866025</td>\n",
       "      <td>0.0</td>\n",
       "      <td>...</td>\n",
       "      <td>0.976889</td>\n",
       "      <td>0.544686</td>\n",
       "      <td>0.986067</td>\n",
       "      <td>1.013504</td>\n",
       "      <td>0.950691</td>\n",
       "      <td>1.081595</td>\n",
       "      <td>0.976360</td>\n",
       "      <td>0.976360</td>\n",
       "      <td>0.976360</td>\n",
       "      <td>0.984948</td>\n",
       "    </tr>\n",
       "    <tr>\n",
       "      <td>2009-09-01 02:20:00</td>\n",
       "      <td>0.912643</td>\n",
       "      <td>1350.34</td>\n",
       "      <td>0.507537</td>\n",
       "      <td>208.13</td>\n",
       "      <td>2009</td>\n",
       "      <td>0.866025</td>\n",
       "      <td>-5.000000e-01</td>\n",
       "      <td>0.5</td>\n",
       "      <td>0.866025</td>\n",
       "      <td>0.0</td>\n",
       "      <td>...</td>\n",
       "      <td>0.912643</td>\n",
       "      <td>0.976889</td>\n",
       "      <td>0.544686</td>\n",
       "      <td>0.986067</td>\n",
       "      <td>1.013504</td>\n",
       "      <td>0.950691</td>\n",
       "      <td>1.081595</td>\n",
       "      <td>0.976360</td>\n",
       "      <td>0.976360</td>\n",
       "      <td>0.947127</td>\n",
       "    </tr>\n",
       "    <tr>\n",
       "      <td>2009-09-01 02:25:00</td>\n",
       "      <td>0.908305</td>\n",
       "      <td>1323.32</td>\n",
       "      <td>0.496485</td>\n",
       "      <td>240.26</td>\n",
       "      <td>2009</td>\n",
       "      <td>0.500000</td>\n",
       "      <td>-8.660254e-01</td>\n",
       "      <td>0.5</td>\n",
       "      <td>0.866025</td>\n",
       "      <td>0.0</td>\n",
       "      <td>...</td>\n",
       "      <td>0.973187</td>\n",
       "      <td>0.912643</td>\n",
       "      <td>0.976889</td>\n",
       "      <td>0.544686</td>\n",
       "      <td>0.986067</td>\n",
       "      <td>1.013504</td>\n",
       "      <td>0.950691</td>\n",
       "      <td>1.081595</td>\n",
       "      <td>0.976360</td>\n",
       "      <td>0.908518</td>\n",
       "    </tr>\n",
       "  </tbody>\n",
       "</table>\n",
       "<p>5 rows × 27 columns</p>\n",
       "</div>"
      ],
      "text/plain": [
       "                     CO2E_EMISSIONS_FACTOR   demand  demand_capacity  \\\n",
       "2009-09-01 02:05:00               0.973187  1350.13         0.506240   \n",
       "2009-09-01 02:10:00               0.973187  1359.79         0.509407   \n",
       "2009-09-01 02:15:00               0.946617  1323.90         0.497420   \n",
       "2009-09-01 02:20:00               0.912643  1350.34         0.507537   \n",
       "2009-09-01 02:25:00               0.908305  1323.32         0.496485   \n",
       "\n",
       "                     interconnector  year  minute_sin    minute_cos  hour_sin  \\\n",
       "2009-09-01 02:05:00          179.13  2009    0.500000  8.660254e-01       0.5   \n",
       "2009-09-01 02:10:00          198.52  2009    0.866025  5.000000e-01       0.5   \n",
       "2009-09-01 02:15:00          227.60  2009    1.000000  2.832769e-16       0.5   \n",
       "2009-09-01 02:20:00          208.13  2009    0.866025 -5.000000e-01       0.5   \n",
       "2009-09-01 02:25:00          240.26  2009    0.500000 -8.660254e-01       0.5   \n",
       "\n",
       "                     hour_cos  weekday_sin  ...      lag4      lag5      lag6  \\\n",
       "2009-09-01 02:05:00  0.866025          0.0  ...  0.986067  1.013504  0.950691   \n",
       "2009-09-01 02:10:00  0.866025          0.0  ...  0.544686  0.986067  1.013504   \n",
       "2009-09-01 02:15:00  0.866025          0.0  ...  0.976889  0.544686  0.986067   \n",
       "2009-09-01 02:20:00  0.866025          0.0  ...  0.912643  0.976889  0.544686   \n",
       "2009-09-01 02:25:00  0.866025          0.0  ...  0.973187  0.912643  0.976889   \n",
       "\n",
       "                         lag7      lag8      lag9     lag10     lag11  \\\n",
       "2009-09-01 02:05:00  1.081595  0.976360  0.976360  0.976360  1.154818   \n",
       "2009-09-01 02:10:00  0.950691  1.081595  0.976360  0.976360  0.976360   \n",
       "2009-09-01 02:15:00  1.013504  0.950691  1.081595  0.976360  0.976360   \n",
       "2009-09-01 02:20:00  0.986067  1.013504  0.950691  1.081595  0.976360   \n",
       "2009-09-01 02:25:00  0.544686  0.986067  1.013504  0.950691  1.081595   \n",
       "\n",
       "                        lag12  horizon12  \n",
       "2009-09-01 02:05:00  0.980592   1.010055  \n",
       "2009-09-01 02:10:00  1.154818   1.024770  \n",
       "2009-09-01 02:15:00  0.976360   0.984948  \n",
       "2009-09-01 02:20:00  0.976360   0.947127  \n",
       "2009-09-01 02:25:00  0.976360   0.908518  \n",
       "\n",
       "[5 rows x 27 columns]"
      ]
     },
     "execution_count": 33,
     "metadata": {},
     "output_type": "execute_result"
    }
   ],
   "source": [
    "df2.head()"
   ]
  },
  {
   "cell_type": "markdown",
   "metadata": {},
   "source": [
    "### __training 1h__"
   ]
  },
  {
   "cell_type": "code",
   "execution_count": 34,
   "metadata": {},
   "outputs": [],
   "source": [
    "def rel_errors(model, X_train, y_train, X_test, y_test):\n",
    "\n",
    "    train_mae = (sum(abs(y_train - model.predict(X_train)))/len(y_train))/y_train.mean()\n",
    "    train_mape = (sum(abs(y_train - model.predict(X_train))*100)/len(y_train))/y_train.mean()\n",
    "\n",
    "    test_mae = (sum(abs(y_test - model.predict(X_test)))/len(y_test))/y_test.mean()\n",
    "    test_mape = (sum(abs(y_test - model.predict(X_test))*100)/len(y_test))/y_test.mean()\n",
    "\n",
    "    print(f\"rel_train_mae: {train_mae}\")\n",
    "    print(f\"rel_test_mae: {test_mae}\")\n",
    "    print(f\"rel_train_mape: {train_mape}\")\n",
    "    print(f\"rel_test_mape: {test_mape}\")"
   ]
  },
  {
   "cell_type": "code",
   "execution_count": 35,
   "metadata": {},
   "outputs": [],
   "source": [
    "def train_test_ts(df, relative_train, maximal_lag, horizon):\n",
    "    '''\n",
    "    Time series (ts) split function creates a train/test set under consideration of potential overlap between the two due to lag processing\n",
    "    X_train, y_train, X_test, y_test = ...\n",
    "    df=must contain target column as \"target\"; all other columns must be used as features\n",
    "    percentage_train=how much of the total dataset shall be used for training; must be added between 0 - 1\n",
    "    maximal_lag=out of all lag feature engineering, enter the maximal lag number\n",
    "    '''\n",
    "    k = int(df.shape[0] * relative_train)\n",
    "    data_train = df.iloc[:k,:]\n",
    "    #to avoid overlapping of train and test data, a gap of the maximal lag - 1 must be included between the two sets\n",
    "    data_test = df.iloc[k+maximal_lag:,:]\n",
    "    \n",
    "    assert data_train.index.max() < data_test.index.min()\n",
    "    \n",
    "    #returns in the sequence X_train, y_train, X_test, y_test\n",
    "    return (data_train.drop(columns=[f\"horizon{horizon}\",\"CO2E_EMISSIONS_FACTOR\"], axis=1), data_train[f\"horizon{horizon}\"],\n",
    "            data_test.drop(columns=[f\"horizon{horizon}\",\"CO2E_EMISSIONS_FACTOR\"], axis=1), data_test[f\"horizon{horizon}\"])"
   ]
  },
  {
   "cell_type": "code",
   "execution_count": 36,
   "metadata": {},
   "outputs": [
    {
     "name": "stdout",
     "output_type": "stream",
     "text": [
      "[15:32:34] WARNING: /workspace/src/objective/regression_obj.cu:152: reg:linear is now deprecated in favor of reg:squarederror.\n",
      "rel_train_mae: 0.3368824780946134\n",
      "rel_test_mae: 0.32045831258814045\n",
      "rel_train_mape: 33.68824780950654\n",
      "rel_test_mape: 32.04583125882107\n"
     ]
    }
   ],
   "source": [
    "df_train_val = df2[df2.index < dt.datetime(2017,5,31,0,0,0)]\n",
    "df_test_set = df2[df2.index >= dt.datetime(2017,5,31,0,0,0)]\n",
    "\n",
    "X_train, y_train, X_test, y_test = train_test_ts(df_train_val, 0.8, 12, 12)\n",
    "\n",
    "model = xgb.XGBRegressor(max_depth=5,\n",
    "                         learning_rate=0.1,\n",
    "                         num_estimators=100,\n",
    "                         n_jobs=7,\n",
    "                         reg_alpha=0.05,\n",
    "                         reg_lambda=0,\n",
    "                        )\n",
    "\n",
    "model.fit(X_train, y_train)\n",
    "\n",
    "rel_errors(model,X_train, y_train, X_test, y_test)"
   ]
  },
  {
   "cell_type": "code",
   "execution_count": 37,
   "metadata": {},
   "outputs": [
    {
     "name": "stdout",
     "output_type": "stream",
     "text": [
      "12\n"
     ]
    }
   ],
   "source": [
    "for i in range(12,13):\n",
    "    print(i)"
   ]
  },
  {
   "cell_type": "markdown",
   "metadata": {},
   "source": [
    "### __training 2h__"
   ]
  },
  {
   "cell_type": "code",
   "execution_count": 38,
   "metadata": {},
   "outputs": [
    {
     "name": "stdout",
     "output_type": "stream",
     "text": [
      "(790439, 28)\n",
      "[15:32:51] WARNING: /workspace/src/objective/regression_obj.cu:152: reg:linear is now deprecated in favor of reg:squarederror.\n",
      "rel_train_mae: 0.33414619601140083\n",
      "rel_test_mae: 0.31363533718842107\n",
      "rel_train_mape: 33.41461960118428\n",
      "rel_test_mape: 31.363533718848114\n"
     ]
    }
   ],
   "source": [
    "df3 = lag_horizon(df1, 12, 24)\n",
    "df3.dropna(inplace=True)\n",
    "print(df3.shape)\n",
    "\n",
    "df_train_val1 = df3[df3.index < dt.datetime(2017,5,31,0,0,0)]\n",
    "df_test_set1 = df3[df3.index >= dt.datetime(2017,5,31,0,0,0)]\n",
    "\n",
    "X_train1, y_train1, X_test1, y_test1 = train_test_ts(df_train_val1, 0.8, 12, 12)\n",
    "\n",
    "model1 = xgb.XGBRegressor(max_depth=5,\n",
    "                         learning_rate=0.1,\n",
    "                         num_estimators=100,\n",
    "                         n_jobs=7,\n",
    "                         reg_alpha=0.05,\n",
    "                         reg_lambda=0,\n",
    "                        )\n",
    "\n",
    "model1.fit(X_train1, y_train1)\n",
    "\n",
    "rel_errors(model1,X_train1, y_train1, X_test1, y_test1)"
   ]
  },
  {
   "cell_type": "code",
   "execution_count": null,
   "metadata": {},
   "outputs": [],
   "source": []
  },
  {
   "cell_type": "code",
   "execution_count": null,
   "metadata": {},
   "outputs": [],
   "source": []
  }
 ],
 "metadata": {
  "kernelspec": {
   "display_name": "Python 3",
   "language": "python",
   "name": "python3"
  },
  "language_info": {
   "codemirror_mode": {
    "name": "ipython",
    "version": 3
   },
   "file_extension": ".py",
   "mimetype": "text/x-python",
   "name": "python",
   "nbconvert_exporter": "python",
   "pygments_lexer": "ipython3",
   "version": "3.6.8"
  }
 },
 "nbformat": 4,
 "nbformat_minor": 4
}
