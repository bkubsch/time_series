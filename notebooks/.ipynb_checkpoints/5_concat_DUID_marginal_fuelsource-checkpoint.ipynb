{
 "cells": [
  {
   "cell_type": "code",
   "execution_count": 4,
   "metadata": {},
   "outputs": [],
   "source": [
    "import pandas as pd\n",
    "import os\n",
    "import datetime as dt\n",
    "\n",
    "import seaborn as sns\n",
    "import matplotlib.pyplot as plt"
   ]
  },
  {
   "cell_type": "code",
   "execution_count": 5,
   "metadata": {},
   "outputs": [],
   "source": [
    "#from target exploration!!!!\n",
    "\n",
    "def mod_concat_NEMDE(file_path):\n",
    "    '''\n",
    "    load modified df of concatenated pkl chunks after clean_filter_concat_pkl func application\n",
    "    '''\n",
    "    df = pd.read_pickle(file_path)\n",
    "    df.drop(columns=[\"BandNo\",\"RRNBandPrice\",\"BandCost\"], inplace=True)\n",
    "    df = df.set_index('PeriodID', drop=True)\n",
    "    df.index = pd.to_datetime(df.index).tz_localize(None)\n",
    "    df[[\"Price\", \"Increase\"]] = df[[\"Price\", \"Increase\"]].astype(float)\n",
    "    df.rename(columns={\"Unit\":\"DUID\"}, inplace=True)\n",
    "    df.sort_index(inplace=True, ascending=False)\n",
    "    df.index = df.index - dt.timedelta(minutes = 5)\n",
    "    df.rename(columns={\"Unit\":\"DUID\"}, inplace=True)\n",
    "    \n",
    "    assert df[\"Price\"].dtype == float\n",
    "    assert df[\"Increase\"].dtype == float\n",
    "    assert not df.isna().any().any()\n",
    "    \n",
    "    return df"
   ]
  },
  {
   "cell_type": "code",
   "execution_count": 6,
   "metadata": {},
   "outputs": [],
   "source": [
    "file = '{}/nem-data/nemde_clean/concat_for_energy_SA1.pkl'.format(os.environ['HOME'])\n",
    "df = mod_concat_NEMDE(file)"
   ]
  },
  {
   "cell_type": "code",
   "execution_count": 7,
   "metadata": {},
   "outputs": [
    {
     "data": {
      "text/html": [
       "<div>\n",
       "<style scoped>\n",
       "    .dataframe tbody tr th:only-of-type {\n",
       "        vertical-align: middle;\n",
       "    }\n",
       "\n",
       "    .dataframe tbody tr th {\n",
       "        vertical-align: top;\n",
       "    }\n",
       "\n",
       "    .dataframe thead th {\n",
       "        text-align: right;\n",
       "    }\n",
       "</style>\n",
       "<table border=\"1\" class=\"dataframe\">\n",
       "  <thead>\n",
       "    <tr style=\"text-align: right;\">\n",
       "      <th></th>\n",
       "      <th>RegionID</th>\n",
       "      <th>Market</th>\n",
       "      <th>Price</th>\n",
       "      <th>DUID</th>\n",
       "      <th>DispatchedMarket</th>\n",
       "      <th>Increase</th>\n",
       "    </tr>\n",
       "    <tr>\n",
       "      <th>PeriodID</th>\n",
       "      <th></th>\n",
       "      <th></th>\n",
       "      <th></th>\n",
       "      <th></th>\n",
       "      <th></th>\n",
       "      <th></th>\n",
       "    </tr>\n",
       "  </thead>\n",
       "  <tbody>\n",
       "    <tr>\n",
       "      <td>2019-08-01 03:55:00</td>\n",
       "      <td>SA1</td>\n",
       "      <td>Energy</td>\n",
       "      <td>79.52391</td>\n",
       "      <td>LOYYB1</td>\n",
       "      <td>L5MI</td>\n",
       "      <td>-1.03893</td>\n",
       "    </tr>\n",
       "    <tr>\n",
       "      <td>2019-08-01 03:55:00</td>\n",
       "      <td>SA1</td>\n",
       "      <td>Energy</td>\n",
       "      <td>79.52391</td>\n",
       "      <td>JBUTTERS</td>\n",
       "      <td>L5MI</td>\n",
       "      <td>1.03893</td>\n",
       "    </tr>\n",
       "    <tr>\n",
       "      <td>2019-08-01 03:55:00</td>\n",
       "      <td>SA1</td>\n",
       "      <td>Energy</td>\n",
       "      <td>79.52391</td>\n",
       "      <td>JBUTTERS</td>\n",
       "      <td>ENOF</td>\n",
       "      <td>1.06714</td>\n",
       "    </tr>\n",
       "    <tr>\n",
       "      <td>2019-08-01 03:55:00</td>\n",
       "      <td>SA1</td>\n",
       "      <td>Energy</td>\n",
       "      <td>79.52391</td>\n",
       "      <td>T-V-MNSP1,VIC1</td>\n",
       "      <td>ENOF</td>\n",
       "      <td>1.03893</td>\n",
       "    </tr>\n",
       "    <tr>\n",
       "      <td>2019-08-01 03:50:00</td>\n",
       "      <td>SA1</td>\n",
       "      <td>Energy</td>\n",
       "      <td>79.17710</td>\n",
       "      <td>JBUTTERS</td>\n",
       "      <td>ENOF</td>\n",
       "      <td>1.06444</td>\n",
       "    </tr>\n",
       "  </tbody>\n",
       "</table>\n",
       "</div>"
      ],
      "text/plain": [
       "                    RegionID  Market     Price            DUID  \\\n",
       "PeriodID                                                         \n",
       "2019-08-01 03:55:00      SA1  Energy  79.52391          LOYYB1   \n",
       "2019-08-01 03:55:00      SA1  Energy  79.52391        JBUTTERS   \n",
       "2019-08-01 03:55:00      SA1  Energy  79.52391        JBUTTERS   \n",
       "2019-08-01 03:55:00      SA1  Energy  79.52391  T-V-MNSP1,VIC1   \n",
       "2019-08-01 03:50:00      SA1  Energy  79.17710        JBUTTERS   \n",
       "\n",
       "                    DispatchedMarket  Increase  \n",
       "PeriodID                                        \n",
       "2019-08-01 03:55:00             L5MI  -1.03893  \n",
       "2019-08-01 03:55:00             L5MI   1.03893  \n",
       "2019-08-01 03:55:00             ENOF   1.06714  \n",
       "2019-08-01 03:55:00             ENOF   1.03893  \n",
       "2019-08-01 03:50:00             ENOF   1.06444  "
      ]
     },
     "execution_count": 7,
     "metadata": {},
     "output_type": "execute_result"
    }
   ],
   "source": [
    "df.head()"
   ]
  },
  {
   "cell_type": "code",
   "execution_count": 8,
   "metadata": {},
   "outputs": [
    {
     "name": "stdout",
     "output_type": "stream",
     "text": [
      "(428, 6)\n"
     ]
    },
    {
     "data": {
      "text/html": [
       "<div>\n",
       "<style scoped>\n",
       "    .dataframe tbody tr th:only-of-type {\n",
       "        vertical-align: middle;\n",
       "    }\n",
       "\n",
       "    .dataframe tbody tr th {\n",
       "        vertical-align: top;\n",
       "    }\n",
       "\n",
       "    .dataframe thead th {\n",
       "        text-align: right;\n",
       "    }\n",
       "</style>\n",
       "<table border=\"1\" class=\"dataframe\">\n",
       "  <thead>\n",
       "    <tr style=\"text-align: right;\">\n",
       "      <th></th>\n",
       "      <th>DUID</th>\n",
       "      <th>GENSETID</th>\n",
       "      <th>REGIONID</th>\n",
       "      <th>CO2E_EMISSIONS_FACTOR</th>\n",
       "      <th>CO2E_ENERGY_SOURCE</th>\n",
       "      <th>CO2E_DATA_SOURCE</th>\n",
       "    </tr>\n",
       "  </thead>\n",
       "  <tbody>\n",
       "    <tr>\n",
       "      <td>0</td>\n",
       "      <td>AGLNOW1</td>\n",
       "      <td>AGLNOW1</td>\n",
       "      <td>NSW1</td>\n",
       "      <td>0.062</td>\n",
       "      <td>Landfill biogas methane</td>\n",
       "      <td>NGA 2018</td>\n",
       "    </tr>\n",
       "    <tr>\n",
       "      <td>1</td>\n",
       "      <td>AGLSITA1</td>\n",
       "      <td>AGLSITA1</td>\n",
       "      <td>NSW1</td>\n",
       "      <td>0.062</td>\n",
       "      <td>Landfill biogas methane</td>\n",
       "      <td>NGA 2018</td>\n",
       "    </tr>\n",
       "    <tr>\n",
       "      <td>2</td>\n",
       "      <td>APPIN</td>\n",
       "      <td>APPIN</td>\n",
       "      <td>NSW1</td>\n",
       "      <td>0.765</td>\n",
       "      <td>Coal seam methane</td>\n",
       "      <td>NGA 2018</td>\n",
       "    </tr>\n",
       "    <tr>\n",
       "      <td>3</td>\n",
       "      <td>BDONGHYD</td>\n",
       "      <td>BDONGHYD</td>\n",
       "      <td>NSW1</td>\n",
       "      <td>0.000</td>\n",
       "      <td>Hydro</td>\n",
       "      <td>ISP 2018</td>\n",
       "    </tr>\n",
       "    <tr>\n",
       "      <td>4</td>\n",
       "      <td>BERYLSF1</td>\n",
       "      <td>BERYLSF1</td>\n",
       "      <td>NSW1</td>\n",
       "      <td>0.000</td>\n",
       "      <td>Solar</td>\n",
       "      <td>ISP 2018</td>\n",
       "    </tr>\n",
       "  </tbody>\n",
       "</table>\n",
       "</div>"
      ],
      "text/plain": [
       "       DUID  GENSETID REGIONID  CO2E_EMISSIONS_FACTOR  \\\n",
       "0   AGLNOW1   AGLNOW1     NSW1                  0.062   \n",
       "1  AGLSITA1  AGLSITA1     NSW1                  0.062   \n",
       "2     APPIN     APPIN     NSW1                  0.765   \n",
       "3  BDONGHYD  BDONGHYD     NSW1                  0.000   \n",
       "4  BERYLSF1  BERYLSF1     NSW1                  0.000   \n",
       "\n",
       "        CO2E_ENERGY_SOURCE CO2E_DATA_SOURCE  \n",
       "0  Landfill biogas methane         NGA 2018  \n",
       "1  Landfill biogas methane         NGA 2018  \n",
       "2        Coal seam methane         NGA 2018  \n",
       "3                    Hydro         ISP 2018  \n",
       "4                    Solar         ISP 2018  "
      ]
     },
     "execution_count": 8,
     "metadata": {},
     "output_type": "execute_result"
    }
   ],
   "source": [
    "path = '{}/Desktop/Portfolio_project/DUID_CO2.csv'.format(os.environ['HOME'])\n",
    "CO2_generators = pd.read_csv(path)\n",
    "print(CO2_generators.shape)\n",
    "CO2_generators.head()"
   ]
  },
  {
   "cell_type": "code",
   "execution_count": 9,
   "metadata": {},
   "outputs": [],
   "source": [
    "def DUID_items(NEMDE_market_df, CO2_generators_df):\n",
    "    '''\n",
    "    Input dataframes with the generator ID columns named \"DUID\" in each case\n",
    "    A list variable is returned\n",
    "    '''\n",
    "    lst1 = []\n",
    "    for i in set(NEMDE_market_df.DUID):\n",
    "        if i in set(CO2_generators_df.DUID):\n",
    "            lst1.append(i)\n",
    "    print('The NEMDE_market_table uses {} DUID items from the DUID CO2_generator column.'.format(len(lst1)))\n",
    "    \n",
    "    lst2 = []\n",
    "    for i in set(NEMDE_market_df.DUID):\n",
    "        if i in set(CO2_generators_df.GENSETID):\n",
    "            lst2.append(i)\n",
    "    print('The NEMDE_market_table uses {} DUID items from the GENSETID CO2_generator column.'.format(len(lst2)))\n",
    "    \n",
    "    lst_diff =[]\n",
    "    for i in lst2:\n",
    "        if i not in lst1:\n",
    "            lst_diff.append(i)\n",
    "    print('The items {} from the GENSETID column should be added to the DUID column for it to maximise its NEMDE market_table representation.'.format(lst_diff))\n",
    "    return lst_diff"
   ]
  },
  {
   "cell_type": "code",
   "execution_count": 10,
   "metadata": {},
   "outputs": [
    {
     "name": "stdout",
     "output_type": "stream",
     "text": [
      "The NEMDE_market_table uses 200 DUID items from the DUID CO2_generator column.\n",
      "The NEMDE_market_table uses 186 DUID items from the GENSETID CO2_generator column.\n",
      "The items ['MCKAY2', 'ANGAS2', 'ANGAS1'] from the GENSETID column should be added to the DUID column for it to maximise its NEMDE market_table representation.\n"
     ]
    },
    {
     "data": {
      "text/plain": [
       "['MCKAY2', 'ANGAS2', 'ANGAS1']"
      ]
     },
     "execution_count": 10,
     "metadata": {},
     "output_type": "execute_result"
    }
   ],
   "source": [
    "lst_diff = DUID_items(df, CO2_generators)\n",
    "lst_diff"
   ]
  },
  {
   "cell_type": "code",
   "execution_count": 11,
   "metadata": {},
   "outputs": [
    {
     "data": {
      "text/html": [
       "<div>\n",
       "<style scoped>\n",
       "    .dataframe tbody tr th:only-of-type {\n",
       "        vertical-align: middle;\n",
       "    }\n",
       "\n",
       "    .dataframe tbody tr th {\n",
       "        vertical-align: top;\n",
       "    }\n",
       "\n",
       "    .dataframe thead th {\n",
       "        text-align: right;\n",
       "    }\n",
       "</style>\n",
       "<table border=\"1\" class=\"dataframe\">\n",
       "  <thead>\n",
       "    <tr style=\"text-align: right;\">\n",
       "      <th></th>\n",
       "      <th>DUID</th>\n",
       "      <th>GENSETID</th>\n",
       "      <th>REGIONID</th>\n",
       "      <th>CO2E_EMISSIONS_FACTOR</th>\n",
       "      <th>CO2E_ENERGY_SOURCE</th>\n",
       "      <th>CO2E_DATA_SOURCE</th>\n",
       "    </tr>\n",
       "  </thead>\n",
       "  <tbody>\n",
       "    <tr>\n",
       "      <td>219</td>\n",
       "      <td>ANGAST1</td>\n",
       "      <td>ANGAS1</td>\n",
       "      <td>SA1</td>\n",
       "      <td>1.0136</td>\n",
       "      <td>Diesel oil</td>\n",
       "      <td>ISP 2018</td>\n",
       "    </tr>\n",
       "    <tr>\n",
       "      <td>220</td>\n",
       "      <td>ANGAST1</td>\n",
       "      <td>ANGAS2</td>\n",
       "      <td>SA1</td>\n",
       "      <td>1.0136</td>\n",
       "      <td>Diesel oil</td>\n",
       "      <td>ISP 2018</td>\n",
       "    </tr>\n",
       "    <tr>\n",
       "      <td>381</td>\n",
       "      <td>MCKAY1</td>\n",
       "      <td>MCKAY2</td>\n",
       "      <td>VIC1</td>\n",
       "      <td>0.0000</td>\n",
       "      <td>Hydro</td>\n",
       "      <td>ISP 2018</td>\n",
       "    </tr>\n",
       "  </tbody>\n",
       "</table>\n",
       "</div>"
      ],
      "text/plain": [
       "        DUID GENSETID REGIONID  CO2E_EMISSIONS_FACTOR CO2E_ENERGY_SOURCE  \\\n",
       "219  ANGAST1   ANGAS1      SA1                 1.0136         Diesel oil   \n",
       "220  ANGAST1   ANGAS2      SA1                 1.0136         Diesel oil   \n",
       "381   MCKAY1   MCKAY2     VIC1                 0.0000              Hydro   \n",
       "\n",
       "    CO2E_DATA_SOURCE  \n",
       "219         ISP 2018  \n",
       "220         ISP 2018  \n",
       "381         ISP 2018  "
      ]
     },
     "execution_count": 11,
     "metadata": {},
     "output_type": "execute_result"
    }
   ],
   "source": [
    "CO2_generators[(CO2_generators.GENSETID == 'MCKAY2') | (CO2_generators.GENSETID == 'ANGAS2') | (CO2_generators.GENSETID == 'ANGAS1')]"
   ]
  },
  {
   "cell_type": "markdown",
   "metadata": {},
   "source": [
    "### __Check for DUID redundancy and how to handle it__"
   ]
  },
  {
   "cell_type": "code",
   "execution_count": 12,
   "metadata": {},
   "outputs": [
    {
     "data": {
      "text/plain": [
       "384"
      ]
     },
     "execution_count": 12,
     "metadata": {},
     "output_type": "execute_result"
    }
   ],
   "source": [
    "CO2_generators.DUID.nunique() #assert"
   ]
  },
  {
   "cell_type": "code",
   "execution_count": 13,
   "metadata": {},
   "outputs": [
    {
     "data": {
      "text/html": [
       "<div>\n",
       "<style scoped>\n",
       "    .dataframe tbody tr th:only-of-type {\n",
       "        vertical-align: middle;\n",
       "    }\n",
       "\n",
       "    .dataframe tbody tr th {\n",
       "        vertical-align: top;\n",
       "    }\n",
       "\n",
       "    .dataframe thead th {\n",
       "        text-align: right;\n",
       "    }\n",
       "</style>\n",
       "<table border=\"1\" class=\"dataframe\">\n",
       "  <thead>\n",
       "    <tr style=\"text-align: right;\">\n",
       "      <th></th>\n",
       "      <th>DUID</th>\n",
       "      <th>CO2E_EMISSIONS_FACTOR</th>\n",
       "    </tr>\n",
       "  </thead>\n",
       "  <tbody>\n",
       "    <tr>\n",
       "      <td>0</td>\n",
       "      <td>AGLHAL</td>\n",
       "      <td>1.174440</td>\n",
       "    </tr>\n",
       "    <tr>\n",
       "      <td>1</td>\n",
       "      <td>AGLNOW1</td>\n",
       "      <td>0.062000</td>\n",
       "    </tr>\n",
       "    <tr>\n",
       "      <td>2</td>\n",
       "      <td>AGLSITA1</td>\n",
       "      <td>0.062000</td>\n",
       "    </tr>\n",
       "    <tr>\n",
       "      <td>3</td>\n",
       "      <td>AGLSOM</td>\n",
       "      <td>0.817915</td>\n",
       "    </tr>\n",
       "    <tr>\n",
       "      <td>4</td>\n",
       "      <td>ANGAST1</td>\n",
       "      <td>1.013600</td>\n",
       "    </tr>\n",
       "  </tbody>\n",
       "</table>\n",
       "</div>"
      ],
      "text/plain": [
       "       DUID  CO2E_EMISSIONS_FACTOR\n",
       "0    AGLHAL               1.174440\n",
       "1   AGLNOW1               0.062000\n",
       "2  AGLSITA1               0.062000\n",
       "3    AGLSOM               0.817915\n",
       "4   ANGAST1               1.013600"
      ]
     },
     "execution_count": 13,
     "metadata": {},
     "output_type": "execute_result"
    }
   ],
   "source": [
    "CO2_generators_grouped = CO2_generators.groupby(\"DUID\").mean().reset_index()\n",
    "CO2_generators_grouped.head()"
   ]
  },
  {
   "cell_type": "code",
   "execution_count": 14,
   "metadata": {},
   "outputs": [
    {
     "name": "stdout",
     "output_type": "stream",
     "text": [
      "(384, 6)\n"
     ]
    },
    {
     "data": {
      "text/html": [
       "<div>\n",
       "<style scoped>\n",
       "    .dataframe tbody tr th:only-of-type {\n",
       "        vertical-align: middle;\n",
       "    }\n",
       "\n",
       "    .dataframe tbody tr th {\n",
       "        vertical-align: top;\n",
       "    }\n",
       "\n",
       "    .dataframe thead th {\n",
       "        text-align: right;\n",
       "    }\n",
       "</style>\n",
       "<table border=\"1\" class=\"dataframe\">\n",
       "  <thead>\n",
       "    <tr style=\"text-align: right;\">\n",
       "      <th></th>\n",
       "      <th>DUID</th>\n",
       "      <th>GENSETID</th>\n",
       "      <th>REGIONID</th>\n",
       "      <th>CO2E_EMISSIONS_FACTOR</th>\n",
       "      <th>CO2E_ENERGY_SOURCE</th>\n",
       "      <th>CO2E_DATA_SOURCE</th>\n",
       "    </tr>\n",
       "  </thead>\n",
       "  <tbody>\n",
       "    <tr>\n",
       "      <td>0</td>\n",
       "      <td>AGLHAL</td>\n",
       "      <td>AGLHAL</td>\n",
       "      <td>SA1</td>\n",
       "      <td>1.174440</td>\n",
       "      <td>Natural Gas (Pipeline)</td>\n",
       "      <td>ISP 2018</td>\n",
       "    </tr>\n",
       "    <tr>\n",
       "      <td>1</td>\n",
       "      <td>AGLNOW1</td>\n",
       "      <td>AGLNOW1</td>\n",
       "      <td>NSW1</td>\n",
       "      <td>0.062000</td>\n",
       "      <td>Landfill biogas methane</td>\n",
       "      <td>NGA 2018</td>\n",
       "    </tr>\n",
       "    <tr>\n",
       "      <td>2</td>\n",
       "      <td>AGLSITA1</td>\n",
       "      <td>AGLSITA1</td>\n",
       "      <td>NSW1</td>\n",
       "      <td>0.062000</td>\n",
       "      <td>Landfill biogas methane</td>\n",
       "      <td>NGA 2018</td>\n",
       "    </tr>\n",
       "    <tr>\n",
       "      <td>3</td>\n",
       "      <td>AGLSOM</td>\n",
       "      <td>AGLSOM</td>\n",
       "      <td>VIC1</td>\n",
       "      <td>0.817915</td>\n",
       "      <td>Natural Gas (Pipeline)</td>\n",
       "      <td>ISP 2018</td>\n",
       "    </tr>\n",
       "    <tr>\n",
       "      <td>4</td>\n",
       "      <td>ANGAST1</td>\n",
       "      <td>ANGAS1</td>\n",
       "      <td>SA1</td>\n",
       "      <td>1.013600</td>\n",
       "      <td>Diesel oil</td>\n",
       "      <td>ISP 2018</td>\n",
       "    </tr>\n",
       "  </tbody>\n",
       "</table>\n",
       "</div>"
      ],
      "text/plain": [
       "       DUID  GENSETID REGIONID  CO2E_EMISSIONS_FACTOR  \\\n",
       "0    AGLHAL    AGLHAL      SA1               1.174440   \n",
       "1   AGLNOW1   AGLNOW1     NSW1               0.062000   \n",
       "2  AGLSITA1  AGLSITA1     NSW1               0.062000   \n",
       "3    AGLSOM    AGLSOM     VIC1               0.817915   \n",
       "4   ANGAST1    ANGAS1      SA1               1.013600   \n",
       "\n",
       "        CO2E_ENERGY_SOURCE CO2E_DATA_SOURCE  \n",
       "0   Natural Gas (Pipeline)         ISP 2018  \n",
       "1  Landfill biogas methane         NGA 2018  \n",
       "2  Landfill biogas methane         NGA 2018  \n",
       "3   Natural Gas (Pipeline)         ISP 2018  \n",
       "4               Diesel oil         ISP 2018  "
      ]
     },
     "execution_count": 14,
     "metadata": {},
     "output_type": "execute_result"
    }
   ],
   "source": [
    "CO2_generators_unique = CO2_generators.drop_duplicates(\"DUID\")\n",
    "CO2_generators_unique = CO2_generators_unique.sort_values(by=\"DUID\").reset_index(drop=True)\n",
    "print(CO2_generators_unique.shape)\n",
    "CO2_generators_unique.head()"
   ]
  },
  {
   "cell_type": "code",
   "execution_count": 15,
   "metadata": {},
   "outputs": [
    {
     "data": {
      "text/html": [
       "<div>\n",
       "<style scoped>\n",
       "    .dataframe tbody tr th:only-of-type {\n",
       "        vertical-align: middle;\n",
       "    }\n",
       "\n",
       "    .dataframe tbody tr th {\n",
       "        vertical-align: top;\n",
       "    }\n",
       "\n",
       "    .dataframe thead th {\n",
       "        text-align: right;\n",
       "    }\n",
       "</style>\n",
       "<table border=\"1\" class=\"dataframe\">\n",
       "  <thead>\n",
       "    <tr style=\"text-align: right;\">\n",
       "      <th></th>\n",
       "      <th>DUID</th>\n",
       "      <th>GENSETID</th>\n",
       "      <th>REGIONID</th>\n",
       "      <th>CO2E_EMISSIONS_FACTOR</th>\n",
       "      <th>CO2E_ENERGY_SOURCE</th>\n",
       "      <th>CO2E_DATA_SOURCE</th>\n",
       "    </tr>\n",
       "  </thead>\n",
       "  <tbody>\n",
       "    <tr>\n",
       "      <td>17</td>\n",
       "      <td>BBASEHOS</td>\n",
       "      <td>BBASEH_1</td>\n",
       "      <td>VIC1</td>\n",
       "      <td>0.601</td>\n",
       "      <td>Natural Gas (Pipeline)</td>\n",
       "      <td>NGA 2018</td>\n",
       "    </tr>\n",
       "  </tbody>\n",
       "</table>\n",
       "</div>"
      ],
      "text/plain": [
       "        DUID  GENSETID REGIONID  CO2E_EMISSIONS_FACTOR  \\\n",
       "17  BBASEHOS  BBASEH_1     VIC1                  0.601   \n",
       "\n",
       "        CO2E_ENERGY_SOURCE CO2E_DATA_SOURCE  \n",
       "17  Natural Gas (Pipeline)         NGA 2018  "
      ]
     },
     "execution_count": 15,
     "metadata": {},
     "output_type": "execute_result"
    }
   ],
   "source": [
    "count = 0\n",
    "lst_i = []\n",
    "for i in CO2_generators_unique.CO2E_EMISSIONS_FACTOR.index:\n",
    "    if abs(CO2_generators_unique.CO2E_EMISSIONS_FACTOR[i] - CO2_generators_grouped.CO2E_EMISSIONS_FACTOR[i]) > 0.001:\n",
    "        lst_i.append(i)\n",
    "        r = CO2_generators_unique.iloc[[i]]\n",
    "r"
   ]
  },
  {
   "cell_type": "code",
   "execution_count": 16,
   "metadata": {},
   "outputs": [
    {
     "data": {
      "text/html": [
       "<div>\n",
       "<style scoped>\n",
       "    .dataframe tbody tr th:only-of-type {\n",
       "        vertical-align: middle;\n",
       "    }\n",
       "\n",
       "    .dataframe tbody tr th {\n",
       "        vertical-align: top;\n",
       "    }\n",
       "\n",
       "    .dataframe thead th {\n",
       "        text-align: right;\n",
       "    }\n",
       "</style>\n",
       "<table border=\"1\" class=\"dataframe\">\n",
       "  <thead>\n",
       "    <tr style=\"text-align: right;\">\n",
       "      <th></th>\n",
       "      <th>DUID</th>\n",
       "      <th>CO2E_EMISSIONS_FACTOR</th>\n",
       "    </tr>\n",
       "  </thead>\n",
       "  <tbody>\n",
       "    <tr>\n",
       "      <td>17</td>\n",
       "      <td>BBASEHOS</td>\n",
       "      <td>0.719667</td>\n",
       "    </tr>\n",
       "  </tbody>\n",
       "</table>\n",
       "</div>"
      ],
      "text/plain": [
       "        DUID  CO2E_EMISSIONS_FACTOR\n",
       "17  BBASEHOS               0.719667"
      ]
     },
     "execution_count": 16,
     "metadata": {},
     "output_type": "execute_result"
    }
   ],
   "source": [
    "CO2_generators_grouped.iloc[[17],:]"
   ]
  },
  {
   "cell_type": "code",
   "execution_count": 17,
   "metadata": {},
   "outputs": [],
   "source": [
    "#One redundant DUID uses different CO2 for its DUID subunits; hence groupby(DUID) and using the mean CO2 emissions is safest"
   ]
  },
  {
   "cell_type": "code",
   "execution_count": null,
   "metadata": {},
   "outputs": [],
   "source": []
  },
  {
   "cell_type": "code",
   "execution_count": 18,
   "metadata": {},
   "outputs": [],
   "source": [
    "def merge_DUID_GENSETID(CO2_generators_df):\n",
    "    '''\n",
    "    This function takes care of the mismatch output by DUID_items. Note that .groupby(\"DUID\").mean() is applied to the\n",
    "    CO2_generators table. Hence, only numerical columns are returned.\n",
    "    '''\n",
    "    CO2_generators_grouped = CO2_generators.groupby(\"DUID\").mean().reset_index()\n",
    "    count = -1\n",
    "    for i in CO2_generators.GENSETID:\n",
    "        count += 1\n",
    "        if i in lst_diff:\n",
    "            CO2_generators_grouped = pd.concat([CO2_generators_grouped, CO2_generators.iloc[[count],:]\\\n",
    "                                                .loc[:,[\"GENSETID\",\"CO2E_EMISSIONS_FACTOR\"]].rename(columns={\"GENSETID\":\"DUID\"})],)\n",
    "    CO2_generators_grouped = CO2_generators_grouped.sort_values(by=\"DUID\").reset_index(drop=True)\n",
    "    return CO2_generators_grouped"
   ]
  },
  {
   "cell_type": "code",
   "execution_count": 19,
   "metadata": {},
   "outputs": [
    {
     "name": "stdout",
     "output_type": "stream",
     "text": [
      "(387, 2)\n"
     ]
    },
    {
     "data": {
      "text/html": [
       "<div>\n",
       "<style scoped>\n",
       "    .dataframe tbody tr th:only-of-type {\n",
       "        vertical-align: middle;\n",
       "    }\n",
       "\n",
       "    .dataframe tbody tr th {\n",
       "        vertical-align: top;\n",
       "    }\n",
       "\n",
       "    .dataframe thead th {\n",
       "        text-align: right;\n",
       "    }\n",
       "</style>\n",
       "<table border=\"1\" class=\"dataframe\">\n",
       "  <thead>\n",
       "    <tr style=\"text-align: right;\">\n",
       "      <th></th>\n",
       "      <th>DUID</th>\n",
       "      <th>CO2E_EMISSIONS_FACTOR</th>\n",
       "    </tr>\n",
       "  </thead>\n",
       "  <tbody>\n",
       "    <tr>\n",
       "      <td>0</td>\n",
       "      <td>AGLHAL</td>\n",
       "      <td>1.174440</td>\n",
       "    </tr>\n",
       "    <tr>\n",
       "      <td>1</td>\n",
       "      <td>AGLNOW1</td>\n",
       "      <td>0.062000</td>\n",
       "    </tr>\n",
       "    <tr>\n",
       "      <td>2</td>\n",
       "      <td>AGLSITA1</td>\n",
       "      <td>0.062000</td>\n",
       "    </tr>\n",
       "    <tr>\n",
       "      <td>3</td>\n",
       "      <td>AGLSOM</td>\n",
       "      <td>0.817915</td>\n",
       "    </tr>\n",
       "    <tr>\n",
       "      <td>4</td>\n",
       "      <td>ANGAS1</td>\n",
       "      <td>1.013600</td>\n",
       "    </tr>\n",
       "    <tr>\n",
       "      <td>...</td>\n",
       "      <td>...</td>\n",
       "      <td>...</td>\n",
       "    </tr>\n",
       "    <tr>\n",
       "      <td>382</td>\n",
       "      <td>YWNL1</td>\n",
       "      <td>1.315515</td>\n",
       "    </tr>\n",
       "    <tr>\n",
       "      <td>383</td>\n",
       "      <td>YWPS1</td>\n",
       "      <td>1.315515</td>\n",
       "    </tr>\n",
       "    <tr>\n",
       "      <td>384</td>\n",
       "      <td>YWPS2</td>\n",
       "      <td>1.315515</td>\n",
       "    </tr>\n",
       "    <tr>\n",
       "      <td>385</td>\n",
       "      <td>YWPS3</td>\n",
       "      <td>1.315515</td>\n",
       "    </tr>\n",
       "    <tr>\n",
       "      <td>386</td>\n",
       "      <td>YWPS4</td>\n",
       "      <td>1.315515</td>\n",
       "    </tr>\n",
       "  </tbody>\n",
       "</table>\n",
       "<p>387 rows × 2 columns</p>\n",
       "</div>"
      ],
      "text/plain": [
       "         DUID  CO2E_EMISSIONS_FACTOR\n",
       "0      AGLHAL               1.174440\n",
       "1     AGLNOW1               0.062000\n",
       "2    AGLSITA1               0.062000\n",
       "3      AGLSOM               0.817915\n",
       "4      ANGAS1               1.013600\n",
       "..        ...                    ...\n",
       "382     YWNL1               1.315515\n",
       "383     YWPS1               1.315515\n",
       "384     YWPS2               1.315515\n",
       "385     YWPS3               1.315515\n",
       "386     YWPS4               1.315515\n",
       "\n",
       "[387 rows x 2 columns]"
      ]
     },
     "execution_count": 19,
     "metadata": {},
     "output_type": "execute_result"
    }
   ],
   "source": [
    "CO2_generators_complete = merge_DUID_GENSETID(CO2_generators)\n",
    "print(CO2_generators_complete.shape)\n",
    "CO2_generators_complete[(CO2_generators_complete.DUID == 'MCKAY2') | \n",
    "                        (CO2_generators_complete.DUID == 'ANGAS2') | \n",
    "                        (CO2_generators_complete.DUID == 'ANGAS1')]\n",
    "CO2_generators_complete"
   ]
  },
  {
   "cell_type": "code",
   "execution_count": 20,
   "metadata": {},
   "outputs": [],
   "source": [
    "#file_path = '{}/nem-data/nemde_clean/all_DUIDs.pkl'.format(os.environ['HOME'])\n",
    "#pd.to_pickle(CO2_generators_complete, file_path)"
   ]
  },
  {
   "cell_type": "markdown",
   "metadata": {},
   "source": [
    "### __Merge main df and DUID table to create time series of marginal CO2__"
   ]
  },
  {
   "cell_type": "code",
   "execution_count": 21,
   "metadata": {},
   "outputs": [
    {
     "name": "stdout",
     "output_type": "stream",
     "text": [
      "(6482840, 3)\n"
     ]
    }
   ],
   "source": [
    "df_DUID_CO2 = df.reset_index().merge(CO2_generators_complete, how=\"left\", on=\"DUID\").set_index(\"PeriodID\")\n",
    "df_DUID_CO2 = df_DUID_CO2.drop(columns=[\"RegionID\", \"Market\", \"DispatchedMarket\", \"Increase\"])\n",
    "print(df_DUID_CO2.shape)"
   ]
  },
  {
   "cell_type": "code",
   "execution_count": 22,
   "metadata": {},
   "outputs": [
    {
     "data": {
      "text/html": [
       "<div>\n",
       "<style scoped>\n",
       "    .dataframe tbody tr th:only-of-type {\n",
       "        vertical-align: middle;\n",
       "    }\n",
       "\n",
       "    .dataframe tbody tr th {\n",
       "        vertical-align: top;\n",
       "    }\n",
       "\n",
       "    .dataframe thead th {\n",
       "        text-align: right;\n",
       "    }\n",
       "</style>\n",
       "<table border=\"1\" class=\"dataframe\">\n",
       "  <thead>\n",
       "    <tr style=\"text-align: right;\">\n",
       "      <th></th>\n",
       "      <th>Price</th>\n",
       "      <th>DUID</th>\n",
       "      <th>CO2E_EMISSIONS_FACTOR</th>\n",
       "    </tr>\n",
       "    <tr>\n",
       "      <th>PeriodID</th>\n",
       "      <th></th>\n",
       "      <th></th>\n",
       "      <th></th>\n",
       "    </tr>\n",
       "  </thead>\n",
       "  <tbody>\n",
       "    <tr>\n",
       "      <td>2019-08-01 03:55:00</td>\n",
       "      <td>79.52391</td>\n",
       "      <td>LOYYB1</td>\n",
       "      <td>1.141021</td>\n",
       "    </tr>\n",
       "    <tr>\n",
       "      <td>2019-08-01 03:55:00</td>\n",
       "      <td>79.52391</td>\n",
       "      <td>JBUTTERS</td>\n",
       "      <td>0.000000</td>\n",
       "    </tr>\n",
       "    <tr>\n",
       "      <td>2019-08-01 03:55:00</td>\n",
       "      <td>79.52391</td>\n",
       "      <td>JBUTTERS</td>\n",
       "      <td>0.000000</td>\n",
       "    </tr>\n",
       "    <tr>\n",
       "      <td>2019-08-01 03:55:00</td>\n",
       "      <td>79.52391</td>\n",
       "      <td>T-V-MNSP1,VIC1</td>\n",
       "      <td>NaN</td>\n",
       "    </tr>\n",
       "    <tr>\n",
       "      <td>2019-08-01 03:50:00</td>\n",
       "      <td>79.17710</td>\n",
       "      <td>JBUTTERS</td>\n",
       "      <td>0.000000</td>\n",
       "    </tr>\n",
       "    <tr>\n",
       "      <td>2019-08-01 03:50:00</td>\n",
       "      <td>79.17710</td>\n",
       "      <td>GORDON</td>\n",
       "      <td>0.000000</td>\n",
       "    </tr>\n",
       "    <tr>\n",
       "      <td>2019-08-01 03:50:00</td>\n",
       "      <td>79.17710</td>\n",
       "      <td>T-V-MNSP1,VIC1</td>\n",
       "      <td>NaN</td>\n",
       "    </tr>\n",
       "    <tr>\n",
       "      <td>2019-08-01 03:50:00</td>\n",
       "      <td>79.17710</td>\n",
       "      <td>LOYYB2</td>\n",
       "      <td>1.141021</td>\n",
       "    </tr>\n",
       "    <tr>\n",
       "      <td>2019-08-01 03:50:00</td>\n",
       "      <td>79.17710</td>\n",
       "      <td>LOYYB2</td>\n",
       "      <td>1.141021</td>\n",
       "    </tr>\n",
       "    <tr>\n",
       "      <td>2019-08-01 03:50:00</td>\n",
       "      <td>79.17710</td>\n",
       "      <td>JBUTTERS</td>\n",
       "      <td>0.000000</td>\n",
       "    </tr>\n",
       "  </tbody>\n",
       "</table>\n",
       "</div>"
      ],
      "text/plain": [
       "                        Price            DUID  CO2E_EMISSIONS_FACTOR\n",
       "PeriodID                                                            \n",
       "2019-08-01 03:55:00  79.52391          LOYYB1               1.141021\n",
       "2019-08-01 03:55:00  79.52391        JBUTTERS               0.000000\n",
       "2019-08-01 03:55:00  79.52391        JBUTTERS               0.000000\n",
       "2019-08-01 03:55:00  79.52391  T-V-MNSP1,VIC1                    NaN\n",
       "2019-08-01 03:50:00  79.17710        JBUTTERS               0.000000\n",
       "2019-08-01 03:50:00  79.17710          GORDON               0.000000\n",
       "2019-08-01 03:50:00  79.17710  T-V-MNSP1,VIC1                    NaN\n",
       "2019-08-01 03:50:00  79.17710          LOYYB2               1.141021\n",
       "2019-08-01 03:50:00  79.17710          LOYYB2               1.141021\n",
       "2019-08-01 03:50:00  79.17710        JBUTTERS               0.000000"
      ]
     },
     "execution_count": 22,
     "metadata": {},
     "output_type": "execute_result"
    }
   ],
   "source": [
    "df_DUID_CO2.head(10)"
   ]
  },
  {
   "cell_type": "code",
   "execution_count": 58,
   "metadata": {},
   "outputs": [
    {
     "data": {
      "text/plain": [
       "str"
      ]
     },
     "execution_count": 58,
     "metadata": {},
     "output_type": "execute_result"
    }
   ],
   "source": [
    "type(df_DUID_CO2.DUID.iloc[7])"
   ]
  },
  {
   "cell_type": "code",
   "execution_count": 23,
   "metadata": {},
   "outputs": [
    {
     "data": {
      "text/plain": [
       "Price                    False\n",
       "DUID                     False\n",
       "CO2E_EMISSIONS_FACTOR     True\n",
       "dtype: bool"
      ]
     },
     "execution_count": 23,
     "metadata": {},
     "output_type": "execute_result"
    }
   ],
   "source": [
    "df_DUID_CO2.isnull().any()"
   ]
  },
  {
   "cell_type": "code",
   "execution_count": 24,
   "metadata": {},
   "outputs": [
    {
     "data": {
      "text/plain": [
       "<Figure size 864x360 with 0 Axes>"
      ]
     },
     "execution_count": 24,
     "metadata": {},
     "output_type": "execute_result"
    },
    {
     "data": {
      "image/png": "[encoded data removed]",
      "text/plain": [
       "<Figure size 432x288 with 2 Axes>"
      ]
     },
     "metadata": {
      "needs_background": "light"
     },
     "output_type": "display_data"
    },
    {
     "data": {
      "text/plain": [
       "<Figure size 864x360 with 0 Axes>"
      ]
     },
     "metadata": {},
     "output_type": "display_data"
    }
   ],
   "source": [
    "fig = sns.heatmap(df_DUID_CO2.isnull())\n",
    "plt.figure(figsize=(12,5))"
   ]
  },
  {
   "cell_type": "code",
   "execution_count": 72,
   "metadata": {},
   "outputs": [
    {
     "name": "stdout",
     "output_type": "stream",
     "text": [
      "(1043372, 2)\n"
     ]
    },
    {
     "data": {
      "text/html": [
       "<div>\n",
       "<style scoped>\n",
       "    .dataframe tbody tr th:only-of-type {\n",
       "        vertical-align: middle;\n",
       "    }\n",
       "\n",
       "    .dataframe tbody tr th {\n",
       "        vertical-align: top;\n",
       "    }\n",
       "\n",
       "    .dataframe thead th {\n",
       "        text-align: right;\n",
       "    }\n",
       "</style>\n",
       "<table border=\"1\" class=\"dataframe\">\n",
       "  <thead>\n",
       "    <tr style=\"text-align: right;\">\n",
       "      <th></th>\n",
       "      <th>Price</th>\n",
       "      <th>CO2E_EMISSIONS_FACTOR</th>\n",
       "    </tr>\n",
       "    <tr>\n",
       "      <th>PeriodID</th>\n",
       "      <th></th>\n",
       "      <th></th>\n",
       "    </tr>\n",
       "  </thead>\n",
       "  <tbody>\n",
       "    <tr>\n",
       "      <td>2019-08-01 03:55:00</td>\n",
       "      <td>79.52391</td>\n",
       "      <td>0.380340</td>\n",
       "    </tr>\n",
       "    <tr>\n",
       "      <td>2019-08-01 03:50:00</td>\n",
       "      <td>79.17710</td>\n",
       "      <td>0.456409</td>\n",
       "    </tr>\n",
       "    <tr>\n",
       "      <td>2019-08-01 03:45:00</td>\n",
       "      <td>85.14416</td>\n",
       "      <td>0.573436</td>\n",
       "    </tr>\n",
       "    <tr>\n",
       "      <td>2019-08-01 03:40:00</td>\n",
       "      <td>84.78689</td>\n",
       "      <td>0.573436</td>\n",
       "    </tr>\n",
       "    <tr>\n",
       "      <td>2019-08-01 03:35:00</td>\n",
       "      <td>84.78346</td>\n",
       "      <td>0.573436</td>\n",
       "    </tr>\n",
       "  </tbody>\n",
       "</table>\n",
       "</div>"
      ],
      "text/plain": [
       "                        Price  CO2E_EMISSIONS_FACTOR\n",
       "PeriodID                                            \n",
       "2019-08-01 03:55:00  79.52391               0.380340\n",
       "2019-08-01 03:50:00  79.17710               0.456409\n",
       "2019-08-01 03:45:00  85.14416               0.573436\n",
       "2019-08-01 03:40:00  84.78689               0.573436\n",
       "2019-08-01 03:35:00  84.78346               0.573436"
      ]
     },
     "execution_count": 72,
     "metadata": {},
     "output_type": "execute_result"
    }
   ],
   "source": [
    "# note that in notebook 4, it was shown that taking the minimum of a grouped price causes minimal error\n",
    "df_DUID_CO2_mean = df_DUID_CO2.groupby(df_DUID_CO2.index).agg({\"Price\":\"min\", \"CO2E_EMISSIONS_FACTOR\":\"mean\"}).sort_index(ascending=False)\n",
    "print(df_DUID_CO2_mean.shape)\n",
    "df_DUID_CO2_mean.head()"
   ]
  },
  {
   "cell_type": "markdown",
   "metadata": {},
   "source": [
    "### __Checking price range__"
   ]
  },
  {
   "cell_type": "code",
   "execution_count": 73,
   "metadata": {},
   "outputs": [
    {
     "name": "stdout",
     "output_type": "stream",
     "text": [
      "-26801.01057\n",
      "2175000.0\n"
     ]
    }
   ],
   "source": [
    "print(df_DUID_CO2_mean.Price.min())\n",
    "print(df_DUID_CO2_mean.Price.max())"
   ]
  },
  {
   "cell_type": "code",
   "execution_count": 74,
   "metadata": {},
   "outputs": [
    {
     "name": "stdout",
     "output_type": "stream",
     "text": [
      "231\n",
      "68\n"
     ]
    }
   ],
   "source": [
    "print(sum(df_DUID_CO2_mean.Price >= 13500))\n",
    "print(sum(df_DUID_CO2_mean.Price <= -1000))"
   ]
  },
  {
   "cell_type": "code",
   "execution_count": 78,
   "metadata": {},
   "outputs": [],
   "source": [
    "def keep_price_range(df, price_min, price_max):\n",
    "    '''\n",
    "    To keep the price column within the possible price range\n",
    "    df=dataframe with col=\"Price\" filled with floats\n",
    "    price_min=float or integer\n",
    "    price_max=float or integer\n",
    "    '''\n",
    "    for i in range(df.shape[0]):\n",
    "        if df.Price[i] > price_max:\n",
    "            df.Price[i] = price_max\n",
    "        elif df.Price[i] < price_min:\n",
    "            df.Price[i] = price_min\n",
    "        else:\n",
    "            continue\n",
    "    return df"
   ]
  },
  {
   "cell_type": "code",
   "execution_count": 75,
   "metadata": {},
   "outputs": [],
   "source": [
    "df_DUID_CO2_mean = keep_price_range(df_DUID_CO2_mean, -1000, 13500)"
   ]
  },
  {
   "cell_type": "code",
   "execution_count": 76,
   "metadata": {},
   "outputs": [
    {
     "name": "stdout",
     "output_type": "stream",
     "text": [
      "-1000.0\n",
      "13500.0\n"
     ]
    }
   ],
   "source": [
    "print(df_DUID_CO2_mean.Price.min())\n",
    "print(df_DUID_CO2_mean.Price.max())"
   ]
  },
  {
   "cell_type": "code",
   "execution_count": 77,
   "metadata": {},
   "outputs": [
    {
     "name": "stdout",
     "output_type": "stream",
     "text": [
      "231\n",
      "68\n"
     ]
    }
   ],
   "source": [
    "print(sum(df_DUID_CO2_mean.Price >= 13500))\n",
    "print(sum(df_DUID_CO2_mean.Price <= -1000))"
   ]
  },
  {
   "cell_type": "markdown",
   "metadata": {},
   "source": [
    "### __Checking time range and update mean groupby__"
   ]
  },
  {
   "cell_type": "code",
   "execution_count": 206,
   "metadata": {},
   "outputs": [],
   "source": [
    "def correct_timedelta(df, time_diff):\n",
    "    '''\n",
    "    df.index must be DateTimeIndex\n",
    "    Returns two lists\n",
    "    df=table_of_interest\n",
    "    col=\"column_of_interest\"\n",
    "    time_diff=time_diff in seconds as int\n",
    "    '''\n",
    "    lst = []\n",
    "    lst_i = []\n",
    "    \n",
    "    for i in range(1,df.shape[0]):\n",
    "        delta = abs(df.index[i] - df.index[i-1])\n",
    "        if int(delta.total_seconds()) != int(time_diff):\n",
    "            lst.append((\"from index {} on, it has been {} s or {} h.\".format(i,int(delta.total_seconds()),(int(delta.total_seconds()/3600)))))\n",
    "            lst_i.append((df.index[i],int(delta.total_seconds())))\n",
    "            \n",
    "    return lst, lst_i"
   ]
  },
  {
   "cell_type": "code",
   "execution_count": 207,
   "metadata": {},
   "outputs": [],
   "source": [
    "lst, lst_i = correct_timedelta(df_DUID_CO2_mean, 300)"
   ]
  },
  {
   "cell_type": "code",
   "execution_count": 208,
   "metadata": {},
   "outputs": [
    {
     "data": {
      "text/plain": [
       "[(Timestamp('2018-11-01 03:55:00'), 2592300),\n",
       " (Timestamp('2018-09-14 10:50:00'), 600),\n",
       " (Timestamp('2018-08-18 13:40:00'), 600),\n",
       " (Timestamp('2018-08-18 11:45:00'), 600),\n",
       " (Timestamp('2018-06-01 03:55:00'), 2592300),\n",
       " (Timestamp('2018-04-10 13:20:00'), 600),\n",
       " (Timestamp('2018-03-24 03:50:00'), 600),\n",
       " (Timestamp('2017-10-11 22:50:00'), 600),\n",
       " (Timestamp('2017-10-07 21:50:00'), 600),\n",
       " (Timestamp('2016-11-07 15:25:00'), 600),\n",
       " (Timestamp('2016-10-15 14:25:00'), 600),\n",
       " (Timestamp('2016-10-15 13:20:00'), 600),\n",
       " (Timestamp('2016-10-15 11:45:00'), 600),\n",
       " (Timestamp('2016-10-15 11:25:00'), 600),\n",
       " (Timestamp('2016-10-15 10:50:00'), 600),\n",
       " (Timestamp('2016-10-15 09:45:00'), 600),\n",
       " (Timestamp('2016-10-15 09:15:00'), 1200),\n",
       " (Timestamp('2016-10-15 07:35:00'), 600),\n",
       " (Timestamp('2016-09-09 03:10:00'), 600),\n",
       " (Timestamp('2016-09-09 02:45:00'), 600)]"
      ]
     },
     "execution_count": 208,
     "metadata": {},
     "output_type": "execute_result"
    }
   ],
   "source": [
    "lst_i[:20]"
   ]
  },
  {
   "cell_type": "code",
   "execution_count": 144,
   "metadata": {},
   "outputs": [],
   "source": [
    "def missing_intervals(lst_i):\n",
    "    '''\n",
    "    requires 2nd list from correct_timedelta function as input\n",
    "    Returns float of number of missing 5min intervals\n",
    "    '''\n",
    "    s = 0\n",
    "    for i,j in lst_i:\n",
    "        s = s + j\n",
    "        t = (s/300)-len(lst_i)\n",
    "    print('The number of missing 5min intervals is: {}.'.format(int(t)))\n",
    "    return t"
   ]
  },
  {
   "cell_type": "code",
   "execution_count": 141,
   "metadata": {},
   "outputs": [
    {
     "name": "stdout",
     "output_type": "stream",
     "text": [
      "The number of missing 5min intervals is: 17332.\n"
     ]
    },
    {
     "data": {
      "text/plain": [
       "17332.0"
      ]
     },
     "execution_count": 141,
     "metadata": {},
     "output_type": "execute_result"
    }
   ],
   "source": [
    "t = missing_intervals(lst_i)\n",
    "t"
   ]
  },
  {
   "cell_type": "code",
   "execution_count": 114,
   "metadata": {},
   "outputs": [
    {
     "data": {
      "text/plain": [
       "1060704"
      ]
     },
     "execution_count": 114,
     "metadata": {},
     "output_type": "execute_result"
    }
   ],
   "source": [
    "#hypothetical number of 5min intervals given the max and min values of the df time range\n",
    "h = pd.date_range(start=df_DUID_CO2_mean.index.min(), end=df_DUID_CO2_mean.index.max(), freq=\"5min\")\n",
    "len(h)"
   ]
  },
  {
   "cell_type": "code",
   "execution_count": 155,
   "metadata": {},
   "outputs": [],
   "source": [
    "assert abs(df_DUID_CO2_mean.shape[0] - len(h) + t) < 0.000001"
   ]
  },
  {
   "cell_type": "code",
   "execution_count": 199,
   "metadata": {},
   "outputs": [
    {
     "name": "stdout",
     "output_type": "stream",
     "text": [
      "(1060704, 2)\n"
     ]
    },
    {
     "data": {
      "text/html": [
       "<div>\n",
       "<style scoped>\n",
       "    .dataframe tbody tr th:only-of-type {\n",
       "        vertical-align: middle;\n",
       "    }\n",
       "\n",
       "    .dataframe tbody tr th {\n",
       "        vertical-align: top;\n",
       "    }\n",
       "\n",
       "    .dataframe thead th {\n",
       "        text-align: right;\n",
       "    }\n",
       "</style>\n",
       "<table border=\"1\" class=\"dataframe\">\n",
       "  <thead>\n",
       "    <tr style=\"text-align: right;\">\n",
       "      <th></th>\n",
       "      <th>Price</th>\n",
       "      <th>CO2E_EMISSIONS_FACTOR</th>\n",
       "    </tr>\n",
       "  </thead>\n",
       "  <tbody>\n",
       "    <tr>\n",
       "      <td>2019-08-01 03:55:00</td>\n",
       "      <td>79.52391</td>\n",
       "      <td>0.380340</td>\n",
       "    </tr>\n",
       "    <tr>\n",
       "      <td>2019-08-01 03:50:00</td>\n",
       "      <td>79.17710</td>\n",
       "      <td>0.456409</td>\n",
       "    </tr>\n",
       "    <tr>\n",
       "      <td>2019-08-01 03:45:00</td>\n",
       "      <td>85.14416</td>\n",
       "      <td>0.573436</td>\n",
       "    </tr>\n",
       "    <tr>\n",
       "      <td>2019-08-01 03:40:00</td>\n",
       "      <td>84.78689</td>\n",
       "      <td>0.573436</td>\n",
       "    </tr>\n",
       "    <tr>\n",
       "      <td>2019-08-01 03:35:00</td>\n",
       "      <td>84.78346</td>\n",
       "      <td>0.573436</td>\n",
       "    </tr>\n",
       "  </tbody>\n",
       "</table>\n",
       "</div>"
      ],
      "text/plain": [
       "                        Price  CO2E_EMISSIONS_FACTOR\n",
       "2019-08-01 03:55:00  79.52391               0.380340\n",
       "2019-08-01 03:50:00  79.17710               0.456409\n",
       "2019-08-01 03:45:00  85.14416               0.573436\n",
       "2019-08-01 03:40:00  84.78689               0.573436\n",
       "2019-08-01 03:35:00  84.78346               0.573436"
      ]
     },
     "execution_count": 199,
     "metadata": {},
     "output_type": "execute_result"
    }
   ],
   "source": [
    "df_full_time_mean = df_DUID_CO2_mean.reindex(h).sort_index(ascending=False)\n",
    "print(df_full_time_mean.shape)\n",
    "df_full_time_mean.head()"
   ]
  },
  {
   "cell_type": "code",
   "execution_count": 202,
   "metadata": {},
   "outputs": [
    {
     "data": {
      "text/html": [
       "<div>\n",
       "<style scoped>\n",
       "    .dataframe tbody tr th:only-of-type {\n",
       "        vertical-align: middle;\n",
       "    }\n",
       "\n",
       "    .dataframe tbody tr th {\n",
       "        vertical-align: top;\n",
       "    }\n",
       "\n",
       "    .dataframe thead th {\n",
       "        text-align: right;\n",
       "    }\n",
       "</style>\n",
       "<table border=\"1\" class=\"dataframe\">\n",
       "  <thead>\n",
       "    <tr style=\"text-align: right;\">\n",
       "      <th></th>\n",
       "      <th>Price</th>\n",
       "      <th>CO2E_EMISSIONS_FACTOR</th>\n",
       "    </tr>\n",
       "  </thead>\n",
       "  <tbody>\n",
       "    <tr>\n",
       "      <td>2016-10-15 11:50:00</td>\n",
       "      <td>NaN</td>\n",
       "      <td>NaN</td>\n",
       "    </tr>\n",
       "  </tbody>\n",
       "</table>\n",
       "</div>"
      ],
      "text/plain": [
       "                     Price  CO2E_EMISSIONS_FACTOR\n",
       "2016-10-15 11:50:00    NaN                    NaN"
      ]
     },
     "execution_count": 202,
     "metadata": {},
     "output_type": "execute_result"
    }
   ],
   "source": [
    "df_full_time_mean[df_full_time_mean.index == dt.datetime(2016,10,15,11,50,0)]"
   ]
  },
  {
   "cell_type": "code",
   "execution_count": 169,
   "metadata": {},
   "outputs": [
    {
     "name": "stdout",
     "output_type": "stream",
     "text": [
      "2009-07-01 04:00:00\n",
      "2019-08-01 03:55:00\n",
      "2009-07-01 04:00:00\n",
      "2019-08-01 03:55:00\n"
     ]
    }
   ],
   "source": [
    "print(df_DUID_CO2_mean.index.min())\n",
    "print(df_DUID_CO2_mean.index.max())\n",
    "\n",
    "print(df_full_time_mean.index.min())\n",
    "print(df_full_time_mean.index.max())"
   ]
  },
  {
   "cell_type": "code",
   "execution_count": 170,
   "metadata": {},
   "outputs": [
    {
     "data": {
      "text/plain": [
       "Price                    True\n",
       "CO2E_EMISSIONS_FACTOR    True\n",
       "dtype: bool"
      ]
     },
     "execution_count": 170,
     "metadata": {},
     "output_type": "execute_result"
    }
   ],
   "source": [
    "df_full_time_mean.sort_index(ascending=False)\n",
    "df_full_time_mean.isna().any()"
   ]
  },
  {
   "cell_type": "code",
   "execution_count": 171,
   "metadata": {},
   "outputs": [],
   "source": [
    "file_path = '{}/nem-data/nemde_clean/df_DUID_CO2_mean.pkl'.format(os.environ['HOME'])\n",
    "pd.to_pickle(df_full_time_mean, file_path)"
   ]
  },
  {
   "cell_type": "code",
   "execution_count": 178,
   "metadata": {},
   "outputs": [
    {
     "data": {
      "image/png": "[encoded data removed]",
      "text/plain": [
       "<Figure size 432x288 with 2 Axes>"
      ]
     },
     "metadata": {
      "needs_background": "light"
     },
     "output_type": "display_data"
    },
    {
     "data": {
      "text/plain": [
       "<Figure size 864x360 with 0 Axes>"
      ]
     },
     "metadata": {},
     "output_type": "display_data"
    }
   ],
   "source": [
    "fig = sns.heatmap(df_full_time_mean.isnull())\n",
    "plt.figure(figsize=(12,5));"
   ]
  },
  {
   "cell_type": "markdown",
   "metadata": {},
   "source": [
    "### __Update sum groupby__"
   ]
  },
  {
   "cell_type": "code",
   "execution_count": 174,
   "metadata": {},
   "outputs": [
    {
     "data": {
      "text/html": [
       "<div>\n",
       "<style scoped>\n",
       "    .dataframe tbody tr th:only-of-type {\n",
       "        vertical-align: middle;\n",
       "    }\n",
       "\n",
       "    .dataframe tbody tr th {\n",
       "        vertical-align: top;\n",
       "    }\n",
       "\n",
       "    .dataframe thead th {\n",
       "        text-align: right;\n",
       "    }\n",
       "</style>\n",
       "<table border=\"1\" class=\"dataframe\">\n",
       "  <thead>\n",
       "    <tr style=\"text-align: right;\">\n",
       "      <th></th>\n",
       "      <th>Price</th>\n",
       "      <th>CO2E_EMISSIONS_FACTOR</th>\n",
       "    </tr>\n",
       "    <tr>\n",
       "      <th>PeriodID</th>\n",
       "      <th></th>\n",
       "      <th></th>\n",
       "    </tr>\n",
       "  </thead>\n",
       "  <tbody>\n",
       "    <tr>\n",
       "      <td>2019-08-01 03:55:00</td>\n",
       "      <td>79.52391</td>\n",
       "      <td>1.141021</td>\n",
       "    </tr>\n",
       "    <tr>\n",
       "      <td>2019-08-01 03:50:00</td>\n",
       "      <td>79.17710</td>\n",
       "      <td>2.282043</td>\n",
       "    </tr>\n",
       "    <tr>\n",
       "      <td>2019-08-01 03:45:00</td>\n",
       "      <td>85.14416</td>\n",
       "      <td>0.573436</td>\n",
       "    </tr>\n",
       "    <tr>\n",
       "      <td>2019-08-01 03:40:00</td>\n",
       "      <td>84.78689</td>\n",
       "      <td>0.573436</td>\n",
       "    </tr>\n",
       "    <tr>\n",
       "      <td>2019-08-01 03:35:00</td>\n",
       "      <td>84.78346</td>\n",
       "      <td>0.573436</td>\n",
       "    </tr>\n",
       "  </tbody>\n",
       "</table>\n",
       "</div>"
      ],
      "text/plain": [
       "                        Price  CO2E_EMISSIONS_FACTOR\n",
       "PeriodID                                            \n",
       "2019-08-01 03:55:00  79.52391               1.141021\n",
       "2019-08-01 03:50:00  79.17710               2.282043\n",
       "2019-08-01 03:45:00  85.14416               0.573436\n",
       "2019-08-01 03:40:00  84.78689               0.573436\n",
       "2019-08-01 03:35:00  84.78346               0.573436"
      ]
     },
     "execution_count": 174,
     "metadata": {},
     "output_type": "execute_result"
    }
   ],
   "source": [
    "df_DUID_CO2_sum = df_DUID_CO2.groupby(df_DUID_CO2.index).agg({\"Price\":\"min\", \"CO2E_EMISSIONS_FACTOR\":\"sum\"}).sort_index(ascending=False)\n",
    "df_DUID_CO2_sum.head()"
   ]
  },
  {
   "cell_type": "code",
   "execution_count": 175,
   "metadata": {},
   "outputs": [],
   "source": [
    "df_DUID_CO2_sum = keep_price_range(df_DUID_CO2_sum, -1000, 13500)"
   ]
  },
  {
   "cell_type": "code",
   "execution_count": 176,
   "metadata": {},
   "outputs": [
    {
     "name": "stdout",
     "output_type": "stream",
     "text": [
      "13500.0\n",
      "-1000.0\n"
     ]
    }
   ],
   "source": [
    "print(df_DUID_CO2_sum.Price.max())\n",
    "print(df_DUID_CO2_sum.Price.min())"
   ]
  },
  {
   "cell_type": "code",
   "execution_count": 209,
   "metadata": {},
   "outputs": [],
   "source": [
    "lst1, lst_i1 = correct_timedelta(df_DUID_CO2_mean, 300)"
   ]
  },
  {
   "cell_type": "code",
   "execution_count": 210,
   "metadata": {},
   "outputs": [
    {
     "data": {
      "text/plain": [
       "['from index 69984 on, it has been 2592300 s or 720 h.',\n",
       " 'from index 83724 on, it has been 600 s or 0 h.',\n",
       " 'from index 91465 on, it has been 600 s or 0 h.',\n",
       " 'from index 91487 on, it has been 600 s or 0 h.',\n",
       " 'from index 105405 on, it has been 2592300 s or 720 h.']"
      ]
     },
     "execution_count": 210,
     "metadata": {},
     "output_type": "execute_result"
    }
   ],
   "source": [
    "lst[:5]"
   ]
  },
  {
   "cell_type": "code",
   "execution_count": 211,
   "metadata": {},
   "outputs": [
    {
     "name": "stdout",
     "output_type": "stream",
     "text": [
      "The number of missing 5min intervals is: 17332.\n"
     ]
    },
    {
     "data": {
      "text/plain": [
       "17332.0"
      ]
     },
     "execution_count": 211,
     "metadata": {},
     "output_type": "execute_result"
    }
   ],
   "source": [
    "t = missing_intervals(lst_i1)\n",
    "t"
   ]
  },
  {
   "cell_type": "code",
   "execution_count": 212,
   "metadata": {},
   "outputs": [
    {
     "data": {
      "text/plain": [
       "1060704"
      ]
     },
     "execution_count": 212,
     "metadata": {},
     "output_type": "execute_result"
    }
   ],
   "source": [
    "#hypothetical number of 5min intervals given the max and min values of the df time range\n",
    "h = pd.date_range(start=df_DUID_CO2_sum.index.min(), end=df_DUID_CO2_sum.index.max(), freq=\"5min\")\n",
    "len(h)"
   ]
  },
  {
   "cell_type": "code",
   "execution_count": 214,
   "metadata": {},
   "outputs": [],
   "source": [
    "assert abs(df_DUID_CO2_sum.shape[0] - len(h) + t) < 0.000001"
   ]
  },
  {
   "cell_type": "code",
   "execution_count": 215,
   "metadata": {},
   "outputs": [
    {
     "name": "stdout",
     "output_type": "stream",
     "text": [
      "(1060704, 2)\n"
     ]
    },
    {
     "data": {
      "text/html": [
       "<div>\n",
       "<style scoped>\n",
       "    .dataframe tbody tr th:only-of-type {\n",
       "        vertical-align: middle;\n",
       "    }\n",
       "\n",
       "    .dataframe tbody tr th {\n",
       "        vertical-align: top;\n",
       "    }\n",
       "\n",
       "    .dataframe thead th {\n",
       "        text-align: right;\n",
       "    }\n",
       "</style>\n",
       "<table border=\"1\" class=\"dataframe\">\n",
       "  <thead>\n",
       "    <tr style=\"text-align: right;\">\n",
       "      <th></th>\n",
       "      <th>Price</th>\n",
       "      <th>CO2E_EMISSIONS_FACTOR</th>\n",
       "    </tr>\n",
       "  </thead>\n",
       "  <tbody>\n",
       "    <tr>\n",
       "      <td>2019-08-01 03:55:00</td>\n",
       "      <td>79.52391</td>\n",
       "      <td>1.141021</td>\n",
       "    </tr>\n",
       "    <tr>\n",
       "      <td>2019-08-01 03:50:00</td>\n",
       "      <td>79.17710</td>\n",
       "      <td>2.282043</td>\n",
       "    </tr>\n",
       "    <tr>\n",
       "      <td>2019-08-01 03:45:00</td>\n",
       "      <td>85.14416</td>\n",
       "      <td>0.573436</td>\n",
       "    </tr>\n",
       "    <tr>\n",
       "      <td>2019-08-01 03:40:00</td>\n",
       "      <td>84.78689</td>\n",
       "      <td>0.573436</td>\n",
       "    </tr>\n",
       "    <tr>\n",
       "      <td>2019-08-01 03:35:00</td>\n",
       "      <td>84.78346</td>\n",
       "      <td>0.573436</td>\n",
       "    </tr>\n",
       "  </tbody>\n",
       "</table>\n",
       "</div>"
      ],
      "text/plain": [
       "                        Price  CO2E_EMISSIONS_FACTOR\n",
       "2019-08-01 03:55:00  79.52391               1.141021\n",
       "2019-08-01 03:50:00  79.17710               2.282043\n",
       "2019-08-01 03:45:00  85.14416               0.573436\n",
       "2019-08-01 03:40:00  84.78689               0.573436\n",
       "2019-08-01 03:35:00  84.78346               0.573436"
      ]
     },
     "execution_count": 215,
     "metadata": {},
     "output_type": "execute_result"
    }
   ],
   "source": [
    "df_full_time_sum = df_DUID_CO2_sum.reindex(h).sort_index(ascending=False)\n",
    "print(df_full_time_sum.shape)\n",
    "df_full_time_sum.head()"
   ]
  },
  {
   "cell_type": "code",
   "execution_count": 216,
   "metadata": {},
   "outputs": [
    {
     "name": "stdout",
     "output_type": "stream",
     "text": [
      "2009-07-01 04:00:00\n",
      "2019-08-01 03:55:00\n",
      "2009-07-01 04:00:00\n",
      "2019-08-01 03:55:00\n"
     ]
    }
   ],
   "source": [
    "print(df_DUID_CO2_mean.index.min())\n",
    "print(df_DUID_CO2_mean.index.max())\n",
    "\n",
    "print(df_full_time_mean.index.min())\n",
    "print(df_full_time_mean.index.max())"
   ]
  },
  {
   "cell_type": "code",
   "execution_count": 217,
   "metadata": {},
   "outputs": [],
   "source": [
    "file_path = '{}/nem-data/nemde_clean/df_DUID_CO2_sum.pkl'.format(os.environ['HOME'])\n",
    "pd.to_pickle(df_full_time_sum, file_path)"
   ]
  },
  {
   "cell_type": "code",
   "execution_count": null,
   "metadata": {},
   "outputs": [],
   "source": []
  },
  {
   "cell_type": "code",
   "execution_count": null,
   "metadata": {},
   "outputs": [],
   "source": []
  },
  {
   "cell_type": "code",
   "execution_count": null,
   "metadata": {},
   "outputs": [],
   "source": []
  },
  {
   "cell_type": "code",
   "execution_count": 87,
   "metadata": {},
   "outputs": [],
   "source": [
    "#path = '{}/Desktop/Portfolio_project/Fuel_sources.csv'.format(os.environ['HOME'])"
   ]
  },
  {
   "cell_type": "code",
   "execution_count": 88,
   "metadata": {},
   "outputs": [],
   "source": [
    "#fuel_source = pd.read_csv(path)\n",
    "#fuel_source"
   ]
  },
  {
   "cell_type": "code",
   "execution_count": 106,
   "metadata": {},
   "outputs": [
    {
     "name": "stdout",
     "output_type": "stream",
     "text": [
      "2009-07-01 04:00:00\n",
      "2019-08-01 03:55:00\n",
      "<class 'pandas._libs.tslibs.timestamps.Timestamp'>\n",
      "<class 'pandas._libs.tslibs.timestamps.Timestamp'>\n",
      "(1043372, 2)\n"
     ]
    }
   ],
   "source": [
    "print(df_DUID_CO2_mean.index.min())\n",
    "print(df_DUID_CO2_mean.index.max())\n",
    "\n",
    "print(type(df_DUID_CO2_mean.index.min()))\n",
    "print(type(df_DUID_CO2_mean.index.max()))\n",
    "\n",
    "print(df_DUID_CO2_mean.shape)"
   ]
  },
  {
   "cell_type": "code",
   "execution_count": 92,
   "metadata": {},
   "outputs": [
    {
     "data": {
      "text/plain": [
       "DatetimeIndex([], dtype='datetime64[ns]', freq='5T')"
      ]
     },
     "execution_count": 92,
     "metadata": {},
     "output_type": "execute_result"
    }
   ],
   "source": [
    "pd.date_range(df_DUID_CO2_mean.index.max(), df_DUID_CO2_mean.index.min(), freq=\"5min\")"
   ]
  },
  {
   "cell_type": "code",
   "execution_count": 104,
   "metadata": {},
   "outputs": [
    {
     "data": {
      "text/plain": [
       "1060704"
      ]
     },
     "execution_count": 104,
     "metadata": {},
     "output_type": "execute_result"
    }
   ],
   "source": [
    "h = pd.date_range(start=df_DUID_CO2_mean.index.min(), end=df_DUID_CO2_mean.index.max(), freq=\"5min\")\n",
    "len(h)"
   ]
  },
  {
   "cell_type": "code",
   "execution_count": 101,
   "metadata": {},
   "outputs": [],
   "source": [
    "test = df_DUID_CO2_mean.reindex(h)"
   ]
  },
  {
   "cell_type": "code",
   "execution_count": 102,
   "metadata": {},
   "outputs": [
    {
     "data": {
      "text/plain": [
       "(1060704, 2)"
      ]
     },
     "execution_count": 102,
     "metadata": {},
     "output_type": "execute_result"
    }
   ],
   "source": [
    "test.shape"
   ]
  },
  {
   "cell_type": "code",
   "execution_count": null,
   "metadata": {},
   "outputs": [],
   "source": [
    "df_DUID_CO2_mean + "
   ]
  }
 ],
 "metadata": {
  "kernelspec": {
   "display_name": "Python 3",
   "language": "python",
   "name": "python3"
  },
  "language_info": {
   "codemirror_mode": {
    "name": "ipython",
    "version": 3
   },
   "file_extension": ".py",
   "mimetype": "text/x-python",
   "name": "python",
   "nbconvert_exporter": "python",
   "pygments_lexer": "ipython3",
   "version": "3.6.8"
  }
 },
 "nbformat": 4,
 "nbformat_minor": 4
}
