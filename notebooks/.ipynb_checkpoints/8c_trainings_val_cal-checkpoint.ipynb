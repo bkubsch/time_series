{
 "cells": [
  {
   "cell_type": "code",
   "execution_count": 9,
   "metadata": {},
   "outputs": [],
   "source": [
    "import pandas as pd\n",
    "import numpy as np\n",
    "import os\n",
    "import datetime as dt\n",
    "import joblib\n",
    "\n",
    "import xgboost as xgb\n",
    "from sklearn.model_selection import TimeSeriesSplit, GridSearchCV"
   ]
  },
  {
   "cell_type": "code",
   "execution_count": 10,
   "metadata": {},
   "outputs": [],
   "source": [
    "def rel_errors(model, X_train, y_train, X_test, y_test):\n",
    "\n",
    "    train_mae = (sum(abs(y_train - model.predict(X_train)))/len(y_train))/y_train.mean()\n",
    "    train_mape = (sum(abs(y_train - model.predict(X_train))*100)/len(y_train))/y_train.mean()\n",
    "\n",
    "    test_mae = (sum(abs(y_test - model.predict(X_test)))/len(y_test))/y_test.mean()\n",
    "    test_mape = (sum(abs(y_test - model.predict(X_test))*100)/len(y_test))/y_test.mean()\n",
    "\n",
    "    print(f\"rel_train_mae: {train_mae}\")\n",
    "    print(f\"rel_test_mae: {test_mae}\")\n",
    "    print(f\"rel_train_mape: {train_mape}\")\n",
    "    print(f\"rel_test_mape: {test_mape}\")"
   ]
  },
  {
   "cell_type": "code",
   "execution_count": 11,
   "metadata": {},
   "outputs": [],
   "source": [
    "file_path = '{}/nem-data/nemde_clean/df_clean_interconnectors.pkl'.format(os.environ['HOME'])\n",
    "df = pd.read_pickle(file_path)"
   ]
  },
  {
   "cell_type": "code",
   "execution_count": 12,
   "metadata": {},
   "outputs": [
    {
     "data": {
      "text/plain": [
       "CO2E_EMISSIONS_FACTOR    False\n",
       "minute_sin               False\n",
       "minute_cos               False\n",
       "hour_sin                 False\n",
       "hour_cos                 False\n",
       "weekday_sin              False\n",
       "month_sin                False\n",
       "month_cos                False\n",
       "lag1                     False\n",
       "lag2                     False\n",
       "lag3                     False\n",
       "lag4                     False\n",
       "lag5                     False\n",
       "lag6                     False\n",
       "lag7                     False\n",
       "lag8                     False\n",
       "lag9                     False\n",
       "lag10                    False\n",
       "lag11                    False\n",
       "lag12                    False\n",
       "horizon0                 False\n",
       "demand                   False\n",
       "demand_capacity          False\n",
       "interconnector           False\n",
       "dtype: bool"
      ]
     },
     "execution_count": 12,
     "metadata": {},
     "output_type": "execute_result"
    }
   ],
   "source": [
    "df.isna().any()"
   ]
  },
  {
   "cell_type": "code",
   "execution_count": 13,
   "metadata": {},
   "outputs": [
    {
     "data": {
      "text/plain": [
       "(807149, 24)"
      ]
     },
     "execution_count": 13,
     "metadata": {},
     "output_type": "execute_result"
    }
   ],
   "source": [
    "df.shape"
   ]
  },
  {
   "cell_type": "code",
   "execution_count": 14,
   "metadata": {},
   "outputs": [
    {
     "data": {
      "text/html": [
       "<div>\n",
       "<style scoped>\n",
       "    .dataframe tbody tr th:only-of-type {\n",
       "        vertical-align: middle;\n",
       "    }\n",
       "\n",
       "    .dataframe tbody tr th {\n",
       "        vertical-align: top;\n",
       "    }\n",
       "\n",
       "    .dataframe thead th {\n",
       "        text-align: right;\n",
       "    }\n",
       "</style>\n",
       "<table border=\"1\" class=\"dataframe\">\n",
       "  <thead>\n",
       "    <tr style=\"text-align: right;\">\n",
       "      <th></th>\n",
       "      <th>CO2E_EMISSIONS_FACTOR</th>\n",
       "      <th>minute_sin</th>\n",
       "      <th>minute_cos</th>\n",
       "      <th>hour_sin</th>\n",
       "      <th>hour_cos</th>\n",
       "      <th>weekday_sin</th>\n",
       "      <th>month_sin</th>\n",
       "      <th>month_cos</th>\n",
       "      <th>lag1</th>\n",
       "      <th>lag2</th>\n",
       "      <th>...</th>\n",
       "      <th>lag7</th>\n",
       "      <th>lag8</th>\n",
       "      <th>lag9</th>\n",
       "      <th>lag10</th>\n",
       "      <th>lag11</th>\n",
       "      <th>lag12</th>\n",
       "      <th>horizon0</th>\n",
       "      <th>demand</th>\n",
       "      <th>demand_capacity</th>\n",
       "      <th>interconnector</th>\n",
       "    </tr>\n",
       "  </thead>\n",
       "  <tbody>\n",
       "    <tr>\n",
       "      <td>2009-09-01 01:05:00</td>\n",
       "      <td>0.980592</td>\n",
       "      <td>0.500000</td>\n",
       "      <td>8.660254e-01</td>\n",
       "      <td>0.258819</td>\n",
       "      <td>0.965926</td>\n",
       "      <td>0.0</td>\n",
       "      <td>-1.0</td>\n",
       "      <td>-1.836970e-16</td>\n",
       "      <td>0.871459</td>\n",
       "      <td>0.976360</td>\n",
       "      <td>...</td>\n",
       "      <td>0.97636</td>\n",
       "      <td>0.97636</td>\n",
       "      <td>0.975655</td>\n",
       "      <td>1.032780</td>\n",
       "      <td>0.976889</td>\n",
       "      <td>0.976360</td>\n",
       "      <td>0.980592</td>\n",
       "      <td>1540.46</td>\n",
       "      <td>0.561122</td>\n",
       "      <td>204.99</td>\n",
       "    </tr>\n",
       "    <tr>\n",
       "      <td>2009-09-01 01:10:00</td>\n",
       "      <td>1.154818</td>\n",
       "      <td>0.866025</td>\n",
       "      <td>5.000000e-01</td>\n",
       "      <td>0.258819</td>\n",
       "      <td>0.965926</td>\n",
       "      <td>0.0</td>\n",
       "      <td>-1.0</td>\n",
       "      <td>-1.836970e-16</td>\n",
       "      <td>0.980592</td>\n",
       "      <td>0.871459</td>\n",
       "      <td>...</td>\n",
       "      <td>0.97636</td>\n",
       "      <td>0.97636</td>\n",
       "      <td>0.976360</td>\n",
       "      <td>0.975655</td>\n",
       "      <td>1.032780</td>\n",
       "      <td>0.976889</td>\n",
       "      <td>1.154818</td>\n",
       "      <td>1499.28</td>\n",
       "      <td>0.545420</td>\n",
       "      <td>171.40</td>\n",
       "    </tr>\n",
       "    <tr>\n",
       "      <td>2009-09-01 01:15:00</td>\n",
       "      <td>0.976360</td>\n",
       "      <td>1.000000</td>\n",
       "      <td>2.832769e-16</td>\n",
       "      <td>0.258819</td>\n",
       "      <td>0.965926</td>\n",
       "      <td>0.0</td>\n",
       "      <td>-1.0</td>\n",
       "      <td>-1.836970e-16</td>\n",
       "      <td>1.154818</td>\n",
       "      <td>0.980592</td>\n",
       "      <td>...</td>\n",
       "      <td>0.97636</td>\n",
       "      <td>0.97636</td>\n",
       "      <td>0.976360</td>\n",
       "      <td>0.976360</td>\n",
       "      <td>0.975655</td>\n",
       "      <td>1.032780</td>\n",
       "      <td>0.976360</td>\n",
       "      <td>1509.50</td>\n",
       "      <td>0.550675</td>\n",
       "      <td>181.68</td>\n",
       "    </tr>\n",
       "    <tr>\n",
       "      <td>2009-09-01 01:20:00</td>\n",
       "      <td>0.976360</td>\n",
       "      <td>0.866025</td>\n",
       "      <td>-5.000000e-01</td>\n",
       "      <td>0.258819</td>\n",
       "      <td>0.965926</td>\n",
       "      <td>0.0</td>\n",
       "      <td>-1.0</td>\n",
       "      <td>-1.836970e-16</td>\n",
       "      <td>0.976360</td>\n",
       "      <td>1.154818</td>\n",
       "      <td>...</td>\n",
       "      <td>0.98698</td>\n",
       "      <td>0.97636</td>\n",
       "      <td>0.976360</td>\n",
       "      <td>0.976360</td>\n",
       "      <td>0.976360</td>\n",
       "      <td>0.975655</td>\n",
       "      <td>0.976360</td>\n",
       "      <td>1504.69</td>\n",
       "      <td>0.548709</td>\n",
       "      <td>176.25</td>\n",
       "    </tr>\n",
       "    <tr>\n",
       "      <td>2009-09-01 01:25:00</td>\n",
       "      <td>0.976360</td>\n",
       "      <td>0.500000</td>\n",
       "      <td>-8.660254e-01</td>\n",
       "      <td>0.258819</td>\n",
       "      <td>0.965926</td>\n",
       "      <td>0.0</td>\n",
       "      <td>-1.0</td>\n",
       "      <td>-1.836970e-16</td>\n",
       "      <td>0.976360</td>\n",
       "      <td>0.976360</td>\n",
       "      <td>...</td>\n",
       "      <td>0.98698</td>\n",
       "      <td>0.98698</td>\n",
       "      <td>0.976360</td>\n",
       "      <td>0.976360</td>\n",
       "      <td>0.976360</td>\n",
       "      <td>0.976360</td>\n",
       "      <td>0.976360</td>\n",
       "      <td>1493.48</td>\n",
       "      <td>0.544586</td>\n",
       "      <td>166.35</td>\n",
       "    </tr>\n",
       "  </tbody>\n",
       "</table>\n",
       "<p>5 rows × 24 columns</p>\n",
       "</div>"
      ],
      "text/plain": [
       "                     CO2E_EMISSIONS_FACTOR  minute_sin    minute_cos  \\\n",
       "2009-09-01 01:05:00               0.980592    0.500000  8.660254e-01   \n",
       "2009-09-01 01:10:00               1.154818    0.866025  5.000000e-01   \n",
       "2009-09-01 01:15:00               0.976360    1.000000  2.832769e-16   \n",
       "2009-09-01 01:20:00               0.976360    0.866025 -5.000000e-01   \n",
       "2009-09-01 01:25:00               0.976360    0.500000 -8.660254e-01   \n",
       "\n",
       "                     hour_sin  hour_cos  weekday_sin  month_sin     month_cos  \\\n",
       "2009-09-01 01:05:00  0.258819  0.965926          0.0       -1.0 -1.836970e-16   \n",
       "2009-09-01 01:10:00  0.258819  0.965926          0.0       -1.0 -1.836970e-16   \n",
       "2009-09-01 01:15:00  0.258819  0.965926          0.0       -1.0 -1.836970e-16   \n",
       "2009-09-01 01:20:00  0.258819  0.965926          0.0       -1.0 -1.836970e-16   \n",
       "2009-09-01 01:25:00  0.258819  0.965926          0.0       -1.0 -1.836970e-16   \n",
       "\n",
       "                         lag1      lag2  ...     lag7     lag8      lag9  \\\n",
       "2009-09-01 01:05:00  0.871459  0.976360  ...  0.97636  0.97636  0.975655   \n",
       "2009-09-01 01:10:00  0.980592  0.871459  ...  0.97636  0.97636  0.976360   \n",
       "2009-09-01 01:15:00  1.154818  0.980592  ...  0.97636  0.97636  0.976360   \n",
       "2009-09-01 01:20:00  0.976360  1.154818  ...  0.98698  0.97636  0.976360   \n",
       "2009-09-01 01:25:00  0.976360  0.976360  ...  0.98698  0.98698  0.976360   \n",
       "\n",
       "                        lag10     lag11     lag12  horizon0   demand  \\\n",
       "2009-09-01 01:05:00  1.032780  0.976889  0.976360  0.980592  1540.46   \n",
       "2009-09-01 01:10:00  0.975655  1.032780  0.976889  1.154818  1499.28   \n",
       "2009-09-01 01:15:00  0.976360  0.975655  1.032780  0.976360  1509.50   \n",
       "2009-09-01 01:20:00  0.976360  0.976360  0.975655  0.976360  1504.69   \n",
       "2009-09-01 01:25:00  0.976360  0.976360  0.976360  0.976360  1493.48   \n",
       "\n",
       "                     demand_capacity  interconnector  \n",
       "2009-09-01 01:05:00         0.561122          204.99  \n",
       "2009-09-01 01:10:00         0.545420          171.40  \n",
       "2009-09-01 01:15:00         0.550675          181.68  \n",
       "2009-09-01 01:20:00         0.548709          176.25  \n",
       "2009-09-01 01:25:00         0.544586          166.35  \n",
       "\n",
       "[5 rows x 24 columns]"
      ]
     },
     "execution_count": 14,
     "metadata": {},
     "output_type": "execute_result"
    }
   ],
   "source": [
    "df.head()"
   ]
  },
  {
   "cell_type": "code",
   "execution_count": 34,
   "metadata": {},
   "outputs": [],
   "source": [
    "df_train_val = df[df.index < dt.datetime(2017,5,31,0,0,0)]\n",
    "df_test_set = df[df.index >= dt.datetime(2017,5,31,0,0,0)]\n",
    "\n",
    "train_val = file_path = '{}/nem-data/nemde_clean/final_training.pkl'.format(os.environ['HOME'])\n",
    "pd.to_pickle(df_train_val, train_val)\n",
    "\n",
    "test_set = file_path = '{}/nem-data/nemde_clean/final_testing.pkl'.format(os.environ['HOME'])\n",
    "pd.to_pickle(df_test_set, test_set)"
   ]
  },
  {
   "cell_type": "code",
   "execution_count": 38,
   "metadata": {},
   "outputs": [
    {
     "name": "stdout",
     "output_type": "stream",
     "text": [
      "2017-05-30 23:55:00\n",
      "2017-05-31 00:00:00\n"
     ]
    }
   ],
   "source": [
    "print(df_train_val.index.max())\n",
    "print(df_test_set.index.min())"
   ]
  },
  {
   "cell_type": "code",
   "execution_count": 31,
   "metadata": {},
   "outputs": [],
   "source": [
    "def train_test_ts(df, relative_train, maximal_lag, horizon):\n",
    "    '''\n",
    "    Time series (ts) split function creates a train/test set under consideration of potential overlap between the two due to lag processing\n",
    "    X_train, y_train, X_test, y_test = ...\n",
    "    df=must contain target column as \"target\"; all other columns must be used as features\n",
    "    percentage_train=how much of the total dataset shall be used for training; must be added between 0 - 1\n",
    "    maximal_lag=out of all lag feature engineering, enter the maximal lag number\n",
    "    '''\n",
    "    k = int(df.shape[0] * relative_train)\n",
    "    data_train = df.iloc[:k,:]\n",
    "    #to avoid overlapping of train and test data, a gap of the maximal lag - 1 must be included between the two sets\n",
    "    data_test = df.iloc[k+maximal_lag:,:]\n",
    "    \n",
    "    assert data_train.index.max() < data_test.index.min()\n",
    "    \n",
    "    #returns in the sequence X_train, y_train, X_test, y_test\n",
    "    return (data_train.drop(columns=[f\"horizon{horizon}\",\"CO2E_EMISSIONS_FACTOR\"], axis=1), data_train[f\"horizon{horizon}\"],\n",
    "            data_test.drop(columns=[f\"horizon{horizon}\",\"CO2E_EMISSIONS_FACTOR\"], axis=1), data_test[f\"horizon{horizon}\"])"
   ]
  },
  {
   "cell_type": "markdown",
   "metadata": {},
   "source": [
    "### __Training with no demand and interconncetors__"
   ]
  },
  {
   "cell_type": "code",
   "execution_count": 17,
   "metadata": {},
   "outputs": [
    {
     "name": "stderr",
     "output_type": "stream",
     "text": [
      "/home/bastian/Environment/DSR_portfolio/lib/python3.6/site-packages/xgboost/core.py:587: FutureWarning: Series.base is deprecated and will be removed in a future version\n",
      "  if getattr(data, 'base', None) is not None and \\\n",
      "/home/bastian/Environment/DSR_portfolio/lib/python3.6/site-packages/xgboost/core.py:588: FutureWarning: Series.base is deprecated and will be removed in a future version\n",
      "  data.base is not None and isinstance(data, np.ndarray) \\\n"
     ]
    },
    {
     "name": "stdout",
     "output_type": "stream",
     "text": [
      "[15:25:09] WARNING: /workspace/src/objective/regression_obj.cu:152: reg:linear is now deprecated in favor of reg:squarederror.\n",
      "rel_train_mae: 0.2801966701311946\n",
      "rel_test_mae: 0.27023513688202067\n",
      "rel_train_mape: 28.01966701317628\n",
      "rel_test_mape: 27.023513688203767\n"
     ]
    }
   ],
   "source": [
    "df1 = df.drop(columns=[\"demand\", \"demand_capacity\", \"interconnector\"])\n",
    "\n",
    "df_train_val1 = df1[df1.index < dt.datetime(2017,5,31,0,0,0)]\n",
    "df_test_set1 = df1[df1.index >= dt.datetime(2017,5,31,0,0,0)]\n",
    "\n",
    "X_train1, y_train1, X_test1, y_test1 = train_test_ts(df_train_val1, 0.8, 12)\n",
    "\n",
    "model1 = xgb.XGBRegressor(max_depth=5,\n",
    "                         learning_rate=0.1,\n",
    "                         num_estimators=100,\n",
    "                         n_jobs=7,\n",
    "                         reg_alpha=0.05,\n",
    "                         reg_lambda=0,\n",
    "                        )\n",
    "\n",
    "model1.fit(X_train1, y_train1)\n",
    "\n",
    "rel_errors(model1,X_train1, y_train1, X_test1, y_test1)"
   ]
  },
  {
   "cell_type": "markdown",
   "metadata": {},
   "source": [
    "### __Training with demand__"
   ]
  },
  {
   "cell_type": "code",
   "execution_count": 18,
   "metadata": {},
   "outputs": [
    {
     "name": "stdout",
     "output_type": "stream",
     "text": [
      "[15:25:25] WARNING: /workspace/src/objective/regression_obj.cu:152: reg:linear is now deprecated in favor of reg:squarederror.\n",
      "rel_train_mae: 0.27998509837746993\n",
      "rel_test_mae: 0.2686899964373279\n",
      "rel_train_mape: 27.998509837801283\n",
      "rel_test_mape: 26.86899964373413\n"
     ]
    }
   ],
   "source": [
    "df3 = df.drop(columns=\"interconnector\")\n",
    "\n",
    "df_train_val3 = df3[df3.index < dt.datetime(2017,5,31,0,0,0)]\n",
    "df_test_set3 = df3[df3.index >= dt.datetime(2017,5,31,0,0,0)]\n",
    "\n",
    "X_train3, y_train3, X_test3, y_test3 = train_test_ts(df_train_val3, 0.8, 12)\n",
    "\n",
    "model3 = xgb.XGBRegressor(max_depth=5,\n",
    "                         learning_rate=0.1,\n",
    "                         num_estimators=100,\n",
    "                         n_jobs=7,\n",
    "                         reg_alpha=0.05,\n",
    "                         reg_lambda=0,\n",
    "                        )\n",
    "\n",
    "model3.fit(X_train3, y_train3)\n",
    "\n",
    "rel_errors(model3, X_train3, y_train3, X_test3, y_test3)"
   ]
  },
  {
   "cell_type": "markdown",
   "metadata": {},
   "source": [
    "### __Training with interconnectors__"
   ]
  },
  {
   "cell_type": "code",
   "execution_count": 19,
   "metadata": {},
   "outputs": [
    {
     "name": "stdout",
     "output_type": "stream",
     "text": [
      "[15:25:49] WARNING: /workspace/src/objective/regression_obj.cu:152: reg:linear is now deprecated in favor of reg:squarederror.\n",
      "rel_train_mae: 0.2802140747862288\n",
      "rel_test_mae: 0.2731677083206807\n",
      "rel_train_mape: 28.02140747867672\n",
      "rel_test_mape: 27.316770832070517\n"
     ]
    }
   ],
   "source": [
    "df2 = df.drop(columns=[\"demand\", \"demand_capacity\"])\n",
    "\n",
    "df_train_val2 = df2[df2.index < dt.datetime(2017,5,31,0,0,0)]\n",
    "df_test_set2 = df2[df2.index >= dt.datetime(2017,5,31,0,0,0)]\n",
    "\n",
    "X_train2, y_train2, X_test2, y_test2 = train_test_ts(df_train_val2, 0.8, 12)\n",
    "\n",
    "model2 = xgb.XGBRegressor(max_depth=5,\n",
    "                         learning_rate=0.1,\n",
    "                         num_estimators=100,\n",
    "                         n_jobs=7,\n",
    "                         reg_alpha=0.05,\n",
    "                         reg_lambda=0,\n",
    "                        )\n",
    "\n",
    "model2.fit(X_train2, y_train2)\n",
    "\n",
    "rel_errors(model2, X_train2, y_train2, X_test2, y_test2)"
   ]
  },
  {
   "cell_type": "markdown",
   "metadata": {},
   "source": [
    "### __Training with demand and interconnectors__"
   ]
  },
  {
   "cell_type": "code",
   "execution_count": 20,
   "metadata": {},
   "outputs": [],
   "source": [
    "X_train, y_train, X_test, y_test = train_test_ts(df_train_val, 0.8, 12)"
   ]
  },
  {
   "cell_type": "code",
   "execution_count": 21,
   "metadata": {},
   "outputs": [
    {
     "name": "stdout",
     "output_type": "stream",
     "text": [
      "Index(['minute_sin', 'minute_cos', 'hour_sin', 'hour_cos', 'weekday_sin',\n",
      "       'month_sin', 'month_cos', 'lag1', 'lag2', 'lag3', 'lag4', 'lag5',\n",
      "       'lag6', 'lag7', 'lag8', 'lag9', 'lag10', 'lag11', 'lag12', 'demand',\n",
      "       'demand_capacity', 'interconnector'],\n",
      "      dtype='object')\n",
      "Index(['minute_sin', 'minute_cos', 'hour_sin', 'hour_cos', 'weekday_sin',\n",
      "       'month_sin', 'month_cos', 'lag1', 'lag2', 'lag3', 'lag4', 'lag5',\n",
      "       'lag6', 'lag7', 'lag8', 'lag9', 'lag10', 'lag11', 'lag12', 'demand',\n",
      "       'demand_capacity', 'interconnector'],\n",
      "      dtype='object')\n"
     ]
    }
   ],
   "source": [
    "print(X_train.columns)\n",
    "print(X_test.columns)"
   ]
  },
  {
   "cell_type": "code",
   "execution_count": 22,
   "metadata": {},
   "outputs": [
    {
     "name": "stdout",
     "output_type": "stream",
     "text": [
      "2016-03-10 08:10:00\n",
      "2016-03-10 09:15:00\n"
     ]
    }
   ],
   "source": [
    "print(X_train.index.max())\n",
    "print(X_test.index.min())"
   ]
  },
  {
   "cell_type": "code",
   "execution_count": 23,
   "metadata": {},
   "outputs": [
    {
     "name": "stdout",
     "output_type": "stream",
     "text": [
      "[15:26:13] WARNING: /workspace/src/objective/regression_obj.cu:152: reg:linear is now deprecated in favor of reg:squarederror.\n",
      "rel_train_mae: 0.27959603558873336\n",
      "rel_test_mae: 0.2687075709892779\n",
      "rel_train_mape: 27.959603558926503\n",
      "rel_test_mape: 26.870757098929374\n"
     ]
    }
   ],
   "source": [
    "model = xgb.XGBRegressor(max_depth=5,\n",
    "                         learning_rate=0.1,\n",
    "                         num_estimators=100,\n",
    "                         n_jobs=7,\n",
    "                         reg_alpha=0.05,\n",
    "                         reg_lambda=0,\n",
    "                        )\n",
    "\n",
    "model.fit(X_train, y_train)\n",
    "\n",
    "rel_errors(model, X_train, y_train, X_test, y_test)"
   ]
  },
  {
   "cell_type": "markdown",
   "metadata": {},
   "source": [
    "### __including year__"
   ]
  },
  {
   "cell_type": "code",
   "execution_count": 24,
   "metadata": {},
   "outputs": [],
   "source": [
    "df5 = df\n",
    "df5[\"year\"] = df5.index.year\n",
    "df5.year.nunique()\n",
    "df5['year_sin'] = np.sin(2 * np.pi * df.loc[:,'year']/11.0)\n",
    "df5['year_cos'] = np.cos(2 * np.pi * df.loc[:,'year']/11.0)"
   ]
  },
  {
   "cell_type": "code",
   "execution_count": 25,
   "metadata": {},
   "outputs": [],
   "source": [
    "df5.drop(columns=\"year\", inplace=True)"
   ]
  },
  {
   "cell_type": "code",
   "execution_count": 26,
   "metadata": {},
   "outputs": [
    {
     "name": "stdout",
     "output_type": "stream",
     "text": [
      "[15:26:38] WARNING: /workspace/src/objective/regression_obj.cu:152: reg:linear is now deprecated in favor of reg:squarederror.\n",
      "rel_train_mae: 0.2794969179392685\n",
      "rel_test_mae: 0.2689107432427029\n",
      "rel_train_mape: 27.94969179397616\n",
      "rel_test_mape: 26.891074324271063\n"
     ]
    }
   ],
   "source": [
    "df_train_val5 = df5[df5.index < dt.datetime(2017,5,31,0,0,0)]\n",
    "df_test_set5 = df5[df5.index >= dt.datetime(2017,5,31,0,0,0)]\n",
    "\n",
    "X_train5, y_train5, X_test5, y_test5 = train_test_ts(df_train_val5, 0.8, 12)\n",
    "\n",
    "model5 = xgb.XGBRegressor(max_depth=5,\n",
    "                         learning_rate=0.1,\n",
    "                         num_estimators=100,\n",
    "                         n_jobs=7,\n",
    "                         reg_alpha=0.05,\n",
    "                         reg_lambda=0,\n",
    "                        )\n",
    "\n",
    "model5.fit(X_train5, y_train5)\n",
    "\n",
    "rel_errors(model5, X_train5, y_train5, X_test5, y_test5)"
   ]
  },
  {
   "cell_type": "code",
   "execution_count": 27,
   "metadata": {},
   "outputs": [
    {
     "data": {
      "text/plain": [
       "['/home/bastian/nem-data/trainings/model5.pkl']"
      ]
     },
     "execution_count": 27,
     "metadata": {},
     "output_type": "execute_result"
    }
   ],
   "source": [
    "joblib.dump(model5, '{}/nem-data/trainings/model5.pkl'.format(os.environ['HOME']))"
   ]
  },
  {
   "cell_type": "code",
   "execution_count": 28,
   "metadata": {},
   "outputs": [
    {
     "data": {
      "text/html": [
       "<div>\n",
       "<style scoped>\n",
       "    .dataframe tbody tr th:only-of-type {\n",
       "        vertical-align: middle;\n",
       "    }\n",
       "\n",
       "    .dataframe tbody tr th {\n",
       "        vertical-align: top;\n",
       "    }\n",
       "\n",
       "    .dataframe thead th {\n",
       "        text-align: right;\n",
       "    }\n",
       "</style>\n",
       "<table border=\"1\" class=\"dataframe\">\n",
       "  <thead>\n",
       "    <tr style=\"text-align: right;\">\n",
       "      <th></th>\n",
       "      <th>minute_sin</th>\n",
       "      <th>minute_cos</th>\n",
       "      <th>hour_sin</th>\n",
       "      <th>hour_cos</th>\n",
       "      <th>weekday_sin</th>\n",
       "      <th>month_sin</th>\n",
       "      <th>month_cos</th>\n",
       "      <th>lag1</th>\n",
       "      <th>lag2</th>\n",
       "      <th>lag3</th>\n",
       "      <th>...</th>\n",
       "      <th>lag9</th>\n",
       "      <th>lag10</th>\n",
       "      <th>lag11</th>\n",
       "      <th>lag12</th>\n",
       "      <th>horizon0</th>\n",
       "      <th>demand</th>\n",
       "      <th>demand_capacity</th>\n",
       "      <th>interconnector</th>\n",
       "      <th>year_sin</th>\n",
       "      <th>year_cos</th>\n",
       "    </tr>\n",
       "  </thead>\n",
       "  <tbody>\n",
       "    <tr>\n",
       "      <td>2009-09-01 01:05:00</td>\n",
       "      <td>0.500000</td>\n",
       "      <td>8.660254e-01</td>\n",
       "      <td>0.258819</td>\n",
       "      <td>0.965926</td>\n",
       "      <td>0.0</td>\n",
       "      <td>-1.000000</td>\n",
       "      <td>-1.836970e-16</td>\n",
       "      <td>0.871459</td>\n",
       "      <td>0.976360</td>\n",
       "      <td>0.986980</td>\n",
       "      <td>...</td>\n",
       "      <td>0.975655</td>\n",
       "      <td>1.032780</td>\n",
       "      <td>0.976889</td>\n",
       "      <td>0.976360</td>\n",
       "      <td>0.980592</td>\n",
       "      <td>1540.46</td>\n",
       "      <td>0.561122</td>\n",
       "      <td>204.99000</td>\n",
       "      <td>-0.755750</td>\n",
       "      <td>-0.654861</td>\n",
       "    </tr>\n",
       "    <tr>\n",
       "      <td>2009-09-01 01:10:00</td>\n",
       "      <td>0.866025</td>\n",
       "      <td>5.000000e-01</td>\n",
       "      <td>0.258819</td>\n",
       "      <td>0.965926</td>\n",
       "      <td>0.0</td>\n",
       "      <td>-1.000000</td>\n",
       "      <td>-1.836970e-16</td>\n",
       "      <td>0.980592</td>\n",
       "      <td>0.871459</td>\n",
       "      <td>0.976360</td>\n",
       "      <td>...</td>\n",
       "      <td>0.976360</td>\n",
       "      <td>0.975655</td>\n",
       "      <td>1.032780</td>\n",
       "      <td>0.976889</td>\n",
       "      <td>1.154818</td>\n",
       "      <td>1499.28</td>\n",
       "      <td>0.545420</td>\n",
       "      <td>171.40000</td>\n",
       "      <td>-0.755750</td>\n",
       "      <td>-0.654861</td>\n",
       "    </tr>\n",
       "    <tr>\n",
       "      <td>2009-09-01 01:15:00</td>\n",
       "      <td>1.000000</td>\n",
       "      <td>2.832769e-16</td>\n",
       "      <td>0.258819</td>\n",
       "      <td>0.965926</td>\n",
       "      <td>0.0</td>\n",
       "      <td>-1.000000</td>\n",
       "      <td>-1.836970e-16</td>\n",
       "      <td>1.154818</td>\n",
       "      <td>0.980592</td>\n",
       "      <td>0.871459</td>\n",
       "      <td>...</td>\n",
       "      <td>0.976360</td>\n",
       "      <td>0.976360</td>\n",
       "      <td>0.975655</td>\n",
       "      <td>1.032780</td>\n",
       "      <td>0.976360</td>\n",
       "      <td>1509.50</td>\n",
       "      <td>0.550675</td>\n",
       "      <td>181.68000</td>\n",
       "      <td>-0.755750</td>\n",
       "      <td>-0.654861</td>\n",
       "    </tr>\n",
       "    <tr>\n",
       "      <td>2009-09-01 01:20:00</td>\n",
       "      <td>0.866025</td>\n",
       "      <td>-5.000000e-01</td>\n",
       "      <td>0.258819</td>\n",
       "      <td>0.965926</td>\n",
       "      <td>0.0</td>\n",
       "      <td>-1.000000</td>\n",
       "      <td>-1.836970e-16</td>\n",
       "      <td>0.976360</td>\n",
       "      <td>1.154818</td>\n",
       "      <td>0.980592</td>\n",
       "      <td>...</td>\n",
       "      <td>0.976360</td>\n",
       "      <td>0.976360</td>\n",
       "      <td>0.976360</td>\n",
       "      <td>0.975655</td>\n",
       "      <td>0.976360</td>\n",
       "      <td>1504.69</td>\n",
       "      <td>0.548709</td>\n",
       "      <td>176.25000</td>\n",
       "      <td>-0.755750</td>\n",
       "      <td>-0.654861</td>\n",
       "    </tr>\n",
       "    <tr>\n",
       "      <td>2009-09-01 01:25:00</td>\n",
       "      <td>0.500000</td>\n",
       "      <td>-8.660254e-01</td>\n",
       "      <td>0.258819</td>\n",
       "      <td>0.965926</td>\n",
       "      <td>0.0</td>\n",
       "      <td>-1.000000</td>\n",
       "      <td>-1.836970e-16</td>\n",
       "      <td>0.976360</td>\n",
       "      <td>0.976360</td>\n",
       "      <td>1.154818</td>\n",
       "      <td>...</td>\n",
       "      <td>0.976360</td>\n",
       "      <td>0.976360</td>\n",
       "      <td>0.976360</td>\n",
       "      <td>0.976360</td>\n",
       "      <td>0.976360</td>\n",
       "      <td>1493.48</td>\n",
       "      <td>0.544586</td>\n",
       "      <td>166.35000</td>\n",
       "      <td>-0.755750</td>\n",
       "      <td>-0.654861</td>\n",
       "    </tr>\n",
       "    <tr>\n",
       "      <td>...</td>\n",
       "      <td>...</td>\n",
       "      <td>...</td>\n",
       "      <td>...</td>\n",
       "      <td>...</td>\n",
       "      <td>...</td>\n",
       "      <td>...</td>\n",
       "      <td>...</td>\n",
       "      <td>...</td>\n",
       "      <td>...</td>\n",
       "      <td>...</td>\n",
       "      <td>...</td>\n",
       "      <td>...</td>\n",
       "      <td>...</td>\n",
       "      <td>...</td>\n",
       "      <td>...</td>\n",
       "      <td>...</td>\n",
       "      <td>...</td>\n",
       "      <td>...</td>\n",
       "      <td>...</td>\n",
       "      <td>...</td>\n",
       "      <td>...</td>\n",
       "    </tr>\n",
       "    <tr>\n",
       "      <td>2019-08-01 03:35:00</td>\n",
       "      <td>-0.500000</td>\n",
       "      <td>-8.660254e-01</td>\n",
       "      <td>0.707107</td>\n",
       "      <td>0.707107</td>\n",
       "      <td>0.0</td>\n",
       "      <td>-0.866025</td>\n",
       "      <td>-5.000000e-01</td>\n",
       "      <td>0.573436</td>\n",
       "      <td>0.000000</td>\n",
       "      <td>0.573436</td>\n",
       "      <td>...</td>\n",
       "      <td>0.459168</td>\n",
       "      <td>0.573436</td>\n",
       "      <td>0.573436</td>\n",
       "      <td>0.570054</td>\n",
       "      <td>0.573436</td>\n",
       "      <td>1248.97</td>\n",
       "      <td>0.409481</td>\n",
       "      <td>17.02276</td>\n",
       "      <td>-0.281733</td>\n",
       "      <td>-0.959493</td>\n",
       "    </tr>\n",
       "    <tr>\n",
       "      <td>2019-08-01 03:40:00</td>\n",
       "      <td>-0.866025</td>\n",
       "      <td>-5.000000e-01</td>\n",
       "      <td>0.707107</td>\n",
       "      <td>0.707107</td>\n",
       "      <td>0.0</td>\n",
       "      <td>-0.866025</td>\n",
       "      <td>-5.000000e-01</td>\n",
       "      <td>0.573436</td>\n",
       "      <td>0.573436</td>\n",
       "      <td>0.000000</td>\n",
       "      <td>...</td>\n",
       "      <td>0.000000</td>\n",
       "      <td>0.459168</td>\n",
       "      <td>0.573436</td>\n",
       "      <td>0.573436</td>\n",
       "      <td>0.573436</td>\n",
       "      <td>1243.33</td>\n",
       "      <td>0.407500</td>\n",
       "      <td>11.98062</td>\n",
       "      <td>-0.281733</td>\n",
       "      <td>-0.959493</td>\n",
       "    </tr>\n",
       "    <tr>\n",
       "      <td>2019-08-01 03:45:00</td>\n",
       "      <td>-1.000000</td>\n",
       "      <td>-1.836970e-16</td>\n",
       "      <td>0.707107</td>\n",
       "      <td>0.707107</td>\n",
       "      <td>0.0</td>\n",
       "      <td>-0.866025</td>\n",
       "      <td>-5.000000e-01</td>\n",
       "      <td>0.573436</td>\n",
       "      <td>0.573436</td>\n",
       "      <td>0.573436</td>\n",
       "      <td>...</td>\n",
       "      <td>0.456409</td>\n",
       "      <td>0.000000</td>\n",
       "      <td>0.459168</td>\n",
       "      <td>0.573436</td>\n",
       "      <td>0.573436</td>\n",
       "      <td>1261.41</td>\n",
       "      <td>0.413046</td>\n",
       "      <td>25.68808</td>\n",
       "      <td>-0.281733</td>\n",
       "      <td>-0.959493</td>\n",
       "    </tr>\n",
       "    <tr>\n",
       "      <td>2019-08-01 03:50:00</td>\n",
       "      <td>-0.866025</td>\n",
       "      <td>5.000000e-01</td>\n",
       "      <td>0.707107</td>\n",
       "      <td>0.707107</td>\n",
       "      <td>0.0</td>\n",
       "      <td>-0.866025</td>\n",
       "      <td>-5.000000e-01</td>\n",
       "      <td>0.573436</td>\n",
       "      <td>0.573436</td>\n",
       "      <td>0.573436</td>\n",
       "      <td>...</td>\n",
       "      <td>0.573436</td>\n",
       "      <td>0.456409</td>\n",
       "      <td>0.000000</td>\n",
       "      <td>0.459168</td>\n",
       "      <td>0.456409</td>\n",
       "      <td>1250.76</td>\n",
       "      <td>0.410810</td>\n",
       "      <td>24.34067</td>\n",
       "      <td>-0.281733</td>\n",
       "      <td>-0.959493</td>\n",
       "    </tr>\n",
       "    <tr>\n",
       "      <td>2019-08-01 03:55:00</td>\n",
       "      <td>-0.500000</td>\n",
       "      <td>8.660254e-01</td>\n",
       "      <td>0.707107</td>\n",
       "      <td>0.707107</td>\n",
       "      <td>0.0</td>\n",
       "      <td>-0.866025</td>\n",
       "      <td>-5.000000e-01</td>\n",
       "      <td>0.456409</td>\n",
       "      <td>0.573436</td>\n",
       "      <td>0.573436</td>\n",
       "      <td>...</td>\n",
       "      <td>0.573436</td>\n",
       "      <td>0.573436</td>\n",
       "      <td>0.456409</td>\n",
       "      <td>0.000000</td>\n",
       "      <td>0.380340</td>\n",
       "      <td>1264.04</td>\n",
       "      <td>0.414510</td>\n",
       "      <td>33.03363</td>\n",
       "      <td>-0.281733</td>\n",
       "      <td>-0.959493</td>\n",
       "    </tr>\n",
       "  </tbody>\n",
       "</table>\n",
       "<p>807149 rows × 25 columns</p>\n",
       "</div>"
      ],
      "text/plain": [
       "                     minute_sin    minute_cos  hour_sin  hour_cos  \\\n",
       "2009-09-01 01:05:00    0.500000  8.660254e-01  0.258819  0.965926   \n",
       "2009-09-01 01:10:00    0.866025  5.000000e-01  0.258819  0.965926   \n",
       "2009-09-01 01:15:00    1.000000  2.832769e-16  0.258819  0.965926   \n",
       "2009-09-01 01:20:00    0.866025 -5.000000e-01  0.258819  0.965926   \n",
       "2009-09-01 01:25:00    0.500000 -8.660254e-01  0.258819  0.965926   \n",
       "...                         ...           ...       ...       ...   \n",
       "2019-08-01 03:35:00   -0.500000 -8.660254e-01  0.707107  0.707107   \n",
       "2019-08-01 03:40:00   -0.866025 -5.000000e-01  0.707107  0.707107   \n",
       "2019-08-01 03:45:00   -1.000000 -1.836970e-16  0.707107  0.707107   \n",
       "2019-08-01 03:50:00   -0.866025  5.000000e-01  0.707107  0.707107   \n",
       "2019-08-01 03:55:00   -0.500000  8.660254e-01  0.707107  0.707107   \n",
       "\n",
       "                     weekday_sin  month_sin     month_cos      lag1      lag2  \\\n",
       "2009-09-01 01:05:00          0.0  -1.000000 -1.836970e-16  0.871459  0.976360   \n",
       "2009-09-01 01:10:00          0.0  -1.000000 -1.836970e-16  0.980592  0.871459   \n",
       "2009-09-01 01:15:00          0.0  -1.000000 -1.836970e-16  1.154818  0.980592   \n",
       "2009-09-01 01:20:00          0.0  -1.000000 -1.836970e-16  0.976360  1.154818   \n",
       "2009-09-01 01:25:00          0.0  -1.000000 -1.836970e-16  0.976360  0.976360   \n",
       "...                          ...        ...           ...       ...       ...   \n",
       "2019-08-01 03:35:00          0.0  -0.866025 -5.000000e-01  0.573436  0.000000   \n",
       "2019-08-01 03:40:00          0.0  -0.866025 -5.000000e-01  0.573436  0.573436   \n",
       "2019-08-01 03:45:00          0.0  -0.866025 -5.000000e-01  0.573436  0.573436   \n",
       "2019-08-01 03:50:00          0.0  -0.866025 -5.000000e-01  0.573436  0.573436   \n",
       "2019-08-01 03:55:00          0.0  -0.866025 -5.000000e-01  0.456409  0.573436   \n",
       "\n",
       "                         lag3  ...      lag9     lag10     lag11     lag12  \\\n",
       "2009-09-01 01:05:00  0.986980  ...  0.975655  1.032780  0.976889  0.976360   \n",
       "2009-09-01 01:10:00  0.976360  ...  0.976360  0.975655  1.032780  0.976889   \n",
       "2009-09-01 01:15:00  0.871459  ...  0.976360  0.976360  0.975655  1.032780   \n",
       "2009-09-01 01:20:00  0.980592  ...  0.976360  0.976360  0.976360  0.975655   \n",
       "2009-09-01 01:25:00  1.154818  ...  0.976360  0.976360  0.976360  0.976360   \n",
       "...                       ...  ...       ...       ...       ...       ...   \n",
       "2019-08-01 03:35:00  0.573436  ...  0.459168  0.573436  0.573436  0.570054   \n",
       "2019-08-01 03:40:00  0.000000  ...  0.000000  0.459168  0.573436  0.573436   \n",
       "2019-08-01 03:45:00  0.573436  ...  0.456409  0.000000  0.459168  0.573436   \n",
       "2019-08-01 03:50:00  0.573436  ...  0.573436  0.456409  0.000000  0.459168   \n",
       "2019-08-01 03:55:00  0.573436  ...  0.573436  0.573436  0.456409  0.000000   \n",
       "\n",
       "                     horizon0   demand  demand_capacity  interconnector  \\\n",
       "2009-09-01 01:05:00  0.980592  1540.46         0.561122       204.99000   \n",
       "2009-09-01 01:10:00  1.154818  1499.28         0.545420       171.40000   \n",
       "2009-09-01 01:15:00  0.976360  1509.50         0.550675       181.68000   \n",
       "2009-09-01 01:20:00  0.976360  1504.69         0.548709       176.25000   \n",
       "2009-09-01 01:25:00  0.976360  1493.48         0.544586       166.35000   \n",
       "...                       ...      ...              ...             ...   \n",
       "2019-08-01 03:35:00  0.573436  1248.97         0.409481        17.02276   \n",
       "2019-08-01 03:40:00  0.573436  1243.33         0.407500        11.98062   \n",
       "2019-08-01 03:45:00  0.573436  1261.41         0.413046        25.68808   \n",
       "2019-08-01 03:50:00  0.456409  1250.76         0.410810        24.34067   \n",
       "2019-08-01 03:55:00  0.380340  1264.04         0.414510        33.03363   \n",
       "\n",
       "                     year_sin  year_cos  \n",
       "2009-09-01 01:05:00 -0.755750 -0.654861  \n",
       "2009-09-01 01:10:00 -0.755750 -0.654861  \n",
       "2009-09-01 01:15:00 -0.755750 -0.654861  \n",
       "2009-09-01 01:20:00 -0.755750 -0.654861  \n",
       "2009-09-01 01:25:00 -0.755750 -0.654861  \n",
       "...                       ...       ...  \n",
       "2019-08-01 03:35:00 -0.281733 -0.959493  \n",
       "2019-08-01 03:40:00 -0.281733 -0.959493  \n",
       "2019-08-01 03:45:00 -0.281733 -0.959493  \n",
       "2019-08-01 03:50:00 -0.281733 -0.959493  \n",
       "2019-08-01 03:55:00 -0.281733 -0.959493  \n",
       "\n",
       "[807149 rows x 25 columns]"
      ]
     },
     "execution_count": 28,
     "metadata": {},
     "output_type": "execute_result"
    }
   ],
   "source": [
    "model5.feature_importances_\n",
    "df5.iloc[:,1:]"
   ]
  },
  {
   "cell_type": "code",
   "execution_count": 29,
   "metadata": {},
   "outputs": [],
   "source": [
    "def plot_feature_importances(rf, cols, model_dir):\n",
    "    importances = pd.DataFrame()\n",
    "    importances.loc[:, 'importances'] = rf.feature_importances_\n",
    "    importances.loc[:, 'features'] = cols\n",
    "    importances.sort_values('importances', inplace=True)\n",
    "    f, a = plt.subplots()\n",
    "    importances.plot(ax=a, kind='bar', x='features', y='importances')\n",
    "    plt.gcf().subplots_adjust(bottom=0.3)\n",
    "    f.savefig(os.path.join(model_dir, 'importances.png'))"
   ]
  },
  {
   "cell_type": "code",
   "execution_count": 30,
   "metadata": {},
   "outputs": [
    {
     "ename": "NameError",
     "evalue": "name 'plt' is not defined",
     "output_type": "error",
     "traceback": [
      "\u001b[0;31m---------------------------------------------------------------------------\u001b[0m",
      "\u001b[0;31mNameError\u001b[0m                                 Traceback (most recent call last)",
      "\u001b[0;32m<ipython-input-30-1fa0245dbccb>\u001b[0m in \u001b[0;36m<module>\u001b[0;34m\u001b[0m\n\u001b[0;32m----> 1\u001b[0;31m \u001b[0mplot_feature_importances\u001b[0m\u001b[0;34m(\u001b[0m\u001b[0mmodel5\u001b[0m\u001b[0;34m,\u001b[0m \u001b[0mdf5\u001b[0m\u001b[0;34m.\u001b[0m\u001b[0miloc\u001b[0m\u001b[0;34m[\u001b[0m\u001b[0;34m:\u001b[0m\u001b[0;34m,\u001b[0m\u001b[0;36m1\u001b[0m\u001b[0;34m:\u001b[0m\u001b[0;34m]\u001b[0m\u001b[0;34m,\u001b[0m\u001b[0;34m'{}/nem-data/trainings/'\u001b[0m\u001b[0;34m.\u001b[0m\u001b[0mformat\u001b[0m\u001b[0;34m(\u001b[0m\u001b[0mos\u001b[0m\u001b[0;34m.\u001b[0m\u001b[0menviron\u001b[0m\u001b[0;34m[\u001b[0m\u001b[0;34m'HOME'\u001b[0m\u001b[0;34m]\u001b[0m\u001b[0;34m)\u001b[0m\u001b[0;34m)\u001b[0m\u001b[0;34m\u001b[0m\u001b[0;34m\u001b[0m\u001b[0m\n\u001b[0m",
      "\u001b[0;32m<ipython-input-29-89b843bbf98f>\u001b[0m in \u001b[0;36mplot_feature_importances\u001b[0;34m(rf, cols, model_dir)\u001b[0m\n\u001b[1;32m      4\u001b[0m     \u001b[0mimportances\u001b[0m\u001b[0;34m.\u001b[0m\u001b[0mloc\u001b[0m\u001b[0;34m[\u001b[0m\u001b[0;34m:\u001b[0m\u001b[0;34m,\u001b[0m \u001b[0;34m'features'\u001b[0m\u001b[0;34m]\u001b[0m \u001b[0;34m=\u001b[0m \u001b[0mcols\u001b[0m\u001b[0;34m\u001b[0m\u001b[0;34m\u001b[0m\u001b[0m\n\u001b[1;32m      5\u001b[0m     \u001b[0mimportances\u001b[0m\u001b[0;34m.\u001b[0m\u001b[0msort_values\u001b[0m\u001b[0;34m(\u001b[0m\u001b[0;34m'importances'\u001b[0m\u001b[0;34m,\u001b[0m \u001b[0minplace\u001b[0m\u001b[0;34m=\u001b[0m\u001b[0;32mTrue\u001b[0m\u001b[0;34m)\u001b[0m\u001b[0;34m\u001b[0m\u001b[0;34m\u001b[0m\u001b[0m\n\u001b[0;32m----> 6\u001b[0;31m     \u001b[0mf\u001b[0m\u001b[0;34m,\u001b[0m \u001b[0ma\u001b[0m \u001b[0;34m=\u001b[0m \u001b[0mplt\u001b[0m\u001b[0;34m.\u001b[0m\u001b[0msubplots\u001b[0m\u001b[0;34m(\u001b[0m\u001b[0;34m)\u001b[0m\u001b[0;34m\u001b[0m\u001b[0;34m\u001b[0m\u001b[0m\n\u001b[0m\u001b[1;32m      7\u001b[0m     \u001b[0mimportances\u001b[0m\u001b[0;34m.\u001b[0m\u001b[0mplot\u001b[0m\u001b[0;34m(\u001b[0m\u001b[0max\u001b[0m\u001b[0;34m=\u001b[0m\u001b[0ma\u001b[0m\u001b[0;34m,\u001b[0m \u001b[0mkind\u001b[0m\u001b[0;34m=\u001b[0m\u001b[0;34m'bar'\u001b[0m\u001b[0;34m,\u001b[0m \u001b[0mx\u001b[0m\u001b[0;34m=\u001b[0m\u001b[0;34m'features'\u001b[0m\u001b[0;34m,\u001b[0m \u001b[0my\u001b[0m\u001b[0;34m=\u001b[0m\u001b[0;34m'importances'\u001b[0m\u001b[0;34m)\u001b[0m\u001b[0;34m\u001b[0m\u001b[0;34m\u001b[0m\u001b[0m\n\u001b[1;32m      8\u001b[0m     \u001b[0mplt\u001b[0m\u001b[0;34m.\u001b[0m\u001b[0mgcf\u001b[0m\u001b[0;34m(\u001b[0m\u001b[0;34m)\u001b[0m\u001b[0;34m.\u001b[0m\u001b[0msubplots_adjust\u001b[0m\u001b[0;34m(\u001b[0m\u001b[0mbottom\u001b[0m\u001b[0;34m=\u001b[0m\u001b[0;36m0.3\u001b[0m\u001b[0;34m)\u001b[0m\u001b[0;34m\u001b[0m\u001b[0;34m\u001b[0m\u001b[0m\n",
      "\u001b[0;31mNameError\u001b[0m: name 'plt' is not defined"
     ]
    }
   ],
   "source": [
    "plot_feature_importances(model5, df5.iloc[:,1:],'{}/nem-data/trainings/'.format(os.environ['HOME']))"
   ]
  },
  {
   "cell_type": "code",
   "execution_count": null,
   "metadata": {},
   "outputs": [],
   "source": [
    "model5.feature_importances_"
   ]
  },
  {
   "cell_type": "markdown",
   "metadata": {},
   "source": [
    "### __Training after removal of cyclic__"
   ]
  },
  {
   "cell_type": "code",
   "execution_count": null,
   "metadata": {},
   "outputs": [],
   "source": [
    "from statsmodels.tsa.seasonal import seasonal_decompose\n",
    "from statsmodels.tsa.filters.hp_filter import hpfilter\n",
    "\n",
    "import seaborn as sns\n",
    "import matplotlib.pyplot as plt"
   ]
  },
  {
   "cell_type": "code",
   "execution_count": null,
   "metadata": {},
   "outputs": [],
   "source": [
    "df_resample = df.resample(\"5T\").mean()"
   ]
  },
  {
   "cell_type": "code",
   "execution_count": null,
   "metadata": {},
   "outputs": [],
   "source": [
    "df_resample.isna().any()"
   ]
  },
  {
   "cell_type": "code",
   "execution_count": null,
   "metadata": {},
   "outputs": [],
   "source": []
  },
  {
   "cell_type": "code",
   "execution_count": null,
   "metadata": {},
   "outputs": [],
   "source": []
  }
 ],
 "metadata": {
  "kernelspec": {
   "display_name": "Python 3",
   "language": "python",
   "name": "python3"
  },
  "language_info": {
   "codemirror_mode": {
    "name": "ipython",
    "version": 3
   },
   "file_extension": ".py",
   "mimetype": "text/x-python",
   "name": "python",
   "nbconvert_exporter": "python",
   "pygments_lexer": "ipython3",
   "version": "3.6.8"
  }
 },
 "nbformat": 4,
 "nbformat_minor": 4
}
