{
 "cells": [
  {
   "cell_type": "markdown",
   "metadata": {},
   "source": [
    "Reading xml files"
   ]
  },
  {
   "cell_type": "code",
   "execution_count": 5,
   "metadata": {},
   "outputs": [
    {
     "name": "stdout",
     "output_type": "stream",
     "text": [
      "<class 'list'>\n"
     ]
    },
    {
     "data": {
      "text/html": [
       "<div>\n",
       "<style scoped>\n",
       "    .dataframe tbody tr th:only-of-type {\n",
       "        vertical-align: middle;\n",
       "    }\n",
       "\n",
       "    .dataframe tbody tr th {\n",
       "        vertical-align: top;\n",
       "    }\n",
       "\n",
       "    .dataframe thead th {\n",
       "        text-align: right;\n",
       "    }\n",
       "</style>\n",
       "<table border=\"1\" class=\"dataframe\">\n",
       "  <thead>\n",
       "    <tr style=\"text-align: right;\">\n",
       "      <th></th>\n",
       "      <th>PeriodID</th>\n",
       "      <th>RegionID</th>\n",
       "      <th>Market</th>\n",
       "      <th>Price</th>\n",
       "      <th>Unit</th>\n",
       "      <th>DispatchedMarket</th>\n",
       "      <th>BandNo</th>\n",
       "      <th>Increase</th>\n",
       "      <th>RRNBandPrice</th>\n",
       "      <th>BandCost</th>\n",
       "    </tr>\n",
       "  </thead>\n",
       "  <tbody>\n",
       "    <tr>\n",
       "      <td>36</td>\n",
       "      <td>2009-07-01T04:05:00+10:00</td>\n",
       "      <td>SA1</td>\n",
       "      <td>Energy</td>\n",
       "      <td>1.35918</td>\n",
       "      <td>YWPS2</td>\n",
       "      <td>ENOF</td>\n",
       "      <td>2</td>\n",
       "      <td>1.32679</td>\n",
       "      <td>4.23000</td>\n",
       "      <td>5.61232</td>\n",
       "    </tr>\n",
       "    <tr>\n",
       "      <td>37</td>\n",
       "      <td>2009-07-01T04:05:00+10:00</td>\n",
       "      <td>SA1</td>\n",
       "      <td>Energy</td>\n",
       "      <td>1.35918</td>\n",
       "      <td>ER01</td>\n",
       "      <td>ENOF</td>\n",
       "      <td>2</td>\n",
       "      <td>-0.08861</td>\n",
       "      <td>12.00000</td>\n",
       "      <td>-1.06333</td>\n",
       "    </tr>\n",
       "    <tr>\n",
       "      <td>38</td>\n",
       "      <td>2009-07-01T04:05:00+10:00</td>\n",
       "      <td>SA1</td>\n",
       "      <td>Energy</td>\n",
       "      <td>1.35918</td>\n",
       "      <td>ENOF,YWPS2,2,YWPS3,2</td>\n",
       "      <td>tbslack1</td>\n",
       "      <td>NaN</td>\n",
       "      <td>185.75049</td>\n",
       "      <td>0.00000</td>\n",
       "      <td>0.00019</td>\n",
       "    </tr>\n",
       "    <tr>\n",
       "      <td>39</td>\n",
       "      <td>2009-07-01T04:05:00+10:00</td>\n",
       "      <td>SA1</td>\n",
       "      <td>Energy</td>\n",
       "      <td>1.35918</td>\n",
       "      <td>ER04</td>\n",
       "      <td>ENOF</td>\n",
       "      <td>2</td>\n",
       "      <td>-0.08861</td>\n",
       "      <td>12.00000</td>\n",
       "      <td>-1.06333</td>\n",
       "    </tr>\n",
       "    <tr>\n",
       "      <td>40</td>\n",
       "      <td>2009-07-01T04:05:00+10:00</td>\n",
       "      <td>SA1</td>\n",
       "      <td>Energy</td>\n",
       "      <td>1.35918</td>\n",
       "      <td>ER03</td>\n",
       "      <td>ENOF</td>\n",
       "      <td>2</td>\n",
       "      <td>-0.08861</td>\n",
       "      <td>12.00000</td>\n",
       "      <td>-1.06333</td>\n",
       "    </tr>\n",
       "    <tr>\n",
       "      <td>41</td>\n",
       "      <td>2009-07-01T04:05:00+10:00</td>\n",
       "      <td>SA1</td>\n",
       "      <td>Energy</td>\n",
       "      <td>1.35918</td>\n",
       "      <td>ER02</td>\n",
       "      <td>ENOF</td>\n",
       "      <td>2</td>\n",
       "      <td>-0.08861</td>\n",
       "      <td>12.00000</td>\n",
       "      <td>-1.06333</td>\n",
       "    </tr>\n",
       "  </tbody>\n",
       "</table>\n",
       "</div>"
      ],
      "text/plain": [
       "                     PeriodID RegionID  Market    Price                  Unit  \\\n",
       "36  2009-07-01T04:05:00+10:00      SA1  Energy  1.35918                 YWPS2   \n",
       "37  2009-07-01T04:05:00+10:00      SA1  Energy  1.35918                  ER01   \n",
       "38  2009-07-01T04:05:00+10:00      SA1  Energy  1.35918  ENOF,YWPS2,2,YWPS3,2   \n",
       "39  2009-07-01T04:05:00+10:00      SA1  Energy  1.35918                  ER04   \n",
       "40  2009-07-01T04:05:00+10:00      SA1  Energy  1.35918                  ER03   \n",
       "41  2009-07-01T04:05:00+10:00      SA1  Energy  1.35918                  ER02   \n",
       "\n",
       "   DispatchedMarket BandNo   Increase RRNBandPrice  BandCost  \n",
       "36             ENOF      2    1.32679      4.23000   5.61232  \n",
       "37             ENOF      2   -0.08861     12.00000  -1.06333  \n",
       "38         tbslack1    NaN  185.75049      0.00000   0.00019  \n",
       "39             ENOF      2   -0.08861     12.00000  -1.06333  \n",
       "40             ENOF      2   -0.08861     12.00000  -1.06333  \n",
       "41             ENOF      2   -0.08861     12.00000  -1.06333  "
      ]
     },
     "execution_count": 5,
     "metadata": {},
     "output_type": "execute_result"
    }
   ],
   "source": [
    "import xml.etree.ElementTree as ET\n",
    "import os\n",
    "import pandas as pd\n",
    "\n",
    "#  file path is to a folder nemde in the users $HOME folder\n",
    "#  keeping data in here allows portability to any UNIX machine \\\n",
    "#   - including AWS Linux instances\n",
    "path = '{}/nem-data/nemde/_20090701/NEMPriceSetter_2009070100100.xml'.format(os.environ['HOME'])\n",
    "#xml are hierachical data represented as tree\n",
    "tree = ET.parse(path)\n",
    "#root is highest hierachy\n",
    "root = tree.getroot()\n",
    "#here, command iterates over all children nodes of root\n",
    "data = [c.attrib for c in root]\n",
    "\n",
    "print(type(data))\n",
    "\n",
    "df = pd.DataFrame(data)\n",
    "df.query('Market == \"Energy\" and RegionID == \"SA1\"')"
   ]
  },
  {
   "cell_type": "markdown",
   "metadata": {},
   "source": [
    "Scraping NEM data.   First you get lists of URLs \n",
    "- this needs to be done multiple times - to go from years to months to .zip's"
   ]
  },
  {
   "cell_type": "code",
   "execution_count": 15,
   "metadata": {},
   "outputs": [
    {
     "data": {
      "text/plain": [
       "['http://www.nemweb.com.au/Data_Archive/Wholesale_Electricity/MMSDM/2019/MMSDM_2019_01',\n",
       " 'http://www.nemweb.com.au/Data_Archive/Wholesale_Electricity/MMSDM/2019/MMSDM_2019_01.zip']"
      ]
     },
     "execution_count": 15,
     "metadata": {},
     "output_type": "execute_result"
    }
   ],
   "source": [
    "import requests\n",
    "import bs4\n",
    "import os\n",
    "\n",
    "url = 'http://www.nemweb.com.au/Data_Archive/Wholesale_Electricity/MMSDM/2019'\n",
    "#allows to send http/1.1 requests extremely easily\n",
    "req = requests.get(url)\n",
    "\n",
    "#status code 200 means 'OK' within 'Success'; analogous to '404 Not Found'\n",
    "assert req.status_code == 200\n",
    "\n",
    "#.encoding e.g. utf-8; BeautifulSoup to pull data from html, xml; extracts DOM\n",
    "soup = bs4.BeautifulSoup(req.content, 'html.parser')\n",
    "\n",
    "#  find all links in the page wihin 'a' class\n",
    "links = soup.find_all('a', href=True)\n",
    "\n",
    "#  create the url for each month\n",
    "links = [os.path.join(url, link.get_text()) #INTELLIGENTLY joins path components\n",
    "         for link in links]\n",
    "\n",
    "\n",
    "\n",
    "#  remove the first as this the link to parent directory\n",
    "#  show two\n",
    "links[1:][:2]"
   ]
  },
  {
   "cell_type": "markdown",
   "metadata": {},
   "source": [
    "After you have to the url, use `requests` to download the .zip & the unzip using Python s\n",
    "- needs some documenting"
   ]
  },
  {
   "cell_type": "code",
   "execution_count": 20,
   "metadata": {},
   "outputs": [
    {
     "name": "stdout",
     "output_type": "stream",
     "text": [
      " 100% [++++++++++++++++++++++++++++++++++++++++++++++++++]"
     ]
    }
   ],
   "source": [
    "#  note that\n",
    "\n",
    "import logging\n",
    "import sys\n",
    "import zipfile\n",
    "\n",
    "#extract_zip_from_url(url, os.environ['HOME']); .zip download-url, /home/bastian\n",
    "def extract_zip_from_url(url, output_path):\n",
    "    #take month-specific appendix of zip file\n",
    "    month = url[-17:-4]\n",
    "    #folder path (e.g. '/home/bastian/_201907010000')\n",
    "    output_folder = os.path.join(output_path, month)\n",
    "    #Recursive directory creation function. Makes all intermediate-level directories needed to contain the leaf directory.\n",
    "    #Here: creates folder with name according to 'output folder'\n",
    "    #If exist_ok is False (the default), an FileExistsError is raised if the target directory already exists.\n",
    "    os.makedirs(output_folder, exist_ok=True)\n",
    "\n",
    "    #block to download urls\n",
    "    #info message\n",
    "    logging.info('downloading {}'.format(url))\n",
    "    #mms is path with mmsdm.zip appendix\n",
    "    mms = os.path.join(output_folder, 'mmsdm.zip')\n",
    "    #the following creates (zip) file with name of last segment of mms path\n",
    "    with open(mms, 'wb') as f:\n",
    "        #sends get request and returns status code\n",
    "        response = requests.get(url, headers=header, stream=True)\n",
    "        #The Content-Length header is a number denoting an the exact byte length of the HTTP body\n",
    "        #DOM variable!?\n",
    "        total_length = response.headers.get('content-length')\n",
    "\n",
    "        if total_length is None: # no content length header\n",
    "            #simply write encoding\n",
    "            f.write(response.content)\n",
    "        else:\n",
    "            dl = 0\n",
    "            total_length = int(total_length)\n",
    "            #some sort of data chunks\n",
    "            for data in response.iter_content(chunk_size=4096):\n",
    "                dl += len(data)\n",
    "                f.write(data)\n",
    "                done = int(50 * dl / total_length)\n",
    "                sys.stdout.write('\\r {}% [{}{}]'.format(2*done, '+'*done, ' '*(50-done)))\n",
    "                sys.stdout.flush()\n",
    "\n",
    "    logging.info('extracting {}'.format(url))\n",
    "    \n",
    "    #unzipping of zip from previous block\n",
    "    with zipfile.ZipFile(mms, 'r') as my_zipfile:\n",
    "        my_zipfile.extractall(output_folder)\n",
    "\n",
    "header = None\n",
    "url = 'http://www.nemweb.com.au/Data_Archive/Wholesale_Electricity/MMSDM/2019/MMSDM_2019_07/MMSDM_Historical_Data_SQLLoader/DATA/PUBLIC_DVD_DISPATCH_UNIT_SCADA_201907010000.zip'\n",
    "extract_zip_from_url(url, '{}/nem-data/xml_raw'.format(os.environ['HOME']))"
   ]
  },
  {
   "cell_type": "code",
   "execution_count": 20,
   "metadata": {},
   "outputs": [
    {
     "name": "stdout",
     "output_type": "stream",
     "text": [
      "\u001b[1m\u001b[36mMMSDM_2018_01\u001b[m\u001b[m \u001b[1m\u001b[36mMMSDM_2018_03\u001b[m\u001b[m \u001b[1m\u001b[36mMMSDM_2018_05\u001b[m\u001b[m \u001b[1m\u001b[36mMMSDM_2018_07\u001b[m\u001b[m\n",
      "\u001b[1m\u001b[36mMMSDM_2018_02\u001b[m\u001b[m \u001b[1m\u001b[36mMMSDM_2018_04\u001b[m\u001b[m \u001b[1m\u001b[36mMMSDM_2018_06\u001b[m\u001b[m log.log\n"
     ]
    }
   ],
   "source": [
    "!ls ~/nem-data/raw-mms"
   ]
  },
  {
   "cell_type": "code",
   "execution_count": 22,
   "metadata": {},
   "outputs": [
    {
     "name": "stdout",
     "output_type": "stream",
     "text": [
      "README.md \u001b[1m\u001b[36mnotebooks\u001b[m\u001b[m \u001b[1m\u001b[36mreference\u001b[m\u001b[m\n"
     ]
    }
   ],
   "source": [
    "!ls"
   ]
  },
  {
   "cell_type": "code",
   "execution_count": 19,
   "metadata": {},
   "outputs": [
    {
     "data": {
      "text/plain": [
       "'/home/bastian'"
      ]
     },
     "execution_count": 19,
     "metadata": {},
     "output_type": "execute_result"
    }
   ],
   "source": [
    "os.environ['HOME']"
   ]
  },
  {
   "cell_type": "code",
   "execution_count": null,
   "metadata": {},
   "outputs": [],
   "source": []
  }
 ],
 "metadata": {
  "kernelspec": {
   "display_name": "Python 3",
   "language": "python",
   "name": "python3"
  },
  "language_info": {
   "codemirror_mode": {
    "name": "ipython",
    "version": 3
   },
   "file_extension": ".py",
   "mimetype": "text/x-python",
   "name": "python",
   "nbconvert_exporter": "python",
   "pygments_lexer": "ipython3",
   "version": "3.6.8"
  }
 },
 "nbformat": 4,
 "nbformat_minor": 4
}
