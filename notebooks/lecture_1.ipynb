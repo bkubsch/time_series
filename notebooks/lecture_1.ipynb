{
 "cells": [
  {
   "cell_type": "markdown",
   "metadata": {},
   "source": [
    "# __Notes on this lecture__\n",
    "\n",
    "The first section of the lecture deals with CO2 marginal emissions data from the Australian energy market. \n",
    "\n",
    "Usually, data scientists spend most time on data cleaning, analysis, and preparation. Hence, the following sections will predominantly deal with that. We will reformat, look at, and prepare our dataset towards an xgboost training / prediction. Although xgboost is not a classical time series prediction tool, it is used for time series predictions. Due to the challenging nature of the marginal CO2 dataset, we will initially work with xgboost instead of with classical time series prediction methods.\n",
    "\n",
    "In the final sections, we will spend less time on data cleaning and look at classical time series prediction methods, including ARIMA, SARIMA, and SARIMAX."
   ]
  },
  {
   "cell_type": "markdown",
   "metadata": {},
   "source": [
    "## __Marginal CO2 emissions__\n",
    "\n",
    "The dataframe we are going to work with includes the marginal CO2 emissions (t CO2 / MWh) together with a time stamp (DateTime) associated to it. The marginal CO2 emissions are measured every 5 minutes."
   ]
  },
  {
   "cell_type": "markdown",
   "metadata": {},
   "source": [
    "### __Data exploration and imputation__"
   ]
  },
  {
   "cell_type": "code",
   "execution_count": 1,
   "metadata": {},
   "outputs": [],
   "source": [
    "#import of modules\n",
    "import pandas as pd\n",
    "import numpy as np\n",
    "\n",
    "import datetime as dt\n",
    "\n",
    "import matplotlib.pyplot as plt\n",
    "import seaborn as sns"
   ]
  },
  {
   "cell_type": "markdown",
   "metadata": {},
   "source": [
    "#### __Loading our file__"
   ]
  },
  {
   "cell_type": "code",
   "execution_count": 2,
   "metadata": {},
   "outputs": [],
   "source": [
    "file_path = '../data/marginal_emissions_raw.pkl'\n",
    "df = pd.read_pickle(file_path)"
   ]
  },
  {
   "cell_type": "code",
   "execution_count": 3,
   "metadata": {},
   "outputs": [
    {
     "data": {
      "text/html": [
       "<div>\n",
       "<style scoped>\n",
       "    .dataframe tbody tr th:only-of-type {\n",
       "        vertical-align: middle;\n",
       "    }\n",
       "\n",
       "    .dataframe tbody tr th {\n",
       "        vertical-align: top;\n",
       "    }\n",
       "\n",
       "    .dataframe thead th {\n",
       "        text-align: right;\n",
       "    }\n",
       "</style>\n",
       "<table border=\"1\" class=\"dataframe\">\n",
       "  <thead>\n",
       "    <tr style=\"text-align: right;\">\n",
       "      <th></th>\n",
       "      <th>DateTime</th>\n",
       "      <th>t CO2-e / MWh</th>\n",
       "    </tr>\n",
       "  </thead>\n",
       "  <tbody>\n",
       "    <tr>\n",
       "      <th>0</th>\n",
       "      <td>2009-07-01 04:00:00</td>\n",
       "      <td>0.991217</td>\n",
       "    </tr>\n",
       "    <tr>\n",
       "      <th>1</th>\n",
       "      <td>2009-07-01 04:05:00</td>\n",
       "      <td>0.000000</td>\n",
       "    </tr>\n",
       "    <tr>\n",
       "      <th>2</th>\n",
       "      <td>2009-07-01 04:10:00</td>\n",
       "      <td>0.000000</td>\n",
       "    </tr>\n",
       "    <tr>\n",
       "      <th>3</th>\n",
       "      <td>2009-07-01 04:15:00</td>\n",
       "      <td>0.991217</td>\n",
       "    </tr>\n",
       "    <tr>\n",
       "      <th>4</th>\n",
       "      <td>2009-07-01 04:20:00</td>\n",
       "      <td>1.025701</td>\n",
       "    </tr>\n",
       "  </tbody>\n",
       "</table>\n",
       "</div>"
      ],
      "text/plain": [
       "              DateTime  t CO2-e / MWh\n",
       "0  2009-07-01 04:00:00       0.991217\n",
       "1  2009-07-01 04:05:00       0.000000\n",
       "2  2009-07-01 04:10:00       0.000000\n",
       "3  2009-07-01 04:15:00       0.991217\n",
       "4  2009-07-01 04:20:00       1.025701"
      ]
     },
     "execution_count": 3,
     "metadata": {},
     "output_type": "execute_result"
    }
   ],
   "source": [
    "df.head()"
   ]
  },
  {
   "cell_type": "code",
   "execution_count": 4,
   "metadata": {},
   "outputs": [
    {
     "name": "stdout",
     "output_type": "stream",
     "text": [
      "<class 'pandas.core.frame.DataFrame'>\n",
      "RangeIndex: 1060704 entries, 0 to 1060703\n",
      "Data columns (total 2 columns):\n",
      "DateTime         1060704 non-null object\n",
      "t CO2-e / MWh    1006719 non-null float64\n",
      "dtypes: float64(1), object(1)\n",
      "memory usage: 16.2+ MB\n"
     ]
    }
   ],
   "source": [
    "df.info()"
   ]
  },
  {
   "cell_type": "markdown",
   "metadata": {},
   "source": [
    "### __Exercise 1:__\n",
    "\n",
    "Check the datatype of the \"DateTime\" column of our dataframe \"df\".\n",
    "Change the index of our dataframe \"df\" to a DateTimeIndex, using our \"DateTime\" column.\n",
    "Make sure you get rid of the original index column (starting with: 0, 1, 2, 3,...)."
   ]
  },
  {
   "cell_type": "markdown",
   "metadata": {},
   "source": [
    "### __Your solution 1:__"
   ]
  },
  {
   "cell_type": "code",
   "execution_count": 7,
   "metadata": {},
   "outputs": [],
   "source": [
    "\n",
    "#change index of dataframe df to DateTimeIndex\n"
   ]
  },
  {
   "cell_type": "code",
   "execution_count": 6,
   "metadata": {},
   "outputs": [
    {
     "name": "stdout",
     "output_type": "stream",
     "text": [
      "<class 'pandas.core.frame.DataFrame'>\n",
      "DatetimeIndex: 1060704 entries, 2009-07-01 04:00:00 to 2019-08-01 03:55:00\n",
      "Data columns (total 1 columns):\n",
      "t CO2-e / MWh    1006719 non-null float64\n",
      "dtypes: float64(1)\n",
      "memory usage: 16.2 MB\n"
     ]
    }
   ],
   "source": [
    "df.info()"
   ]
  },
  {
   "cell_type": "code",
   "execution_count": 10,
   "metadata": {},
   "outputs": [],
   "source": [
    "#df.to_pickle('../data/marginal_emissions_dtindex.pkl')"
   ]
  },
  {
   "cell_type": "markdown",
   "metadata": {},
   "source": [
    "### __Test / train split__\n",
    "\n",
    "It is mandatory to perform the train / test split of a dataset before any pre-analysis before training, e.g. before the identification of potential predictors. So now that we have the format right, let's do that right away."
   ]
  },
  {
   "cell_type": "code",
   "execution_count": 8,
   "metadata": {},
   "outputs": [
    {
     "name": "stdout",
     "output_type": "stream",
     "text": [
      "2009-07-01 04:00:00\n",
      "2019-08-01 03:55:00\n"
     ]
    }
   ],
   "source": [
    "#let's see what the time range of our dataset is\n",
    "print(df.index.min())\n",
    "print(df.index.max())"
   ]
  },
  {
   "cell_type": "code",
   "execution_count": 9,
   "metadata": {},
   "outputs": [],
   "source": [
    "#we have plenty of data; let's go and use a bit more than a year as our test and the remaing period as our training set\n",
    "#NOTE: time series forecasts request that any training is done on data that lie in the past relative to the test data\n",
    "\n",
    "train = df[df.index < dt.datetime(2018,6,1,0,0,0)]\n",
    "test = df[df.index >= (dt.datetime(2018,6,1,0,0,0))]"
   ]
  },
  {
   "cell_type": "code",
   "execution_count": 10,
   "metadata": {},
   "outputs": [
    {
     "name": "stdout",
     "output_type": "stream",
     "text": [
      "2009-07-01 04:00:00\n",
      "2018-05-31 23:55:00\n",
      "2018-06-01 00:00:00\n",
      "2019-08-01 03:55:00\n"
     ]
    }
   ],
   "source": [
    "print(train.index.min())\n",
    "print(train.index.max())\n",
    "\n",
    "print(test.index.min())\n",
    "print(test.index.max())"
   ]
  },
  {
   "cell_type": "code",
   "execution_count": 11,
   "metadata": {},
   "outputs": [],
   "source": [
    "#such statement are useful for insertion into functions;\n",
    "assert train.index.max() < test.index.min()"
   ]
  },
  {
   "cell_type": "code",
   "execution_count": 12,
   "metadata": {},
   "outputs": [],
   "source": [
    "train.to_pickle('../data/train.pkl')\n",
    "test.to_pickle('../data/test.pkl')"
   ]
  },
  {
   "cell_type": "code",
   "execution_count": 13,
   "metadata": {},
   "outputs": [
    {
     "name": "stdout",
     "output_type": "stream",
     "text": [
      "2009-07-01 04:00:00\n",
      "2018-05-31 23:55:00\n"
     ]
    },
    {
     "data": {
      "text/html": [
       "<div>\n",
       "<style scoped>\n",
       "    .dataframe tbody tr th:only-of-type {\n",
       "        vertical-align: middle;\n",
       "    }\n",
       "\n",
       "    .dataframe tbody tr th {\n",
       "        vertical-align: top;\n",
       "    }\n",
       "\n",
       "    .dataframe thead th {\n",
       "        text-align: right;\n",
       "    }\n",
       "</style>\n",
       "<table border=\"1\" class=\"dataframe\">\n",
       "  <thead>\n",
       "    <tr style=\"text-align: right;\">\n",
       "      <th></th>\n",
       "      <th>t CO2-e / MWh</th>\n",
       "    </tr>\n",
       "    <tr>\n",
       "      <th>DateTime</th>\n",
       "      <th></th>\n",
       "    </tr>\n",
       "  </thead>\n",
       "  <tbody>\n",
       "    <tr>\n",
       "      <th>2009-07-01 04:00:00</th>\n",
       "      <td>0.991217</td>\n",
       "    </tr>\n",
       "    <tr>\n",
       "      <th>2009-07-01 04:05:00</th>\n",
       "      <td>0.000000</td>\n",
       "    </tr>\n",
       "    <tr>\n",
       "      <th>2009-07-01 04:10:00</th>\n",
       "      <td>0.000000</td>\n",
       "    </tr>\n",
       "    <tr>\n",
       "      <th>2009-07-01 04:15:00</th>\n",
       "      <td>0.991217</td>\n",
       "    </tr>\n",
       "    <tr>\n",
       "      <th>2009-07-01 04:20:00</th>\n",
       "      <td>1.025701</td>\n",
       "    </tr>\n",
       "  </tbody>\n",
       "</table>\n",
       "</div>"
      ],
      "text/plain": [
       "                     t CO2-e / MWh\n",
       "DateTime                          \n",
       "2009-07-01 04:00:00       0.991217\n",
       "2009-07-01 04:05:00       0.000000\n",
       "2009-07-01 04:10:00       0.000000\n",
       "2009-07-01 04:15:00       0.991217\n",
       "2009-07-01 04:20:00       1.025701"
      ]
     },
     "execution_count": 13,
     "metadata": {},
     "output_type": "execute_result"
    }
   ],
   "source": [
    "#now let us redefine df in order to leave the test set alone\n",
    "df = train\n",
    "\n",
    "print(df.index.min())\n",
    "print(df.index.max())\n",
    "df.head()"
   ]
  },
  {
   "cell_type": "markdown",
   "metadata": {},
   "source": [
    "### __Exercise 2:__\n",
    "\n",
    "Write a function which takes in our dataframe \"df\" and checks if the index of our dataframe entirely increments in 5 min intervals.\n",
    "The output below shows a timestamp where a time interval > 5 min occurs together with the actual time period present at that time stamp:"
   ]
  },
  {
   "cell_type": "markdown",
   "metadata": {},
   "source": [
    "If your fucntions finds any interval not equal to 5 min, it should return the position where this occurs (e.g. row 783) and duration of the interval at that position (e.g. row 783: 25 min). The following lines show you more useful operations to write this function:"
   ]
  },
  {
   "cell_type": "code",
   "execution_count": 7,
   "metadata": {},
   "outputs": [],
   "source": [
    "#for the purpose of demonstration, I here import a time series with a DateTimeIndex\n",
    "df_dtindex = pd.read_pickle('../data/marginal_emissions_dtindex.pkl')\n",
    "df_dtindex.sort_index(inplace=True)"
   ]
  },
  {
   "cell_type": "code",
   "execution_count": 8,
   "metadata": {},
   "outputs": [
    {
     "data": {
      "text/html": [
       "<div>\n",
       "<style scoped>\n",
       "    .dataframe tbody tr th:only-of-type {\n",
       "        vertical-align: middle;\n",
       "    }\n",
       "\n",
       "    .dataframe tbody tr th {\n",
       "        vertical-align: top;\n",
       "    }\n",
       "\n",
       "    .dataframe thead th {\n",
       "        text-align: right;\n",
       "    }\n",
       "</style>\n",
       "<table border=\"1\" class=\"dataframe\">\n",
       "  <thead>\n",
       "    <tr style=\"text-align: right;\">\n",
       "      <th></th>\n",
       "      <th>t CO2-e / MWh</th>\n",
       "    </tr>\n",
       "    <tr>\n",
       "      <th>DateTime</th>\n",
       "      <th></th>\n",
       "    </tr>\n",
       "  </thead>\n",
       "  <tbody>\n",
       "    <tr>\n",
       "      <th>2009-07-01 04:00:00</th>\n",
       "      <td>0.991217</td>\n",
       "    </tr>\n",
       "    <tr>\n",
       "      <th>2009-07-01 04:05:00</th>\n",
       "      <td>0.000000</td>\n",
       "    </tr>\n",
       "    <tr>\n",
       "      <th>2009-07-01 04:10:00</th>\n",
       "      <td>0.000000</td>\n",
       "    </tr>\n",
       "    <tr>\n",
       "      <th>2009-07-01 04:15:00</th>\n",
       "      <td>0.991217</td>\n",
       "    </tr>\n",
       "    <tr>\n",
       "      <th>2009-07-01 04:20:00</th>\n",
       "      <td>1.025701</td>\n",
       "    </tr>\n",
       "  </tbody>\n",
       "</table>\n",
       "</div>"
      ],
      "text/plain": [
       "                     t CO2-e / MWh\n",
       "DateTime                          \n",
       "2009-07-01 04:00:00       0.991217\n",
       "2009-07-01 04:05:00       0.000000\n",
       "2009-07-01 04:10:00       0.000000\n",
       "2009-07-01 04:15:00       0.991217\n",
       "2009-07-01 04:20:00       1.025701"
      ]
     },
     "execution_count": 8,
     "metadata": {},
     "output_type": "execute_result"
    }
   ],
   "source": [
    "df_dtindex.head()"
   ]
  },
  {
   "cell_type": "code",
   "execution_count": 7,
   "metadata": {},
   "outputs": [
    {
     "name": "stdout",
     "output_type": "stream",
     "text": [
      "<class 'pandas.core.frame.DataFrame'>\n",
      "DatetimeIndex: 902502 entries, 2009-07-01 04:00:00 to 2018-05-31 23:55:00\n",
      "Data columns (total 1 columns):\n",
      "t CO2-e / MWh    902502 non-null float64\n",
      "dtypes: float64(1)\n",
      "memory usage: 13.8 MB\n"
     ]
    }
   ],
   "source": [
    "df_dtindex.info()"
   ]
  },
  {
   "cell_type": "code",
   "execution_count": 8,
   "metadata": {},
   "outputs": [
    {
     "data": {
      "text/plain": [
       "Timestamp('2009-07-01 04:15:00')"
      ]
     },
     "execution_count": 8,
     "metadata": {},
     "output_type": "execute_result"
    }
   ],
   "source": [
    "#see how a DateTimeIndex is made up of individual time stamp class objects\n",
    "df_dtindex.index[3]"
   ]
  },
  {
   "cell_type": "code",
   "execution_count": 9,
   "metadata": {},
   "outputs": [
    {
     "data": {
      "text/plain": [
       "pandas._libs.tslibs.timestamps.Timestamp"
      ]
     },
     "execution_count": 9,
     "metadata": {},
     "output_type": "execute_result"
    }
   ],
   "source": [
    "type(df_dtindex.index[3])"
   ]
  },
  {
   "cell_type": "code",
   "execution_count": 10,
   "metadata": {},
   "outputs": [
    {
     "data": {
      "text/plain": [
       "Timedelta('0 days 00:05:00')"
      ]
     },
     "execution_count": 10,
     "metadata": {},
     "output_type": "execute_result"
    }
   ],
   "source": [
    "#see what happens if you perform mathematical operations in two Timestamp objects; the respective output is a Timedelta \n",
    "time_difference = df_dtindex.index[4] - df_dtindex.index[3]\n",
    "time_difference"
   ]
  },
  {
   "cell_type": "code",
   "execution_count": 11,
   "metadata": {},
   "outputs": [
    {
     "data": {
      "text/plain": [
       "pandas._libs.tslibs.timedeltas.Timedelta"
      ]
     },
     "execution_count": 11,
     "metadata": {},
     "output_type": "execute_result"
    }
   ],
   "source": [
    "type(time_difference)"
   ]
  },
  {
   "cell_type": "code",
   "execution_count": 12,
   "metadata": {},
   "outputs": [
    {
     "data": {
      "text/plain": [
       "300.0"
      ]
     },
     "execution_count": 12,
     "metadata": {},
     "output_type": "execute_result"
    }
   ],
   "source": [
    "#the .total_seconds() method returns us any Timedelta object in seconds\n",
    "time_difference.total_seconds()"
   ]
  },
  {
   "cell_type": "markdown",
   "metadata": {},
   "source": [
    "### __Your solution 2:__"
   ]
  },
  {
   "cell_type": "code",
   "execution_count": 36,
   "metadata": {},
   "outputs": [],
   "source": [
    "#parts of your function could look like that\n",
    "def correct_timedelta(df, time_diff):\n",
    "\n",
    "#your code here\n",
    "\n",
    "    return mismatch_intervals_str"
   ]
  },
  {
   "cell_type": "code",
   "execution_count": 40,
   "metadata": {},
   "outputs": [],
   "source": [
    "mismatch_intervals_str, mismatch_intervals_values = correct_timedelta(df, 300)"
   ]
  },
  {
   "cell_type": "code",
   "execution_count": 44,
   "metadata": {},
   "outputs": [
    {
     "data": {
      "text/plain": [
       "['At time stamp 2009-07-01 05:00:00, the interval is 10 min or 0.17 h.',\n",
       " 'At time stamp 2009-07-01 05:50:00, the interval is 10 min or 0.17 h.',\n",
       " 'At time stamp 2009-07-01 06:15:00, the interval is 10 min or 0.17 h.',\n",
       " 'At time stamp 2009-07-01 07:35:00, the interval is 10 min or 0.17 h.',\n",
       " 'At time stamp 2009-07-01 08:25:00, the interval is 25 min or 0.42 h.']"
      ]
     },
     "execution_count": 44,
     "metadata": {},
     "output_type": "execute_result"
    }
   ],
   "source": [
    "mismatch_intervals_str[:5]"
   ]
  },
  {
   "cell_type": "markdown",
   "metadata": {},
   "source": [
    "### __Exercise 3:__\n",
    "\n",
    "If you find any such different intervals, modify our dataframe index so that it entirely increments in 5 min intervals. The following lines will guide you:"
   ]
  },
  {
   "cell_type": "code",
   "execution_count": 13,
   "metadata": {},
   "outputs": [
    {
     "data": {
      "text/html": [
       "<div>\n",
       "<style scoped>\n",
       "    .dataframe tbody tr th:only-of-type {\n",
       "        vertical-align: middle;\n",
       "    }\n",
       "\n",
       "    .dataframe tbody tr th {\n",
       "        vertical-align: top;\n",
       "    }\n",
       "\n",
       "    .dataframe thead th {\n",
       "        text-align: right;\n",
       "    }\n",
       "</style>\n",
       "<table border=\"1\" class=\"dataframe\">\n",
       "  <thead>\n",
       "    <tr style=\"text-align: right;\">\n",
       "      <th></th>\n",
       "      <th>A</th>\n",
       "      <th>B</th>\n",
       "    </tr>\n",
       "  </thead>\n",
       "  <tbody>\n",
       "    <tr>\n",
       "      <th>2018-06-01 00:00:00</th>\n",
       "      <td>1</td>\n",
       "      <td>2</td>\n",
       "    </tr>\n",
       "    <tr>\n",
       "      <th>2018-06-01 00:00:05</th>\n",
       "      <td>3</td>\n",
       "      <td>4</td>\n",
       "    </tr>\n",
       "    <tr>\n",
       "      <th>2018-06-01 00:00:10</th>\n",
       "      <td>5</td>\n",
       "      <td>6</td>\n",
       "    </tr>\n",
       "    <tr>\n",
       "      <th>2018-06-01 00:00:20</th>\n",
       "      <td>9</td>\n",
       "      <td>10</td>\n",
       "    </tr>\n",
       "  </tbody>\n",
       "</table>\n",
       "</div>"
      ],
      "text/plain": [
       "                     A   B\n",
       "2018-06-01 00:00:00  1   2\n",
       "2018-06-01 00:00:05  3   4\n",
       "2018-06-01 00:00:10  5   6\n",
       "2018-06-01 00:00:20  9  10"
      ]
     },
     "execution_count": 13,
     "metadata": {},
     "output_type": "execute_result"
    }
   ],
   "source": [
    "#let's create an arbitrary dataframe\n",
    "df_example = pd.DataFrame(data=[[1, 2], [3, 4], [5, 6], [9, 10]], \n",
    "                          index=[dt.datetime(2018,6,1,0,0,0),\n",
    "                                dt.datetime(2018,6,1,0,0,5),\n",
    "                                dt.datetime(2018,6,1,0,0,10),\n",
    "                                dt.datetime(2018,6,1,0,0,20)], \n",
    "                          columns=['A', 'B'])\n",
    "df_example"
   ]
  },
  {
   "cell_type": "code",
   "execution_count": 14,
   "metadata": {},
   "outputs": [
    {
     "data": {
      "text/plain": [
       "pandas.core.indexes.datetimes.DatetimeIndex"
      ]
     },
     "execution_count": 14,
     "metadata": {},
     "output_type": "execute_result"
    }
   ],
   "source": [
    "#let's use the pandas.date_range method to create a new index\n",
    "new_index = pd.date_range(start=dt.datetime(2018,6,1,0,0,0), end=dt.datetime(2018,6,1,0,0,20), periods=5)\n",
    "type(new_index)"
   ]
  },
  {
   "cell_type": "code",
   "execution_count": 15,
   "metadata": {},
   "outputs": [
    {
     "data": {
      "text/html": [
       "<div>\n",
       "<style scoped>\n",
       "    .dataframe tbody tr th:only-of-type {\n",
       "        vertical-align: middle;\n",
       "    }\n",
       "\n",
       "    .dataframe tbody tr th {\n",
       "        vertical-align: top;\n",
       "    }\n",
       "\n",
       "    .dataframe thead th {\n",
       "        text-align: right;\n",
       "    }\n",
       "</style>\n",
       "<table border=\"1\" class=\"dataframe\">\n",
       "  <thead>\n",
       "    <tr style=\"text-align: right;\">\n",
       "      <th></th>\n",
       "      <th>A</th>\n",
       "      <th>B</th>\n",
       "    </tr>\n",
       "  </thead>\n",
       "  <tbody>\n",
       "    <tr>\n",
       "      <th>2018-06-01 00:00:00</th>\n",
       "      <td>1.0</td>\n",
       "      <td>2.0</td>\n",
       "    </tr>\n",
       "    <tr>\n",
       "      <th>2018-06-01 00:00:05</th>\n",
       "      <td>3.0</td>\n",
       "      <td>4.0</td>\n",
       "    </tr>\n",
       "    <tr>\n",
       "      <th>2018-06-01 00:00:10</th>\n",
       "      <td>5.0</td>\n",
       "      <td>6.0</td>\n",
       "    </tr>\n",
       "    <tr>\n",
       "      <th>2018-06-01 00:00:15</th>\n",
       "      <td>NaN</td>\n",
       "      <td>NaN</td>\n",
       "    </tr>\n",
       "    <tr>\n",
       "      <th>2018-06-01 00:00:20</th>\n",
       "      <td>9.0</td>\n",
       "      <td>10.0</td>\n",
       "    </tr>\n",
       "  </tbody>\n",
       "</table>\n",
       "</div>"
      ],
      "text/plain": [
       "                       A     B\n",
       "2018-06-01 00:00:00  1.0   2.0\n",
       "2018-06-01 00:00:05  3.0   4.0\n",
       "2018-06-01 00:00:10  5.0   6.0\n",
       "2018-06-01 00:00:15  NaN   NaN\n",
       "2018-06-01 00:00:20  9.0  10.0"
      ]
     },
     "execution_count": 15,
     "metadata": {},
     "output_type": "execute_result"
    }
   ],
   "source": [
    "#let's EXTEND the original index with our newly created DateTimeIndex; why do the NaN values occur?\n",
    "df_example = df_example.reindex(new_index)\n",
    "df_example"
   ]
  },
  {
   "cell_type": "markdown",
   "metadata": {},
   "source": [
    "### __Your Solution 3:__"
   ]
  },
  {
   "cell_type": "code",
   "execution_count": 17,
   "metadata": {},
   "outputs": [],
   "source": [
    "#hypothetical number of 5min intervals given the max and min values of the df time range"
   ]
  },
  {
   "cell_type": "code",
   "execution_count": 15,
   "metadata": {},
   "outputs": [
    {
     "data": {
      "text/plain": [
       "(937968, 1)"
      ]
     },
     "execution_count": 15,
     "metadata": {},
     "output_type": "execute_result"
    }
   ],
   "source": [
    "df_new = df.reindex(new_time_range)\n",
    "df_new.shape"
   ]
  },
  {
   "cell_type": "code",
   "execution_count": 16,
   "metadata": {},
   "outputs": [
    {
     "data": {
      "text/html": [
       "<div>\n",
       "<style scoped>\n",
       "    .dataframe tbody tr th:only-of-type {\n",
       "        vertical-align: middle;\n",
       "    }\n",
       "\n",
       "    .dataframe tbody tr th {\n",
       "        vertical-align: top;\n",
       "    }\n",
       "\n",
       "    .dataframe thead th {\n",
       "        text-align: right;\n",
       "    }\n",
       "</style>\n",
       "<table border=\"1\" class=\"dataframe\">\n",
       "  <thead>\n",
       "    <tr style=\"text-align: right;\">\n",
       "      <th></th>\n",
       "      <th>t CO2-e / MWh</th>\n",
       "    </tr>\n",
       "  </thead>\n",
       "  <tbody>\n",
       "    <tr>\n",
       "      <th>2009-07-01 04:00:00</th>\n",
       "      <td>0.991217</td>\n",
       "    </tr>\n",
       "    <tr>\n",
       "      <th>2009-07-01 04:05:00</th>\n",
       "      <td>0.000000</td>\n",
       "    </tr>\n",
       "    <tr>\n",
       "      <th>2009-07-01 04:10:00</th>\n",
       "      <td>0.000000</td>\n",
       "    </tr>\n",
       "    <tr>\n",
       "      <th>2009-07-01 04:15:00</th>\n",
       "      <td>0.991217</td>\n",
       "    </tr>\n",
       "    <tr>\n",
       "      <th>2009-07-01 04:20:00</th>\n",
       "      <td>1.025701</td>\n",
       "    </tr>\n",
       "  </tbody>\n",
       "</table>\n",
       "</div>"
      ],
      "text/plain": [
       "                     t CO2-e / MWh\n",
       "2009-07-01 04:00:00       0.991217\n",
       "2009-07-01 04:05:00       0.000000\n",
       "2009-07-01 04:10:00       0.000000\n",
       "2009-07-01 04:15:00       0.991217\n",
       "2009-07-01 04:20:00       1.025701"
      ]
     },
     "execution_count": 16,
     "metadata": {},
     "output_type": "execute_result"
    }
   ],
   "source": [
    "df_new.head()"
   ]
  },
  {
   "cell_type": "code",
   "execution_count": 8,
   "metadata": {},
   "outputs": [],
   "source": [
    "#file_path = '../data/marginal_emissions_dtindex_nans.pkl'\n",
    "#pd.to_pickle(df_new, file_path)"
   ]
  },
  {
   "cell_type": "markdown",
   "metadata": {},
   "source": [
    "### __Checking for NaNs__\n",
    "\n",
    "It is frequently the case, that machine learning models do not accept NaN values. It is therefore crucial to check your dataset for those and to clean it from them."
   ]
  },
  {
   "cell_type": "code",
   "execution_count": 18,
   "metadata": {},
   "outputs": [
    {
     "data": {
      "text/plain": [
       "t CO2-e / MWh    True\n",
       "dtype: bool"
      ]
     },
     "execution_count": 18,
     "metadata": {},
     "output_type": "execute_result"
    }
   ],
   "source": [
    "#let's look at our dataset from BEFORE reindexing\n",
    "df.isna().any()"
   ]
  },
  {
   "cell_type": "code",
   "execution_count": 19,
   "metadata": {},
   "outputs": [
    {
     "data": {
      "text/plain": [
       "t CO2-e / MWh    True\n",
       "dtype: bool"
      ]
     },
     "execution_count": 19,
     "metadata": {},
     "output_type": "execute_result"
    }
   ],
   "source": [
    "#let's look at our dataset from AFTER reindexing\n",
    "df_new.isna().any()"
   ]
  },
  {
   "cell_type": "markdown",
   "metadata": {},
   "source": [
    "#### __Useful visualisation of NaNs__"
   ]
  },
  {
   "cell_type": "code",
   "execution_count": 20,
   "metadata": {},
   "outputs": [
    {
     "data": {
      "image/png": "[encoded data removed]",
      "text/plain": [
       "<Figure size 432x288 with 2 Axes>"
      ]
     },
     "metadata": {},
     "output_type": "display_data"
    }
   ],
   "source": [
    "#dark shades indicate the presence of values\n",
    "#white bars indicate the presence of NaNs\n",
    "plt.style.use('ggplot')\n",
    "\n",
    "fig = sns.heatmap(df_new.isna(), yticklabels=100000)"
   ]
  },
  {
   "cell_type": "markdown",
   "metadata": {},
   "source": [
    "### __Data imputation of time series__\n",
    "\n",
    "Due to the nature of time series data, the imputation of missing values needs extra attention. The potential presence of time series trends and seasonality renders imputations using e.g. mean or median deduced from the entire dataset little useful. Instead, any imputation should rather consider the local value range around a NaN value. In the following, we will see one approach of how that works."
   ]
  },
  {
   "cell_type": "markdown",
   "metadata": {},
   "source": [
    "<img src=\"../images/time_series_imputation.jpg\"> <br/>\n",
    "source: https://www.hindawi.com/journals/mpe/2010/513810/fig9/"
   ]
  },
  {
   "cell_type": "code",
   "execution_count": 21,
   "metadata": {},
   "outputs": [],
   "source": [
    "#we use the .rolling method to calculate the rolling mean composed of always 30 subsequent values\n",
    "#the .assign method adds a new column with our rolling mean to df_new, all of which we save in df_impute\n",
    "\n",
    "df_impute = df_new.assign(rolling_mean=df_new['t CO2-e / MWh'].rolling(window=30, min_periods=1).mean())"
   ]
  },
  {
   "cell_type": "code",
   "execution_count": 22,
   "metadata": {},
   "outputs": [
    {
     "data": {
      "text/html": [
       "<div>\n",
       "<style scoped>\n",
       "    .dataframe tbody tr th:only-of-type {\n",
       "        vertical-align: middle;\n",
       "    }\n",
       "\n",
       "    .dataframe tbody tr th {\n",
       "        vertical-align: top;\n",
       "    }\n",
       "\n",
       "    .dataframe thead th {\n",
       "        text-align: right;\n",
       "    }\n",
       "</style>\n",
       "<table border=\"1\" class=\"dataframe\">\n",
       "  <thead>\n",
       "    <tr style=\"text-align: right;\">\n",
       "      <th></th>\n",
       "      <th>t CO2-e / MWh</th>\n",
       "      <th>rolling_mean</th>\n",
       "    </tr>\n",
       "  </thead>\n",
       "  <tbody>\n",
       "    <tr>\n",
       "      <th>2009-07-01 04:00:00</th>\n",
       "      <td>0.991217</td>\n",
       "      <td>0.991217</td>\n",
       "    </tr>\n",
       "    <tr>\n",
       "      <th>2009-07-01 04:05:00</th>\n",
       "      <td>0.000000</td>\n",
       "      <td>0.495609</td>\n",
       "    </tr>\n",
       "    <tr>\n",
       "      <th>2009-07-01 04:10:00</th>\n",
       "      <td>0.000000</td>\n",
       "      <td>0.330406</td>\n",
       "    </tr>\n",
       "    <tr>\n",
       "      <th>2009-07-01 04:15:00</th>\n",
       "      <td>0.991217</td>\n",
       "      <td>0.495609</td>\n",
       "    </tr>\n",
       "    <tr>\n",
       "      <th>2009-07-01 04:20:00</th>\n",
       "      <td>1.025701</td>\n",
       "      <td>0.601627</td>\n",
       "    </tr>\n",
       "  </tbody>\n",
       "</table>\n",
       "</div>"
      ],
      "text/plain": [
       "                     t CO2-e / MWh  rolling_mean\n",
       "2009-07-01 04:00:00       0.991217      0.991217\n",
       "2009-07-01 04:05:00       0.000000      0.495609\n",
       "2009-07-01 04:10:00       0.000000      0.330406\n",
       "2009-07-01 04:15:00       0.991217      0.495609\n",
       "2009-07-01 04:20:00       1.025701      0.601627"
      ]
     },
     "execution_count": 22,
     "metadata": {},
     "output_type": "execute_result"
    }
   ],
   "source": [
    "df_impute.head()"
   ]
  },
  {
   "cell_type": "code",
   "execution_count": 23,
   "metadata": {},
   "outputs": [
    {
     "data": {
      "text/plain": [
       "t CO2-e / MWh     True\n",
       "rolling_mean     False\n",
       "dtype: bool"
      ]
     },
     "execution_count": 23,
     "metadata": {},
     "output_type": "execute_result"
    }
   ],
   "source": [
    "df_impute.isna().any()"
   ]
  },
  {
   "cell_type": "code",
   "execution_count": 24,
   "metadata": {},
   "outputs": [],
   "source": [
    "#here we use the numpy.where() method to replace only NaNs with values from the rolling_mean column\n",
    "df_impute['t CO2-e / MWh'] = np.where(df_impute['t CO2-e / MWh'].isnull(),\\\n",
    "                                  df_impute['rolling_mean'], df_impute['t CO2-e / MWh'])\n",
    "\n",
    "df_impute.drop(columns='rolling_mean', inplace=True)"
   ]
  },
  {
   "cell_type": "code",
   "execution_count": 25,
   "metadata": {},
   "outputs": [
    {
     "data": {
      "text/plain": [
       "t CO2-e / MWh    False\n",
       "dtype: bool"
      ]
     },
     "execution_count": 25,
     "metadata": {},
     "output_type": "execute_result"
    }
   ],
   "source": [
    "#let's see if everything worked\n",
    "df_impute.isna().any()"
   ]
  },
  {
   "cell_type": "code",
   "execution_count": 27,
   "metadata": {},
   "outputs": [
    {
     "data": {
      "text/html": [
       "<div>\n",
       "<style scoped>\n",
       "    .dataframe tbody tr th:only-of-type {\n",
       "        vertical-align: middle;\n",
       "    }\n",
       "\n",
       "    .dataframe tbody tr th {\n",
       "        vertical-align: top;\n",
       "    }\n",
       "\n",
       "    .dataframe thead th {\n",
       "        text-align: right;\n",
       "    }\n",
       "</style>\n",
       "<table border=\"1\" class=\"dataframe\">\n",
       "  <thead>\n",
       "    <tr style=\"text-align: right;\">\n",
       "      <th></th>\n",
       "      <th>t CO2-e / MWh</th>\n",
       "    </tr>\n",
       "  </thead>\n",
       "  <tbody>\n",
       "  </tbody>\n",
       "</table>\n",
       "</div>"
      ],
      "text/plain": [
       "Empty DataFrame\n",
       "Columns: [t CO2-e / MWh]\n",
       "Index: []"
      ]
     },
     "execution_count": 27,
     "metadata": {},
     "output_type": "execute_result"
    }
   ],
   "source": [
    "pd.set_option('display.max_rows', None)\n",
    "df_impute[df_impute['t CO2-e / MWh'].isna()].iloc[:102,]"
   ]
  },
  {
   "cell_type": "code",
   "execution_count": 29,
   "metadata": {},
   "outputs": [],
   "source": [
    "df_impute.to_pickle('../data/train_clean.pkl')"
   ]
  },
  {
   "cell_type": "code",
   "execution_count": null,
   "metadata": {},
   "outputs": [],
   "source": []
  }
 ],
 "metadata": {
  "kernelspec": {
   "display_name": "dsr_teaching",
   "language": "python",
   "name": "dsr_teaching"
  },
  "language_info": {
   "codemirror_mode": {
    "name": "ipython",
    "version": 3
   },
   "file_extension": ".py",
   "mimetype": "text/x-python",
   "name": "python",
   "nbconvert_exporter": "python",
   "pygments_lexer": "ipython3",
   "version": "3.6.8"
  }
 },
 "nbformat": 4,
 "nbformat_minor": 4
}
