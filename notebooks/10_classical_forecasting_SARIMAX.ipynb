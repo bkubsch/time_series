{
 "cells": [
  {
   "cell_type": "markdown",
   "metadata": {},
   "source": [
    "# __SARIMAX__\n",
    "\n",
    "## __Seasonal AutoRegressive Integrated Moving Average with eXogenous regressors__\n",
    "\n",
    "So far our predicitions were based on past values and errors of our dataset in order to predict trends, seasonality, and forecasted values. The following model encompasses not only non-seasonal (p, d, q) and seasonal (P, D, Q, m) factors, but more enable the inclusion of exogenous variables (e.g. environmental)."
   ]
  },
  {
   "cell_type": "code",
   "execution_count": null,
   "metadata": {},
   "outputs": [],
   "source": [
    "import pandas as pd\n",
    "import numpy as np\n",
    "%matplotlib inline\n",
    "\n",
    "from statsmodels.tsa.statespace.sarimax import SARIMAX\n",
    "\n",
    "from statsmodels.graphics.tsaplots import plot_acf,plot_pacf # for determining (p,q) orders manually\n",
    "from statsmodels.tsa.seasonal import seasonal_decompose      # for ETS plots (seasonal_decompose)\n",
    "from pmdarima import auto_arima                              # for determining ARIMA orders\n",
    "\n",
    "import matplotlib.pyplot as plt\n",
    "\n",
    "import warnings\n",
    "warnings.filterwarnings(\"ignore\")"
   ]
  },
  {
   "cell_type": "markdown",
   "metadata": {},
   "source": [
    "### __Inspect the data__\n",
    "The data considers daily visitors to four restaurants located in the United States, subject to American holidays. For the exogenous variable we'll see how holidays affect patronage. The dataset contains 478 days of restaurant data, plus an additional 39 days of holiday data for forecasting purposes."
   ]
  },
  {
   "cell_type": "code",
   "execution_count": null,
   "metadata": {},
   "outputs": [],
   "source": [
    "df = pd.read_csv('../data/RestaurantVisitors.csv',index_col='date',parse_dates=True)\n",
    "df.index.freq = 'D'"
   ]
  },
  {
   "cell_type": "code",
   "execution_count": null,
   "metadata": {},
   "outputs": [],
   "source": [
    "df.head()"
   ]
  },
  {
   "cell_type": "markdown",
   "metadata": {},
   "source": [
    "Notice that even though the restaurant visitor columns contain integer data, they appear as floats. This is because the bottom of the dataframe has 39 rows of NaN data to accommodate the extra holiday data we'll use for forecasting, and pandas won't allow NaN's as integers. We could leave it like this, but since we have to drop NaN values anyway, let's also convert the columns to dtype int64."
   ]
  },
  {
   "cell_type": "code",
   "execution_count": null,
   "metadata": {},
   "outputs": [],
   "source": [
    "df.tail()"
   ]
  },
  {
   "cell_type": "code",
   "execution_count": null,
   "metadata": {},
   "outputs": [],
   "source": [
    "df1 = df.dropna()\n",
    "df1.tail()"
   ]
  },
  {
   "cell_type": "code",
   "execution_count": null,
   "metadata": {},
   "outputs": [],
   "source": [
    "cols = ['rest1','rest2','rest3','rest4','total']\n",
    "for col in cols:\n",
    "    df1[col] = df1[col].astype(int)\n",
    "df1.head()"
   ]
  },
  {
   "cell_type": "markdown",
   "metadata": {},
   "source": [
    "### __Plot of source data__"
   ]
  },
  {
   "cell_type": "code",
   "execution_count": null,
   "metadata": {},
   "outputs": [],
   "source": [
    "plt.style.use('ggplot')\n",
    "\n",
    "title='Restaurant Visitors'\n",
    "ylabel='Visitors per day' #do not need an xlabeö\n",
    "\n",
    "ax = df1['total'].plot(figsize=(16,5),title=title, color='blue')\n",
    "ax.autoscale(axis='x',tight=True)\n",
    "ax.set(ylabel=ylabel);"
   ]
  },
  {
   "cell_type": "markdown",
   "metadata": {},
   "source": [
    "## __Look at holidays as an external feature__\n",
    "Rather than prepare a separate plot, we can use matplotlib to shade holidays behind our restaurant data."
   ]
  },
  {
   "cell_type": "code",
   "execution_count": null,
   "metadata": {},
   "outputs": [],
   "source": [
    "plt.style.use('ggplot')\n",
    "\n",
    "title='Restaurant Visitors'\n",
    "ylabel='Visitors per day' #do not need xlabel\n",
    "\n",
    "ax = df1['total'].plot(figsize=(16,5),title=title, color='blue')\n",
    "ax.autoscale(axis='x',tight=True)\n",
    "ax.set(ylabel=ylabel)\n",
    "for x in df1[df1['holiday'] == 1].index:    \n",
    "    ax.axvline(x=x, color='k', alpha = 0.3);  #adds semi-transparent grey line"
   ]
  },
  {
   "cell_type": "markdown",
   "metadata": {},
   "source": [
    "### __Run seasonal_decompose__"
   ]
  },
  {
   "cell_type": "code",
   "execution_count": null,
   "metadata": {},
   "outputs": [],
   "source": [
    "result = seasonal_decompose(df1['total'])\n",
    "result.plot();"
   ]
  },
  {
   "cell_type": "markdown",
   "metadata": {},
   "source": [
    "## __Test for stationarity__"
   ]
  },
  {
   "cell_type": "code",
   "execution_count": null,
   "metadata": {},
   "outputs": [],
   "source": [
    "from statsmodels.tsa.stattools import adfuller\n",
    "\n",
    "def adf_test(series,title=''):\n",
    "    \"\"\"\n",
    "    Pass in a time series and an optional title, returns an ADF report\n",
    "    \"\"\"\n",
    "    print(f'Augmented Dickey-Fuller Test: {title}')\n",
    "    result = adfuller(series.dropna(),autolag='AIC') # .dropna() handles differenced data\n",
    "    \n",
    "    labels = ['ADF test statistic','p-value','# lags used','# observations']\n",
    "    out = pd.Series(result[0:4],index=labels)\n",
    "\n",
    "    for key,val in result[4].items():\n",
    "        out[f'critical value ({key})']=val\n",
    "        \n",
    "    print(out.to_string())          # .to_string() removes the line \"dtype: float64\"\n",
    "    \n",
    "    if result[1] <= 0.05:\n",
    "        print(\"Strong evidence against the null hypothesis\")\n",
    "        print(\"Reject the null hypothesis\")\n",
    "        print(\"Data has no unit root and is stationary\")\n",
    "    else:\n",
    "        print(\"Weak evidence against the null hypothesis\")\n",
    "        print(\"Fail to reject the null hypothesis\")\n",
    "        print(\"Data has a unit root and is non-stationary\")"
   ]
  },
  {
   "cell_type": "code",
   "execution_count": null,
   "metadata": {},
   "outputs": [],
   "source": [
    "adf_test(df1['total'])"
   ]
  },
  {
   "cell_type": "markdown",
   "metadata": {},
   "source": [
    "### __Run pmdarima.auto_arima to get recommended orders__\n",
    "That may take a while as different combinations of orders are calculated here to compare different AICs. Again, optimal order combinations may vary with computer power."
   ]
  },
  {
   "cell_type": "code",
   "execution_count": null,
   "metadata": {},
   "outputs": [],
   "source": [
    "# For SARIMA Orders we set seasonal=True and pass in an m value\n",
    "auto_arima(df1['total'],seasonal=True,m=7).summary()\n"
   ]
  },
  {
   "cell_type": "markdown",
   "metadata": {},
   "source": [
    "This provides an ARIMA Order of (1,0,0) and a seasonal order of (2,0,0,7) Now let's train & test the SARIMA model, evaluate it, then compare the result to a model that uses an exogenous variable."
   ]
  },
  {
   "cell_type": "markdown",
   "metadata": {},
   "source": [
    "### __train / test split__\n",
    "We'll assign 42 days (6 weeks) to the test set so that it includes several holidays."
   ]
  },
  {
   "cell_type": "code",
   "execution_count": null,
   "metadata": {},
   "outputs": [],
   "source": [
    "len(df1)"
   ]
  },
  {
   "cell_type": "code",
   "execution_count": null,
   "metadata": {},
   "outputs": [],
   "source": [
    "# Set four weeks for testing\n",
    "train = df1.iloc[:436]\n",
    "test = df1.iloc[436:]"
   ]
  },
  {
   "cell_type": "markdown",
   "metadata": {},
   "source": [
    "### __Fit SARIMA(1,0,0)(2,0,0,7) model__\n",
    "NOTE: To avoid a ValueError: non-invertible starting MA parameters found we're going to set enforce_invertibility to False."
   ]
  },
  {
   "cell_type": "code",
   "execution_count": null,
   "metadata": {},
   "outputs": [],
   "source": [
    "model = SARIMAX(train['total'],order=(1,0,0),seasonal_order=(2,0,0,7))\n",
    "\n",
    "#https://stats.stackexchange.com/questions/50682/what-is-the-intuition-of-invertible-process-in-time-series\n",
    "\n",
    "results = model.fit()\n",
    "results.summary()"
   ]
  },
  {
   "cell_type": "code",
   "execution_count": null,
   "metadata": {},
   "outputs": [],
   "source": [
    "# Obtain predicted values\n",
    "start=len(train)\n",
    "end=len(train)+len(test)-1\n",
    "predictions = results.predict(start=start, end=end, dynamic=False).rename('SARIMA(1,0,0)(2,0,0,7) Predictions')"
   ]
  },
  {
   "cell_type": "markdown",
   "metadata": {},
   "source": [
    "Passing dynamic=False means that forecasts at each point are generated using the full history up to that point (all lagged values).\n",
    "\n",
    "More info here: https://www.statsmodels.org/stable/generated/statsmodels.tsa.arima_model.ARIMAResults.predict.html"
   ]
  },
  {
   "cell_type": "code",
   "execution_count": null,
   "metadata": {},
   "outputs": [],
   "source": [
    "# Plot predictions against known values\n",
    "title='Restaurant Visitors'\n",
    "ylabel='Visitors per day' #xlalbel not required\n",
    "\n",
    "ax = test['total'].plot(legend=True,figsize=(12,6),title=title)\n",
    "predictions.plot(legend=True)\n",
    "ax.autoscale(axis='x',tight=True)\n",
    "ax.set(ylabel=ylabel)\n",
    "for x in test.query('holiday==1').index: \n",
    "    ax.axvline(x=x, color='k', alpha = 0.3);"
   ]
  },
  {
   "cell_type": "markdown",
   "metadata": {},
   "source": [
    "### __Model evaluation without exogenous variable__"
   ]
  },
  {
   "cell_type": "code",
   "execution_count": null,
   "metadata": {},
   "outputs": [],
   "source": [
    "from statsmodels.tools.eval_measures import mse,rmse\n",
    "\n",
    "mse_error = mse(test['total'], predictions)\n",
    "rmse_error = rmse(test['total'], predictions)\n",
    "mape_error = (sum(abs((test['total'] - predictions)\\\n",
    "                /test['total'])))*(100/len(test['total']))\n",
    "\n",
    "print(f'SARIMA(1,0,0)(2,0,0,7) MSE: {mse_error:11.10}')\n",
    "print(f'SARIMA(1,0,0)(2,0,0,7) RMSE: {rmse_error:11.10}')\n",
    "print(f'SARIMA(1,0,0)(2,0,0,7) MAPE: {mape_error:11.10}')"
   ]
  },
  {
   "cell_type": "markdown",
   "metadata": {},
   "source": [
    "## __Addition of exogenous variable__"
   ]
  },
  {
   "cell_type": "code",
   "execution_count": null,
   "metadata": {},
   "outputs": [],
   "source": [
    "model = SARIMAX(train['total'],exog=train['holiday'],order=(1,0,0),seasonal_order=(2,0,0,7))\n",
    "results = model.fit()\n",
    "results.summary()"
   ]
  },
  {
   "cell_type": "code",
   "execution_count": null,
   "metadata": {},
   "outputs": [],
   "source": [
    "# Obtain predicted values\n",
    "start=len(train)\n",
    "end=len(train)+len(test)-1\n",
    "exog_forecast = test[['holiday']]  # requires two brackets to yield a shape of (35,1)\n",
    "predictions = results.predict(start=start, end=end, exog=exog_forecast).rename('SARIMAX(1,0,0)(2,0,0,7) Predictions')"
   ]
  },
  {
   "cell_type": "code",
   "execution_count": null,
   "metadata": {},
   "outputs": [],
   "source": [
    "# Plot predictions against known values\n",
    "title='Restaurant Visitors'\n",
    "ylabel='Visitors per day' #xlabel not needed\n",
    "\n",
    "ax = test['total'].plot(legend=True,figsize=(12,6),title=title)\n",
    "predictions.plot(legend=True)\n",
    "ax.autoscale(axis='x',tight=True)\n",
    "ax.set(ylabel=ylabel)\n",
    "for x in test.query('holiday==1').index: \n",
    "    ax.axvline(x=x, color='k', alpha = 0.3);"
   ]
  },
  {
   "cell_type": "markdown",
   "metadata": {},
   "source": [
    "We can see that the exogenous variable (holidays) had a positive impact on the forecast by raising predicted values at 3/17, 4/14, 4/16 and 4/17. What about evaluations?"
   ]
  },
  {
   "cell_type": "markdown",
   "metadata": {},
   "source": [
    "### __Model evaluation including exogenous variable__"
   ]
  },
  {
   "cell_type": "code",
   "execution_count": null,
   "metadata": {},
   "outputs": [],
   "source": [
    "# Print values from SARIMA above\n",
    "print(f'SARIMA(1,0,0)(2,0,0,7) MSE Error: {mse_error:11.10}')\n",
    "print(f'SARIMA(1,0,0)(2,0,0,7) RMSE Error: {rmse_error:11.10}')\n",
    "print(f'SARIMA(1,0,0)(2,0,0,7) RMSE Error: {mape_error:11.10}')\n",
    "print()\n",
    "\n",
    "xmse_error = mse(test['total'], predictions)\n",
    "xrmse_error = rmse(test['total'], predictions)\n",
    "xmape_error = (sum(abs((test['total'] - predictions)\\\n",
    "                /test['total'])))*(100/len(test['total']))\n",
    "\n",
    "# Print new SARIMAX values\n",
    "print(f'SARIMAX(1,0,0)(2,0,0,7) MSE Error: {xmse_error:11.10}')\n",
    "print(f'SARIMAX(1,0,0)(2,0,0,7) RMSE Error: {xrmse_error:11.10}')\n",
    "print(f'SARIMAX(1,0,0)(2,0,0,7) RMSE Error: {xmape_error:11.10}')"
   ]
  },
  {
   "cell_type": "markdown",
   "metadata": {},
   "source": [
    "__Our errors have improved by quite a bit. Isn#T that fance?__\n",
    "\n",
    "If you want to get hints on how to include several exogenous variables - which is not completely intuitive, check out this link:\n",
    "https://stackoverflow.com/questions/44212127/how-do-i-input-multiple-exogenous-variables-into-a-sarimax-model-in-statsmodel"
   ]
  },
  {
   "cell_type": "markdown",
   "metadata": {},
   "source": [
    "### __Apply model to entire dataset to forecast into the future!__\n",
    "We're going to forecast 39 days into the future, and use the additional holiday data"
   ]
  },
  {
   "cell_type": "code",
   "execution_count": null,
   "metadata": {},
   "outputs": [],
   "source": [
    "model = SARIMAX(df1['total'],exog=df1['holiday'],order=(1,0,0),seasonal_order=(2,0,0,7),enforce_invertibility=False)\n",
    "results = model.fit()\n",
    "exog_forecast = df[478:][['holiday']]\n",
    "fcast = results.predict(len(df1),len(df1)+38,exog=exog_forecast).rename('SARIMAX(1,0,0)(2,0,0,7) Forecast')"
   ]
  },
  {
   "cell_type": "code",
   "execution_count": null,
   "metadata": {},
   "outputs": [],
   "source": [
    "# Plot the forecast alongside historical values\n",
    "title='Restaurant Visitors'\n",
    "ylabel='Visitors per day'\n",
    "xlabel=''\n",
    "\n",
    "ax = df1['total'].plot(legend=True,figsize=(16,6),title=title)\n",
    "fcast.plot(legend=True)\n",
    "ax.autoscale(axis='x',tight=True)\n",
    "ax.set(xlabel=xlabel, ylabel=ylabel)\n",
    "for x in df.query('holiday==1').index: \n",
    "    ax.axvline(x=x, color='k', alpha = 0.3);"
   ]
  }
 ],
 "metadata": {
  "kernelspec": {
   "display_name": "dsr_teaching",
   "language": "python",
   "name": "dsr_teaching"
  },
  "language_info": {
   "codemirror_mode": {
    "name": "ipython",
    "version": 3
   },
   "file_extension": ".py",
   "mimetype": "text/x-python",
   "name": "python",
   "nbconvert_exporter": "python",
   "pygments_lexer": "ipython3",
   "version": "3.6.9"
  }
 },
 "nbformat": 4,
 "nbformat_minor": 4
}
