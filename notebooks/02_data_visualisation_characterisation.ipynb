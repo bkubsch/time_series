{
 "cells": [
  {
   "cell_type": "markdown",
   "metadata": {},
   "source": [
    "# __Data visualisation__\n",
    "\n",
    "Visualization is a key step in any data science project.  \n",
    "\n",
    "In time series, visualization guides the data analysis process and helps identify components of the time series, and what data might be useful for prediction."
   ]
  },
  {
   "cell_type": "code",
   "execution_count": null,
   "metadata": {},
   "outputs": [],
   "source": [
    "import datetime as dt\n",
    "\n",
    "from random import seed, random\n",
    "\n",
    "import warnings\n",
    "warnings.simplefilter('ignore') # ignore warnings\n",
    "\n",
    "from matplotlib import pyplot\n",
    "import matplotlib.pyplot as plt\n",
    "plt.style.use('ggplot')\n",
    "\n",
    "import matplotlib.dates as mdates\n",
    "import pandas as pd\n",
    "import seaborn as sns\n",
    "\n",
    "import pylab\n",
    "pylab.rcParams['figure.figsize'] = (7, 4)  # fixes the figure size"
   ]
  },
  {
   "cell_type": "code",
   "execution_count": null,
   "metadata": {},
   "outputs": [],
   "source": [
    "df = pd.read_pickle('../data/train_clean.pkl')\n",
    "df.head()"
   ]
  },
  {
   "cell_type": "code",
   "execution_count": null,
   "metadata": {},
   "outputs": [],
   "source": [
    "df.shape"
   ]
  },
  {
   "cell_type": "code",
   "execution_count": null,
   "metadata": {},
   "outputs": [],
   "source": [
    "df.isnull().any()"
   ]
  },
  {
   "cell_type": "markdown",
   "metadata": {},
   "source": [
    "### __Simple time series plot__\n",
    "\n",
    "The first step in visualization of a time series is to simply plot the time series as a line chart.\n",
    "\n",
    "Due to the massive size of the dataset, we only plot out a 48 h section of it:"
   ]
  },
  {
   "cell_type": "code",
   "execution_count": null,
   "metadata": {},
   "outputs": [],
   "source": [
    "fig = sns.lineplot(df.index[:576], df['t CO2-e / MWh'].iloc[:576], color='blue')\n",
    "fig.set_ylabel(\"t CO2-e / MWh\")\n",
    "\n",
    "date_format = mdates.DateFormatter('%H:%M')\n",
    "plt.gca().xaxis.set_major_formatter(date_format)\n",
    "\n",
    "for i in fig.get_xticklabels():\n",
    "    i.set_rotation(30)\n",
    "\n",
    "sns.set_style(\"whitegrid\")"
   ]
  },
  {
   "cell_type": "markdown",
   "metadata": {},
   "source": [
    "### __Plotting grouped time intervals__\n",
    "\n",
    "In order to decrease the size of our dataset for its plotting, we use the .resample() method with option \"M\", averaging our data for each month\n",
    "\n",
    "Check out 'DateOffset objects here: https://pandas.pydata.org/pandas-docs/stable/user_guide/timeseries.html#dateoffset-objects'"
   ]
  },
  {
   "cell_type": "code",
   "execution_count": null,
   "metadata": {},
   "outputs": [],
   "source": [
    "df_resample = df.resample(\"M\").mean() "
   ]
  },
  {
   "cell_type": "markdown",
   "metadata": {},
   "source": [
    "<table style=\"display: inline-block\">\n",
    "    <caption style=\"text-align: center\"><strong>TIME SERIES OFFSET ALIASES</strong></caption>\n",
    "<tr><th>ALIAS</th><th>DESCRIPTION</th></tr>\n",
    "<tr><td>B</td><td>business day frequency</td></tr>\n",
    "<tr><td>C</td><td>custom business day frequency (experimental)</td></tr>\n",
    "<tr><td>D</td><td>calendar day frequency</td></tr>\n",
    "<tr><td>W</td><td>weekly frequency</td></tr>\n",
    "<tr><td>M</td><td>month end frequency</td></tr>\n",
    "<tr><td>SM</td><td>semi-month end frequency (15th and end of month)</td></tr>\n",
    "<tr><td>BM</td><td>business month end frequency</td></tr>\n",
    "<tr><td>CBM</td><td>custom business month end frequency</td></tr>\n",
    "<tr><td>MS</td><td>month start frequency</td></tr>\n",
    "<tr><td>SMS</td><td>semi-month start frequency (1st and 15th)</td></tr>\n",
    "<tr><td>BMS</td><td>business month start frequency</td></tr>\n",
    "<tr><td>CBMS</td><td>custom business month start frequency</td></tr>\n",
    "<tr><td>Q</td><td>quarter end frequency</td></tr>\n",
    "<tr><td></td><td><font color=white>intentionally left blank</font></td></tr></table>\n",
    "\n",
    "<table style=\"display: inline-block; margin-left: 40px\">\n",
    "<caption style=\"text-align: center\"></caption>\n",
    "<tr><th>ALIAS</th><th>DESCRIPTION</th></tr>\n",
    "<tr><td>BQ</td><td>business quarter endfrequency</td></tr>\n",
    "<tr><td>QS</td><td>quarter start frequency</td></tr>\n",
    "<tr><td>BQS</td><td>business quarter start frequency</td></tr>\n",
    "<tr><td>A</td><td>year end frequency</td></tr>\n",
    "<tr><td>BA</td><td>business year end frequency</td></tr>\n",
    "<tr><td>AS</td><td>year start frequency</td></tr>\n",
    "<tr><td>BAS</td><td>business year start frequency</td></tr>\n",
    "<tr><td>BH</td><td>business hour frequency</td></tr>\n",
    "<tr><td>H</td><td>hourly frequency</td></tr>\n",
    "<tr><td>T, min</td><td>minutely frequency</td></tr>\n",
    "<tr><td>S</td><td>secondly frequency</td></tr>\n",
    "<tr><td>L, ms</td><td>milliseconds</td></tr>\n",
    "<tr><td>U, us</td><td>microseconds</td></tr>\n",
    "<tr><td>N</td><td>nanoseconds</td></tr></table>"
   ]
  },
  {
   "cell_type": "code",
   "execution_count": null,
   "metadata": {},
   "outputs": [],
   "source": [
    "df_resample.head()"
   ]
  },
  {
   "cell_type": "markdown",
   "metadata": {},
   "source": [
    "Let's plot out our resampled data:"
   ]
  },
  {
   "cell_type": "code",
   "execution_count": null,
   "metadata": {},
   "outputs": [],
   "source": [
    "fig = plt.plot_date(df_resample.index, df_resample['t CO2-e / MWh'], linestyle='solid', marker=None, color='blue')\n",
    "\n",
    "plt.xlabel(\"Year\", labelpad=15, fontsize=15, fontweight='bold')\n",
    "plt.ylabel(\"t CO2-e / MWh\", labelpad=15, fontsize=15, fontweight='bold')\n",
    "\n",
    "sns.set_style('whitegrid')\n",
    "plt.style.use('seaborn')"
   ]
  },
  {
   "cell_type": "markdown",
   "metadata": {},
   "source": [
    "### __Anything more than randomness? -> decompose__\n",
    "\n",
    "From the above plots it is difficult to find any clear patterns. \n",
    "\n",
    "Let's explore what other methods we can use and what other analyses can be performed to get a clearer picture of our data.\n",
    "\n",
    "The `statsmodels` package has functionality to decompose our time series using a naive, moving average approach:"
   ]
  },
  {
   "cell_type": "code",
   "execution_count": null,
   "metadata": {},
   "outputs": [],
   "source": [
    "from statsmodels.tsa.seasonal import seasonal_decompose"
   ]
  },
  {
   "cell_type": "code",
   "execution_count": null,
   "metadata": {},
   "outputs": [],
   "source": [
    "df_decomposed = seasonal_decompose(df_resample['t CO2-e / MWh'], model='additive') #sketch on whiteboard\n",
    "pylab.rcParams['figure.figsize'] = (7, 4)\n",
    "df_decomposed.plot();"
   ]
  },
  {
   "cell_type": "markdown",
   "metadata": {},
   "source": [
    "### __Anything more than randomness? -> check for random walk behaviour__\n",
    "\n",
    "Any time series with a random walk behaviour is - as the name suggests - a random dataset whose association to a timestamp do not provide any useful insights. In order for it to be useful to examine our dataframe for time features, we should be able to exclude the possibility for our dataset to be a random walk.\n",
    "\n",
    "A random walk is a time series, of which an obeserved value $y_t$ simply depends on its previous value $y_{t-1}$ and an error $\\epsilon_t$, rendering the relation betweem timestap and target value random."
   ]
  },
  {
   "cell_type": "markdown",
   "metadata": {},
   "source": [
    "__Random walk:__\n",
    "<br/>\n",
    "$y_t=y_{t-1}+\\epsilon_t$\n",
    "<br/>\n",
    "<br/>"
   ]
  },
  {
   "cell_type": "code",
   "execution_count": null,
   "metadata": {},
   "outputs": [],
   "source": [
    "import numpy as np\n",
    "\n",
    "from pandas.plotting import autocorrelation_plot\n",
    "from statsmodels.graphics.tsaplots import plot_acf"
   ]
  },
  {
   "cell_type": "markdown",
   "metadata": {},
   "source": [
    "Lets sample a random walk:"
   ]
  },
  {
   "cell_type": "code",
   "execution_count": null,
   "metadata": {},
   "outputs": [],
   "source": [
    "seed(1)\n",
    "random_walk = list()\n",
    "random_walk.append(-1 if random() < 0.5 else 1)\n",
    "\n",
    "for i in range(1, 1000):\n",
    "    movement = -1 if random() < 0.5 else 1\n",
    "    value = random_walk[i-1] + movement\n",
    "    random_walk.append(value)\n",
    "    \n",
    "pyplot.plot(random_walk)\n",
    "pyplot.show()"
   ]
  },
  {
   "cell_type": "code",
   "execution_count": null,
   "metadata": {},
   "outputs": [],
   "source": [
    "test = seasonal_decompose(random_walk, freq=998)\n",
    "pylab.rcParams['figure.figsize'] = (7, 4)\n",
    "test.plot();"
   ]
  },
  {
   "cell_type": "markdown",
   "metadata": {},
   "source": [
    "__Compare this with the seasonal decomposition of our dataset.__"
   ]
  },
  {
   "cell_type": "markdown",
   "metadata": {},
   "source": [
    "#### __Autocorrelation plots of random walks__\n",
    "\n",
    "Other than by checking our dataset for its seasonal decomposition, we can compare the autocorrelations functions of our dataset and the one of a random walk, as the latter comes with a very specific trajectory.\n",
    "\n",
    "But first, let's dive into what autocorrelation functions are."
   ]
  },
  {
   "cell_type": "markdown",
   "metadata": {},
   "source": [
    "#### __Autocorrelation:__\n",
    "\n",
    "${\\displaystyle \\rho_k = \\frac {\\sum\\limits_{t=1}^{n-k} (y_t - \\bar{y})(y_{t+k}-\\bar{y})} {\\sum\\limits_{t=1}^{n} (y_t - \\bar{y})^2}}$\n",
    "\n",
    "Autocorrelation is a key tool in time series.  It is particularly useful in identifying seasonality, which can inform which lagged values to include as features (more on lagging later)."
   ]
  },
  {
   "cell_type": "markdown",
   "metadata": {},
   "source": [
    "The images below show how autocorrelation (acf) works on the example of days. Some quantity (e.g. temperature) of day i ($y_t$) gets compared to the same quantity one day before at day i-1 ($y_{t-1}$). The resulting correlation is evaluated using Pearson's r. An acf plot plots the different R values over the considered time lags."
   ]
  },
  {
   "cell_type": "code",
   "execution_count": 1,
   "metadata": {},
   "outputs": [
    {
     "data": {
      "text/html": [
       "<table><tr><td><img src='../images/acf_1.jpg' width='400'></td><td><img src='../images/acf_2.jpg'width='400'></td></tr></table>"
      ],
      "text/plain": [
       "<IPython.core.display.HTML object>"
      ]
     },
     "metadata": {},
     "output_type": "display_data"
    }
   ],
   "source": [
    "from IPython.display import HTML, display\n",
    "display(HTML(\"<table><tr><td><img src='../images/acf_1.jpg' width='400'></td><td><img src='../images/acf_2.jpg'width='400'></td></tr></table>\"))"
   ]
  },
  {
   "cell_type": "markdown",
   "metadata": {},
   "source": [
    "source: Brandon Rohrer on youtube"
   ]
  },
  {
   "cell_type": "markdown",
   "metadata": {},
   "source": [
    "### __Random walk acf__"
   ]
  },
  {
   "cell_type": "code",
   "execution_count": null,
   "metadata": {},
   "outputs": [],
   "source": [
    "from statsmodels.graphics.tsaplots import plot_acf, plot_pacf"
   ]
  },
  {
   "cell_type": "markdown",
   "metadata": {},
   "source": [
    "The random walk acf features a slow and linear decrease of the acf components with increasing lags.  \n",
    "\n",
    "The y-axis reflects the respective correlation which stem from the comparison of $y_t$ and $y_{t-1}$, $y_{t-2}$, ..., $y_{t - lags}$, while the lags are shown on the x-axis.\n",
    "\n",
    "__It is characteristic for a random walk acf to decay slowly in a linear fashion.__"
   ]
  },
  {
   "cell_type": "code",
   "execution_count": null,
   "metadata": {},
   "outputs": [],
   "source": [
    "_ = plot_acf(random_walk, lags=50)"
   ]
  },
  {
   "cell_type": "markdown",
   "metadata": {},
   "source": [
    "### __Autocorrelation of our dataset__\n",
    "\n",
    "We are working with a pretty massive dataset of which the calculation of the acf becomes pretty time-consuming. \n",
    "\n",
    "Therefore, we will only examine a section of our dataset."
   ]
  },
  {
   "cell_type": "code",
   "execution_count": null,
   "metadata": {},
   "outputs": [],
   "source": [
    "df_acf = df[df.index > dt.datetime(2016,1,1,0,0,0)]\n",
    "print(df.index.min())\n",
    "df_acf.index.max()"
   ]
  },
  {
   "cell_type": "code",
   "execution_count": null,
   "metadata": {},
   "outputs": [],
   "source": [
    "plot_acf(df_acf, lags=50);"
   ]
  },
  {
   "cell_type": "markdown",
   "metadata": {},
   "source": [
    "__Our dataset features an exponential decay and therefore clearly differs from a random walk.__"
   ]
  },
  {
   "cell_type": "markdown",
   "metadata": {},
   "source": [
    "### __Anything more than randomness? -> Autocorrelation of differenced data__\n",
    "\n",
    "A dataset can be processed by always subtracting a value $y_t$ from its preceding value $y_{t-1}$. That action is called _differencing_, which we have already seen."
   ]
  },
  {
   "cell_type": "markdown",
   "metadata": {},
   "source": [
    "#### __Acf of a differenced random walk__\n",
    "\n",
    "In case of a random walk, differenced data reflect nothing but the stochastic error:\n",
    "<br/>\n",
    "<br/>\n",
    "$y_t - y_{t-1} = \\epsilon_t$"
   ]
  },
  {
   "cell_type": "code",
   "execution_count": null,
   "metadata": {},
   "outputs": [],
   "source": [
    "# take difference\n",
    "diff = list()\n",
    "for i in range(1, len(random_walk)):\n",
    "\tvalue = random_walk[i] - random_walk[i - 1]\n",
    "\tdiff.append(value)\n",
    "    \n",
    "plot_acf(diff, lags=100);"
   ]
  },
  {
   "cell_type": "markdown",
   "metadata": {},
   "source": [
    "### __Acf of our dataset__\n",
    "\n",
    "Let's difference the CO2 column of our dataset. In pandas, this can be done with the .shift() method."
   ]
  },
  {
   "cell_type": "code",
   "execution_count": null,
   "metadata": {},
   "outputs": [],
   "source": [
    "df_acf['differenced'] = df_acf[\"t CO2-e / MWh\"] - df_acf[\"t CO2-e / MWh\"].shift(1)\n",
    "df_acf.head(7)"
   ]
  },
  {
   "cell_type": "code",
   "execution_count": null,
   "metadata": {},
   "outputs": [],
   "source": [
    "#  note that differencing causes one NaN value in our dataset\n",
    "df_acf[df_acf.differenced.isna()]"
   ]
  },
  {
   "cell_type": "code",
   "execution_count": null,
   "metadata": {},
   "outputs": [],
   "source": [
    "#we need to delete the NaN value in order to plot our acf\n",
    "df_acf.dropna(inplace=True)\n",
    "df_acf[df_acf.differenced.isna()]"
   ]
  },
  {
   "cell_type": "code",
   "execution_count": null,
   "metadata": {},
   "outputs": [],
   "source": [
    "plot_acf(df_acf.differenced, lags=50);"
   ]
  },
  {
   "cell_type": "markdown",
   "metadata": {},
   "source": [
    "__Also here, the acf of our dataset looks different from the one of the random walk. Further interpretations are not of any concern here.__"
   ]
  },
  {
   "cell_type": "markdown",
   "metadata": {},
   "source": [
    "### __Excursion: Partial autocorrelation__\n",
    "\n",
    "Although we do not have a direct application for it right here, for the sake of completeness the partial autocorrelation (pacf) is introduced.\n",
    "\n",
    "Here, the error, i.e. deviation of a quantity from a linear line of day i ($y_{t-1}$) gets compared to the same quantity (not its error!) one day before at day i-2 ($y_{t-2}$). The resulting correlation is evaluated using Pearson's r. An pacf plot plots the different R values over the considered time lags."
   ]
  },
  {
   "cell_type": "code",
   "execution_count": null,
   "metadata": {},
   "outputs": [],
   "source": [
    "from IPython.display import HTML, display\n",
    "display(HTML(\"<table><tr><td><img src='../images/pacf_1.png' width='600'></td><td><img src='../images/pacf_2.png'width='600'></td></tr></table>\"))"
   ]
  },
  {
   "cell_type": "markdown",
   "metadata": {},
   "source": [
    "source: Brandon Rohrer on youtube"
   ]
  },
  {
   "cell_type": "code",
   "execution_count": null,
   "metadata": {},
   "outputs": [],
   "source": [
    "#let's plot the acf of our own dataset\n",
    "plot_pacf(df_acf['t CO2-e / MWh'], lags=50);"
   ]
  },
  {
   "cell_type": "markdown",
   "metadata": {},
   "source": [
    "__Compare the appearance of this plot with the acf. What is different?__"
   ]
  },
  {
   "cell_type": "markdown",
   "metadata": {},
   "source": [
    "## __Selection of relevant time features for training__\n",
    "\n",
    "One common way to identify relevant time features for predictions is to plot our target averaged over different time periods. We do this with the .groupby() method making use of our DateTimeIndex.\n",
    "\n",
    "Note: this is a common way to identify time features, but it is not exhaustive. Metrics exist to check for that quantitatively. We will see one of them later today."
   ]
  },
  {
   "cell_type": "code",
   "execution_count": null,
   "metadata": {},
   "outputs": [],
   "source": [
    "group_year = df.groupby(df.index.year).mean()\n",
    "group_quarter = df.groupby(df.index.quarter).mean()\n",
    "group_month = df.groupby(df.index.month).mean()\n",
    "group_week = df.groupby(df.index.week).mean()\n",
    "group_weekday = df.groupby(df.index.weekday).mean()\n",
    "group_day = df.groupby(df.index.day).mean()\n",
    "group_hour = df.groupby(df.index.hour).mean()\n",
    "group_minute = df.groupby(df.index.minute).mean()\n",
    "\n",
    "#quarter: Quarter of the date: Jan-Mar = 1, Apr-Jun = 2, etc."
   ]
  },
  {
   "cell_type": "code",
   "execution_count": null,
   "metadata": {},
   "outputs": [],
   "source": [
    "time_periods = {\"year\":group_year,\"quarter\":group_quarter, \"month\":group_month, \"week\":group_week,\\\n",
    "                \"weekday\":group_weekday,\"day\":group_day, \"hour\":group_hour, \"minute\":group_minute}"
   ]
  },
  {
   "cell_type": "code",
   "execution_count": null,
   "metadata": {},
   "outputs": [],
   "source": [
    "for i in time_periods:\n",
    "    fig = sns.scatterplot(time_periods[i].index, time_periods[i]['t CO2-e / MWh'], s=60)\n",
    "    \n",
    "    fig.set_xlabel(i, labelpad=15, fontsize=15, fontweight='bold')\n",
    "    fig.set_ylabel(\"t CO2-e / MWh\", labelpad=15, fontsize=15, fontweight='bold')\n",
    "    \n",
    "    plt.style.use('seaborn')\n",
    "    sns.set(font_scale=1.5)\n",
    "    plt.tight_layout()\n",
    "    \n",
    "    plt.figure()"
   ]
  },
  {
   "cell_type": "code",
   "execution_count": null,
   "metadata": {},
   "outputs": [],
   "source": []
  }
 ],
 "metadata": {
  "kernelspec": {
   "display_name": "Python 3",
   "language": "python",
   "name": "python3"
  },
  "language_info": {
   "codemirror_mode": {
    "name": "ipython",
    "version": 3
   },
   "file_extension": ".py",
   "mimetype": "text/x-python",
   "name": "python",
   "nbconvert_exporter": "python",
   "pygments_lexer": "ipython3",
   "version": "3.6.9"
  }
 },
 "nbformat": 4,
 "nbformat_minor": 4
}
