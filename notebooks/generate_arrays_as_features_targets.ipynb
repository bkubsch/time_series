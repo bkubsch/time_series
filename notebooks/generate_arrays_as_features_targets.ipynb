{
 "cells": [
  {
   "cell_type": "code",
   "execution_count": 1,
   "metadata": {},
   "outputs": [],
   "source": [
    "import pandas as pd\n",
    "import numpy as np\n",
    "\n",
    "def lag_horizon(df, lag, horizon):\n",
    "    '''\n",
    "    The function generates a feature column representing subsets of the target (CO2) of size lag\n",
    "    and associates it with a target column following the feature subset with gap = horizon\n",
    "    df=df with column \"CO2E_EMISSIONS_FACTOR\"\n",
    "    lag=integer\n",
    "    horizon=integer\n",
    "    '''\n",
    "    lst_l = []\n",
    "    lst_h = []\n",
    "    \n",
    "    [lst_l.append(list(k[i:i+lag])) for j,k in df.loc[:,[\"CO2E_EMISSIONS_FACTOR\"]].iteritems() for i in range(df.shape[0]-lag)]\n",
    "    [lst_l.append(np.nan) for i in range(df.shape[0]-lag,df.shape[0])]\n",
    "    \n",
    "    [lst_h.append(list(k[i+lag:i+lag+horizon])) for j,k in df.loc[:,[\"CO2E_EMISSIONS_FACTOR\"]].iteritems() for i in range(df.shape[0]-(lag-1)-horizon)]\n",
    "    [lst_h.append(np.nan) for i in range(df.shape[0]-(lag-1)-horizon,df.shape[0])]\n",
    "    \n",
    "    df[\"features\"] = np.array(lst_l)\n",
    "    df[\"features\"] = df[\"features\"].apply(lambda x: np.array(x))\n",
    "\n",
    "    df[\"target\"] = np.array(lst_h)\n",
    "    df[\"target\"] = df[\"target\"].apply(lambda x: np.array(x))\n",
    "        \n",
    "    return df"
   ]
  }
 ],
 "metadata": {
  "kernelspec": {
   "display_name": "Python 3",
   "language": "python",
   "name": "python3"
  },
  "language_info": {
   "codemirror_mode": {
    "name": "ipython",
    "version": 3
   },
   "file_extension": ".py",
   "mimetype": "text/x-python",
   "name": "python",
   "nbconvert_exporter": "python",
   "pygments_lexer": "ipython3",
   "version": "3.6.8"
  }
 },
 "nbformat": 4,
 "nbformat_minor": 4
}
