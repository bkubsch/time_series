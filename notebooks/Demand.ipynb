{
 "cells": [
  {
   "cell_type": "code",
   "execution_count": 2,
   "metadata": {},
   "outputs": [],
   "source": [
    "import pandas as pd\n",
    "import os"
   ]
  },
  {
   "cell_type": "code",
   "execution_count": 22,
   "metadata": {},
   "outputs": [
    {
     "data": {
      "text/html": [
       "<div>\n",
       "<style scoped>\n",
       "    .dataframe tbody tr th:only-of-type {\n",
       "        vertical-align: middle;\n",
       "    }\n",
       "\n",
       "    .dataframe tbody tr th {\n",
       "        vertical-align: top;\n",
       "    }\n",
       "\n",
       "    .dataframe thead th {\n",
       "        text-align: right;\n",
       "    }\n",
       "</style>\n",
       "<table border=\"1\" class=\"dataframe\">\n",
       "  <thead>\n",
       "    <tr style=\"text-align: right;\">\n",
       "      <th></th>\n",
       "      <th>TOTALDEMAND</th>\n",
       "      <th>AVAILABLEGENERATION</th>\n",
       "      <th>INTERVENTION</th>\n",
       "    </tr>\n",
       "    <tr>\n",
       "      <th>start-of-interval</th>\n",
       "      <th></th>\n",
       "      <th></th>\n",
       "      <th></th>\n",
       "    </tr>\n",
       "  </thead>\n",
       "  <tbody>\n",
       "    <tr>\n",
       "      <td>2009-07-01 00:00:00</td>\n",
       "      <td>1591.33</td>\n",
       "      <td>2985.610</td>\n",
       "      <td>0.0</td>\n",
       "    </tr>\n",
       "    <tr>\n",
       "      <td>2009-07-01 00:05:00</td>\n",
       "      <td>1589.66</td>\n",
       "      <td>3004.164</td>\n",
       "      <td>0.0</td>\n",
       "    </tr>\n",
       "    <tr>\n",
       "      <td>2009-07-01 00:10:00</td>\n",
       "      <td>1609.87</td>\n",
       "      <td>3012.470</td>\n",
       "      <td>0.0</td>\n",
       "    </tr>\n",
       "    <tr>\n",
       "      <td>2009-07-01 00:15:00</td>\n",
       "      <td>1594.49</td>\n",
       "      <td>3003.234</td>\n",
       "      <td>0.0</td>\n",
       "    </tr>\n",
       "    <tr>\n",
       "      <td>2009-07-01 00:20:00</td>\n",
       "      <td>1582.01</td>\n",
       "      <td>2987.409</td>\n",
       "      <td>0.0</td>\n",
       "    </tr>\n",
       "  </tbody>\n",
       "</table>\n",
       "</div>"
      ],
      "text/plain": [
       "                     TOTALDEMAND  AVAILABLEGENERATION  INTERVENTION\n",
       "start-of-interval                                                  \n",
       "2009-07-01 00:00:00      1591.33             2985.610           0.0\n",
       "2009-07-01 00:05:00      1589.66             3004.164           0.0\n",
       "2009-07-01 00:10:00      1609.87             3012.470           0.0\n",
       "2009-07-01 00:15:00      1594.49             3003.234           0.0\n",
       "2009-07-01 00:20:00      1582.01             2987.409           0.0"
      ]
     },
     "execution_count": 22,
     "metadata": {},
     "output_type": "execute_result"
    }
   ],
   "source": [
    "demand = pd.read_csv('{}/nem-data/demand.csv'.format(os.environ['HOME']), index_col=-1, parse_dates=True)\n",
    "demand.drop(columns=[\"SETTLEMENTDATE\", \"I\"], inplace=True)\n",
    "demand.head()"
   ]
  },
  {
   "cell_type": "code",
   "execution_count": 20,
   "metadata": {},
   "outputs": [
    {
     "name": "stdout",
     "output_type": "stream",
     "text": [
      "<class 'pandas.core.frame.DataFrame'>\n",
      "DatetimeIndex: 1110664 entries, 2009-07-01 00:00:00 to 2019-08-31 23:55:00\n",
      "Data columns (total 5 columns):\n",
      "I                      1110664 non-null object\n",
      "SETTLEMENTDATE         1110664 non-null object\n",
      "TOTALDEMAND            1110664 non-null float64\n",
      "AVAILABLEGENERATION    1110664 non-null float64\n",
      "INTERVENTION           1110664 non-null float64\n",
      "dtypes: float64(3), object(2)\n",
      "memory usage: 50.8+ MB\n"
     ]
    }
   ],
   "source": [
    "demand.info()"
   ]
  },
  {
   "cell_type": "code",
   "execution_count": 21,
   "metadata": {},
   "outputs": [
    {
     "name": "stdout",
     "output_type": "stream",
     "text": [
      "2009-07-01 00:00:00\n",
      "2019-08-31 23:55:00\n"
     ]
    }
   ],
   "source": [
    "print(demand.index.min())\n",
    "print(demand.index.max())"
   ]
  }
 ],
 "metadata": {
  "kernelspec": {
   "display_name": "Python 3",
   "language": "python",
   "name": "python3"
  },
  "language_info": {
   "codemirror_mode": {
    "name": "ipython",
    "version": 3
   },
   "file_extension": ".py",
   "mimetype": "text/x-python",
   "name": "python",
   "nbconvert_exporter": "python",
   "pygments_lexer": "ipython3",
   "version": "3.6.8"
  }
 },
 "nbformat": 4,
 "nbformat_minor": 4
}
