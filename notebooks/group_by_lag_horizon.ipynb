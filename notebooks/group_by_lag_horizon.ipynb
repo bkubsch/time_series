{
 "cells": [
  {
   "cell_type": "code",
   "execution_count": 2,
   "metadata": {},
   "outputs": [],
   "source": [
    "import pandas as pd\n",
    "import numpy as np\n",
    "import os\n",
    "\n",
    "import seaborn as sns\n",
    "import matplotlib.pyplot as plt"
   ]
  },
  {
   "cell_type": "code",
   "execution_count": 4,
   "metadata": {},
   "outputs": [
    {
     "name": "stdout",
     "output_type": "stream",
     "text": [
      "2009-07-01 04:00:00\n",
      "2019-08-01 03:55:00\n",
      "(1060704, 2)\n"
     ]
    },
    {
     "data": {
      "text/html": [
       "<div>\n",
       "<style scoped>\n",
       "    .dataframe tbody tr th:only-of-type {\n",
       "        vertical-align: middle;\n",
       "    }\n",
       "\n",
       "    .dataframe tbody tr th {\n",
       "        vertical-align: top;\n",
       "    }\n",
       "\n",
       "    .dataframe thead th {\n",
       "        text-align: right;\n",
       "    }\n",
       "</style>\n",
       "<table border=\"1\" class=\"dataframe\">\n",
       "  <thead>\n",
       "    <tr style=\"text-align: right;\">\n",
       "      <th></th>\n",
       "      <th>Price</th>\n",
       "      <th>CO2E_EMISSIONS_FACTOR</th>\n",
       "    </tr>\n",
       "  </thead>\n",
       "  <tbody>\n",
       "    <tr>\n",
       "      <td>2019-08-01 03:55:00</td>\n",
       "      <td>79.52391</td>\n",
       "      <td>0.380340</td>\n",
       "    </tr>\n",
       "    <tr>\n",
       "      <td>2019-08-01 03:50:00</td>\n",
       "      <td>79.17710</td>\n",
       "      <td>0.456409</td>\n",
       "    </tr>\n",
       "    <tr>\n",
       "      <td>2019-08-01 03:45:00</td>\n",
       "      <td>85.14416</td>\n",
       "      <td>0.573436</td>\n",
       "    </tr>\n",
       "    <tr>\n",
       "      <td>2019-08-01 03:40:00</td>\n",
       "      <td>84.78689</td>\n",
       "      <td>0.573436</td>\n",
       "    </tr>\n",
       "    <tr>\n",
       "      <td>2019-08-01 03:35:00</td>\n",
       "      <td>84.78346</td>\n",
       "      <td>0.573436</td>\n",
       "    </tr>\n",
       "  </tbody>\n",
       "</table>\n",
       "</div>"
      ],
      "text/plain": [
       "                        Price  CO2E_EMISSIONS_FACTOR\n",
       "2019-08-01 03:55:00  79.52391               0.380340\n",
       "2019-08-01 03:50:00  79.17710               0.456409\n",
       "2019-08-01 03:45:00  85.14416               0.573436\n",
       "2019-08-01 03:40:00  84.78689               0.573436\n",
       "2019-08-01 03:35:00  84.78346               0.573436"
      ]
     },
     "execution_count": 4,
     "metadata": {},
     "output_type": "execute_result"
    }
   ],
   "source": [
    "file_path = '{}/nem-data/nemde_clean/df_DUID_CO2_mean.pkl'.format(os.environ['HOME'])\n",
    "df = pd.read_pickle(file_path)\n",
    "\n",
    "print(df.index.min())\n",
    "print(df.index.max())\n",
    "print(df.shape)\n",
    "df.head()"
   ]
  },
  {
   "cell_type": "code",
   "execution_count": 5,
   "metadata": {},
   "outputs": [
    {
     "data": {
      "text/plain": [
       "Price                    True\n",
       "CO2E_EMISSIONS_FACTOR    True\n",
       "dtype: bool"
      ]
     },
     "execution_count": 5,
     "metadata": {},
     "output_type": "execute_result"
    }
   ],
   "source": [
    "df.isna().any()"
   ]
  },
  {
   "cell_type": "code",
   "execution_count": 12,
   "metadata": {},
   "outputs": [
    {
     "name": "stdout",
     "output_type": "stream",
     "text": [
      "(11171, 3)\n"
     ]
    },
    {
     "data": {
      "text/html": [
       "<div>\n",
       "<style scoped>\n",
       "    .dataframe tbody tr th:only-of-type {\n",
       "        vertical-align: middle;\n",
       "    }\n",
       "\n",
       "    .dataframe tbody tr th {\n",
       "        vertical-align: top;\n",
       "    }\n",
       "\n",
       "    .dataframe thead th {\n",
       "        text-align: right;\n",
       "    }\n",
       "</style>\n",
       "<table border=\"1\" class=\"dataframe\">\n",
       "  <thead>\n",
       "    <tr style=\"text-align: right;\">\n",
       "      <th></th>\n",
       "      <th>Price</th>\n",
       "      <th>CO2E_EMISSIONS_FACTOR</th>\n",
       "      <th>CO2_group</th>\n",
       "    </tr>\n",
       "    <tr>\n",
       "      <th>PeriodID</th>\n",
       "      <th></th>\n",
       "      <th></th>\n",
       "      <th></th>\n",
       "    </tr>\n",
       "  </thead>\n",
       "  <tbody>\n",
       "    <tr>\n",
       "      <td>2018-05-24 01:05:00</td>\n",
       "      <td>107.90144</td>\n",
       "      <td>0.872190</td>\n",
       "      <td>0.828778</td>\n",
       "    </tr>\n",
       "    <tr>\n",
       "      <td>2018-05-24 01:10:00</td>\n",
       "      <td>105.00000</td>\n",
       "      <td>0.690287</td>\n",
       "      <td>0.663022</td>\n",
       "    </tr>\n",
       "    <tr>\n",
       "      <td>2018-05-24 01:15:00</td>\n",
       "      <td>102.88619</td>\n",
       "      <td>0.000000</td>\n",
       "      <td>-0.000001</td>\n",
       "    </tr>\n",
       "    <tr>\n",
       "      <td>2018-05-24 01:20:00</td>\n",
       "      <td>102.06515</td>\n",
       "      <td>0.000000</td>\n",
       "      <td>-0.000001</td>\n",
       "    </tr>\n",
       "    <tr>\n",
       "      <td>2018-05-24 01:25:00</td>\n",
       "      <td>89.00000</td>\n",
       "      <td>0.690287</td>\n",
       "      <td>0.663022</td>\n",
       "    </tr>\n",
       "  </tbody>\n",
       "</table>\n",
       "</div>"
      ],
      "text/plain": [
       "                         Price  CO2E_EMISSIONS_FACTOR CO2_group\n",
       "PeriodID                                                       \n",
       "2018-05-24 01:05:00  107.90144               0.872190  0.828778\n",
       "2018-05-24 01:10:00  105.00000               0.690287  0.663022\n",
       "2018-05-24 01:15:00  102.88619               0.000000 -0.000001\n",
       "2018-05-24 01:20:00  102.06515               0.000000 -0.000001\n",
       "2018-05-24 01:25:00   89.00000               0.690287  0.663022"
      ]
     },
     "execution_count": 12,
     "metadata": {},
     "output_type": "execute_result"
    }
   ],
   "source": [
    "df = df.iloc[900000:]\n",
    "print(df.shape)\n",
    "df.head()"
   ]
  },
  {
   "cell_type": "code",
   "execution_count": 6,
   "metadata": {},
   "outputs": [],
   "source": [
    "def lag_horizon(df, lag, horizon):\n",
    "    lst = []\n",
    "    lst_h = []\n",
    "    \n",
    "    [lst.append(list(k[i:i+lag])) for j,k in df.loc[:,[\"CO2E_EMISSIONS_FACTOR\"]].iteritems() for i in range(df.shape[0]-lag)]\n",
    "    [lst.append(np.nan) for i in range(df.shape[0]-lag,df.shape[0])]\n",
    "    \n",
    "    [lst_h.append(list(k[i+lag:i+lag+horizon])) for j,k in df.loc[:,[\"CO2E_EMISSIONS_FACTOR\"]].iteritems() for i in range(df.shape[0]-(lag-1)-horizon)]\n",
    "    [lst_h.append(np.nan) for i in range(df.shape[0]-(lag-1)-horizon,df.shape[0])]\n",
    "        \n",
    "    return np.array(lst), np.array(lst_h)"
   ]
  },
  {
   "cell_type": "code",
   "execution_count": 14,
   "metadata": {},
   "outputs": [],
   "source": [
    "e,f = lag_column(df, lag=3, horizon=3)"
   ]
  },
  {
   "cell_type": "code",
   "execution_count": 24,
   "metadata": {},
   "outputs": [
    {
     "name": "stdout",
     "output_type": "stream",
     "text": [
      "<class 'numpy.ndarray'>\n",
      "<class 'numpy.ndarray'>\n"
     ]
    }
   ],
   "source": [
    "print(type(e))\n",
    "print(type(f))"
   ]
  },
  {
   "cell_type": "code",
   "execution_count": 15,
   "metadata": {},
   "outputs": [
    {
     "name": "stdout",
     "output_type": "stream",
     "text": [
      "11171\n",
      "11171\n"
     ]
    }
   ],
   "source": [
    "print(len(f))\n",
    "print(len(e))"
   ]
  },
  {
   "cell_type": "code",
   "execution_count": 38,
   "metadata": {},
   "outputs": [],
   "source": [
    "df[\"features\"] = e\n",
    "df[\"features\"] = df[\"features\"].apply(lambda x: np.array(x))\n",
    "\n",
    "df[\"target\"] = f\n",
    "df[\"target\"] = df[\"target\"].apply(lambda x: np.array(x))"
   ]
  },
  {
   "cell_type": "code",
   "execution_count": 40,
   "metadata": {},
   "outputs": [
    {
     "name": "stdout",
     "output_type": "stream",
     "text": [
      "<class 'numpy.ndarray'>\n",
      "<class 'numpy.ndarray'>\n"
     ]
    }
   ],
   "source": [
    "print(type(df.features.iloc[4]))\n",
    "print(type(df.target.iloc[4]))"
   ]
  },
  {
   "cell_type": "code",
   "execution_count": 42,
   "metadata": {},
   "outputs": [
    {
     "data": {
      "text/html": [
       "<div>\n",
       "<style scoped>\n",
       "    .dataframe tbody tr th:only-of-type {\n",
       "        vertical-align: middle;\n",
       "    }\n",
       "\n",
       "    .dataframe tbody tr th {\n",
       "        vertical-align: top;\n",
       "    }\n",
       "\n",
       "    .dataframe thead th {\n",
       "        text-align: right;\n",
       "    }\n",
       "</style>\n",
       "<table border=\"1\" class=\"dataframe\">\n",
       "  <thead>\n",
       "    <tr style=\"text-align: right;\">\n",
       "      <th></th>\n",
       "      <th>Price</th>\n",
       "      <th>CO2E_EMISSIONS_FACTOR</th>\n",
       "      <th>CO2_group</th>\n",
       "      <th>features</th>\n",
       "      <th>target</th>\n",
       "    </tr>\n",
       "    <tr>\n",
       "      <th>PeriodID</th>\n",
       "      <th></th>\n",
       "      <th></th>\n",
       "      <th></th>\n",
       "      <th></th>\n",
       "      <th></th>\n",
       "    </tr>\n",
       "  </thead>\n",
       "  <tbody>\n",
       "    <tr>\n",
       "      <td>2018-07-31 23:10:00</td>\n",
       "      <td>50.88122</td>\n",
       "      <td>0.908305</td>\n",
       "      <td>0.828778</td>\n",
       "      <td>[0.90830509, 0.91014305, 0.97176136]</td>\n",
       "      <td>[1.039465356, 0.97176136, 0.97176136]</td>\n",
       "    </tr>\n",
       "    <tr>\n",
       "      <td>2018-07-31 23:15:00</td>\n",
       "      <td>47.00597</td>\n",
       "      <td>0.910143</td>\n",
       "      <td>0.828778</td>\n",
       "      <td>[0.91014305, 0.97176136, 1.039465356]</td>\n",
       "      <td>[0.97176136, 0.97176136, 0.90830509]</td>\n",
       "    </tr>\n",
       "    <tr>\n",
       "      <td>2018-07-31 23:20:00</td>\n",
       "      <td>45.83206</td>\n",
       "      <td>0.971761</td>\n",
       "      <td>0.828778</td>\n",
       "      <td>[0.97176136, 1.039465356, 0.97176136]</td>\n",
       "      <td>[0.97176136, 0.90830509, 0.91014305]</td>\n",
       "    </tr>\n",
       "    <tr>\n",
       "      <td>2018-07-31 23:25:00</td>\n",
       "      <td>52.82719</td>\n",
       "      <td>1.039465</td>\n",
       "      <td>0.994534</td>\n",
       "      <td>[1.039465356, 0.97176136, 0.97176136]</td>\n",
       "      <td>[0.90830509, 0.91014305, 0.7281144399999999]</td>\n",
       "    </tr>\n",
       "    <tr>\n",
       "      <td>2018-07-31 23:30:00</td>\n",
       "      <td>72.13931</td>\n",
       "      <td>0.971761</td>\n",
       "      <td>0.828778</td>\n",
       "      <td>[0.97176136, 0.97176136, 0.90830509]</td>\n",
       "      <td>[0.91014305, 0.7281144399999999, 0.91014305]</td>\n",
       "    </tr>\n",
       "    <tr>\n",
       "      <td>2018-07-31 23:35:00</td>\n",
       "      <td>76.44245</td>\n",
       "      <td>0.971761</td>\n",
       "      <td>0.828778</td>\n",
       "      <td>[0.97176136, 0.90830509, 0.91014305]</td>\n",
       "      <td>NaN</td>\n",
       "    </tr>\n",
       "    <tr>\n",
       "      <td>2018-07-31 23:40:00</td>\n",
       "      <td>74.04497</td>\n",
       "      <td>0.908305</td>\n",
       "      <td>0.828778</td>\n",
       "      <td>[0.90830509, 0.91014305, 0.7281144399999999]</td>\n",
       "      <td>NaN</td>\n",
       "    </tr>\n",
       "    <tr>\n",
       "      <td>2018-07-31 23:45:00</td>\n",
       "      <td>69.94850</td>\n",
       "      <td>0.910143</td>\n",
       "      <td>0.828778</td>\n",
       "      <td>NaN</td>\n",
       "      <td>NaN</td>\n",
       "    </tr>\n",
       "    <tr>\n",
       "      <td>2018-07-31 23:50:00</td>\n",
       "      <td>69.24109</td>\n",
       "      <td>0.728114</td>\n",
       "      <td>0.663022</td>\n",
       "      <td>NaN</td>\n",
       "      <td>NaN</td>\n",
       "    </tr>\n",
       "    <tr>\n",
       "      <td>2018-07-31 23:55:00</td>\n",
       "      <td>70.70204</td>\n",
       "      <td>0.910143</td>\n",
       "      <td>0.828778</td>\n",
       "      <td>NaN</td>\n",
       "      <td>NaN</td>\n",
       "    </tr>\n",
       "  </tbody>\n",
       "</table>\n",
       "</div>"
      ],
      "text/plain": [
       "                        Price  CO2E_EMISSIONS_FACTOR CO2_group  \\\n",
       "PeriodID                                                         \n",
       "2018-07-31 23:10:00  50.88122               0.908305  0.828778   \n",
       "2018-07-31 23:15:00  47.00597               0.910143  0.828778   \n",
       "2018-07-31 23:20:00  45.83206               0.971761  0.828778   \n",
       "2018-07-31 23:25:00  52.82719               1.039465  0.994534   \n",
       "2018-07-31 23:30:00  72.13931               0.971761  0.828778   \n",
       "2018-07-31 23:35:00  76.44245               0.971761  0.828778   \n",
       "2018-07-31 23:40:00  74.04497               0.908305  0.828778   \n",
       "2018-07-31 23:45:00  69.94850               0.910143  0.828778   \n",
       "2018-07-31 23:50:00  69.24109               0.728114  0.663022   \n",
       "2018-07-31 23:55:00  70.70204               0.910143  0.828778   \n",
       "\n",
       "                                                         features  \\\n",
       "PeriodID                                                            \n",
       "2018-07-31 23:10:00          [0.90830509, 0.91014305, 0.97176136]   \n",
       "2018-07-31 23:15:00         [0.91014305, 0.97176136, 1.039465356]   \n",
       "2018-07-31 23:20:00         [0.97176136, 1.039465356, 0.97176136]   \n",
       "2018-07-31 23:25:00         [1.039465356, 0.97176136, 0.97176136]   \n",
       "2018-07-31 23:30:00          [0.97176136, 0.97176136, 0.90830509]   \n",
       "2018-07-31 23:35:00          [0.97176136, 0.90830509, 0.91014305]   \n",
       "2018-07-31 23:40:00  [0.90830509, 0.91014305, 0.7281144399999999]   \n",
       "2018-07-31 23:45:00                                           NaN   \n",
       "2018-07-31 23:50:00                                           NaN   \n",
       "2018-07-31 23:55:00                                           NaN   \n",
       "\n",
       "                                                           target  \n",
       "PeriodID                                                           \n",
       "2018-07-31 23:10:00         [1.039465356, 0.97176136, 0.97176136]  \n",
       "2018-07-31 23:15:00          [0.97176136, 0.97176136, 0.90830509]  \n",
       "2018-07-31 23:20:00          [0.97176136, 0.90830509, 0.91014305]  \n",
       "2018-07-31 23:25:00  [0.90830509, 0.91014305, 0.7281144399999999]  \n",
       "2018-07-31 23:30:00  [0.91014305, 0.7281144399999999, 0.91014305]  \n",
       "2018-07-31 23:35:00                                           NaN  \n",
       "2018-07-31 23:40:00                                           NaN  \n",
       "2018-07-31 23:45:00                                           NaN  \n",
       "2018-07-31 23:50:00                                           NaN  \n",
       "2018-07-31 23:55:00                                           NaN  "
      ]
     },
     "execution_count": 42,
     "metadata": {},
     "output_type": "execute_result"
    }
   ],
   "source": [
    "df.iloc[-10:]"
   ]
  },
  {
   "cell_type": "code",
   "execution_count": 18,
   "metadata": {},
   "outputs": [
    {
     "name": "stdout",
     "output_type": "stream",
     "text": [
      "<class 'pandas.core.frame.DataFrame'>\n",
      "DatetimeIndex: 11171 entries, 2018-05-24 01:05:00 to 2018-07-31 23:55:00\n",
      "Data columns (total 5 columns):\n",
      "Price                    11171 non-null float64\n",
      "CO2E_EMISSIONS_FACTOR    11171 non-null float64\n",
      "CO2_group                11171 non-null category\n",
      "features                 11168 non-null object\n",
      "target                   11166 non-null object\n",
      "dtypes: category(1), float64(2), object(2)\n",
      "memory usage: 447.7+ KB\n"
     ]
    }
   ],
   "source": [
    "df.info()"
   ]
  },
  {
   "cell_type": "code",
   "execution_count": 45,
   "metadata": {},
   "outputs": [
    {
     "data": {
      "text/plain": [
       "array([0.69028667, 0.        , 0.69028667])"
      ]
     },
     "execution_count": 45,
     "metadata": {},
     "output_type": "execute_result"
    }
   ],
   "source": [
    "df.features.iloc[4]"
   ]
  },
  {
   "cell_type": "code",
   "execution_count": 44,
   "metadata": {},
   "outputs": [
    {
     "data": {
      "text/plain": [
       "array([1.38057333, 0.        , 1.38057333])"
      ]
     },
     "execution_count": 44,
     "metadata": {},
     "output_type": "execute_result"
    }
   ],
   "source": [
    "df.features.iloc[4] + df.features.iloc[4]"
   ]
  },
  {
   "cell_type": "code",
   "execution_count": 22,
   "metadata": {},
   "outputs": [
    {
     "data": {
      "text/plain": [
       "numpy.ndarray"
      ]
     },
     "execution_count": 22,
     "metadata": {},
     "output_type": "execute_result"
    }
   ],
   "source": [
    "lst = [1,2,3]\n",
    "type(np.array(lst))"
   ]
  }
 ],
 "metadata": {
  "kernelspec": {
   "display_name": "Python 3",
   "language": "python",
   "name": "python3"
  },
  "language_info": {
   "codemirror_mode": {
    "name": "ipython",
    "version": 3
   },
   "file_extension": ".py",
   "mimetype": "text/x-python",
   "name": "python",
   "nbconvert_exporter": "python",
   "pygments_lexer": "ipython3",
   "version": "3.6.8"
  }
 },
 "nbformat": 4,
 "nbformat_minor": 4
}
