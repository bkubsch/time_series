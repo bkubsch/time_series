{
 "cells": [
  {
   "cell_type": "code",
   "execution_count": 4,
   "metadata": {},
   "outputs": [],
   "source": [
    "import pandas as pd\n",
    "import numpy as np\n",
    "import os\n",
    "\n",
    "import seaborn as sns\n",
    "import matplotlib.pyplot as plt"
   ]
  },
  {
   "cell_type": "code",
   "execution_count": 6,
   "metadata": {},
   "outputs": [
    {
     "data": {
      "text/plain": [
       "array([[5., 5., 5., 5., 5.]])"
      ]
     },
     "execution_count": 6,
     "metadata": {},
     "output_type": "execute_result"
    }
   ],
   "source": [
    "marginal_costs = np.array([np.ones(6)*400, np.ones(5)*2000, np.ones(3)*5000, \n",
    "                           np.ones(2)*3000, np.ones(3)*4000, np.ones(1)*5000, np.ones(3)*3000])\n",
    "marginal_costs"
   ]
  },
  {
   "cell_type": "code",
   "execution_count": null,
   "metadata": {},
   "outputs": [],
   "source": [
    "costs_generator = pd.DataFrame(index=)"
   ]
  },
  {
   "cell_type": "code",
   "execution_count": 12,
   "metadata": {},
   "outputs": [
    {
     "data": {
      "text/html": [
       "<div>\n",
       "<style scoped>\n",
       "    .dataframe tbody tr th:only-of-type {\n",
       "        vertical-align: middle;\n",
       "    }\n",
       "\n",
       "    .dataframe tbody tr th {\n",
       "        vertical-align: top;\n",
       "    }\n",
       "\n",
       "    .dataframe thead th {\n",
       "        text-align: right;\n",
       "    }\n",
       "</style>\n",
       "<table border=\"1\" class=\"dataframe\">\n",
       "  <thead>\n",
       "    <tr style=\"text-align: right;\">\n",
       "      <th></th>\n",
       "      <th>t CO2-e / MWh</th>\n",
       "    </tr>\n",
       "  </thead>\n",
       "  <tbody>\n",
       "    <tr>\n",
       "      <td>2019-08-01 02:20:00</td>\n",
       "      <td>0.573436</td>\n",
       "    </tr>\n",
       "    <tr>\n",
       "      <td>2019-08-01 02:25:00</td>\n",
       "      <td>0.380340</td>\n",
       "    </tr>\n",
       "    <tr>\n",
       "      <td>2019-08-01 02:30:00</td>\n",
       "      <td>0.570054</td>\n",
       "    </tr>\n",
       "    <tr>\n",
       "      <td>2019-08-01 02:35:00</td>\n",
       "      <td>0.570054</td>\n",
       "    </tr>\n",
       "    <tr>\n",
       "      <td>2019-08-01 02:40:00</td>\n",
       "      <td>0.573436</td>\n",
       "    </tr>\n",
       "    <tr>\n",
       "      <td>2019-08-01 02:45:00</td>\n",
       "      <td>0.573436</td>\n",
       "    </tr>\n",
       "    <tr>\n",
       "      <td>2019-08-01 02:50:00</td>\n",
       "      <td>0.459168</td>\n",
       "    </tr>\n",
       "    <tr>\n",
       "      <td>2019-08-01 02:55:00</td>\n",
       "      <td>0.000000</td>\n",
       "    </tr>\n",
       "    <tr>\n",
       "      <td>2019-08-01 03:00:00</td>\n",
       "      <td>0.456409</td>\n",
       "    </tr>\n",
       "    <tr>\n",
       "      <td>2019-08-01 03:05:00</td>\n",
       "      <td>0.573436</td>\n",
       "    </tr>\n",
       "    <tr>\n",
       "      <td>2019-08-01 03:10:00</td>\n",
       "      <td>0.573436</td>\n",
       "    </tr>\n",
       "    <tr>\n",
       "      <td>2019-08-01 03:15:00</td>\n",
       "      <td>0.573436</td>\n",
       "    </tr>\n",
       "    <tr>\n",
       "      <td>2019-08-01 03:20:00</td>\n",
       "      <td>0.573436</td>\n",
       "    </tr>\n",
       "    <tr>\n",
       "      <td>2019-08-01 03:25:00</td>\n",
       "      <td>0.000000</td>\n",
       "    </tr>\n",
       "    <tr>\n",
       "      <td>2019-08-01 03:30:00</td>\n",
       "      <td>0.573436</td>\n",
       "    </tr>\n",
       "    <tr>\n",
       "      <td>2019-08-01 03:35:00</td>\n",
       "      <td>0.573436</td>\n",
       "    </tr>\n",
       "    <tr>\n",
       "      <td>2019-08-01 03:40:00</td>\n",
       "      <td>0.573436</td>\n",
       "    </tr>\n",
       "    <tr>\n",
       "      <td>2019-08-01 03:45:00</td>\n",
       "      <td>0.573436</td>\n",
       "    </tr>\n",
       "    <tr>\n",
       "      <td>2019-08-01 03:50:00</td>\n",
       "      <td>0.456409</td>\n",
       "    </tr>\n",
       "    <tr>\n",
       "      <td>2019-08-01 03:55:00</td>\n",
       "      <td>0.380340</td>\n",
       "    </tr>\n",
       "  </tbody>\n",
       "</table>\n",
       "</div>"
      ],
      "text/plain": [
       "                     t CO2-e / MWh\n",
       "2019-08-01 02:20:00       0.573436\n",
       "2019-08-01 02:25:00       0.380340\n",
       "2019-08-01 02:30:00       0.570054\n",
       "2019-08-01 02:35:00       0.570054\n",
       "2019-08-01 02:40:00       0.573436\n",
       "2019-08-01 02:45:00       0.573436\n",
       "2019-08-01 02:50:00       0.459168\n",
       "2019-08-01 02:55:00       0.000000\n",
       "2019-08-01 03:00:00       0.456409\n",
       "2019-08-01 03:05:00       0.573436\n",
       "2019-08-01 03:10:00       0.573436\n",
       "2019-08-01 03:15:00       0.573436\n",
       "2019-08-01 03:20:00       0.573436\n",
       "2019-08-01 03:25:00       0.000000\n",
       "2019-08-01 03:30:00       0.573436\n",
       "2019-08-01 03:35:00       0.573436\n",
       "2019-08-01 03:40:00       0.573436\n",
       "2019-08-01 03:45:00       0.573436\n",
       "2019-08-01 03:50:00       0.456409\n",
       "2019-08-01 03:55:00       0.380340"
      ]
     },
     "execution_count": 12,
     "metadata": {},
     "output_type": "execute_result"
    }
   ],
   "source": [
    "file_path = '{}/nem-data/nemde_clean/df_DUID_CO2_mean.pkl'.format(os.environ['HOME'])\n",
    "df = pd.read_pickle(file_path)\n",
    "df.rename(columns={\"CO2E_EMISSIONS_FACTOR\":\"t CO2-e / MWh\"}, inplace=True)\n",
    "df = df.sort_index()\n",
    "df.drop(columns=[\"Price\"], inplace=True)\n",
    "df.iloc[-20:]"
   ]
  },
  {
   "cell_type": "code",
   "execution_count": null,
   "metadata": {},
   "outputs": [],
   "source": []
  }
 ],
 "metadata": {
  "kernelspec": {
   "display_name": "Python 3",
   "language": "python",
   "name": "python3"
  },
  "language_info": {
   "codemirror_mode": {
    "name": "ipython",
    "version": 3
   },
   "file_extension": ".py",
   "mimetype": "text/x-python",
   "name": "python",
   "nbconvert_exporter": "python",
   "pygments_lexer": "ipython3",
   "version": "3.6.8"
  }
 },
 "nbformat": 4,
 "nbformat_minor": 4
}
