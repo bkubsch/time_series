{
 "cells": [
  {
   "cell_type": "markdown",
   "metadata": {},
   "source": [
    "# __Feature engineering__"
   ]
  },
  {
   "cell_type": "code",
   "execution_count": null,
   "metadata": {},
   "outputs": [],
   "source": [
    "import pandas as pd\n",
    "import numpy as np\n",
    "import datetime as dt\n",
    "\n",
    "import seaborn as sns\n",
    "import matplotlib.pyplot as plt\n",
    "from pylab import rcParams\n",
    "\n",
    "import warnings\n",
    "warnings.simplefilter('ignore')"
   ]
  },
  {
   "cell_type": "markdown",
   "metadata": {},
   "source": [
    "## Encoding time\n",
    "\n",
    "As we are dealing with time series, encoding features that are explicit functions of time is very common.\n",
    "\n",
    "Let's make a dummy dataset to demonstrate ways to encode time."
   ]
  },
  {
   "cell_type": "code",
   "execution_count": null,
   "metadata": {},
   "outputs": [],
   "source": [
    "ds = pd.DataFrame(index=pd.date_range(start=dt.datetime(2018,6,1,1,0,0), end=dt.datetime(2019,6,8,0,0,0), freq='H'))\n",
    "ds.loc[:, 'y'] = np.random.normal(size=ds.shape[0])\n",
    "\n",
    "ds.head()"
   ]
  },
  {
   "cell_type": "markdown",
   "metadata": {},
   "source": [
    "If we identified that hour is a useful feature, we could encode it using one hot encoding.  This has the advantage of being simple, at the cost of dimensoinality"
   ]
  },
  {
   "cell_type": "code",
   "execution_count": null,
   "metadata": {},
   "outputs": [],
   "source": [
    "pd.get_dummies(ds.index.hour).head()"
   ]
  },
  {
   "cell_type": "markdown",
   "metadata": {},
   "source": [
    "Another example is to use label encoding (essentially using the column unchanged).  This has an advantage of dimensionality, but the disadvantage of imposing a linear structure.\n",
    "\n",
    "The model has no ability to understand that hour 23 is close to hour 1."
   ]
  },
  {
   "cell_type": "code",
   "execution_count": null,
   "metadata": {},
   "outputs": [],
   "source": [
    "ds.index.hour"
   ]
  },
  {
   "cell_type": "markdown",
   "metadata": {},
   "source": [
    "### __Sine / cosine transformation of time features__\n",
    "\n",
    "#### __Linear time representation__"
   ]
  },
  {
   "cell_type": "markdown",
   "metadata": {},
   "source": [
    "The linear time representation does not account for any time proximity of e.g. hour 23 and hour 2. To any machine learning algotrithm, these two points apart far apart from each other."
   ]
  },
  {
   "cell_type": "markdown",
   "metadata": {},
   "source": [
    "#### __Periodic time representation__"
   ]
  },
  {
   "cell_type": "code",
   "execution_count": null,
   "metadata": {},
   "outputs": [],
   "source": [
    "rcParams['figure.figsize'] = 6,4\n",
    "plt.style.use('ggplot')\n",
    "\n",
    "X = np.arange(0,1,0.01)\n",
    "\n",
    "y_sin = np.sin(2 * np.pi*X)\n",
    "y_cos = np.cos(2 * np.pi*X)\n",
    "\n",
    "sns.lineplot(X,y_sin,label=\"sin\");\n",
    "sns.lineplot(X,y_cos,label=\"cos\");\n",
    "\n",
    "#file_path = '{}/Desktop/Portfolio_project/presentation/cyclical_time.png'.format(os.environ['HOME'])\n",
    "#plt.savefig(file_path)"
   ]
  },
  {
   "cell_type": "markdown",
   "metadata": {},
   "source": [
    "If only a sine OR cosine transformation is done, within one period always two target values would be acribed to the same sine OR cosine value. Hence, always a combined sine / cosine transformation is necessary (see below)."
   ]
  },
  {
   "cell_type": "code",
   "execution_count": null,
   "metadata": {},
   "outputs": [],
   "source": [
    "fig = sns.scatterplot(y_sin, y_cos).set_aspect('equal')\n",
    "\n",
    "plt.xlabel('cos(x)', labelpad=15, fontsize=15, fontweight='bold')\n",
    "plt.ylabel('sin(x)', labelpad=15, fontsize=15, fontweight='bold')"
   ]
  },
  {
   "cell_type": "markdown",
   "metadata": {},
   "source": [
    "The sine / cosine transformation does not only consier for the periodicity of time (i.e. hour 23 and hour 2 are in fact in close proximity) but it also reduced the dimensionality from 24 hours to one single sine value and one single cosine value."
   ]
  },
  {
   "cell_type": "markdown",
   "metadata": {},
   "source": [
    "### __Exercise 1__\n",
    "Perform a sine / cosine transformation on all time features which are relevant to our training. For that, write a function which takes our dataframe \"df\" as an input and again returns our processed dataframe as an output."
   ]
  },
  {
   "cell_type": "markdown",
   "metadata": {},
   "source": [
    "### __Your solution 1:__"
   ]
  },
  {
   "cell_type": "code",
   "execution_count": null,
   "metadata": {},
   "outputs": [],
   "source": [
    "def time_columns(df):\n",
    "    \n",
    "    #place your code here\n",
    "    \n",
    "    return df"
   ]
  },
  {
   "cell_type": "code",
   "execution_count": null,
   "metadata": {},
   "outputs": [],
   "source": [
    "df = pd.read_pickle('../data/train_clean.pkl')\n",
    "df.head()"
   ]
  },
  {
   "cell_type": "code",
   "execution_count": null,
   "metadata": {},
   "outputs": [],
   "source": [
    "df = time_columns(df)"
   ]
  },
  {
   "cell_type": "code",
   "execution_count": null,
   "metadata": {},
   "outputs": [],
   "source": [
    "df.head()"
   ]
  },
  {
   "cell_type": "markdown",
   "metadata": {},
   "source": [
    "### __Using lagging for target prediction__"
   ]
  },
  {
   "cell_type": "markdown",
   "metadata": {},
   "source": [
    "### __Lagging__\n",
    "Also known as \"backshifting\", lagging notation reflects the value of $y$ at a prior point in time. This is a useful technique for performing <em>regressions</em> as we'll see in upcoming sections.\n",
    "\n",
    "\\begin{split}L{y_t} = y_{t-1} & \\text{      one lag shifts the data back one period}\\\\\n",
    "L^{2}{y_t} = y_{t-2} & \\text{      two lags shift the data back two periods} \\end{split}\n",
    "<br><br>\n",
    "<table>\n",
    "<tr><td>$y_t$</td><td>6</td><td>8</td><td>3</td><td>4</td><td>9</td><td>2</td><td>5</td></tr>\n",
    "<tr><td>$y_{t-1}$</td><td>8</td><td>3</td><td>4</td><td>9</td><td>2</td><td>5</td></tr>\n",
    "<tr><td>$y_{t-2}$</td><td>3</td><td>4</td><td>9</td><td>2</td><td>5</td></tr>\n",
    "</table>"
   ]
  },
  {
   "cell_type": "markdown",
   "metadata": {},
   "source": [
    "### __Lagging example__\n",
    "\n",
    "Below you see an example of lagging. Here, lag1 to lag12 represent $y_{t-1}$ to $y_{t-12}$. The horizon0 values column represents the target values. Can you find the first value of horizon0 anywhere else in the dataframe?\n",
    "<br/>\n",
    "<br/>\n",
    "<img src=\"../images/lags_example.png\"> <br/>"
   ]
  },
  {
   "cell_type": "markdown",
   "metadata": {},
   "source": [
    "### __Exercise 2__\n",
    "Write a function which takes our dataframe as an input together with a specified lag and horizon. The function shall return our processed dataframe as an output."
   ]
  },
  {
   "cell_type": "markdown",
   "metadata": {},
   "source": [
    "### __Your solution 2:__"
   ]
  },
  {
   "cell_type": "code",
   "execution_count": null,
   "metadata": {},
   "outputs": [],
   "source": [
    "def lag_horizon(df, lag, horizon):\n",
    "    \n",
    "    #place your code here\n",
    "        \n",
    "    return df"
   ]
  },
  {
   "cell_type": "code",
   "execution_count": null,
   "metadata": {},
   "outputs": [],
   "source": [
    "df = lag_horizon(df, 12, 0)"
   ]
  },
  {
   "cell_type": "code",
   "execution_count": null,
   "metadata": {},
   "outputs": [],
   "source": [
    "file_path = '../data/train_time_features.pkl'\n",
    "df.to_pickle(file_path)"
   ]
  },
  {
   "cell_type": "code",
   "execution_count": null,
   "metadata": {},
   "outputs": [],
   "source": []
  }
 ],
 "metadata": {
  "kernelspec": {
   "display_name": "Python 3",
   "language": "python",
   "name": "python3"
  },
  "language_info": {
   "codemirror_mode": {
    "name": "ipython",
    "version": 3
   },
   "file_extension": ".py",
   "mimetype": "text/x-python",
   "name": "python",
   "nbconvert_exporter": "python",
   "pygments_lexer": "ipython3",
   "version": "3.6.8"
  }
 },
 "nbformat": 4,
 "nbformat_minor": 4
}
