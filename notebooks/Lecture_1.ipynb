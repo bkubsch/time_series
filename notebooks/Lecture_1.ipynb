{
 "cells": [
  {
   "cell_type": "code",
   "execution_count": 1,
   "metadata": {},
   "outputs": [],
   "source": [
    "import pandas as pd\n",
    "import numpy as np\n",
    "import matplotlib.pyplot as plt\n",
    "import datetime as dt\n",
    "import seaborn as sns\n",
    "import pathlib\n",
    "\n",
    "#from py_files.c_target_exploration import mod_concat_NEMDE\n",
    "#from py_files.d_concat_DUID_marginal_fuelsource import *"
   ]
  },
  {
   "cell_type": "markdown",
   "metadata": {},
   "source": [
    "## __Loading our file__"
   ]
  },
  {
   "cell_type": "code",
   "execution_count": 2,
   "metadata": {},
   "outputs": [],
   "source": [
    "file_path = '../data/marginal_emission.pkl'"
   ]
  },
  {
   "cell_type": "code",
   "execution_count": 5,
   "metadata": {},
   "outputs": [],
   "source": [
    "df = pd.read_pickle(file_path)\n",
    "df.head()"
   ]
  },
  {
   "cell_type": "markdown",
   "metadata": {},
   "source": [
    "## __Exercise__\n",
    "\n",
    "From start to end, the index of our dataframe should increment in 5 min intervals.\n",
    "\n",
    "__Task 1__:\n",
    "\n",
    "Write a function which takes in our dataframe \"df\" and checks if the index of our dataframe entirely increments in 5 min intervals. If your fucntions finds any interval not equal to 5 min, it should return the position where this occurs (e.g. row 783) and duration of the interval at that position (e.g. row 783: 25 min).\n",
    "\n",
    "__Task 2__:\n",
    "\n",
    "If you find any such different intervals, modify our dataframe index so that it entirely increments in 5 min intervals. __Hint:__ check out the pd.data_range() function.\n",
    "\n",
    "__Note__:\n",
    "\n",
    "Use your knowledge from your pandas lecture and use Google as your best friend."
   ]
  },
  {
   "cell_type": "code",
   "execution_count": 48,
   "metadata": {},
   "outputs": [],
   "source": [
    "def correct_timedelta(df, time_diff):\n",
    "\n",
    "#your code here\n",
    "\n",
    "\n",
    "    return index_and_duration_of_any_non_5min_time_gap"
   ]
  },
  {
   "cell_type": "code",
   "execution_count": 22,
   "metadata": {},
   "outputs": [],
   "source": [
    "a1,b1 = correct_timedelta(df_mean_nonans, 300)"
   ]
  },
  {
   "cell_type": "code",
   "execution_count": 26,
   "metadata": {},
   "outputs": [
    {
     "data": {
      "text/plain": [
       "[(Timestamp('2019-07-31 20:25:00'), 600),\n",
       " (Timestamp('2019-07-31 19:30:00'), 600),\n",
       " (Timestamp('2019-07-31 03:55:00'), 600),\n",
       " (Timestamp('2019-07-30 18:40:00'), 600),\n",
       " (Timestamp('2019-07-30 05:20:00'), 600),\n",
       " (Timestamp('2019-07-29 18:40:00'), 600),\n",
       " (Timestamp('2019-07-28 14:45:00'), 600),\n",
       " (Timestamp('2019-07-27 12:30:00'), 600),\n",
       " (Timestamp('2019-07-27 04:40:00'), 600),\n",
       " (Timestamp('2019-07-26 18:10:00'), 600)]"
      ]
     },
     "execution_count": 26,
     "metadata": {},
     "output_type": "execute_result"
    }
   ],
   "source": [
    "b1[:10]"
   ]
  },
  {
   "cell_type": "code",
   "execution_count": 7,
   "metadata": {},
   "outputs": [
    {
     "data": {
      "text/plain": [
       "1060704"
      ]
     },
     "execution_count": 7,
     "metadata": {},
     "output_type": "execute_result"
    }
   ],
   "source": [
    "#hypothetical number of 5min intervals given the max and min values of the df time range\n",
    "h = pd.date_range(start=df.index.min(), end=df.index.max(), freq=\"5min\")\n",
    "len(h)"
   ]
  }
 ],
 "metadata": {
  "kernelspec": {
   "display_name": "Python 3",
   "language": "python",
   "name": "python3"
  },
  "language_info": {
   "codemirror_mode": {
    "name": "ipython",
    "version": 3
   },
   "file_extension": ".py",
   "mimetype": "text/x-python",
   "name": "python",
   "nbconvert_exporter": "python",
   "pygments_lexer": "ipython3",
   "version": "3.6.8"
  }
 },
 "nbformat": 4,
 "nbformat_minor": 4
}
