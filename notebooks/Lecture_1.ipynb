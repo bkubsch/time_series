{
 "cells": [
  {
   "cell_type": "code",
   "execution_count": 1,
   "metadata": {},
   "outputs": [],
   "source": [
    "import pandas as pd"
   ]
  },
  {
   "cell_type": "markdown",
   "metadata": {},
   "source": [
    "## __Loading our file__"
   ]
  },
  {
   "cell_type": "code",
   "execution_count": 11,
   "metadata": {},
   "outputs": [],
   "source": [
    "file_path = '../data/marginal_emissions.pkl'"
   ]
  },
  {
   "cell_type": "code",
   "execution_count": 12,
   "metadata": {},
   "outputs": [
    {
     "data": {
      "text/html": [
       "<div>\n",
       "<style scoped>\n",
       "    .dataframe tbody tr th:only-of-type {\n",
       "        vertical-align: middle;\n",
       "    }\n",
       "\n",
       "    .dataframe tbody tr th {\n",
       "        vertical-align: top;\n",
       "    }\n",
       "\n",
       "    .dataframe thead th {\n",
       "        text-align: right;\n",
       "    }\n",
       "</style>\n",
       "<table border=\"1\" class=\"dataframe\">\n",
       "  <thead>\n",
       "    <tr style=\"text-align: right;\">\n",
       "      <th></th>\n",
       "      <th>DateTime</th>\n",
       "      <th>t CO2-e / MWh</th>\n",
       "    </tr>\n",
       "  </thead>\n",
       "  <tbody>\n",
       "    <tr>\n",
       "      <th>0</th>\n",
       "      <td>2019-08-01 03:55:00</td>\n",
       "      <td>0.380340</td>\n",
       "    </tr>\n",
       "    <tr>\n",
       "      <th>1</th>\n",
       "      <td>2019-08-01 03:50:00</td>\n",
       "      <td>0.456409</td>\n",
       "    </tr>\n",
       "    <tr>\n",
       "      <th>2</th>\n",
       "      <td>2019-08-01 03:45:00</td>\n",
       "      <td>0.573436</td>\n",
       "    </tr>\n",
       "    <tr>\n",
       "      <th>3</th>\n",
       "      <td>2019-08-01 03:40:00</td>\n",
       "      <td>0.573436</td>\n",
       "    </tr>\n",
       "    <tr>\n",
       "      <th>4</th>\n",
       "      <td>2019-08-01 03:35:00</td>\n",
       "      <td>0.573436</td>\n",
       "    </tr>\n",
       "  </tbody>\n",
       "</table>\n",
       "</div>"
      ],
      "text/plain": [
       "              DateTime  t CO2-e / MWh\n",
       "0  2019-08-01 03:55:00       0.380340\n",
       "1  2019-08-01 03:50:00       0.456409\n",
       "2  2019-08-01 03:45:00       0.573436\n",
       "3  2019-08-01 03:40:00       0.573436\n",
       "4  2019-08-01 03:35:00       0.573436"
      ]
     },
     "execution_count": 12,
     "metadata": {},
     "output_type": "execute_result"
    }
   ],
   "source": [
    "df = pd.read_pickle(file_path)\n",
    "df.head()"
   ]
  },
  {
   "cell_type": "code",
   "execution_count": 13,
   "metadata": {},
   "outputs": [
    {
     "name": "stdout",
     "output_type": "stream",
     "text": [
      "<class 'pandas.core.frame.DataFrame'>\n",
      "RangeIndex: 1006719 entries, 0 to 1006718\n",
      "Data columns (total 2 columns):\n",
      "DateTime         1006719 non-null object\n",
      "t CO2-e / MWh    1006719 non-null float64\n",
      "dtypes: float64(1), object(1)\n",
      "memory usage: 15.4+ MB\n"
     ]
    }
   ],
   "source": [
    "df.info()"
   ]
  },
  {
   "cell_type": "code",
   "execution_count": 44,
   "metadata": {},
   "outputs": [],
   "source": [
    "file_path = '../data/marginal_emissions_dtindex.pkl'\n",
    "df = pd.read_pickle(file_path)"
   ]
  },
  {
   "cell_type": "code",
   "execution_count": 45,
   "metadata": {},
   "outputs": [
    {
     "data": {
      "text/plain": [
       "Timestamp('2019-08-01 03:40:00', freq='-5T')"
      ]
     },
     "execution_count": 45,
     "metadata": {},
     "output_type": "execute_result"
    }
   ],
   "source": [
    "df.index[3]"
   ]
  },
  {
   "cell_type": "code",
   "execution_count": 46,
   "metadata": {},
   "outputs": [
    {
     "data": {
      "text/plain": [
       "pandas._libs.tslibs.timestamps.Timestamp"
      ]
     },
     "execution_count": 46,
     "metadata": {},
     "output_type": "execute_result"
    }
   ],
   "source": [
    "type(df.index[3])"
   ]
  },
  {
   "cell_type": "code",
   "execution_count": 51,
   "metadata": {},
   "outputs": [
    {
     "data": {
      "text/plain": [
       "Timedelta('0 days 00:05:00')"
      ]
     },
     "execution_count": 51,
     "metadata": {},
     "output_type": "execute_result"
    }
   ],
   "source": [
    "time_difference = df.index[3] - df.index[4]\n",
    "time_difference"
   ]
  },
  {
   "cell_type": "code",
   "execution_count": 54,
   "metadata": {},
   "outputs": [
    {
     "data": {
      "text/plain": [
       "pandas._libs.tslibs.timedeltas.Timedelta"
      ]
     },
     "execution_count": 54,
     "metadata": {},
     "output_type": "execute_result"
    }
   ],
   "source": [
    "type(time_difference)"
   ]
  },
  {
   "cell_type": "code",
   "execution_count": 55,
   "metadata": {},
   "outputs": [
    {
     "data": {
      "text/plain": [
       "300.0"
      ]
     },
     "execution_count": 55,
     "metadata": {},
     "output_type": "execute_result"
    }
   ],
   "source": [
    "time_difference.total_seconds()"
   ]
  },
  {
   "cell_type": "markdown",
   "metadata": {},
   "source": [
    "## __Exercise__\n",
    "\n",
    "From start to end, the index of our dataframe should increment in 5 min intervals.\n",
    "\n",
    "__Task 1:__\n",
    "\n",
    "Check the datatype of the \"DateTime\" column of our dataframe \"df\".\n",
    "Change the index of our dataframe \"df\" to a DateTimeIndex, using our \"DateTime\" column.\n",
    "Make sure you get rid of the original index column (starting with: 0, 1, 2, 3,...).\n",
    "\n",
    "__Task 2:__\n",
    "\n",
    "Write a function which takes in our dataframe \"df\" and checks if the index of our dataframe entirely increments in 5 min intervals. If your fucntions finds any interval not equal to 5 min, it should return the position where this occurs (e.g. row 783) and duration of the interval at that position (e.g. row 783: 25 min).\n",
    "\n",
    "__Task 3:__\n",
    "\n",
    "If you find any such different intervals, modify our dataframe index so that it entirely increments in 5 min intervals. __Hint:__ check out the pd.data_range() and DataFrame.reindex() methods.\n",
    "\n",
    "__Note:__\n",
    "\n",
    "Use your knowledge from your pandas lecture and use Google as your best friend."
   ]
  },
  {
   "cell_type": "code",
   "execution_count": 14,
   "metadata": {},
   "outputs": [],
   "source": [
    "df.DateTime = pd.to_datetime(df.DateTime)\n",
    "df.set_index('DateTime', inplace = True, drop = True)"
   ]
  },
  {
   "cell_type": "code",
   "execution_count": 15,
   "metadata": {},
   "outputs": [
    {
     "name": "stdout",
     "output_type": "stream",
     "text": [
      "<class 'pandas.core.frame.DataFrame'>\n",
      "DatetimeIndex: 1006719 entries, 2019-08-01 03:55:00 to 2009-07-01 04:00:00\n",
      "Data columns (total 1 columns):\n",
      "t CO2-e / MWh    1006719 non-null float64\n",
      "dtypes: float64(1)\n",
      "memory usage: 15.4 MB\n"
     ]
    }
   ],
   "source": [
    "df.info()"
   ]
  },
  {
   "cell_type": "markdown",
   "metadata": {},
   "source": [
    "### __Solution 1__"
   ]
  },
  {
   "cell_type": "code",
   "execution_count": 8,
   "metadata": {},
   "outputs": [],
   "source": [
    "\n",
    "#change the dataframe index to a DateTimeIndex here\n"
   ]
  },
  {
   "cell_type": "markdown",
   "metadata": {},
   "source": [
    "### __Solution 2__"
   ]
  },
  {
   "cell_type": "code",
   "execution_count": 9,
   "metadata": {},
   "outputs": [],
   "source": [
    "def correct_timedelta(df, time_diff):\n",
    "    '''\n",
    "    df.index must be DateTimeIndex\n",
    "    Returns two lists\n",
    "    df=table_of_interest\n",
    "    col=\"column_of_interest\"\n",
    "    time_diff=time_diff in seconds as int\n",
    "    '''\n",
    "    lst = []\n",
    "    lst_i = []\n",
    "    \n",
    "    for i in range(1,df.shape[0]):\n",
    "        delta = abs(df.index[i] - df.index[i-1])\n",
    "        if int(delta.total_seconds()) != int(time_diff):\n",
    "            lst.append((\"from index {} on, it has been {} s or {} h.\".format(i,int(delta.total_seconds()),(int(delta.total_seconds()/3600)))))\n",
    "            lst_i.append((df.index[i],int(delta.total_seconds())))\n",
    "            \n",
    "    return lst, lst_i"
   ]
  },
  {
   "cell_type": "code",
   "execution_count": 48,
   "metadata": {},
   "outputs": [],
   "source": [
    "def correct_timedelta(df, time_diff):\n",
    "\n",
    "#your code here\n",
    "\n",
    "    return index_and_duration_of_any_non_5min_time_gap"
   ]
  },
  {
   "cell_type": "code",
   "execution_count": 10,
   "metadata": {},
   "outputs": [],
   "source": [
    "\n",
    "#see what your output is\n"
   ]
  },
  {
   "cell_type": "code",
   "execution_count": 22,
   "metadata": {},
   "outputs": [],
   "source": [
    "lst, lst_i = correct_timedelta(df_mean_nonans, 300)"
   ]
  },
  {
   "cell_type": "code",
   "execution_count": 26,
   "metadata": {},
   "outputs": [
    {
     "data": {
      "text/plain": [
       "[(Timestamp('2019-07-31 20:25:00'), 600),\n",
       " (Timestamp('2019-07-31 19:30:00'), 600),\n",
       " (Timestamp('2019-07-31 03:55:00'), 600),\n",
       " (Timestamp('2019-07-30 18:40:00'), 600),\n",
       " (Timestamp('2019-07-30 05:20:00'), 600),\n",
       " (Timestamp('2019-07-29 18:40:00'), 600),\n",
       " (Timestamp('2019-07-28 14:45:00'), 600),\n",
       " (Timestamp('2019-07-27 12:30:00'), 600),\n",
       " (Timestamp('2019-07-27 04:40:00'), 600),\n",
       " (Timestamp('2019-07-26 18:10:00'), 600)]"
      ]
     },
     "execution_count": 26,
     "metadata": {},
     "output_type": "execute_result"
    }
   ],
   "source": [
    "lst_i[:10]"
   ]
  },
  {
   "cell_type": "markdown",
   "metadata": {},
   "source": [
    "### __Solution 3__"
   ]
  },
  {
   "cell_type": "code",
   "execution_count": 16,
   "metadata": {},
   "outputs": [
    {
     "data": {
      "text/plain": [
       "1060704"
      ]
     },
     "execution_count": 16,
     "metadata": {},
     "output_type": "execute_result"
    }
   ],
   "source": [
    "#hypothetical number of 5min intervals given the max and min values of the df time range\n",
    "new_time_range = pd.date_range(start=df.index.min(), end=df.index.max(), freq=\"5min\")\n",
    "len(new_time_range)"
   ]
  },
  {
   "cell_type": "code",
   "execution_count": 17,
   "metadata": {},
   "outputs": [
    {
     "data": {
      "text/plain": [
       "(1060704, 1)"
      ]
     },
     "execution_count": 17,
     "metadata": {},
     "output_type": "execute_result"
    }
   ],
   "source": [
    "df_new = df.reindex(new_time_range).sort_index(ascending=False)\n",
    "df_new.shape"
   ]
  },
  {
   "cell_type": "code",
   "execution_count": 20,
   "metadata": {},
   "outputs": [],
   "source": [
    "file_path = '../data/marginal_emissions_dtindex.pkl'\n",
    "pd.to_pickle(df_new, file_path)"
   ]
  },
  {
   "cell_type": "code",
   "execution_count": 18,
   "metadata": {},
   "outputs": [
    {
     "data": {
      "text/plain": [
       "t CO2-e / MWh    False\n",
       "dtype: bool"
      ]
     },
     "execution_count": 18,
     "metadata": {},
     "output_type": "execute_result"
    }
   ],
   "source": [
    "df.isna().any()"
   ]
  },
  {
   "cell_type": "code",
   "execution_count": 27,
   "metadata": {},
   "outputs": [
    {
     "data": {
      "text/plain": [
       "t CO2-e / MWh    True\n",
       "dtype: bool"
      ]
     },
     "execution_count": 27,
     "metadata": {},
     "output_type": "execute_result"
    }
   ],
   "source": [
    "df_new.isna().any()"
   ]
  },
  {
   "cell_type": "code",
   "execution_count": 20,
   "metadata": {},
   "outputs": [],
   "source": [
    "import seaborn as sns"
   ]
  },
  {
   "cell_type": "code",
   "execution_count": 29,
   "metadata": {},
   "outputs": [
    {
     "data": {
      "image/png": "[encoded data removed]",
      "text/plain": [
       "<Figure size 432x288 with 2 Axes>"
      ]
     },
     "metadata": {
      "needs_background": "light"
     },
     "output_type": "display_data"
    }
   ],
   "source": [
    "fig = sns.heatmap(df_new.isna(), yticklabels=100000)"
   ]
  },
  {
   "cell_type": "markdown",
   "metadata": {},
   "source": [
    "## __Data imputation of time series__"
   ]
  },
  {
   "cell_type": "code",
   "execution_count": 22,
   "metadata": {},
   "outputs": [],
   "source": [
    "\n",
    "#sketch on whiteboard\n"
   ]
  },
  {
   "cell_type": "code",
   "execution_count": 23,
   "metadata": {},
   "outputs": [],
   "source": [
    "import numpy as np"
   ]
  },
  {
   "cell_type": "code",
   "execution_count": 31,
   "metadata": {},
   "outputs": [],
   "source": [
    "df_impute = df_new.assign(rolling_mean=df_new['t CO2-e / MWh'].rolling(window=12, min_periods=1).mean()).head()"
   ]
  },
  {
   "cell_type": "code",
   "execution_count": 33,
   "metadata": {},
   "outputs": [
    {
     "data": {
      "text/plain": [
       "(5, 2)"
      ]
     },
     "execution_count": 33,
     "metadata": {},
     "output_type": "execute_result"
    }
   ],
   "source": [
    "df_impute.shape"
   ]
  },
  {
   "cell_type": "code",
   "execution_count": 29,
   "metadata": {},
   "outputs": [
    {
     "data": {
      "text/plain": [
       "t CO2-e / MWh    False\n",
       "rolling_mean     False\n",
       "dtype: bool"
      ]
     },
     "execution_count": 29,
     "metadata": {},
     "output_type": "execute_result"
    }
   ],
   "source": [
    "df_impute.isna().any()"
   ]
  },
  {
   "cell_type": "code",
   "execution_count": 25,
   "metadata": {},
   "outputs": [
    {
     "data": {
      "text/html": [
       "<div>\n",
       "<style scoped>\n",
       "    .dataframe tbody tr th:only-of-type {\n",
       "        vertical-align: middle;\n",
       "    }\n",
       "\n",
       "    .dataframe tbody tr th {\n",
       "        vertical-align: top;\n",
       "    }\n",
       "\n",
       "    .dataframe thead th {\n",
       "        text-align: right;\n",
       "    }\n",
       "</style>\n",
       "<table border=\"1\" class=\"dataframe\">\n",
       "  <thead>\n",
       "    <tr style=\"text-align: right;\">\n",
       "      <th></th>\n",
       "      <th>t CO2-e / MWh</th>\n",
       "      <th>rolling_mean</th>\n",
       "    </tr>\n",
       "  </thead>\n",
       "  <tbody>\n",
       "    <tr>\n",
       "      <th>2019-08-01 03:55:00</th>\n",
       "      <td>0.380340</td>\n",
       "      <td>0.380340</td>\n",
       "    </tr>\n",
       "    <tr>\n",
       "      <th>2019-08-01 03:50:00</th>\n",
       "      <td>0.456409</td>\n",
       "      <td>0.418374</td>\n",
       "    </tr>\n",
       "    <tr>\n",
       "      <th>2019-08-01 03:45:00</th>\n",
       "      <td>0.573436</td>\n",
       "      <td>0.470062</td>\n",
       "    </tr>\n",
       "    <tr>\n",
       "      <th>2019-08-01 03:40:00</th>\n",
       "      <td>0.573436</td>\n",
       "      <td>0.495905</td>\n",
       "    </tr>\n",
       "    <tr>\n",
       "      <th>2019-08-01 03:35:00</th>\n",
       "      <td>0.573436</td>\n",
       "      <td>0.511412</td>\n",
       "    </tr>\n",
       "  </tbody>\n",
       "</table>\n",
       "</div>"
      ],
      "text/plain": [
       "                     t CO2-e / MWh  rolling_mean\n",
       "2019-08-01 03:55:00       0.380340      0.380340\n",
       "2019-08-01 03:50:00       0.456409      0.418374\n",
       "2019-08-01 03:45:00       0.573436      0.470062\n",
       "2019-08-01 03:40:00       0.573436      0.495905\n",
       "2019-08-01 03:35:00       0.573436      0.511412"
      ]
     },
     "execution_count": 25,
     "metadata": {},
     "output_type": "execute_result"
    }
   ],
   "source": [
    "df_impute.head()"
   ]
  },
  {
   "cell_type": "code",
   "execution_count": 26,
   "metadata": {},
   "outputs": [
    {
     "data": {
      "text/plain": [
       "t CO2-e / MWh    False\n",
       "rolling_mean     False\n",
       "dtype: bool"
      ]
     },
     "execution_count": 26,
     "metadata": {},
     "output_type": "execute_result"
    }
   ],
   "source": [
    "df_impute.isna().any()"
   ]
  },
  {
   "cell_type": "code",
   "execution_count": 69,
   "metadata": {},
   "outputs": [],
   "source": [
    "df_impute['t CO2-e / MWh'] = np.where(df_impute['t CO2-e / MWh'].isnull(),\\\n",
    "                                  df_impute['rolling_mean'], df_impute['t CO2-e / MWh'])"
   ]
  },
  {
   "cell_type": "code",
   "execution_count": 70,
   "metadata": {},
   "outputs": [
    {
     "data": {
      "text/html": [
       "<div>\n",
       "<style scoped>\n",
       "    .dataframe tbody tr th:only-of-type {\n",
       "        vertical-align: middle;\n",
       "    }\n",
       "\n",
       "    .dataframe tbody tr th {\n",
       "        vertical-align: top;\n",
       "    }\n",
       "\n",
       "    .dataframe thead th {\n",
       "        text-align: right;\n",
       "    }\n",
       "</style>\n",
       "<table border=\"1\" class=\"dataframe\">\n",
       "  <thead>\n",
       "    <tr style=\"text-align: right;\">\n",
       "      <th></th>\n",
       "      <th>t CO2-e / MWh</th>\n",
       "      <th>rolling_mean</th>\n",
       "    </tr>\n",
       "  </thead>\n",
       "  <tbody>\n",
       "    <tr>\n",
       "      <th>2019-08-01 03:55:00</th>\n",
       "      <td>0.380340</td>\n",
       "      <td>0.380340</td>\n",
       "    </tr>\n",
       "    <tr>\n",
       "      <th>2019-08-01 03:50:00</th>\n",
       "      <td>0.456409</td>\n",
       "      <td>0.418374</td>\n",
       "    </tr>\n",
       "    <tr>\n",
       "      <th>2019-08-01 03:45:00</th>\n",
       "      <td>0.573436</td>\n",
       "      <td>0.470062</td>\n",
       "    </tr>\n",
       "    <tr>\n",
       "      <th>2019-08-01 03:40:00</th>\n",
       "      <td>0.573436</td>\n",
       "      <td>0.495905</td>\n",
       "    </tr>\n",
       "    <tr>\n",
       "      <th>2019-08-01 03:35:00</th>\n",
       "      <td>0.573436</td>\n",
       "      <td>0.511412</td>\n",
       "    </tr>\n",
       "  </tbody>\n",
       "</table>\n",
       "</div>"
      ],
      "text/plain": [
       "                     t CO2-e / MWh  rolling_mean\n",
       "2019-08-01 03:55:00       0.380340      0.380340\n",
       "2019-08-01 03:50:00       0.456409      0.418374\n",
       "2019-08-01 03:45:00       0.573436      0.470062\n",
       "2019-08-01 03:40:00       0.573436      0.495905\n",
       "2019-08-01 03:35:00       0.573436      0.511412"
      ]
     },
     "execution_count": 70,
     "metadata": {},
     "output_type": "execute_result"
    }
   ],
   "source": [
    "df_impute.head()"
   ]
  },
  {
   "cell_type": "code",
   "execution_count": 72,
   "metadata": {},
   "outputs": [
    {
     "data": {
      "text/plain": [
       "t CO2-e / MWh    False\n",
       "rolling_mean     False\n",
       "dtype: bool"
      ]
     },
     "execution_count": 72,
     "metadata": {},
     "output_type": "execute_result"
    }
   ],
   "source": [
    "df_impute.isna().any()"
   ]
  },
  {
   "cell_type": "code",
   "execution_count": null,
   "metadata": {},
   "outputs": [],
   "source": []
  }
 ],
 "metadata": {
  "kernelspec": {
   "display_name": "Python 3",
   "language": "python",
   "name": "python3"
  },
  "language_info": {
   "codemirror_mode": {
    "name": "ipython",
    "version": 3
   },
   "file_extension": ".py",
   "mimetype": "text/x-python",
   "name": "python",
   "nbconvert_exporter": "python",
   "pygments_lexer": "ipython3",
   "version": "3.6.8"
  }
 },
 "nbformat": 4,
 "nbformat_minor": 4
}
