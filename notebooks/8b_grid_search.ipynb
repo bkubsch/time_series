{
 "cells": [
  {
   "cell_type": "code",
   "execution_count": 31,
   "metadata": {},
   "outputs": [],
   "source": [
    "import pandas as pd\n",
    "import numpy as np\n",
    "import os\n",
    "import datetime as dt\n",
    "import joblib\n",
    "import csv\n",
    "\n",
    "import xgboost as xgb\n",
    "from sklearn.model_selection import TimeSeriesSplit, GridSearchCV"
   ]
  },
  {
   "cell_type": "code",
   "execution_count": 2,
   "metadata": {},
   "outputs": [],
   "source": [
    "file_path = '{}/nem-data/nemde_clean/df_clean_interconnectors.pkl'.format(os.environ['HOME'])\n",
    "df = pd.read_pickle(file_path)"
   ]
  },
  {
   "cell_type": "code",
   "execution_count": 3,
   "metadata": {},
   "outputs": [
    {
     "name": "stdout",
     "output_type": "stream",
     "text": [
      "645719.2000000001\n"
     ]
    },
    {
     "data": {
      "text/html": [
       "<div>\n",
       "<style scoped>\n",
       "    .dataframe tbody tr th:only-of-type {\n",
       "        vertical-align: middle;\n",
       "    }\n",
       "\n",
       "    .dataframe tbody tr th {\n",
       "        vertical-align: top;\n",
       "    }\n",
       "\n",
       "    .dataframe thead th {\n",
       "        text-align: right;\n",
       "    }\n",
       "</style>\n",
       "<table border=\"1\" class=\"dataframe\">\n",
       "  <thead>\n",
       "    <tr style=\"text-align: right;\">\n",
       "      <th></th>\n",
       "      <th>CO2E_EMISSIONS_FACTOR</th>\n",
       "      <th>minute_sin</th>\n",
       "      <th>minute_cos</th>\n",
       "      <th>hour_sin</th>\n",
       "      <th>hour_cos</th>\n",
       "      <th>weekday_sin</th>\n",
       "      <th>weekday_cos</th>\n",
       "      <th>month_sin</th>\n",
       "      <th>month_cos</th>\n",
       "      <th>lag1</th>\n",
       "      <th>...</th>\n",
       "      <th>lag7</th>\n",
       "      <th>lag8</th>\n",
       "      <th>lag9</th>\n",
       "      <th>lag10</th>\n",
       "      <th>lag11</th>\n",
       "      <th>lag12</th>\n",
       "      <th>horizon0</th>\n",
       "      <th>demand</th>\n",
       "      <th>demand_capacity</th>\n",
       "      <th>interconnector</th>\n",
       "    </tr>\n",
       "  </thead>\n",
       "  <tbody>\n",
       "    <tr>\n",
       "      <td>2017-09-28 02:10:00</td>\n",
       "      <td>1.154818</td>\n",
       "      <td>0.866025</td>\n",
       "      <td>0.5</td>\n",
       "      <td>0.5</td>\n",
       "      <td>0.866025</td>\n",
       "      <td>0.0</td>\n",
       "      <td>1.0</td>\n",
       "      <td>-1.0</td>\n",
       "      <td>-1.836970e-16</td>\n",
       "      <td>1.013138</td>\n",
       "      <td>...</td>\n",
       "      <td>0.87219</td>\n",
       "      <td>0.841156</td>\n",
       "      <td>1.013504</td>\n",
       "      <td>1.013138</td>\n",
       "      <td>1.015004</td>\n",
       "      <td>1.015004</td>\n",
       "      <td>1.154818</td>\n",
       "      <td>1025.8</td>\n",
       "      <td>0.386467</td>\n",
       "      <td>-189.34882</td>\n",
       "    </tr>\n",
       "  </tbody>\n",
       "</table>\n",
       "<p>1 rows × 25 columns</p>\n",
       "</div>"
      ],
      "text/plain": [
       "                     CO2E_EMISSIONS_FACTOR  minute_sin  minute_cos  hour_sin  \\\n",
       "2017-09-28 02:10:00               1.154818    0.866025         0.5       0.5   \n",
       "\n",
       "                     hour_cos  weekday_sin  weekday_cos  month_sin  \\\n",
       "2017-09-28 02:10:00  0.866025          0.0          1.0       -1.0   \n",
       "\n",
       "                        month_cos      lag1  ...     lag7      lag8      lag9  \\\n",
       "2017-09-28 02:10:00 -1.836970e-16  1.013138  ...  0.87219  0.841156  1.013504   \n",
       "\n",
       "                        lag10     lag11     lag12  horizon0  demand  \\\n",
       "2017-09-28 02:10:00  1.013138  1.015004  1.015004  1.154818  1025.8   \n",
       "\n",
       "                     demand_capacity  interconnector  \n",
       "2017-09-28 02:10:00         0.386467      -189.34882  \n",
       "\n",
       "[1 rows x 25 columns]"
      ]
     },
     "execution_count": 3,
     "metadata": {},
     "output_type": "execute_result"
    }
   ],
   "source": [
    "print(df.shape[0] * 0.8)\n",
    "l = int(df.shape[0] * 0.8)\n",
    "df.iloc[[l],:]"
   ]
  },
  {
   "cell_type": "code",
   "execution_count": 4,
   "metadata": {},
   "outputs": [],
   "source": [
    "df_train_val = df[df.index < dt.datetime(2017,5,31,0,0,0)]\n",
    "df_test_set = df[df.index >= dt.datetime(2017,5,31,0,0,0)]"
   ]
  },
  {
   "cell_type": "code",
   "execution_count": 5,
   "metadata": {},
   "outputs": [
    {
     "name": "stdout",
     "output_type": "stream",
     "text": [
      "2017-05-30 23:55:00\n",
      "2017-05-31 00:00:00\n"
     ]
    }
   ],
   "source": [
    "print(df_train_val.index.max())\n",
    "print(df_test_set.index.min())"
   ]
  },
  {
   "cell_type": "markdown",
   "metadata": {},
   "source": [
    "### __Splitting test and train__"
   ]
  },
  {
   "cell_type": "code",
   "execution_count": 1,
   "metadata": {},
   "outputs": [],
   "source": [
    "def train_test_ts(df, relative_train, maximal_lag, horizon):\n",
    "    '''\n",
    "    Time series (ts) split function creates a train/test set under consideration of potential overlap between the two due to lag processing\n",
    "    X_train, y_train, X_test, y_test = ...\n",
    "    df=must contain target column as \"target\"; all other columns must be used as features\n",
    "    percentage_train=how much of the total dataset shall be used for training; must be added between 0 - 1\n",
    "    maximal_lag=out of all lag feature engineering, enter the maximal lag number\n",
    "    '''\n",
    "    k = int(df.shape[0] * relative_train)\n",
    "    data_train = df.iloc[:k,:]\n",
    "    #to avoid overlapping of train and test data, a gap of the maximal lag - 1 must be included between the two sets\n",
    "    data_test = df.iloc[k+maximal_lag:,:]\n",
    "    \n",
    "    assert data_train.index.max() < data_test.index.min()\n",
    "    \n",
    "    #returns in the sequence X_train, y_train, X_test, y_test\n",
    "    return (data_train.drop(columns=[f\"horizon{horizon}\",\"CO2E_EMISSIONS_FACTOR\"], axis=1), data_train[f\"horizon{horizon}\"],\n",
    "            data_test.drop(columns=[f\"horizon{horizon}\",\"CO2E_EMISSIONS_FACTOR\"], axis=1), data_test[f\"horizon{horizon}\"])"
   ]
  },
  {
   "cell_type": "code",
   "execution_count": 10,
   "metadata": {},
   "outputs": [],
   "source": [
    "df = df_train_val\n",
    "relative_train = 0.8\n",
    "maximal_lag = 12\n",
    "\n",
    "k = int(df.shape[0] * relative_train)\n",
    "data_train = df.iloc[:k,:]\n",
    "#to avoid overlapping of train and test data, a gap of the maximal lag - 1 must be included between the two sets\n",
    "data_test = df.iloc[k+maximal_lag:,:]"
   ]
  },
  {
   "cell_type": "code",
   "execution_count": 7,
   "metadata": {},
   "outputs": [],
   "source": [
    "X_train, y_train, X_test, y_test = train_test_ts(df_train_val, 0.8, 12)"
   ]
  },
  {
   "cell_type": "code",
   "execution_count": 12,
   "metadata": {},
   "outputs": [
    {
     "name": "stdout",
     "output_type": "stream",
     "text": [
      "Index(['minute_sin', 'minute_cos', 'hour_sin', 'hour_cos', 'weekday_sin',\n",
      "       'weekday_cos', 'month_sin', 'month_cos', 'lag1', 'lag2', 'lag3', 'lag4',\n",
      "       'lag5', 'lag6', 'lag7', 'lag8', 'lag9', 'lag10', 'lag11', 'lag12',\n",
      "       'demand', 'demand_capacity', 'interconnector'],\n",
      "      dtype='object')\n",
      "Index(['minute_sin', 'minute_cos', 'hour_sin', 'hour_cos', 'weekday_sin',\n",
      "       'weekday_cos', 'month_sin', 'month_cos', 'lag1', 'lag2', 'lag3', 'lag4',\n",
      "       'lag5', 'lag6', 'lag7', 'lag8', 'lag9', 'lag10', 'lag11', 'lag12',\n",
      "       'demand', 'demand_capacity', 'interconnector'],\n",
      "      dtype='object')\n"
     ]
    }
   ],
   "source": [
    "print(X_train.columns)\n",
    "print(X_test.columns)"
   ]
  },
  {
   "cell_type": "markdown",
   "metadata": {},
   "source": [
    "### __train xgboost__"
   ]
  },
  {
   "cell_type": "code",
   "execution_count": 29,
   "metadata": {},
   "outputs": [
    {
     "data": {
      "text/plain": [
       "{'learning_rate': [0.01, 0.1],\n",
       " 'max_depth': [50],\n",
       " 'n_estimators': [100],\n",
       " 'reg_alpha': [0.05],\n",
       " 'reg_lambda': [0]}"
      ]
     },
     "execution_count": 29,
     "metadata": {},
     "output_type": "execute_result"
    }
   ],
   "source": [
    "learning_rate = [0.01, 0.1] #learning_rate\n",
    "max_depth = [50]\n",
    "n_estimators = [100]\n",
    "reg_alpha = [0.05]\n",
    "reg_lambda = [0]\n",
    "\n",
    "params = {\n",
    "    \"learning_rate\": learning_rate,\n",
    "    \"max_depth\": max_depth,\n",
    "    \"n_estimators\": n_estimators,\n",
    "    \"reg_alpha\": reg_alpha,\n",
    "    \"reg_lambda\": reg_lambda,\n",
    "}\n",
    "\n",
    "params"
   ]
  },
  {
   "cell_type": "code",
   "execution_count": 28,
   "metadata": {},
   "outputs": [],
   "source": [
    "def XGB_GS_ts(X_train, y_train, params,run, n_splits=2, n_jobs=7, verbose=5):\n",
    "    '''\n",
    "    Function performs GridSearch using TimeSeries CV\n",
    "    X_train, y_train\n",
    "    n_splits=number of splits in TimeSeriesCV; default:3\n",
    "    n_jobs=default: -1\n",
    "    verbose=default:5\n",
    "    '''\n",
    "    \n",
    "    model = xgb.XGBRegressor()\n",
    "\n",
    "    tscv = TimeSeriesSplit(n_splits=n_splits)\n",
    "    gsearch = GridSearchCV(estimator=model, cv=tscv,\n",
    "                            param_grid=params, n_jobs=n_jobs, verbose=verbose)\n",
    "\n",
    "    gsearch.fit(X_train, y_train)\n",
    "    \n",
    "    print(\"Best params were: {}\".format(gsearch.best_params_))\n",
    "    \n",
    "    pd.DataFrame(gsearch.cv_results_).to_csv('{}/nem-data/trainings/grid_searches/{}_GS.csv'.format(os.environ['HOME'],run))\n",
    "    joblib.dump(gsearch, '{}/nem-data/trainings/gridsearches/{}_GS_object.pkl'.format(os.environ['HOME'], run))\n",
    "    \n",
    "    best_model = gsearch.best_estimator_\n",
    "    \n",
    "    error_test = np.sqrt(mse(y_test, best_model.predict(X_test))/y_test.mean())\n",
    "    error_train = np.sqrt(mse(y_train, best_model.predict(X_train))/y_train.mean())\n",
    "    compare_train_test_error = abs(error_test - error_train)\n",
    "    \n",
    "    settings = {\n",
    "    \"Model\": \"XGBoost\",\n",
    "    \"Feature Description\": \"sine_cosine, lag_12, horizon=0, demand, capacity, interconnectors\",\n",
    "    \"Model Description\": gsearch.best_params_\n",
    "    }\n",
    "\n",
    "    print(f\"Root mean squared percentage error: {error_train, error_test}\")\n",
    "    log_test_results(\n",
    "        settings, error_train, error_test,\n",
    "        compare_train_test_error, run\n",
    "    )\n",
    "    \n",
    "    return gsearch"
   ]
  },
  {
   "cell_type": "code",
   "execution_count": 30,
   "metadata": {},
   "outputs": [
    {
     "name": "stdout",
     "output_type": "stream",
     "text": [
      "Fitting 2 folds for each of 2 candidates, totalling 4 fits\n"
     ]
    },
    {
     "name": "stderr",
     "output_type": "stream",
     "text": [
      "[Parallel(n_jobs=7)]: Using backend LokyBackend with 7 concurrent workers.\n",
      "[Parallel(n_jobs=7)]: Done   2 out of   4 | elapsed:  9.6min remaining:  9.6min\n",
      "[Parallel(n_jobs=7)]: Done   4 out of   4 | elapsed: 19.0min remaining:    0.0s\n",
      "[Parallel(n_jobs=7)]: Done   4 out of   4 | elapsed: 19.0min finished\n",
      "/home/bastian/Environment/DSR_portfolio/lib/python3.6/site-packages/xgboost/core.py:587: FutureWarning: Series.base is deprecated and will be removed in a future version\n",
      "  if getattr(data, 'base', None) is not None and \\\n",
      "/home/bastian/Environment/DSR_portfolio/lib/python3.6/site-packages/xgboost/core.py:588: FutureWarning: Series.base is deprecated and will be removed in a future version\n",
      "  data.base is not None and isinstance(data, np.ndarray) \\\n"
     ]
    },
    {
     "name": "stdout",
     "output_type": "stream",
     "text": [
      "[20:29:05] WARNING: /workspace/src/objective/regression_obj.cu:152: reg:linear is now deprecated in favor of reg:squarederror.\n",
      "Best params were: {'learning_rate': 0.1, 'max_depth': 50, 'n_estimators': 100, 'reg_alpha': 0.05, 'reg_lambda': 0}\n",
      "Root mean squared percentage error: (0.004771012911918365, 0.35569846008739964)\n"
     ]
    }
   ],
   "source": [
    "gsearch = XGB_GS_ts(X_train,y_train,params,4)"
   ]
  },
  {
   "cell_type": "code",
   "execution_count": 21,
   "metadata": {},
   "outputs": [],
   "source": [
    "def log_test_results(settings, error_train, error_test, train_test_error_difference, file_name):\n",
    "    csv_path = '{}/nem-data/trainings/grid_searches/{}_GS_log.csv'.format(os.environ['HOME'], file_name)\n",
    "    must_add_headers = False if os.path.isfile(csv_path) else True\n",
    "\n",
    "    with open(csv_path, mode='a') as test_results:\n",
    "        writer = csv.writer(test_results,\n",
    "                            delimiter=',',\n",
    "                            quotechar='\"',\n",
    "                            quoting=csv.QUOTE_MINIMAL)\n",
    "\n",
    "        if must_add_headers:\n",
    "            writer.writerow([\n",
    "                'Model', 'Feature Description', \"Model Description\", \"Training error\", \"Test error\",\n",
    "                \"Difference_train_test_error\"\n",
    "            ])\n",
    "        writer.writerow([\n",
    "            settings[\"Model\"], settings[\"Feature Description\"],\n",
    "            str(settings[\"Model Description\"]), error_train, error_test,\n",
    "            train_test_error_difference\n",
    "        ])"
   ]
  },
  {
   "cell_type": "code",
   "execution_count": 93,
   "metadata": {},
   "outputs": [
    {
     "data": {
      "text/plain": [
       "<matplotlib.axes._subplots.AxesSubplot at 0x7f6ddd758208>"
      ]
     },
     "execution_count": 93,
     "metadata": {},
     "output_type": "execute_result"
    },
    {
     "data": {
      "image/png": "[encoded data removed]",
      "text/plain": [
       "<Figure size 432x288 with 1 Axes>"
      ]
     },
     "metadata": {
      "needs_background": "light"
     },
     "output_type": "display_data"
    }
   ],
   "source": [
    "sns.lineplot(y_test.index[:300],y_test.iloc[:300], label=\"test\")\n",
    "sns.lineplot(y_test.index[:300],pred[:300], label=\"pred\")"
   ]
  },
  {
   "cell_type": "code",
   "execution_count": null,
   "metadata": {},
   "outputs": [],
   "source": []
  }
 ],
 "metadata": {
  "kernelspec": {
   "display_name": "Python 3",
   "language": "python",
   "name": "python3"
  },
  "language_info": {
   "codemirror_mode": {
    "name": "ipython",
    "version": 3
   },
   "file_extension": ".py",
   "mimetype": "text/x-python",
   "name": "python",
   "nbconvert_exporter": "python",
   "pygments_lexer": "ipython3",
   "version": "3.6.8"
  }
 },
 "nbformat": 4,
 "nbformat_minor": 4
}
