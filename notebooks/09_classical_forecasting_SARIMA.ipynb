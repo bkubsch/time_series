{
 "cells": [
  {
   "cell_type": "markdown",
   "metadata": {},
   "source": [
    "# __SARIMA(p,d,q)(P,D,Q)m__\n",
    "# __Seasonal Autoregressive Integrated Moving Averages__\n",
    "\n",
    "While ARIMA accepts the parameters $(p,d,q)$, SARIMA accepts an <i>additional</i> set of parameters $(P,D,Q)m$ that specifically describe the seasonal components of the model. Here $P$, $D$ and $Q$ represent the seasonal regression, differencing and moving average coefficients, and $m$ represents the number of data points (rows) in each seasonal cycle (e.g. 12 months within one year).\n",
    "\n",
    "<b>NOTE:</b> The statsmodels implementation of SARIMA is called SARIMAX. The “X” added to the name means that the function also supports <i>exogenous</i> regressor variables. This is covered in the next notebook."
   ]
  },
  {
   "cell_type": "code",
   "execution_count": null,
   "metadata": {},
   "outputs": [],
   "source": [
    "import pandas as pd\n",
    "import numpy as np\n",
    "%matplotlib inline\n",
    "\n",
    "from statsmodels.tsa.statespace.sarimax import SARIMAX\n",
    "\n",
    "from statsmodels.graphics.tsaplots import plot_acf,plot_pacf # for determining (p,q) orders manually\n",
    "from statsmodels.tsa.seasonal import seasonal_decompose      # for ETS plots (seasonal_decompose)\n",
    "from pmdarima import auto_arima                              # for determining ARIMA orders\n",
    "\n",
    "import matplotlib.pyplot as plt\n",
    "\n",
    "#ignore harmless warnings\n",
    "import warnings\n",
    "warnings.filterwarnings(\"ignore\")"
   ]
  },
  {
   "cell_type": "markdown",
   "metadata": {},
   "source": [
    "CO2 PPM - Trends in Atmospheric Carbon Dioxide. Data are sourced from the US Government’s Earth System Research Laboratory, Global Monitoring Division."
   ]
  },
  {
   "cell_type": "code",
   "execution_count": null,
   "metadata": {},
   "outputs": [],
   "source": [
    "df = pd.read_csv('../data/co2_mm_mlo.csv')"
   ]
  },
  {
   "cell_type": "markdown",
   "metadata": {},
   "source": [
    "### __Inspect the data, create a DatetimeIndex__"
   ]
  },
  {
   "cell_type": "code",
   "execution_count": null,
   "metadata": {},
   "outputs": [],
   "source": [
    "df.head()"
   ]
  },
  {
   "cell_type": "markdown",
   "metadata": {},
   "source": [
    "We need to combine two integer columns (year and month) into a DatetimeIndex. We can do this by passing a dictionary into <tt>pandas.to_datetime()</tt> with year, month and day values.<br>\n",
    "For more information visit https://pandas.pydata.org/pandas-docs/stable/reference/api/pandas.to_datetime.html"
   ]
  },
  {
   "cell_type": "code",
   "execution_count": null,
   "metadata": {},
   "outputs": [],
   "source": [
    "#summarise all time info in single columns\n",
    "df['date']=pd.to_datetime({'year': df['year'], 'month': df['month'], 'day': 1})"
   ]
  },
  {
   "cell_type": "code",
   "execution_count": null,
   "metadata": {},
   "outputs": [],
   "source": [
    "# Set \"date\" to be the index\n",
    "df.set_index('date',inplace=True)\n",
    "df.index.freq = 'MS'\n",
    "df.head()"
   ]
  },
  {
   "cell_type": "code",
   "execution_count": null,
   "metadata": {},
   "outputs": [],
   "source": [
    "df.info()"
   ]
  },
  {
   "cell_type": "markdown",
   "metadata": {},
   "source": [
    "### __Plot data__"
   ]
  },
  {
   "cell_type": "code",
   "execution_count": null,
   "metadata": {},
   "outputs": [],
   "source": [
    "plt.style.use('ggplot')\n",
    "\n",
    "title = 'Monthly Mean CO₂ Levels (ppm) over Mauna Loa, Hawaii'\n",
    "ylabel='parts per million' #no xlabel necessary\n",
    "\n",
    "ax = df['interpolated'].plot(figsize=(12, 6),title=title, color='blue')\n",
    "ax.autoscale(axis='x',tight=True)\n",
    "ax.set(ylabel=ylabel);"
   ]
  },
  {
   "cell_type": "markdown",
   "metadata": {},
   "source": [
    "### __Seasonal decompose__"
   ]
  },
  {
   "cell_type": "code",
   "execution_count": null,
   "metadata": {},
   "outputs": [],
   "source": [
    "result = seasonal_decompose(df['interpolated'], model='add')\n",
    "result.plot();"
   ]
  },
  {
   "cell_type": "markdown",
   "metadata": {},
   "source": [
    "Seasonality exists"
   ]
  },
  {
   "cell_type": "markdown",
   "metadata": {},
   "source": [
    "### __Run pmdarima.auto_arima to get recommended orders__\n",
    "Prepare to wait for a while. This function performs SARIMA of different order combinations in order to find the respective AICs for comparison.\n",
    "\n",
    "__Note that depending on the computing power of your computer, we might end up with slightly different SARIMA oder recommendations as you laptop checks a greater or smaller number of order combinations.__"
   ]
  },
  {
   "cell_type": "code",
   "execution_count": null,
   "metadata": {},
   "outputs": [],
   "source": [
    "# For SARIMA Orders we set seasonal=True and pass in an m value\n",
    "auto_arima(df['interpolated'],seasonal=True, m=12).summary()"
   ]
  },
  {
   "cell_type": "markdown",
   "metadata": {},
   "source": [
    "This provides an ARIMA Order of (0,1,1) combined with a seasonal order of (2,0,2,12). Next step is to train & test the SARIMA(0,1,1)(2,0,2,12) model, evaluate it, then produce a forecast of future values.\n",
    "### __train / test split__"
   ]
  },
  {
   "cell_type": "code",
   "execution_count": null,
   "metadata": {},
   "outputs": [],
   "source": [
    "len(df)"
   ]
  },
  {
   "cell_type": "code",
   "execution_count": null,
   "metadata": {},
   "outputs": [],
   "source": [
    "#we set one year for testing\n",
    "train = df.iloc[:717]\n",
    "test = df.iloc[717:]"
   ]
  },
  {
   "cell_type": "markdown",
   "metadata": {},
   "source": [
    "### __Fit SARIMA(0,1,3)(1,0,1,12) model__"
   ]
  },
  {
   "cell_type": "code",
   "execution_count": null,
   "metadata": {},
   "outputs": [],
   "source": [
    "model = SARIMAX(train['interpolated'],order=(0, 1, 1),seasonal_order=(2, 0, 2, 12))\n",
    "results = model.fit()\n",
    "results.summary()"
   ]
  },
  {
   "cell_type": "code",
   "execution_count": null,
   "metadata": {},
   "outputs": [],
   "source": [
    "#let's get the forecast\n",
    "start=len(train)\n",
    "end=len(train)+len(test)-1\n",
    "predictions = results.predict(start=start, end=end, dynamic=False, typ='levels').rename('SARIMA(0,1,3)(1,0,1,12) Predictions')"
   ]
  },
  {
   "cell_type": "markdown",
   "metadata": {},
   "source": [
    "Passing <tt>dynamic=False</tt> means that forecasts at each point are generated using the full history up to that point (all lagged values).\n",
    "\n",
    "Passing <tt>typ='levels'</tt> predicts the levels of the original endogenous variables. If we'd used the default <tt>typ='linear'</tt> we would have seen linear predictions in terms of the differenced endogenous variables.\n",
    "\n",
    "Find more infos on arguments here: https://www.statsmodels.org/stable/generated/statsmodels.tsa.arima_model.ARIMAResults.predict.html"
   ]
  },
  {
   "cell_type": "code",
   "execution_count": null,
   "metadata": {},
   "outputs": [],
   "source": [
    "#compare predictions to actuals\n",
    "for i in range(len(predictions)):\n",
    "    print(f\"predicted={round(predictions[i],5)}, expected={test['interpolated'][i]}\")"
   ]
  },
  {
   "cell_type": "code",
   "execution_count": null,
   "metadata": {},
   "outputs": [],
   "source": [
    "# Plot predictions vs actuals\n",
    "\n",
    "plt.style.use('ggplot')\n",
    "\n",
    "title = 'Monthly Mean CO₂ Levels (ppm) over Mauna Loa, Hawaii'\n",
    "ylabel='parts per million' #no xlabel needed\n",
    "\n",
    "ax = test['interpolated'].plot(legend=True,figsize=(12, 6),title=title)\n",
    "predictions.plot(legend=True)\n",
    "ax.autoscale(axis='x',tight=True)\n",
    "ax.set(ylabel=ylabel);"
   ]
  },
  {
   "cell_type": "markdown",
   "metadata": {},
   "source": [
    "### __Model evaluation__"
   ]
  },
  {
   "cell_type": "code",
   "execution_count": null,
   "metadata": {},
   "outputs": [],
   "source": [
    "from sklearn.metrics import mean_squared_error\n",
    "\n",
    "error = mean_squared_error(test['interpolated'], predictions)\n",
    "print(f'SARIMA(0,1,3)(1,0,1,12) MSE Error: {error:11.10}')"
   ]
  },
  {
   "cell_type": "code",
   "execution_count": null,
   "metadata": {},
   "outputs": [],
   "source": [
    "from statsmodels.tools.eval_measures import rmse\n",
    "\n",
    "error = rmse(test['interpolated'], predictions)\n",
    "print(f'SARIMA(0,1,3)(1,0,1,12) RMSE Error: {error:11.10}')"
   ]
  },
  {
   "cell_type": "code",
   "execution_count": null,
   "metadata": {},
   "outputs": [],
   "source": [
    "error = error / test.interpolated.mean()\n",
    "error"
   ]
  },
  {
   "cell_type": "code",
   "execution_count": null,
   "metadata": {},
   "outputs": [],
   "source": [
    "mape = (sum(abs((test['interpolated'] - predictions)\\\n",
    "                /test['interpolated'])))*(100/len(test['interpolated']))\n",
    "mape"
   ]
  },
  {
   "cell_type": "markdown",
   "metadata": {},
   "source": [
    "__Remember the MAPE returns a percentage error!__"
   ]
  },
  {
   "cell_type": "markdown",
   "metadata": {},
   "source": [
    "### __Apply model to full dataset to forecast the future!__"
   ]
  },
  {
   "cell_type": "code",
   "execution_count": null,
   "metadata": {},
   "outputs": [],
   "source": [
    "model = SARIMAX(df['interpolated'],order=(0,1,1),seasonal_order=(2,0,2,12))\n",
    "results = model.fit()\n",
    "fcast = results.predict(len(df),len(df)+11,typ='levels').rename('SARIMA(0,1,3)(1,0,1,12) Forecast')"
   ]
  },
  {
   "cell_type": "code",
   "execution_count": null,
   "metadata": {},
   "outputs": [],
   "source": [
    "# Plot predictions against known values\n",
    "title = 'Monthly Mean CO₂ Levels (ppm) over Mauna Loa, Hawaii'\n",
    "ylabel='parts per million'\n",
    "xlabel=''\n",
    "\n",
    "ax = df['interpolated'].plot(legend=True,figsize=(12, 6),title=title)\n",
    "fcast.plot(legend=True)\n",
    "ax.autoscale(axis='x',tight=True)\n",
    "ax.set(xlabel=xlabel, ylabel=ylabel);"
   ]
  }
 ],
 "metadata": {
  "kernelspec": {
   "display_name": "dsr_teaching",
   "language": "python",
   "name": "dsr_teaching"
  },
  "language_info": {
   "codemirror_mode": {
    "name": "ipython",
    "version": 3
   },
   "file_extension": ".py",
   "mimetype": "text/x-python",
   "name": "python",
   "nbconvert_exporter": "python",
   "pygments_lexer": "ipython3",
   "version": "3.6.9"
  }
 },
 "nbformat": 4,
 "nbformat_minor": 4
}
