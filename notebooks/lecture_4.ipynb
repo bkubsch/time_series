{
 "cells": [
  {
   "cell_type": "markdown",
   "metadata": {},
   "source": [
    "# __Preparation of train / test split and training__"
   ]
  },
  {
   "cell_type": "markdown",
   "metadata": {},
   "source": [
    "## __Splitting time series into train / test data__"
   ]
  },
  {
   "cell_type": "code",
   "execution_count": 1,
   "metadata": {},
   "outputs": [],
   "source": [
    "import pandas as pd"
   ]
  },
  {
   "cell_type": "code",
   "execution_count": 1,
   "metadata": {},
   "outputs": [],
   "source": [
    "\n",
    "#sketech on whiteboard\n"
   ]
  },
  {
   "cell_type": "code",
   "execution_count": 2,
   "metadata": {},
   "outputs": [],
   "source": [
    "df = pd.DataFrame()"
   ]
  },
  {
   "cell_type": "code",
   "execution_count": 3,
   "metadata": {},
   "outputs": [],
   "source": [
    "#train test split can be done with sklearn.model_selection.train_test_split with no leakiness\n",
    "\n",
    "#train_test_split done in few simple lines; here, 80 % of dataset is assigned to become training data:\n",
    "k = int(df.shape[0] * 0.8)\n",
    "\n",
    "data_train = df.iloc[:k,:]\n",
    "data_test = df.iloc[k:,:]"
   ]
  },
  {
   "cell_type": "markdown",
   "metadata": {},
   "source": [
    "## __Exercise 1__\n",
    "\n",
    "Write a function which takes our dataframe df as an input and returns our dataset split into X_train, y_train, X_test, y_test considering for the avoidance of leakage."
   ]
  },
  {
   "cell_type": "code",
   "execution_count": 14,
   "metadata": {},
   "outputs": [],
   "source": [
    "def train_test_ts(df, relative_train, maximal_lag, horizon):\n",
    "    \n",
    "    #your code here\n",
    "    \n",
    "    return X_train, y_train, X_test, y_test"
   ]
  },
  {
   "cell_type": "code",
   "execution_count": 4,
   "metadata": {},
   "outputs": [],
   "source": [
    "def train_test_ts(df, relative_train, maximal_lag, horizon):\n",
    "    '''\n",
    "    Time series (ts) split function creates a train/test set under consideration of potential overlap between the two due to lag processing\n",
    "    X_train, y_train, X_test, y_test = ...\n",
    "    df=must contain target column as \"target\"; all other columns must be used as features\n",
    "    percentage_train=how much of the total dataset shall be used for training; must be added between 0 - 1\n",
    "    maximal_lag=out of all lag feature engineering, enter the maximal lag number\n",
    "    '''\n",
    "    k = int(df.shape[0] * relative_train)\n",
    "    data_train = df.iloc[:k,:]\n",
    "    #to avoid overlapping of train and test data, a gap of the maximal lag - 1 must be included between the two sets\n",
    "    data_test = df.iloc[k+maximal_lag:,:]\n",
    "    \n",
    "    assert data_train.index.max() < data_test.index.min()\n",
    "    \n",
    "    #returns in the sequence X_train, y_train, X_test, y_test\n",
    "    return (data_train.drop(columns=[f\"horizon{horizon}\",\"t CO2-e / MWh\"], axis=1), data_train[f\"horizon{horizon}\"],\n",
    "            data_test.drop(columns=[f\"horizon{horizon}\",\"t CO2-e / MWh\"], axis=1), data_test[f\"horizon{horizon}\"])"
   ]
  },
  {
   "cell_type": "code",
   "execution_count": 5,
   "metadata": {},
   "outputs": [],
   "source": [
    "file_path = '../data/train_time_features.pkl'\n",
    "df = pd.read_pickle(file_path)"
   ]
  },
  {
   "cell_type": "code",
   "execution_count": 6,
   "metadata": {},
   "outputs": [
    {
     "data": {
      "text/html": [
       "<div>\n",
       "<style scoped>\n",
       "    .dataframe tbody tr th:only-of-type {\n",
       "        vertical-align: middle;\n",
       "    }\n",
       "\n",
       "    .dataframe tbody tr th {\n",
       "        vertical-align: top;\n",
       "    }\n",
       "\n",
       "    .dataframe thead th {\n",
       "        text-align: right;\n",
       "    }\n",
       "</style>\n",
       "<table border=\"1\" class=\"dataframe\">\n",
       "  <thead>\n",
       "    <tr style=\"text-align: right;\">\n",
       "      <th></th>\n",
       "      <th>t CO2-e / MWh</th>\n",
       "      <th>year</th>\n",
       "      <th>minute_sin</th>\n",
       "      <th>minute_cos</th>\n",
       "      <th>hour_sin</th>\n",
       "      <th>hour_cos</th>\n",
       "      <th>weekday_sin</th>\n",
       "      <th>month_sin</th>\n",
       "      <th>month_cos</th>\n",
       "      <th>lag1</th>\n",
       "      <th>...</th>\n",
       "      <th>lag4</th>\n",
       "      <th>lag5</th>\n",
       "      <th>lag6</th>\n",
       "      <th>lag7</th>\n",
       "      <th>lag8</th>\n",
       "      <th>lag9</th>\n",
       "      <th>lag10</th>\n",
       "      <th>lag11</th>\n",
       "      <th>lag12</th>\n",
       "      <th>horizon0</th>\n",
       "    </tr>\n",
       "  </thead>\n",
       "  <tbody>\n",
       "    <tr>\n",
       "      <th>2009-07-01 04:00:00</th>\n",
       "      <td>0.991217</td>\n",
       "      <td>2009</td>\n",
       "      <td>0.000000</td>\n",
       "      <td>1.000000e+00</td>\n",
       "      <td>0.866025</td>\n",
       "      <td>0.5</td>\n",
       "      <td>0.0</td>\n",
       "      <td>-0.5</td>\n",
       "      <td>-0.866025</td>\n",
       "      <td>NaN</td>\n",
       "      <td>...</td>\n",
       "      <td>NaN</td>\n",
       "      <td>NaN</td>\n",
       "      <td>NaN</td>\n",
       "      <td>NaN</td>\n",
       "      <td>NaN</td>\n",
       "      <td>NaN</td>\n",
       "      <td>NaN</td>\n",
       "      <td>NaN</td>\n",
       "      <td>NaN</td>\n",
       "      <td>NaN</td>\n",
       "    </tr>\n",
       "    <tr>\n",
       "      <th>2009-07-01 04:05:00</th>\n",
       "      <td>0.000000</td>\n",
       "      <td>2009</td>\n",
       "      <td>0.500000</td>\n",
       "      <td>8.660254e-01</td>\n",
       "      <td>0.866025</td>\n",
       "      <td>0.5</td>\n",
       "      <td>0.0</td>\n",
       "      <td>-0.5</td>\n",
       "      <td>-0.866025</td>\n",
       "      <td>0.991217</td>\n",
       "      <td>...</td>\n",
       "      <td>NaN</td>\n",
       "      <td>NaN</td>\n",
       "      <td>NaN</td>\n",
       "      <td>NaN</td>\n",
       "      <td>NaN</td>\n",
       "      <td>NaN</td>\n",
       "      <td>NaN</td>\n",
       "      <td>NaN</td>\n",
       "      <td>NaN</td>\n",
       "      <td>NaN</td>\n",
       "    </tr>\n",
       "    <tr>\n",
       "      <th>2009-07-01 04:10:00</th>\n",
       "      <td>0.000000</td>\n",
       "      <td>2009</td>\n",
       "      <td>0.866025</td>\n",
       "      <td>5.000000e-01</td>\n",
       "      <td>0.866025</td>\n",
       "      <td>0.5</td>\n",
       "      <td>0.0</td>\n",
       "      <td>-0.5</td>\n",
       "      <td>-0.866025</td>\n",
       "      <td>0.000000</td>\n",
       "      <td>...</td>\n",
       "      <td>NaN</td>\n",
       "      <td>NaN</td>\n",
       "      <td>NaN</td>\n",
       "      <td>NaN</td>\n",
       "      <td>NaN</td>\n",
       "      <td>NaN</td>\n",
       "      <td>NaN</td>\n",
       "      <td>NaN</td>\n",
       "      <td>NaN</td>\n",
       "      <td>NaN</td>\n",
       "    </tr>\n",
       "    <tr>\n",
       "      <th>2009-07-01 04:15:00</th>\n",
       "      <td>0.991217</td>\n",
       "      <td>2009</td>\n",
       "      <td>1.000000</td>\n",
       "      <td>2.832769e-16</td>\n",
       "      <td>0.866025</td>\n",
       "      <td>0.5</td>\n",
       "      <td>0.0</td>\n",
       "      <td>-0.5</td>\n",
       "      <td>-0.866025</td>\n",
       "      <td>0.000000</td>\n",
       "      <td>...</td>\n",
       "      <td>NaN</td>\n",
       "      <td>NaN</td>\n",
       "      <td>NaN</td>\n",
       "      <td>NaN</td>\n",
       "      <td>NaN</td>\n",
       "      <td>NaN</td>\n",
       "      <td>NaN</td>\n",
       "      <td>NaN</td>\n",
       "      <td>NaN</td>\n",
       "      <td>NaN</td>\n",
       "    </tr>\n",
       "    <tr>\n",
       "      <th>2009-07-01 04:20:00</th>\n",
       "      <td>1.025701</td>\n",
       "      <td>2009</td>\n",
       "      <td>0.866025</td>\n",
       "      <td>-5.000000e-01</td>\n",
       "      <td>0.866025</td>\n",
       "      <td>0.5</td>\n",
       "      <td>0.0</td>\n",
       "      <td>-0.5</td>\n",
       "      <td>-0.866025</td>\n",
       "      <td>0.991217</td>\n",
       "      <td>...</td>\n",
       "      <td>0.991217</td>\n",
       "      <td>NaN</td>\n",
       "      <td>NaN</td>\n",
       "      <td>NaN</td>\n",
       "      <td>NaN</td>\n",
       "      <td>NaN</td>\n",
       "      <td>NaN</td>\n",
       "      <td>NaN</td>\n",
       "      <td>NaN</td>\n",
       "      <td>NaN</td>\n",
       "    </tr>\n",
       "  </tbody>\n",
       "</table>\n",
       "<p>5 rows × 22 columns</p>\n",
       "</div>"
      ],
      "text/plain": [
       "                     t CO2-e / MWh  year  minute_sin    minute_cos  hour_sin  \\\n",
       "2009-07-01 04:00:00       0.991217  2009    0.000000  1.000000e+00  0.866025   \n",
       "2009-07-01 04:05:00       0.000000  2009    0.500000  8.660254e-01  0.866025   \n",
       "2009-07-01 04:10:00       0.000000  2009    0.866025  5.000000e-01  0.866025   \n",
       "2009-07-01 04:15:00       0.991217  2009    1.000000  2.832769e-16  0.866025   \n",
       "2009-07-01 04:20:00       1.025701  2009    0.866025 -5.000000e-01  0.866025   \n",
       "\n",
       "                     hour_cos  weekday_sin  month_sin  month_cos      lag1  \\\n",
       "2009-07-01 04:00:00       0.5          0.0       -0.5  -0.866025       NaN   \n",
       "2009-07-01 04:05:00       0.5          0.0       -0.5  -0.866025  0.991217   \n",
       "2009-07-01 04:10:00       0.5          0.0       -0.5  -0.866025  0.000000   \n",
       "2009-07-01 04:15:00       0.5          0.0       -0.5  -0.866025  0.000000   \n",
       "2009-07-01 04:20:00       0.5          0.0       -0.5  -0.866025  0.991217   \n",
       "\n",
       "                     ...      lag4  lag5  lag6  lag7  lag8  lag9  lag10  \\\n",
       "2009-07-01 04:00:00  ...       NaN   NaN   NaN   NaN   NaN   NaN    NaN   \n",
       "2009-07-01 04:05:00  ...       NaN   NaN   NaN   NaN   NaN   NaN    NaN   \n",
       "2009-07-01 04:10:00  ...       NaN   NaN   NaN   NaN   NaN   NaN    NaN   \n",
       "2009-07-01 04:15:00  ...       NaN   NaN   NaN   NaN   NaN   NaN    NaN   \n",
       "2009-07-01 04:20:00  ...  0.991217   NaN   NaN   NaN   NaN   NaN    NaN   \n",
       "\n",
       "                     lag11  lag12  horizon0  \n",
       "2009-07-01 04:00:00    NaN    NaN       NaN  \n",
       "2009-07-01 04:05:00    NaN    NaN       NaN  \n",
       "2009-07-01 04:10:00    NaN    NaN       NaN  \n",
       "2009-07-01 04:15:00    NaN    NaN       NaN  \n",
       "2009-07-01 04:20:00    NaN    NaN       NaN  \n",
       "\n",
       "[5 rows x 22 columns]"
      ]
     },
     "execution_count": 6,
     "metadata": {},
     "output_type": "execute_result"
    }
   ],
   "source": [
    "df.head()"
   ]
  },
  {
   "cell_type": "code",
   "execution_count": 7,
   "metadata": {},
   "outputs": [],
   "source": [
    "X_train, y_train, X_test, y_test = train_test_ts(df, 0.8, 12, 0)"
   ]
  },
  {
   "cell_type": "code",
   "execution_count": 9,
   "metadata": {},
   "outputs": [
    {
     "data": {
      "text/plain": [
       "2009-07-01 04:00:00         NaN\n",
       "2009-07-01 04:05:00         NaN\n",
       "2009-07-01 04:10:00         NaN\n",
       "2009-07-01 04:15:00         NaN\n",
       "2009-07-01 04:20:00         NaN\n",
       "                         ...   \n",
       "2015-10-30 19:35:00    0.694855\n",
       "2015-10-30 19:40:00    0.473708\n",
       "2015-10-30 19:45:00    0.729264\n",
       "2015-10-30 19:50:00    0.694855\n",
       "2015-10-30 19:55:00    0.738329\n",
       "Freq: 5T, Name: horizon0, Length: 666048, dtype: float64"
      ]
     },
     "execution_count": 9,
     "metadata": {},
     "output_type": "execute_result"
    }
   ],
   "source": [
    "y_train"
   ]
  },
  {
   "cell_type": "markdown",
   "metadata": {},
   "source": [
    "## __Error metrics for time series data__"
   ]
  },
  {
   "cell_type": "markdown",
   "metadata": {},
   "source": [
    "### __Mean Absolute Error (MAE)__"
   ]
  },
  {
   "cell_type": "markdown",
   "metadata": {},
   "source": [
    "$MAE = \\frac{\\sum\\limits_{t=1}^n | F_t - A_t |}{n} $\n",
    "\n",
    "$F_t$: forecast value <br/>\n",
    "$A_t$: actual value <br/>\n",
    "$n$: sample size"
   ]
  },
  {
   "cell_type": "markdown",
   "metadata": {},
   "source": [
    "### __Mean Absolute Percentage Error (MAPE)__"
   ]
  },
  {
   "cell_type": "markdown",
   "metadata": {},
   "source": [
    "$MAPE = \\frac{100 \\%}{n}\\sum\\limits_{t=1}^n \\frac{A_t - F_t}{A_t}$\n",
    "\n",
    "$F_t$: forecast value <br/>\n",
    "$A_t$: actual value <br/>\n",
    "$n$: sample size"
   ]
  },
  {
   "cell_type": "markdown",
   "metadata": {},
   "source": [
    "### __Symmetric Mean Absolute Percentage Error (SMAPE)__"
   ]
  },
  {
   "cell_type": "markdown",
   "metadata": {},
   "source": [
    "$SMAPE = \\frac{\\sum\\limits_{t=1}^n | F_t - A_t |}{\\sum\\limits_{t=1}^n (A_t + F_t)}$\n",
    "\n",
    "$F_t$: forecast value <br/>\n",
    "$A_t$: actual value <br/>\n",
    "$n$: sample size"
   ]
  },
  {
   "cell_type": "markdown",
   "metadata": {},
   "source": [
    "### __Mean Absolute Scaled Error (MASE)__"
   ]
  },
  {
   "cell_type": "markdown",
   "metadata": {},
   "source": [
    "$MASE = \\frac{\\frac{1}{J}\\sum\\limits_{j} | \\epsilon_j | }{\\frac{1}{T-1} \\sum\\limits_{t=2}^T | Y_t - Y_{t-1} | }$\n",
    "<br/>\n",
    "<br/>\n",
    "$e_j$: forecast error for given period <br/>\n",
    "$J$: number of forecasts <br/>"
   ]
  },
  {
   "cell_type": "markdown",
   "metadata": {},
   "source": [
    "### __Exercise__\n",
    "\n",
    "Write a function which takes our train data (X_train, y_train), our test data (X_test, y_test), and a trained model as input and which returns the MAE as well as the MAPE of the train and test data."
   ]
  },
  {
   "cell_type": "code",
   "execution_count": 12,
   "metadata": {},
   "outputs": [],
   "source": [
    "def errors(model, X_train, y_train, X_test, y_test):\n",
    "    \n",
    "    #your code here\n",
    "    \n",
    "    print(f'train_MAE: {train_mae}'')\n",
    "    print(f'test_MAE: {test_mae}')\n",
    "    print(f'train_SMAPE: {train_SMAPE}'')\n",
    "    print(f'test_SMAPE: {test_SMAPE}'')"
   ]
  },
  {
   "cell_type": "code",
   "execution_count": 1,
   "metadata": {},
   "outputs": [],
   "source": [
    "def errors(model, X_train, y_train, X_test, y_test):\n",
    "\n",
    "    train_mae = (sum(abs(y_train - model.predict(X_train)))/len(y_train))\n",
    "    train_mape = (sum(abs((y_train - model.predict(X_train))/y_train)))*(100/len(y_train))\n",
    "    train_smape = sum(abs(y_train - model.predict(X_train)))/sum(y_train + model.predict(X_train))\n",
    "\n",
    "    test_mae = (sum(abs(y_test - model.predict(X_test)))/len(y_test))\n",
    "    test_mape = (sum(abs((y_test - model.predict(X_test))/y_test)))*(100/len(y_test))\n",
    "    test_smape = sum(abs(y_test - model.predict(X_test)))/sum(y_test + model.predict(X_test))\n",
    "\n",
    "    print(f'train_MAE: {train_mae}')\n",
    "    print(f'test_MAE: {test_mae}')\n",
    "    print(f'train_SMAPE: {train_smape}')\n",
    "    print(f'test_SMAPE: {test_smape}')"
   ]
  },
  {
   "cell_type": "code",
   "execution_count": 42,
   "metadata": {},
   "outputs": [],
   "source": [
    "\n",
    "#grid search: beware of time series cross validation\n"
   ]
  }
 ],
 "metadata": {
  "kernelspec": {
   "display_name": "dsr_teaching",
   "language": "python",
   "name": "dsr_teaching"
  },
  "language_info": {
   "codemirror_mode": {
    "name": "ipython",
    "version": 3
   },
   "file_extension": ".py",
   "mimetype": "text/x-python",
   "name": "python",
   "nbconvert_exporter": "python",
   "pygments_lexer": "ipython3",
   "version": "3.6.8"
  }
 },
 "nbformat": 4,
 "nbformat_minor": 2
}
